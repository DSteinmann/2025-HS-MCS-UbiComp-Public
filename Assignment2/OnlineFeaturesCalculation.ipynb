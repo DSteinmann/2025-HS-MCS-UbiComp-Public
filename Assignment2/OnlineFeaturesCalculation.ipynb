{
 "cells": [
  {
   "attachments": {},
   "cell_type": "markdown",
   "id": "7420f93f",
   "metadata": {},
   "source": [
    "# (Pseudo-) Online Feature Calculation\n",
    "\n",
    "This notebook is used to receive data from the HoloLens 2. The data is chunked in 10 second pieces."
   ]
  },
  {
   "cell_type": "code",
   "execution_count": 1,
   "id": "34a494ed",
   "metadata": {},
   "outputs": [
    {
     "name": "stdout",
     "output_type": "stream",
     "text": [
      "Requirement already satisfied: flask in c:\\users\\domin\\miniconda3\\lib\\site-packages (3.1.2)\n",
      "Requirement already satisfied: pandas in c:\\users\\domin\\miniconda3\\lib\\site-packages (2.3.3)\n",
      "Requirement already satisfied: requests in c:\\users\\domin\\miniconda3\\lib\\site-packages (2.32.4)\n",
      "Requirement already satisfied: blinker>=1.9.0 in c:\\users\\domin\\miniconda3\\lib\\site-packages (from flask) (1.9.0)\n",
      "Requirement already satisfied: click>=8.1.3 in c:\\users\\domin\\miniconda3\\lib\\site-packages (from flask) (8.2.1)\n",
      "Requirement already satisfied: itsdangerous>=2.2.0 in c:\\users\\domin\\miniconda3\\lib\\site-packages (from flask) (2.2.0)\n",
      "Requirement already satisfied: jinja2>=3.1.2 in c:\\users\\domin\\miniconda3\\lib\\site-packages (from flask) (3.1.6)\n",
      "Requirement already satisfied: markupsafe>=2.1.1 in c:\\users\\domin\\miniconda3\\lib\\site-packages (from flask) (3.0.3)\n",
      "Requirement already satisfied: werkzeug>=3.1.0 in c:\\users\\domin\\miniconda3\\lib\\site-packages (from flask) (3.1.3)\n",
      "Requirement already satisfied: numpy>=1.26.0 in c:\\users\\domin\\miniconda3\\lib\\site-packages (from pandas) (2.3.3)\n",
      "Requirement already satisfied: python-dateutil>=2.8.2 in c:\\users\\domin\\miniconda3\\lib\\site-packages (from pandas) (2.9.0.post0)\n",
      "Requirement already satisfied: pytz>=2020.1 in c:\\users\\domin\\miniconda3\\lib\\site-packages (from pandas) (2025.2)\n",
      "Requirement already satisfied: tzdata>=2022.7 in c:\\users\\domin\\miniconda3\\lib\\site-packages (from pandas) (2025.2)\n",
      "Requirement already satisfied: charset_normalizer<4,>=2 in c:\\users\\domin\\miniconda3\\lib\\site-packages (from requests) (3.3.2)\n",
      "Requirement already satisfied: idna<4,>=2.5 in c:\\users\\domin\\miniconda3\\lib\\site-packages (from requests) (3.7)\n",
      "Requirement already satisfied: urllib3<3,>=1.21.1 in c:\\users\\domin\\miniconda3\\lib\\site-packages (from requests) (2.5.0)\n",
      "Requirement already satisfied: certifi>=2017.4.17 in c:\\users\\domin\\miniconda3\\lib\\site-packages (from requests) (2025.8.3)\n",
      "Requirement already satisfied: colorama in c:\\users\\domin\\miniconda3\\lib\\site-packages (from click>=8.1.3->flask) (0.4.6)\n",
      "Requirement already satisfied: six>=1.5 in c:\\users\\domin\\miniconda3\\lib\\site-packages (from python-dateutil>=2.8.2->pandas) (1.17.0)\n"
     ]
    }
   ],
   "source": [
    "!pip install flask pandas requests\n",
    "from flask import Flask, request\n",
    "import json\n",
    "import requests\n",
    "import os\n",
    "import pandas as pd"
   ]
  },
  {
   "attachments": {},
   "cell_type": "markdown",
   "id": "fc384884",
   "metadata": {},
   "source": [
    "## Read the data from the newly arrived csv-file and call the feature calculation"
   ]
  },
  {
   "attachments": {},
   "cell_type": "markdown",
   "id": "350e695e",
   "metadata": {},
   "source": [
    "### Run FeaturesCalculation notebook to make its function accessible here"
   ]
  },
  {
   "cell_type": "code",
   "execution_count": 2,
   "id": "7cda22c3",
   "metadata": {},
   "outputs": [
    {
     "name": "stdout",
     "output_type": "stream",
     "text": [
      "Requirement already satisfied: nbformat in c:\\users\\domin\\miniconda3\\lib\\site-packages (5.10.4)\n",
      "Requirement already satisfied: tabulate in c:\\users\\domin\\miniconda3\\lib\\site-packages (0.9.0)\n",
      "Requirement already satisfied: scikit-learn in c:\\users\\domin\\miniconda3\\lib\\site-packages (1.7.2)\n",
      "Requirement already satisfied: fastjsonschema>=2.15 in c:\\users\\domin\\miniconda3\\lib\\site-packages (from nbformat) (2.21.2)\n",
      "Requirement already satisfied: jsonschema>=2.6 in c:\\users\\domin\\miniconda3\\lib\\site-packages (from nbformat) (4.25.1)\n",
      "Requirement already satisfied: jupyter-core!=5.0.*,>=4.12 in c:\\users\\domin\\miniconda3\\lib\\site-packages (from nbformat) (5.8.1)\n",
      "Requirement already satisfied: traitlets>=5.1 in c:\\users\\domin\\miniconda3\\lib\\site-packages (from nbformat) (5.14.3)\n",
      "Requirement already satisfied: numpy>=1.22.0 in c:\\users\\domin\\miniconda3\\lib\\site-packages (from scikit-learn) (2.3.3)\n",
      "Requirement already satisfied: scipy>=1.8.0 in c:\\users\\domin\\miniconda3\\lib\\site-packages (from scikit-learn) (1.16.2)\n",
      "Requirement already satisfied: joblib>=1.2.0 in c:\\users\\domin\\miniconda3\\lib\\site-packages (from scikit-learn) (1.5.2)\n",
      "Requirement already satisfied: threadpoolctl>=3.1.0 in c:\\users\\domin\\miniconda3\\lib\\site-packages (from scikit-learn) (3.6.0)\n",
      "Requirement already satisfied: attrs>=22.2.0 in c:\\users\\domin\\miniconda3\\lib\\site-packages (from jsonschema>=2.6->nbformat) (25.3.0)\n",
      "Requirement already satisfied: jsonschema-specifications>=2023.03.6 in c:\\users\\domin\\miniconda3\\lib\\site-packages (from jsonschema>=2.6->nbformat) (2025.9.1)\n",
      "Requirement already satisfied: referencing>=0.28.4 in c:\\users\\domin\\miniconda3\\lib\\site-packages (from jsonschema>=2.6->nbformat) (0.36.2)\n",
      "Requirement already satisfied: rpds-py>=0.7.1 in c:\\users\\domin\\miniconda3\\lib\\site-packages (from jsonschema>=2.6->nbformat) (0.27.1)\n",
      "Requirement already satisfied: platformdirs>=2.5 in c:\\users\\domin\\miniconda3\\lib\\site-packages (from jupyter-core!=5.0.*,>=4.12->nbformat) (4.3.7)\n",
      "Requirement already satisfied: pywin32>=300 in c:\\users\\domin\\miniconda3\\lib\\site-packages (from jupyter-core!=5.0.*,>=4.12->nbformat) (311)\n",
      "Requirement already satisfied: scipy in c:\\users\\domin\\miniconda3\\lib\\site-packages (1.16.2)\n",
      "Requirement already satisfied: numpy<2.6,>=1.25.2 in c:\\users\\domin\\miniconda3\\lib\\site-packages (from scipy) (2.3.3)\n",
      "['01_Inspection.csv', '01_Reading.csv', '01_Search.csv', '02_Inspection.csv', '02_Reading.csv', '02_Search.csv', '03_Inspection.csv', '03_Reading.csv', '03_Search.csv', '04_Inspection.csv', '04_Reading.csv', '04_Search.csv', '05_Inspection.csv', '05_Reading.csv', '05_Search.csv', '06_Inspection.csv', '06_Reading.csv', '06_Search.csv', '07_Inspection.csv', '07_Reading.csv', '07_Search.csv', '08_Inspection.csv', '08_Reading.csv', '08_Search.csv', '09_Inspection.csv', '09_Reading.csv', '09_Search.csv', '10_Inspection.csv', '10_Reading.csv', '10_Search.csv', '11_Inspection.csv', '11_Reading.csv', '11_Search.csv', '12_Inspection.csv', '12_Reading.csv', '12_Search.csv', '13_Inspection.csv', '13_Reading.csv', '13_Search.csv', '14_Inspection.csv', '14_Reading.csv', '14_Search.csv', '15_Inspection.csv', '15_Reading.csv', '15_Search.csv', '16_Inspection.csv', '16_Reading.csv', '16_Search.csv', '17_Inspection.csv', '17_Reading.csv', '17_Search.csv', '18_Inspection.csv', '18_Reading.csv', '18_Search.csv', '19_Inspection.csv', '19_Reading.csv', '19_Search.csv', '20_Inspection.csv', '20_Reading.csv', '20_Search.csv']\n",
      "calculating features for : ./Data/RawGazeData/01_Inspection.csv\n",
      "activity: Inspection\n"
     ]
    },
    {
     "name": "stderr",
     "output_type": "stream",
     "text": [
      "C:\\Users\\Domin\\AppData\\Local\\Temp\\ipykernel_54184\\3618462886.py:18: FutureWarning: The behavior of DataFrame concatenation with empty or all-NA entries is deprecated. In a future version, this will no longer exclude empty or all-NA columns when determining the result dtypes. To retain the old behavior, exclude the relevant entries before the concat operation.\n",
      "  newdf = pd.concat([newdf,entry])\n",
      "C:\\Users\\Domin\\AppData\\Local\\Temp\\ipykernel_54184\\3618462886.py:18: FutureWarning: The behavior of DataFrame concatenation with empty or all-NA entries is deprecated. In a future version, this will no longer exclude empty or all-NA columns when determining the result dtypes. To retain the old behavior, exclude the relevant entries before the concat operation.\n",
      "  newdf = pd.concat([newdf,entry])\n",
      "C:\\Users\\Domin\\AppData\\Local\\Temp\\ipykernel_54184\\3618462886.py:18: FutureWarning: The behavior of DataFrame concatenation with empty or all-NA entries is deprecated. In a future version, this will no longer exclude empty or all-NA columns when determining the result dtypes. To retain the old behavior, exclude the relevant entries before the concat operation.\n",
      "  newdf = pd.concat([newdf,entry])\n",
      "C:\\Users\\Domin\\AppData\\Local\\Temp\\ipykernel_54184\\3618462886.py:18: FutureWarning: The behavior of DataFrame concatenation with empty or all-NA entries is deprecated. In a future version, this will no longer exclude empty or all-NA columns when determining the result dtypes. To retain the old behavior, exclude the relevant entries before the concat operation.\n",
      "  newdf = pd.concat([newdf,entry])\n"
     ]
    },
    {
     "name": "stdout",
     "output_type": "stream",
     "text": [
      "calculating features for : ./Data/RawGazeData/01_Reading.csv\n",
      "activity: Reading\n"
     ]
    },
    {
     "name": "stderr",
     "output_type": "stream",
     "text": [
      "C:\\Users\\Domin\\AppData\\Local\\Temp\\ipykernel_54184\\3618462886.py:18: FutureWarning: The behavior of DataFrame concatenation with empty or all-NA entries is deprecated. In a future version, this will no longer exclude empty or all-NA columns when determining the result dtypes. To retain the old behavior, exclude the relevant entries before the concat operation.\n",
      "  newdf = pd.concat([newdf,entry])\n",
      "C:\\Users\\Domin\\AppData\\Local\\Temp\\ipykernel_54184\\3618462886.py:18: FutureWarning: The behavior of DataFrame concatenation with empty or all-NA entries is deprecated. In a future version, this will no longer exclude empty or all-NA columns when determining the result dtypes. To retain the old behavior, exclude the relevant entries before the concat operation.\n",
      "  newdf = pd.concat([newdf,entry])\n",
      "C:\\Users\\Domin\\AppData\\Local\\Temp\\ipykernel_54184\\3618462886.py:18: FutureWarning: The behavior of DataFrame concatenation with empty or all-NA entries is deprecated. In a future version, this will no longer exclude empty or all-NA columns when determining the result dtypes. To retain the old behavior, exclude the relevant entries before the concat operation.\n",
      "  newdf = pd.concat([newdf,entry])\n",
      "C:\\Users\\Domin\\AppData\\Local\\Temp\\ipykernel_54184\\3618462886.py:18: FutureWarning: The behavior of DataFrame concatenation with empty or all-NA entries is deprecated. In a future version, this will no longer exclude empty or all-NA columns when determining the result dtypes. To retain the old behavior, exclude the relevant entries before the concat operation.\n",
      "  newdf = pd.concat([newdf,entry])\n"
     ]
    },
    {
     "name": "stdout",
     "output_type": "stream",
     "text": [
      "calculating features for : ./Data/RawGazeData/01_Search.csv\n",
      "activity: Search\n"
     ]
    },
    {
     "name": "stderr",
     "output_type": "stream",
     "text": [
      "C:\\Users\\Domin\\AppData\\Local\\Temp\\ipykernel_54184\\3618462886.py:18: FutureWarning: The behavior of DataFrame concatenation with empty or all-NA entries is deprecated. In a future version, this will no longer exclude empty or all-NA columns when determining the result dtypes. To retain the old behavior, exclude the relevant entries before the concat operation.\n",
      "  newdf = pd.concat([newdf,entry])\n",
      "C:\\Users\\Domin\\AppData\\Local\\Temp\\ipykernel_54184\\3618462886.py:18: FutureWarning: The behavior of DataFrame concatenation with empty or all-NA entries is deprecated. In a future version, this will no longer exclude empty or all-NA columns when determining the result dtypes. To retain the old behavior, exclude the relevant entries before the concat operation.\n",
      "  newdf = pd.concat([newdf,entry])\n",
      "C:\\Users\\Domin\\AppData\\Local\\Temp\\ipykernel_54184\\3618462886.py:18: FutureWarning: The behavior of DataFrame concatenation with empty or all-NA entries is deprecated. In a future version, this will no longer exclude empty or all-NA columns when determining the result dtypes. To retain the old behavior, exclude the relevant entries before the concat operation.\n",
      "  newdf = pd.concat([newdf,entry])\n",
      "C:\\Users\\Domin\\AppData\\Local\\Temp\\ipykernel_54184\\3618462886.py:18: FutureWarning: The behavior of DataFrame concatenation with empty or all-NA entries is deprecated. In a future version, this will no longer exclude empty or all-NA columns when determining the result dtypes. To retain the old behavior, exclude the relevant entries before the concat operation.\n",
      "  newdf = pd.concat([newdf,entry])\n"
     ]
    },
    {
     "name": "stdout",
     "output_type": "stream",
     "text": [
      "calculating features for : ./Data/RawGazeData/02_Inspection.csv\n",
      "activity: Inspection\n"
     ]
    },
    {
     "name": "stderr",
     "output_type": "stream",
     "text": [
      "C:\\Users\\Domin\\AppData\\Local\\Temp\\ipykernel_54184\\3618462886.py:18: FutureWarning: The behavior of DataFrame concatenation with empty or all-NA entries is deprecated. In a future version, this will no longer exclude empty or all-NA columns when determining the result dtypes. To retain the old behavior, exclude the relevant entries before the concat operation.\n",
      "  newdf = pd.concat([newdf,entry])\n",
      "C:\\Users\\Domin\\AppData\\Local\\Temp\\ipykernel_54184\\3618462886.py:18: FutureWarning: The behavior of DataFrame concatenation with empty or all-NA entries is deprecated. In a future version, this will no longer exclude empty or all-NA columns when determining the result dtypes. To retain the old behavior, exclude the relevant entries before the concat operation.\n",
      "  newdf = pd.concat([newdf,entry])\n",
      "C:\\Users\\Domin\\AppData\\Local\\Temp\\ipykernel_54184\\3618462886.py:18: FutureWarning: The behavior of DataFrame concatenation with empty or all-NA entries is deprecated. In a future version, this will no longer exclude empty or all-NA columns when determining the result dtypes. To retain the old behavior, exclude the relevant entries before the concat operation.\n",
      "  newdf = pd.concat([newdf,entry])\n",
      "C:\\Users\\Domin\\AppData\\Local\\Temp\\ipykernel_54184\\3618462886.py:18: FutureWarning: The behavior of DataFrame concatenation with empty or all-NA entries is deprecated. In a future version, this will no longer exclude empty or all-NA columns when determining the result dtypes. To retain the old behavior, exclude the relevant entries before the concat operation.\n",
      "  newdf = pd.concat([newdf,entry])\n",
      "C:\\Users\\Domin\\AppData\\Local\\Temp\\ipykernel_54184\\3618462886.py:18: FutureWarning: The behavior of DataFrame concatenation with empty or all-NA entries is deprecated. In a future version, this will no longer exclude empty or all-NA columns when determining the result dtypes. To retain the old behavior, exclude the relevant entries before the concat operation.\n",
      "  newdf = pd.concat([newdf,entry])\n"
     ]
    },
    {
     "name": "stdout",
     "output_type": "stream",
     "text": [
      "calculating features for : ./Data/RawGazeData/02_Reading.csv\n",
      "activity: Reading\n"
     ]
    },
    {
     "name": "stderr",
     "output_type": "stream",
     "text": [
      "C:\\Users\\Domin\\AppData\\Local\\Temp\\ipykernel_54184\\3618462886.py:18: FutureWarning: The behavior of DataFrame concatenation with empty or all-NA entries is deprecated. In a future version, this will no longer exclude empty or all-NA columns when determining the result dtypes. To retain the old behavior, exclude the relevant entries before the concat operation.\n",
      "  newdf = pd.concat([newdf,entry])\n",
      "C:\\Users\\Domin\\AppData\\Local\\Temp\\ipykernel_54184\\3618462886.py:18: FutureWarning: The behavior of DataFrame concatenation with empty or all-NA entries is deprecated. In a future version, this will no longer exclude empty or all-NA columns when determining the result dtypes. To retain the old behavior, exclude the relevant entries before the concat operation.\n",
      "  newdf = pd.concat([newdf,entry])\n",
      "C:\\Users\\Domin\\AppData\\Local\\Temp\\ipykernel_54184\\3618462886.py:18: FutureWarning: The behavior of DataFrame concatenation with empty or all-NA entries is deprecated. In a future version, this will no longer exclude empty or all-NA columns when determining the result dtypes. To retain the old behavior, exclude the relevant entries before the concat operation.\n",
      "  newdf = pd.concat([newdf,entry])\n",
      "C:\\Users\\Domin\\AppData\\Local\\Temp\\ipykernel_54184\\3618462886.py:18: FutureWarning: The behavior of DataFrame concatenation with empty or all-NA entries is deprecated. In a future version, this will no longer exclude empty or all-NA columns when determining the result dtypes. To retain the old behavior, exclude the relevant entries before the concat operation.\n",
      "  newdf = pd.concat([newdf,entry])\n"
     ]
    },
    {
     "name": "stdout",
     "output_type": "stream",
     "text": [
      "calculating features for : ./Data/RawGazeData/02_Search.csv\n",
      "activity: Search\n"
     ]
    },
    {
     "name": "stderr",
     "output_type": "stream",
     "text": [
      "C:\\Users\\Domin\\AppData\\Local\\Temp\\ipykernel_54184\\3618462886.py:18: FutureWarning: The behavior of DataFrame concatenation with empty or all-NA entries is deprecated. In a future version, this will no longer exclude empty or all-NA columns when determining the result dtypes. To retain the old behavior, exclude the relevant entries before the concat operation.\n",
      "  newdf = pd.concat([newdf,entry])\n",
      "C:\\Users\\Domin\\AppData\\Local\\Temp\\ipykernel_54184\\3618462886.py:18: FutureWarning: The behavior of DataFrame concatenation with empty or all-NA entries is deprecated. In a future version, this will no longer exclude empty or all-NA columns when determining the result dtypes. To retain the old behavior, exclude the relevant entries before the concat operation.\n",
      "  newdf = pd.concat([newdf,entry])\n",
      "C:\\Users\\Domin\\AppData\\Local\\Temp\\ipykernel_54184\\3618462886.py:18: FutureWarning: The behavior of DataFrame concatenation with empty or all-NA entries is deprecated. In a future version, this will no longer exclude empty or all-NA columns when determining the result dtypes. To retain the old behavior, exclude the relevant entries before the concat operation.\n",
      "  newdf = pd.concat([newdf,entry])\n",
      "C:\\Users\\Domin\\AppData\\Local\\Temp\\ipykernel_54184\\3618462886.py:18: FutureWarning: The behavior of DataFrame concatenation with empty or all-NA entries is deprecated. In a future version, this will no longer exclude empty or all-NA columns when determining the result dtypes. To retain the old behavior, exclude the relevant entries before the concat operation.\n",
      "  newdf = pd.concat([newdf,entry])\n"
     ]
    },
    {
     "name": "stdout",
     "output_type": "stream",
     "text": [
      "calculating features for : ./Data/RawGazeData/03_Inspection.csv\n",
      "activity: Inspection\n"
     ]
    },
    {
     "name": "stderr",
     "output_type": "stream",
     "text": [
      "C:\\Users\\Domin\\AppData\\Local\\Temp\\ipykernel_54184\\3618462886.py:18: FutureWarning: The behavior of DataFrame concatenation with empty or all-NA entries is deprecated. In a future version, this will no longer exclude empty or all-NA columns when determining the result dtypes. To retain the old behavior, exclude the relevant entries before the concat operation.\n",
      "  newdf = pd.concat([newdf,entry])\n",
      "C:\\Users\\Domin\\AppData\\Local\\Temp\\ipykernel_54184\\3618462886.py:18: FutureWarning: The behavior of DataFrame concatenation with empty or all-NA entries is deprecated. In a future version, this will no longer exclude empty or all-NA columns when determining the result dtypes. To retain the old behavior, exclude the relevant entries before the concat operation.\n",
      "  newdf = pd.concat([newdf,entry])\n",
      "C:\\Users\\Domin\\AppData\\Local\\Temp\\ipykernel_54184\\3618462886.py:18: FutureWarning: The behavior of DataFrame concatenation with empty or all-NA entries is deprecated. In a future version, this will no longer exclude empty or all-NA columns when determining the result dtypes. To retain the old behavior, exclude the relevant entries before the concat operation.\n",
      "  newdf = pd.concat([newdf,entry])\n",
      "C:\\Users\\Domin\\AppData\\Local\\Temp\\ipykernel_54184\\3618462886.py:18: FutureWarning: The behavior of DataFrame concatenation with empty or all-NA entries is deprecated. In a future version, this will no longer exclude empty or all-NA columns when determining the result dtypes. To retain the old behavior, exclude the relevant entries before the concat operation.\n",
      "  newdf = pd.concat([newdf,entry])\n"
     ]
    },
    {
     "name": "stdout",
     "output_type": "stream",
     "text": [
      "calculating features for : ./Data/RawGazeData/03_Reading.csv\n",
      "activity: Reading\n"
     ]
    },
    {
     "name": "stderr",
     "output_type": "stream",
     "text": [
      "C:\\Users\\Domin\\AppData\\Local\\Temp\\ipykernel_54184\\3618462886.py:18: FutureWarning: The behavior of DataFrame concatenation with empty or all-NA entries is deprecated. In a future version, this will no longer exclude empty or all-NA columns when determining the result dtypes. To retain the old behavior, exclude the relevant entries before the concat operation.\n",
      "  newdf = pd.concat([newdf,entry])\n",
      "C:\\Users\\Domin\\AppData\\Local\\Temp\\ipykernel_54184\\3618462886.py:18: FutureWarning: The behavior of DataFrame concatenation with empty or all-NA entries is deprecated. In a future version, this will no longer exclude empty or all-NA columns when determining the result dtypes. To retain the old behavior, exclude the relevant entries before the concat operation.\n",
      "  newdf = pd.concat([newdf,entry])\n",
      "C:\\Users\\Domin\\AppData\\Local\\Temp\\ipykernel_54184\\3618462886.py:18: FutureWarning: The behavior of DataFrame concatenation with empty or all-NA entries is deprecated. In a future version, this will no longer exclude empty or all-NA columns when determining the result dtypes. To retain the old behavior, exclude the relevant entries before the concat operation.\n",
      "  newdf = pd.concat([newdf,entry])\n",
      "C:\\Users\\Domin\\AppData\\Local\\Temp\\ipykernel_54184\\3618462886.py:18: FutureWarning: The behavior of DataFrame concatenation with empty or all-NA entries is deprecated. In a future version, this will no longer exclude empty or all-NA columns when determining the result dtypes. To retain the old behavior, exclude the relevant entries before the concat operation.\n",
      "  newdf = pd.concat([newdf,entry])\n"
     ]
    },
    {
     "name": "stdout",
     "output_type": "stream",
     "text": [
      "calculating features for : ./Data/RawGazeData/03_Search.csv\n",
      "activity: Search\n"
     ]
    },
    {
     "name": "stderr",
     "output_type": "stream",
     "text": [
      "C:\\Users\\Domin\\AppData\\Local\\Temp\\ipykernel_54184\\3618462886.py:18: FutureWarning: The behavior of DataFrame concatenation with empty or all-NA entries is deprecated. In a future version, this will no longer exclude empty or all-NA columns when determining the result dtypes. To retain the old behavior, exclude the relevant entries before the concat operation.\n",
      "  newdf = pd.concat([newdf,entry])\n",
      "C:\\Users\\Domin\\AppData\\Local\\Temp\\ipykernel_54184\\3618462886.py:18: FutureWarning: The behavior of DataFrame concatenation with empty or all-NA entries is deprecated. In a future version, this will no longer exclude empty or all-NA columns when determining the result dtypes. To retain the old behavior, exclude the relevant entries before the concat operation.\n",
      "  newdf = pd.concat([newdf,entry])\n",
      "C:\\Users\\Domin\\AppData\\Local\\Temp\\ipykernel_54184\\3618462886.py:18: FutureWarning: The behavior of DataFrame concatenation with empty or all-NA entries is deprecated. In a future version, this will no longer exclude empty or all-NA columns when determining the result dtypes. To retain the old behavior, exclude the relevant entries before the concat operation.\n",
      "  newdf = pd.concat([newdf,entry])\n"
     ]
    },
    {
     "name": "stdout",
     "output_type": "stream",
     "text": [
      "calculating features for : ./Data/RawGazeData/04_Inspection.csv\n",
      "activity: Inspection\n"
     ]
    },
    {
     "name": "stderr",
     "output_type": "stream",
     "text": [
      "C:\\Users\\Domin\\AppData\\Local\\Temp\\ipykernel_54184\\3618462886.py:18: FutureWarning: The behavior of DataFrame concatenation with empty or all-NA entries is deprecated. In a future version, this will no longer exclude empty or all-NA columns when determining the result dtypes. To retain the old behavior, exclude the relevant entries before the concat operation.\n",
      "  newdf = pd.concat([newdf,entry])\n",
      "C:\\Users\\Domin\\AppData\\Local\\Temp\\ipykernel_54184\\3618462886.py:18: FutureWarning: The behavior of DataFrame concatenation with empty or all-NA entries is deprecated. In a future version, this will no longer exclude empty or all-NA columns when determining the result dtypes. To retain the old behavior, exclude the relevant entries before the concat operation.\n",
      "  newdf = pd.concat([newdf,entry])\n",
      "C:\\Users\\Domin\\AppData\\Local\\Temp\\ipykernel_54184\\3618462886.py:18: FutureWarning: The behavior of DataFrame concatenation with empty or all-NA entries is deprecated. In a future version, this will no longer exclude empty or all-NA columns when determining the result dtypes. To retain the old behavior, exclude the relevant entries before the concat operation.\n",
      "  newdf = pd.concat([newdf,entry])\n",
      "C:\\Users\\Domin\\AppData\\Local\\Temp\\ipykernel_54184\\3618462886.py:18: FutureWarning: The behavior of DataFrame concatenation with empty or all-NA entries is deprecated. In a future version, this will no longer exclude empty or all-NA columns when determining the result dtypes. To retain the old behavior, exclude the relevant entries before the concat operation.\n",
      "  newdf = pd.concat([newdf,entry])\n",
      "C:\\Users\\Domin\\AppData\\Local\\Temp\\ipykernel_54184\\3618462886.py:18: FutureWarning: The behavior of DataFrame concatenation with empty or all-NA entries is deprecated. In a future version, this will no longer exclude empty or all-NA columns when determining the result dtypes. To retain the old behavior, exclude the relevant entries before the concat operation.\n",
      "  newdf = pd.concat([newdf,entry])\n"
     ]
    },
    {
     "name": "stdout",
     "output_type": "stream",
     "text": [
      "calculating features for : ./Data/RawGazeData/04_Reading.csv\n",
      "activity: Reading\n"
     ]
    },
    {
     "name": "stderr",
     "output_type": "stream",
     "text": [
      "C:\\Users\\Domin\\AppData\\Local\\Temp\\ipykernel_54184\\3618462886.py:18: FutureWarning: The behavior of DataFrame concatenation with empty or all-NA entries is deprecated. In a future version, this will no longer exclude empty or all-NA columns when determining the result dtypes. To retain the old behavior, exclude the relevant entries before the concat operation.\n",
      "  newdf = pd.concat([newdf,entry])\n",
      "C:\\Users\\Domin\\AppData\\Local\\Temp\\ipykernel_54184\\3618462886.py:18: FutureWarning: The behavior of DataFrame concatenation with empty or all-NA entries is deprecated. In a future version, this will no longer exclude empty or all-NA columns when determining the result dtypes. To retain the old behavior, exclude the relevant entries before the concat operation.\n",
      "  newdf = pd.concat([newdf,entry])\n",
      "C:\\Users\\Domin\\AppData\\Local\\Temp\\ipykernel_54184\\3618462886.py:18: FutureWarning: The behavior of DataFrame concatenation with empty or all-NA entries is deprecated. In a future version, this will no longer exclude empty or all-NA columns when determining the result dtypes. To retain the old behavior, exclude the relevant entries before the concat operation.\n",
      "  newdf = pd.concat([newdf,entry])\n",
      "C:\\Users\\Domin\\AppData\\Local\\Temp\\ipykernel_54184\\3618462886.py:18: FutureWarning: The behavior of DataFrame concatenation with empty or all-NA entries is deprecated. In a future version, this will no longer exclude empty or all-NA columns when determining the result dtypes. To retain the old behavior, exclude the relevant entries before the concat operation.\n",
      "  newdf = pd.concat([newdf,entry])\n"
     ]
    },
    {
     "name": "stdout",
     "output_type": "stream",
     "text": [
      "calculating features for : ./Data/RawGazeData/04_Search.csv\n",
      "activity: Search\n"
     ]
    },
    {
     "name": "stderr",
     "output_type": "stream",
     "text": [
      "C:\\Users\\Domin\\AppData\\Local\\Temp\\ipykernel_54184\\3618462886.py:18: FutureWarning: The behavior of DataFrame concatenation with empty or all-NA entries is deprecated. In a future version, this will no longer exclude empty or all-NA columns when determining the result dtypes. To retain the old behavior, exclude the relevant entries before the concat operation.\n",
      "  newdf = pd.concat([newdf,entry])\n",
      "C:\\Users\\Domin\\AppData\\Local\\Temp\\ipykernel_54184\\3618462886.py:18: FutureWarning: The behavior of DataFrame concatenation with empty or all-NA entries is deprecated. In a future version, this will no longer exclude empty or all-NA columns when determining the result dtypes. To retain the old behavior, exclude the relevant entries before the concat operation.\n",
      "  newdf = pd.concat([newdf,entry])\n",
      "C:\\Users\\Domin\\AppData\\Local\\Temp\\ipykernel_54184\\3618462886.py:18: FutureWarning: The behavior of DataFrame concatenation with empty or all-NA entries is deprecated. In a future version, this will no longer exclude empty or all-NA columns when determining the result dtypes. To retain the old behavior, exclude the relevant entries before the concat operation.\n",
      "  newdf = pd.concat([newdf,entry])\n",
      "C:\\Users\\Domin\\AppData\\Local\\Temp\\ipykernel_54184\\3618462886.py:18: FutureWarning: The behavior of DataFrame concatenation with empty or all-NA entries is deprecated. In a future version, this will no longer exclude empty or all-NA columns when determining the result dtypes. To retain the old behavior, exclude the relevant entries before the concat operation.\n",
      "  newdf = pd.concat([newdf,entry])\n"
     ]
    },
    {
     "name": "stdout",
     "output_type": "stream",
     "text": [
      "calculating features for : ./Data/RawGazeData/05_Inspection.csv\n",
      "activity: Inspection\n"
     ]
    },
    {
     "name": "stderr",
     "output_type": "stream",
     "text": [
      "C:\\Users\\Domin\\AppData\\Local\\Temp\\ipykernel_54184\\3618462886.py:18: FutureWarning: The behavior of DataFrame concatenation with empty or all-NA entries is deprecated. In a future version, this will no longer exclude empty or all-NA columns when determining the result dtypes. To retain the old behavior, exclude the relevant entries before the concat operation.\n",
      "  newdf = pd.concat([newdf,entry])\n",
      "C:\\Users\\Domin\\AppData\\Local\\Temp\\ipykernel_54184\\3618462886.py:18: FutureWarning: The behavior of DataFrame concatenation with empty or all-NA entries is deprecated. In a future version, this will no longer exclude empty or all-NA columns when determining the result dtypes. To retain the old behavior, exclude the relevant entries before the concat operation.\n",
      "  newdf = pd.concat([newdf,entry])\n",
      "C:\\Users\\Domin\\AppData\\Local\\Temp\\ipykernel_54184\\3618462886.py:18: FutureWarning: The behavior of DataFrame concatenation with empty or all-NA entries is deprecated. In a future version, this will no longer exclude empty or all-NA columns when determining the result dtypes. To retain the old behavior, exclude the relevant entries before the concat operation.\n",
      "  newdf = pd.concat([newdf,entry])\n",
      "C:\\Users\\Domin\\AppData\\Local\\Temp\\ipykernel_54184\\3618462886.py:18: FutureWarning: The behavior of DataFrame concatenation with empty or all-NA entries is deprecated. In a future version, this will no longer exclude empty or all-NA columns when determining the result dtypes. To retain the old behavior, exclude the relevant entries before the concat operation.\n",
      "  newdf = pd.concat([newdf,entry])\n"
     ]
    },
    {
     "name": "stdout",
     "output_type": "stream",
     "text": [
      "calculating features for : ./Data/RawGazeData/05_Reading.csv\n",
      "activity: Reading\n"
     ]
    },
    {
     "name": "stderr",
     "output_type": "stream",
     "text": [
      "C:\\Users\\Domin\\AppData\\Local\\Temp\\ipykernel_54184\\3618462886.py:18: FutureWarning: The behavior of DataFrame concatenation with empty or all-NA entries is deprecated. In a future version, this will no longer exclude empty or all-NA columns when determining the result dtypes. To retain the old behavior, exclude the relevant entries before the concat operation.\n",
      "  newdf = pd.concat([newdf,entry])\n",
      "C:\\Users\\Domin\\AppData\\Local\\Temp\\ipykernel_54184\\3618462886.py:18: FutureWarning: The behavior of DataFrame concatenation with empty or all-NA entries is deprecated. In a future version, this will no longer exclude empty or all-NA columns when determining the result dtypes. To retain the old behavior, exclude the relevant entries before the concat operation.\n",
      "  newdf = pd.concat([newdf,entry])\n",
      "C:\\Users\\Domin\\AppData\\Local\\Temp\\ipykernel_54184\\3618462886.py:18: FutureWarning: The behavior of DataFrame concatenation with empty or all-NA entries is deprecated. In a future version, this will no longer exclude empty or all-NA columns when determining the result dtypes. To retain the old behavior, exclude the relevant entries before the concat operation.\n",
      "  newdf = pd.concat([newdf,entry])\n",
      "C:\\Users\\Domin\\AppData\\Local\\Temp\\ipykernel_54184\\3618462886.py:18: FutureWarning: The behavior of DataFrame concatenation with empty or all-NA entries is deprecated. In a future version, this will no longer exclude empty or all-NA columns when determining the result dtypes. To retain the old behavior, exclude the relevant entries before the concat operation.\n",
      "  newdf = pd.concat([newdf,entry])\n"
     ]
    },
    {
     "name": "stdout",
     "output_type": "stream",
     "text": [
      "calculating features for : ./Data/RawGazeData/05_Search.csv\n",
      "activity: Search\n"
     ]
    },
    {
     "name": "stderr",
     "output_type": "stream",
     "text": [
      "C:\\Users\\Domin\\AppData\\Local\\Temp\\ipykernel_54184\\3618462886.py:18: FutureWarning: The behavior of DataFrame concatenation with empty or all-NA entries is deprecated. In a future version, this will no longer exclude empty or all-NA columns when determining the result dtypes. To retain the old behavior, exclude the relevant entries before the concat operation.\n",
      "  newdf = pd.concat([newdf,entry])\n",
      "C:\\Users\\Domin\\AppData\\Local\\Temp\\ipykernel_54184\\3618462886.py:18: FutureWarning: The behavior of DataFrame concatenation with empty or all-NA entries is deprecated. In a future version, this will no longer exclude empty or all-NA columns when determining the result dtypes. To retain the old behavior, exclude the relevant entries before the concat operation.\n",
      "  newdf = pd.concat([newdf,entry])\n",
      "C:\\Users\\Domin\\AppData\\Local\\Temp\\ipykernel_54184\\3618462886.py:18: FutureWarning: The behavior of DataFrame concatenation with empty or all-NA entries is deprecated. In a future version, this will no longer exclude empty or all-NA columns when determining the result dtypes. To retain the old behavior, exclude the relevant entries before the concat operation.\n",
      "  newdf = pd.concat([newdf,entry])\n",
      "C:\\Users\\Domin\\AppData\\Local\\Temp\\ipykernel_54184\\3618462886.py:18: FutureWarning: The behavior of DataFrame concatenation with empty or all-NA entries is deprecated. In a future version, this will no longer exclude empty or all-NA columns when determining the result dtypes. To retain the old behavior, exclude the relevant entries before the concat operation.\n",
      "  newdf = pd.concat([newdf,entry])\n"
     ]
    },
    {
     "name": "stdout",
     "output_type": "stream",
     "text": [
      "calculating features for : ./Data/RawGazeData/06_Inspection.csv\n",
      "activity: Inspection\n"
     ]
    },
    {
     "name": "stderr",
     "output_type": "stream",
     "text": [
      "C:\\Users\\Domin\\AppData\\Local\\Temp\\ipykernel_54184\\3618462886.py:18: FutureWarning: The behavior of DataFrame concatenation with empty or all-NA entries is deprecated. In a future version, this will no longer exclude empty or all-NA columns when determining the result dtypes. To retain the old behavior, exclude the relevant entries before the concat operation.\n",
      "  newdf = pd.concat([newdf,entry])\n",
      "C:\\Users\\Domin\\AppData\\Local\\Temp\\ipykernel_54184\\3618462886.py:18: FutureWarning: The behavior of DataFrame concatenation with empty or all-NA entries is deprecated. In a future version, this will no longer exclude empty or all-NA columns when determining the result dtypes. To retain the old behavior, exclude the relevant entries before the concat operation.\n",
      "  newdf = pd.concat([newdf,entry])\n",
      "C:\\Users\\Domin\\AppData\\Local\\Temp\\ipykernel_54184\\3618462886.py:18: FutureWarning: The behavior of DataFrame concatenation with empty or all-NA entries is deprecated. In a future version, this will no longer exclude empty or all-NA columns when determining the result dtypes. To retain the old behavior, exclude the relevant entries before the concat operation.\n",
      "  newdf = pd.concat([newdf,entry])\n",
      "C:\\Users\\Domin\\AppData\\Local\\Temp\\ipykernel_54184\\3618462886.py:18: FutureWarning: The behavior of DataFrame concatenation with empty or all-NA entries is deprecated. In a future version, this will no longer exclude empty or all-NA columns when determining the result dtypes. To retain the old behavior, exclude the relevant entries before the concat operation.\n",
      "  newdf = pd.concat([newdf,entry])\n"
     ]
    },
    {
     "name": "stdout",
     "output_type": "stream",
     "text": [
      "calculating features for : ./Data/RawGazeData/06_Reading.csv\n",
      "activity: Reading\n"
     ]
    },
    {
     "name": "stderr",
     "output_type": "stream",
     "text": [
      "C:\\Users\\Domin\\AppData\\Local\\Temp\\ipykernel_54184\\3618462886.py:18: FutureWarning: The behavior of DataFrame concatenation with empty or all-NA entries is deprecated. In a future version, this will no longer exclude empty or all-NA columns when determining the result dtypes. To retain the old behavior, exclude the relevant entries before the concat operation.\n",
      "  newdf = pd.concat([newdf,entry])\n",
      "C:\\Users\\Domin\\AppData\\Local\\Temp\\ipykernel_54184\\3618462886.py:18: FutureWarning: The behavior of DataFrame concatenation with empty or all-NA entries is deprecated. In a future version, this will no longer exclude empty or all-NA columns when determining the result dtypes. To retain the old behavior, exclude the relevant entries before the concat operation.\n",
      "  newdf = pd.concat([newdf,entry])\n",
      "C:\\Users\\Domin\\AppData\\Local\\Temp\\ipykernel_54184\\3618462886.py:18: FutureWarning: The behavior of DataFrame concatenation with empty or all-NA entries is deprecated. In a future version, this will no longer exclude empty or all-NA columns when determining the result dtypes. To retain the old behavior, exclude the relevant entries before the concat operation.\n",
      "  newdf = pd.concat([newdf,entry])\n",
      "C:\\Users\\Domin\\AppData\\Local\\Temp\\ipykernel_54184\\3618462886.py:18: FutureWarning: The behavior of DataFrame concatenation with empty or all-NA entries is deprecated. In a future version, this will no longer exclude empty or all-NA columns when determining the result dtypes. To retain the old behavior, exclude the relevant entries before the concat operation.\n",
      "  newdf = pd.concat([newdf,entry])\n"
     ]
    },
    {
     "name": "stdout",
     "output_type": "stream",
     "text": [
      "calculating features for : ./Data/RawGazeData/06_Search.csv\n",
      "activity: Search\n"
     ]
    },
    {
     "name": "stderr",
     "output_type": "stream",
     "text": [
      "C:\\Users\\Domin\\AppData\\Local\\Temp\\ipykernel_54184\\3618462886.py:18: FutureWarning: The behavior of DataFrame concatenation with empty or all-NA entries is deprecated. In a future version, this will no longer exclude empty or all-NA columns when determining the result dtypes. To retain the old behavior, exclude the relevant entries before the concat operation.\n",
      "  newdf = pd.concat([newdf,entry])\n",
      "C:\\Users\\Domin\\AppData\\Local\\Temp\\ipykernel_54184\\3618462886.py:18: FutureWarning: The behavior of DataFrame concatenation with empty or all-NA entries is deprecated. In a future version, this will no longer exclude empty or all-NA columns when determining the result dtypes. To retain the old behavior, exclude the relevant entries before the concat operation.\n",
      "  newdf = pd.concat([newdf,entry])\n",
      "C:\\Users\\Domin\\AppData\\Local\\Temp\\ipykernel_54184\\3618462886.py:18: FutureWarning: The behavior of DataFrame concatenation with empty or all-NA entries is deprecated. In a future version, this will no longer exclude empty or all-NA columns when determining the result dtypes. To retain the old behavior, exclude the relevant entries before the concat operation.\n",
      "  newdf = pd.concat([newdf,entry])\n",
      "C:\\Users\\Domin\\AppData\\Local\\Temp\\ipykernel_54184\\3618462886.py:18: FutureWarning: The behavior of DataFrame concatenation with empty or all-NA entries is deprecated. In a future version, this will no longer exclude empty or all-NA columns when determining the result dtypes. To retain the old behavior, exclude the relevant entries before the concat operation.\n",
      "  newdf = pd.concat([newdf,entry])\n"
     ]
    },
    {
     "name": "stdout",
     "output_type": "stream",
     "text": [
      "calculating features for : ./Data/RawGazeData/07_Inspection.csv\n",
      "activity: Inspection\n"
     ]
    },
    {
     "name": "stderr",
     "output_type": "stream",
     "text": [
      "C:\\Users\\Domin\\AppData\\Local\\Temp\\ipykernel_54184\\3618462886.py:18: FutureWarning: The behavior of DataFrame concatenation with empty or all-NA entries is deprecated. In a future version, this will no longer exclude empty or all-NA columns when determining the result dtypes. To retain the old behavior, exclude the relevant entries before the concat operation.\n",
      "  newdf = pd.concat([newdf,entry])\n",
      "C:\\Users\\Domin\\AppData\\Local\\Temp\\ipykernel_54184\\3618462886.py:18: FutureWarning: The behavior of DataFrame concatenation with empty or all-NA entries is deprecated. In a future version, this will no longer exclude empty or all-NA columns when determining the result dtypes. To retain the old behavior, exclude the relevant entries before the concat operation.\n",
      "  newdf = pd.concat([newdf,entry])\n",
      "C:\\Users\\Domin\\AppData\\Local\\Temp\\ipykernel_54184\\3618462886.py:18: FutureWarning: The behavior of DataFrame concatenation with empty or all-NA entries is deprecated. In a future version, this will no longer exclude empty or all-NA columns when determining the result dtypes. To retain the old behavior, exclude the relevant entries before the concat operation.\n",
      "  newdf = pd.concat([newdf,entry])\n",
      "C:\\Users\\Domin\\AppData\\Local\\Temp\\ipykernel_54184\\3618462886.py:18: FutureWarning: The behavior of DataFrame concatenation with empty or all-NA entries is deprecated. In a future version, this will no longer exclude empty or all-NA columns when determining the result dtypes. To retain the old behavior, exclude the relevant entries before the concat operation.\n",
      "  newdf = pd.concat([newdf,entry])\n"
     ]
    },
    {
     "name": "stdout",
     "output_type": "stream",
     "text": [
      "calculating features for : ./Data/RawGazeData/07_Reading.csv\n",
      "activity: Reading\n"
     ]
    },
    {
     "name": "stderr",
     "output_type": "stream",
     "text": [
      "C:\\Users\\Domin\\AppData\\Local\\Temp\\ipykernel_54184\\3618462886.py:18: FutureWarning: The behavior of DataFrame concatenation with empty or all-NA entries is deprecated. In a future version, this will no longer exclude empty or all-NA columns when determining the result dtypes. To retain the old behavior, exclude the relevant entries before the concat operation.\n",
      "  newdf = pd.concat([newdf,entry])\n",
      "C:\\Users\\Domin\\AppData\\Local\\Temp\\ipykernel_54184\\3618462886.py:18: FutureWarning: The behavior of DataFrame concatenation with empty or all-NA entries is deprecated. In a future version, this will no longer exclude empty or all-NA columns when determining the result dtypes. To retain the old behavior, exclude the relevant entries before the concat operation.\n",
      "  newdf = pd.concat([newdf,entry])\n",
      "C:\\Users\\Domin\\AppData\\Local\\Temp\\ipykernel_54184\\3618462886.py:18: FutureWarning: The behavior of DataFrame concatenation with empty or all-NA entries is deprecated. In a future version, this will no longer exclude empty or all-NA columns when determining the result dtypes. To retain the old behavior, exclude the relevant entries before the concat operation.\n",
      "  newdf = pd.concat([newdf,entry])\n",
      "C:\\Users\\Domin\\AppData\\Local\\Temp\\ipykernel_54184\\3618462886.py:18: FutureWarning: The behavior of DataFrame concatenation with empty or all-NA entries is deprecated. In a future version, this will no longer exclude empty or all-NA columns when determining the result dtypes. To retain the old behavior, exclude the relevant entries before the concat operation.\n",
      "  newdf = pd.concat([newdf,entry])\n"
     ]
    },
    {
     "name": "stdout",
     "output_type": "stream",
     "text": [
      "calculating features for : ./Data/RawGazeData/07_Search.csv\n",
      "activity: Search\n"
     ]
    },
    {
     "name": "stderr",
     "output_type": "stream",
     "text": [
      "C:\\Users\\Domin\\AppData\\Local\\Temp\\ipykernel_54184\\3618462886.py:18: FutureWarning: The behavior of DataFrame concatenation with empty or all-NA entries is deprecated. In a future version, this will no longer exclude empty or all-NA columns when determining the result dtypes. To retain the old behavior, exclude the relevant entries before the concat operation.\n",
      "  newdf = pd.concat([newdf,entry])\n",
      "C:\\Users\\Domin\\AppData\\Local\\Temp\\ipykernel_54184\\3618462886.py:18: FutureWarning: The behavior of DataFrame concatenation with empty or all-NA entries is deprecated. In a future version, this will no longer exclude empty or all-NA columns when determining the result dtypes. To retain the old behavior, exclude the relevant entries before the concat operation.\n",
      "  newdf = pd.concat([newdf,entry])\n",
      "C:\\Users\\Domin\\AppData\\Local\\Temp\\ipykernel_54184\\3618462886.py:18: FutureWarning: The behavior of DataFrame concatenation with empty or all-NA entries is deprecated. In a future version, this will no longer exclude empty or all-NA columns when determining the result dtypes. To retain the old behavior, exclude the relevant entries before the concat operation.\n",
      "  newdf = pd.concat([newdf,entry])\n",
      "C:\\Users\\Domin\\AppData\\Local\\Temp\\ipykernel_54184\\3618462886.py:18: FutureWarning: The behavior of DataFrame concatenation with empty or all-NA entries is deprecated. In a future version, this will no longer exclude empty or all-NA columns when determining the result dtypes. To retain the old behavior, exclude the relevant entries before the concat operation.\n",
      "  newdf = pd.concat([newdf,entry])\n"
     ]
    },
    {
     "name": "stdout",
     "output_type": "stream",
     "text": [
      "calculating features for : ./Data/RawGazeData/08_Inspection.csv\n",
      "activity: Inspection\n"
     ]
    },
    {
     "name": "stderr",
     "output_type": "stream",
     "text": [
      "C:\\Users\\Domin\\AppData\\Local\\Temp\\ipykernel_54184\\3618462886.py:18: FutureWarning: The behavior of DataFrame concatenation with empty or all-NA entries is deprecated. In a future version, this will no longer exclude empty or all-NA columns when determining the result dtypes. To retain the old behavior, exclude the relevant entries before the concat operation.\n",
      "  newdf = pd.concat([newdf,entry])\n",
      "C:\\Users\\Domin\\AppData\\Local\\Temp\\ipykernel_54184\\3618462886.py:18: FutureWarning: The behavior of DataFrame concatenation with empty or all-NA entries is deprecated. In a future version, this will no longer exclude empty or all-NA columns when determining the result dtypes. To retain the old behavior, exclude the relevant entries before the concat operation.\n",
      "  newdf = pd.concat([newdf,entry])\n",
      "C:\\Users\\Domin\\AppData\\Local\\Temp\\ipykernel_54184\\3618462886.py:18: FutureWarning: The behavior of DataFrame concatenation with empty or all-NA entries is deprecated. In a future version, this will no longer exclude empty or all-NA columns when determining the result dtypes. To retain the old behavior, exclude the relevant entries before the concat operation.\n",
      "  newdf = pd.concat([newdf,entry])\n",
      "C:\\Users\\Domin\\AppData\\Local\\Temp\\ipykernel_54184\\3618462886.py:18: FutureWarning: The behavior of DataFrame concatenation with empty or all-NA entries is deprecated. In a future version, this will no longer exclude empty or all-NA columns when determining the result dtypes. To retain the old behavior, exclude the relevant entries before the concat operation.\n",
      "  newdf = pd.concat([newdf,entry])\n"
     ]
    },
    {
     "name": "stdout",
     "output_type": "stream",
     "text": [
      "calculating features for : ./Data/RawGazeData/08_Reading.csv\n",
      "activity: Reading\n"
     ]
    },
    {
     "name": "stderr",
     "output_type": "stream",
     "text": [
      "C:\\Users\\Domin\\AppData\\Local\\Temp\\ipykernel_54184\\3618462886.py:18: FutureWarning: The behavior of DataFrame concatenation with empty or all-NA entries is deprecated. In a future version, this will no longer exclude empty or all-NA columns when determining the result dtypes. To retain the old behavior, exclude the relevant entries before the concat operation.\n",
      "  newdf = pd.concat([newdf,entry])\n",
      "C:\\Users\\Domin\\AppData\\Local\\Temp\\ipykernel_54184\\3618462886.py:18: FutureWarning: The behavior of DataFrame concatenation with empty or all-NA entries is deprecated. In a future version, this will no longer exclude empty or all-NA columns when determining the result dtypes. To retain the old behavior, exclude the relevant entries before the concat operation.\n",
      "  newdf = pd.concat([newdf,entry])\n",
      "C:\\Users\\Domin\\AppData\\Local\\Temp\\ipykernel_54184\\3618462886.py:18: FutureWarning: The behavior of DataFrame concatenation with empty or all-NA entries is deprecated. In a future version, this will no longer exclude empty or all-NA columns when determining the result dtypes. To retain the old behavior, exclude the relevant entries before the concat operation.\n",
      "  newdf = pd.concat([newdf,entry])\n",
      "C:\\Users\\Domin\\AppData\\Local\\Temp\\ipykernel_54184\\3618462886.py:18: FutureWarning: The behavior of DataFrame concatenation with empty or all-NA entries is deprecated. In a future version, this will no longer exclude empty or all-NA columns when determining the result dtypes. To retain the old behavior, exclude the relevant entries before the concat operation.\n",
      "  newdf = pd.concat([newdf,entry])\n"
     ]
    },
    {
     "name": "stdout",
     "output_type": "stream",
     "text": [
      "calculating features for : ./Data/RawGazeData/08_Search.csv\n",
      "activity: Search\n"
     ]
    },
    {
     "name": "stderr",
     "output_type": "stream",
     "text": [
      "C:\\Users\\Domin\\AppData\\Local\\Temp\\ipykernel_54184\\3618462886.py:18: FutureWarning: The behavior of DataFrame concatenation with empty or all-NA entries is deprecated. In a future version, this will no longer exclude empty or all-NA columns when determining the result dtypes. To retain the old behavior, exclude the relevant entries before the concat operation.\n",
      "  newdf = pd.concat([newdf,entry])\n",
      "C:\\Users\\Domin\\AppData\\Local\\Temp\\ipykernel_54184\\3618462886.py:18: FutureWarning: The behavior of DataFrame concatenation with empty or all-NA entries is deprecated. In a future version, this will no longer exclude empty or all-NA columns when determining the result dtypes. To retain the old behavior, exclude the relevant entries before the concat operation.\n",
      "  newdf = pd.concat([newdf,entry])\n",
      "C:\\Users\\Domin\\AppData\\Local\\Temp\\ipykernel_54184\\3618462886.py:18: FutureWarning: The behavior of DataFrame concatenation with empty or all-NA entries is deprecated. In a future version, this will no longer exclude empty or all-NA columns when determining the result dtypes. To retain the old behavior, exclude the relevant entries before the concat operation.\n",
      "  newdf = pd.concat([newdf,entry])\n",
      "C:\\Users\\Domin\\AppData\\Local\\Temp\\ipykernel_54184\\3618462886.py:18: FutureWarning: The behavior of DataFrame concatenation with empty or all-NA entries is deprecated. In a future version, this will no longer exclude empty or all-NA columns when determining the result dtypes. To retain the old behavior, exclude the relevant entries before the concat operation.\n",
      "  newdf = pd.concat([newdf,entry])\n"
     ]
    },
    {
     "name": "stdout",
     "output_type": "stream",
     "text": [
      "calculating features for : ./Data/RawGazeData/09_Inspection.csv\n",
      "activity: Inspection\n"
     ]
    },
    {
     "name": "stderr",
     "output_type": "stream",
     "text": [
      "C:\\Users\\Domin\\AppData\\Local\\Temp\\ipykernel_54184\\3618462886.py:18: FutureWarning: The behavior of DataFrame concatenation with empty or all-NA entries is deprecated. In a future version, this will no longer exclude empty or all-NA columns when determining the result dtypes. To retain the old behavior, exclude the relevant entries before the concat operation.\n",
      "  newdf = pd.concat([newdf,entry])\n",
      "C:\\Users\\Domin\\AppData\\Local\\Temp\\ipykernel_54184\\3618462886.py:18: FutureWarning: The behavior of DataFrame concatenation with empty or all-NA entries is deprecated. In a future version, this will no longer exclude empty or all-NA columns when determining the result dtypes. To retain the old behavior, exclude the relevant entries before the concat operation.\n",
      "  newdf = pd.concat([newdf,entry])\n",
      "C:\\Users\\Domin\\AppData\\Local\\Temp\\ipykernel_54184\\3618462886.py:18: FutureWarning: The behavior of DataFrame concatenation with empty or all-NA entries is deprecated. In a future version, this will no longer exclude empty or all-NA columns when determining the result dtypes. To retain the old behavior, exclude the relevant entries before the concat operation.\n",
      "  newdf = pd.concat([newdf,entry])\n",
      "C:\\Users\\Domin\\AppData\\Local\\Temp\\ipykernel_54184\\3618462886.py:18: FutureWarning: The behavior of DataFrame concatenation with empty or all-NA entries is deprecated. In a future version, this will no longer exclude empty or all-NA columns when determining the result dtypes. To retain the old behavior, exclude the relevant entries before the concat operation.\n",
      "  newdf = pd.concat([newdf,entry])\n"
     ]
    },
    {
     "name": "stdout",
     "output_type": "stream",
     "text": [
      "calculating features for : ./Data/RawGazeData/09_Reading.csv\n",
      "activity: Reading\n"
     ]
    },
    {
     "name": "stderr",
     "output_type": "stream",
     "text": [
      "C:\\Users\\Domin\\AppData\\Local\\Temp\\ipykernel_54184\\3618462886.py:18: FutureWarning: The behavior of DataFrame concatenation with empty or all-NA entries is deprecated. In a future version, this will no longer exclude empty or all-NA columns when determining the result dtypes. To retain the old behavior, exclude the relevant entries before the concat operation.\n",
      "  newdf = pd.concat([newdf,entry])\n",
      "C:\\Users\\Domin\\AppData\\Local\\Temp\\ipykernel_54184\\3618462886.py:18: FutureWarning: The behavior of DataFrame concatenation with empty or all-NA entries is deprecated. In a future version, this will no longer exclude empty or all-NA columns when determining the result dtypes. To retain the old behavior, exclude the relevant entries before the concat operation.\n",
      "  newdf = pd.concat([newdf,entry])\n",
      "C:\\Users\\Domin\\AppData\\Local\\Temp\\ipykernel_54184\\3618462886.py:18: FutureWarning: The behavior of DataFrame concatenation with empty or all-NA entries is deprecated. In a future version, this will no longer exclude empty or all-NA columns when determining the result dtypes. To retain the old behavior, exclude the relevant entries before the concat operation.\n",
      "  newdf = pd.concat([newdf,entry])\n",
      "C:\\Users\\Domin\\AppData\\Local\\Temp\\ipykernel_54184\\3618462886.py:18: FutureWarning: The behavior of DataFrame concatenation with empty or all-NA entries is deprecated. In a future version, this will no longer exclude empty or all-NA columns when determining the result dtypes. To retain the old behavior, exclude the relevant entries before the concat operation.\n",
      "  newdf = pd.concat([newdf,entry])\n"
     ]
    },
    {
     "name": "stdout",
     "output_type": "stream",
     "text": [
      "calculating features for : ./Data/RawGazeData/09_Search.csv\n",
      "activity: Search\n"
     ]
    },
    {
     "name": "stderr",
     "output_type": "stream",
     "text": [
      "C:\\Users\\Domin\\AppData\\Local\\Temp\\ipykernel_54184\\3618462886.py:18: FutureWarning: The behavior of DataFrame concatenation with empty or all-NA entries is deprecated. In a future version, this will no longer exclude empty or all-NA columns when determining the result dtypes. To retain the old behavior, exclude the relevant entries before the concat operation.\n",
      "  newdf = pd.concat([newdf,entry])\n",
      "C:\\Users\\Domin\\AppData\\Local\\Temp\\ipykernel_54184\\3618462886.py:18: FutureWarning: The behavior of DataFrame concatenation with empty or all-NA entries is deprecated. In a future version, this will no longer exclude empty or all-NA columns when determining the result dtypes. To retain the old behavior, exclude the relevant entries before the concat operation.\n",
      "  newdf = pd.concat([newdf,entry])\n",
      "C:\\Users\\Domin\\AppData\\Local\\Temp\\ipykernel_54184\\3618462886.py:18: FutureWarning: The behavior of DataFrame concatenation with empty or all-NA entries is deprecated. In a future version, this will no longer exclude empty or all-NA columns when determining the result dtypes. To retain the old behavior, exclude the relevant entries before the concat operation.\n",
      "  newdf = pd.concat([newdf,entry])\n",
      "C:\\Users\\Domin\\AppData\\Local\\Temp\\ipykernel_54184\\3618462886.py:18: FutureWarning: The behavior of DataFrame concatenation with empty or all-NA entries is deprecated. In a future version, this will no longer exclude empty or all-NA columns when determining the result dtypes. To retain the old behavior, exclude the relevant entries before the concat operation.\n",
      "  newdf = pd.concat([newdf,entry])\n"
     ]
    },
    {
     "name": "stdout",
     "output_type": "stream",
     "text": [
      "calculating features for : ./Data/RawGazeData/10_Inspection.csv\n",
      "activity: Inspection\n"
     ]
    },
    {
     "name": "stderr",
     "output_type": "stream",
     "text": [
      "C:\\Users\\Domin\\AppData\\Local\\Temp\\ipykernel_54184\\3618462886.py:18: FutureWarning: The behavior of DataFrame concatenation with empty or all-NA entries is deprecated. In a future version, this will no longer exclude empty or all-NA columns when determining the result dtypes. To retain the old behavior, exclude the relevant entries before the concat operation.\n",
      "  newdf = pd.concat([newdf,entry])\n",
      "C:\\Users\\Domin\\AppData\\Local\\Temp\\ipykernel_54184\\3618462886.py:18: FutureWarning: The behavior of DataFrame concatenation with empty or all-NA entries is deprecated. In a future version, this will no longer exclude empty or all-NA columns when determining the result dtypes. To retain the old behavior, exclude the relevant entries before the concat operation.\n",
      "  newdf = pd.concat([newdf,entry])\n",
      "C:\\Users\\Domin\\AppData\\Local\\Temp\\ipykernel_54184\\3618462886.py:18: FutureWarning: The behavior of DataFrame concatenation with empty or all-NA entries is deprecated. In a future version, this will no longer exclude empty or all-NA columns when determining the result dtypes. To retain the old behavior, exclude the relevant entries before the concat operation.\n",
      "  newdf = pd.concat([newdf,entry])\n",
      "C:\\Users\\Domin\\AppData\\Local\\Temp\\ipykernel_54184\\3618462886.py:18: FutureWarning: The behavior of DataFrame concatenation with empty or all-NA entries is deprecated. In a future version, this will no longer exclude empty or all-NA columns when determining the result dtypes. To retain the old behavior, exclude the relevant entries before the concat operation.\n",
      "  newdf = pd.concat([newdf,entry])\n"
     ]
    },
    {
     "name": "stdout",
     "output_type": "stream",
     "text": [
      "calculating features for : ./Data/RawGazeData/10_Reading.csv\n",
      "activity: Reading\n"
     ]
    },
    {
     "name": "stderr",
     "output_type": "stream",
     "text": [
      "C:\\Users\\Domin\\AppData\\Local\\Temp\\ipykernel_54184\\3618462886.py:18: FutureWarning: The behavior of DataFrame concatenation with empty or all-NA entries is deprecated. In a future version, this will no longer exclude empty or all-NA columns when determining the result dtypes. To retain the old behavior, exclude the relevant entries before the concat operation.\n",
      "  newdf = pd.concat([newdf,entry])\n",
      "C:\\Users\\Domin\\AppData\\Local\\Temp\\ipykernel_54184\\3618462886.py:18: FutureWarning: The behavior of DataFrame concatenation with empty or all-NA entries is deprecated. In a future version, this will no longer exclude empty or all-NA columns when determining the result dtypes. To retain the old behavior, exclude the relevant entries before the concat operation.\n",
      "  newdf = pd.concat([newdf,entry])\n",
      "C:\\Users\\Domin\\AppData\\Local\\Temp\\ipykernel_54184\\3618462886.py:18: FutureWarning: The behavior of DataFrame concatenation with empty or all-NA entries is deprecated. In a future version, this will no longer exclude empty or all-NA columns when determining the result dtypes. To retain the old behavior, exclude the relevant entries before the concat operation.\n",
      "  newdf = pd.concat([newdf,entry])\n",
      "C:\\Users\\Domin\\AppData\\Local\\Temp\\ipykernel_54184\\3618462886.py:18: FutureWarning: The behavior of DataFrame concatenation with empty or all-NA entries is deprecated. In a future version, this will no longer exclude empty or all-NA columns when determining the result dtypes. To retain the old behavior, exclude the relevant entries before the concat operation.\n",
      "  newdf = pd.concat([newdf,entry])\n"
     ]
    },
    {
     "name": "stdout",
     "output_type": "stream",
     "text": [
      "calculating features for : ./Data/RawGazeData/10_Search.csv\n",
      "activity: Search\n"
     ]
    },
    {
     "name": "stderr",
     "output_type": "stream",
     "text": [
      "C:\\Users\\Domin\\AppData\\Local\\Temp\\ipykernel_54184\\3618462886.py:18: FutureWarning: The behavior of DataFrame concatenation with empty or all-NA entries is deprecated. In a future version, this will no longer exclude empty or all-NA columns when determining the result dtypes. To retain the old behavior, exclude the relevant entries before the concat operation.\n",
      "  newdf = pd.concat([newdf,entry])\n",
      "C:\\Users\\Domin\\AppData\\Local\\Temp\\ipykernel_54184\\3618462886.py:18: FutureWarning: The behavior of DataFrame concatenation with empty or all-NA entries is deprecated. In a future version, this will no longer exclude empty or all-NA columns when determining the result dtypes. To retain the old behavior, exclude the relevant entries before the concat operation.\n",
      "  newdf = pd.concat([newdf,entry])\n",
      "C:\\Users\\Domin\\AppData\\Local\\Temp\\ipykernel_54184\\3618462886.py:18: FutureWarning: The behavior of DataFrame concatenation with empty or all-NA entries is deprecated. In a future version, this will no longer exclude empty or all-NA columns when determining the result dtypes. To retain the old behavior, exclude the relevant entries before the concat operation.\n",
      "  newdf = pd.concat([newdf,entry])\n",
      "C:\\Users\\Domin\\AppData\\Local\\Temp\\ipykernel_54184\\3618462886.py:18: FutureWarning: The behavior of DataFrame concatenation with empty or all-NA entries is deprecated. In a future version, this will no longer exclude empty or all-NA columns when determining the result dtypes. To retain the old behavior, exclude the relevant entries before the concat operation.\n",
      "  newdf = pd.concat([newdf,entry])\n"
     ]
    },
    {
     "name": "stdout",
     "output_type": "stream",
     "text": [
      "calculating features for : ./Data/RawGazeData/11_Inspection.csv\n",
      "activity: Inspection\n"
     ]
    },
    {
     "name": "stderr",
     "output_type": "stream",
     "text": [
      "C:\\Users\\Domin\\AppData\\Local\\Temp\\ipykernel_54184\\3618462886.py:18: FutureWarning: The behavior of DataFrame concatenation with empty or all-NA entries is deprecated. In a future version, this will no longer exclude empty or all-NA columns when determining the result dtypes. To retain the old behavior, exclude the relevant entries before the concat operation.\n",
      "  newdf = pd.concat([newdf,entry])\n",
      "C:\\Users\\Domin\\AppData\\Local\\Temp\\ipykernel_54184\\3618462886.py:18: FutureWarning: The behavior of DataFrame concatenation with empty or all-NA entries is deprecated. In a future version, this will no longer exclude empty or all-NA columns when determining the result dtypes. To retain the old behavior, exclude the relevant entries before the concat operation.\n",
      "  newdf = pd.concat([newdf,entry])\n",
      "C:\\Users\\Domin\\AppData\\Local\\Temp\\ipykernel_54184\\3618462886.py:18: FutureWarning: The behavior of DataFrame concatenation with empty or all-NA entries is deprecated. In a future version, this will no longer exclude empty or all-NA columns when determining the result dtypes. To retain the old behavior, exclude the relevant entries before the concat operation.\n",
      "  newdf = pd.concat([newdf,entry])\n",
      "C:\\Users\\Domin\\AppData\\Local\\Temp\\ipykernel_54184\\3618462886.py:18: FutureWarning: The behavior of DataFrame concatenation with empty or all-NA entries is deprecated. In a future version, this will no longer exclude empty or all-NA columns when determining the result dtypes. To retain the old behavior, exclude the relevant entries before the concat operation.\n",
      "  newdf = pd.concat([newdf,entry])\n"
     ]
    },
    {
     "name": "stdout",
     "output_type": "stream",
     "text": [
      "calculating features for : ./Data/RawGazeData/11_Reading.csv\n",
      "activity: Reading\n"
     ]
    },
    {
     "name": "stderr",
     "output_type": "stream",
     "text": [
      "C:\\Users\\Domin\\AppData\\Local\\Temp\\ipykernel_54184\\3618462886.py:18: FutureWarning: The behavior of DataFrame concatenation with empty or all-NA entries is deprecated. In a future version, this will no longer exclude empty or all-NA columns when determining the result dtypes. To retain the old behavior, exclude the relevant entries before the concat operation.\n",
      "  newdf = pd.concat([newdf,entry])\n",
      "C:\\Users\\Domin\\AppData\\Local\\Temp\\ipykernel_54184\\3618462886.py:18: FutureWarning: The behavior of DataFrame concatenation with empty or all-NA entries is deprecated. In a future version, this will no longer exclude empty or all-NA columns when determining the result dtypes. To retain the old behavior, exclude the relevant entries before the concat operation.\n",
      "  newdf = pd.concat([newdf,entry])\n",
      "C:\\Users\\Domin\\AppData\\Local\\Temp\\ipykernel_54184\\3618462886.py:18: FutureWarning: The behavior of DataFrame concatenation with empty or all-NA entries is deprecated. In a future version, this will no longer exclude empty or all-NA columns when determining the result dtypes. To retain the old behavior, exclude the relevant entries before the concat operation.\n",
      "  newdf = pd.concat([newdf,entry])\n",
      "C:\\Users\\Domin\\AppData\\Local\\Temp\\ipykernel_54184\\3618462886.py:18: FutureWarning: The behavior of DataFrame concatenation with empty or all-NA entries is deprecated. In a future version, this will no longer exclude empty or all-NA columns when determining the result dtypes. To retain the old behavior, exclude the relevant entries before the concat operation.\n",
      "  newdf = pd.concat([newdf,entry])\n"
     ]
    },
    {
     "name": "stdout",
     "output_type": "stream",
     "text": [
      "calculating features for : ./Data/RawGazeData/11_Search.csv\n",
      "activity: Search\n"
     ]
    },
    {
     "name": "stderr",
     "output_type": "stream",
     "text": [
      "C:\\Users\\Domin\\AppData\\Local\\Temp\\ipykernel_54184\\3618462886.py:18: FutureWarning: The behavior of DataFrame concatenation with empty or all-NA entries is deprecated. In a future version, this will no longer exclude empty or all-NA columns when determining the result dtypes. To retain the old behavior, exclude the relevant entries before the concat operation.\n",
      "  newdf = pd.concat([newdf,entry])\n",
      "C:\\Users\\Domin\\AppData\\Local\\Temp\\ipykernel_54184\\3618462886.py:18: FutureWarning: The behavior of DataFrame concatenation with empty or all-NA entries is deprecated. In a future version, this will no longer exclude empty or all-NA columns when determining the result dtypes. To retain the old behavior, exclude the relevant entries before the concat operation.\n",
      "  newdf = pd.concat([newdf,entry])\n",
      "C:\\Users\\Domin\\AppData\\Local\\Temp\\ipykernel_54184\\3618462886.py:18: FutureWarning: The behavior of DataFrame concatenation with empty or all-NA entries is deprecated. In a future version, this will no longer exclude empty or all-NA columns when determining the result dtypes. To retain the old behavior, exclude the relevant entries before the concat operation.\n",
      "  newdf = pd.concat([newdf,entry])\n",
      "C:\\Users\\Domin\\AppData\\Local\\Temp\\ipykernel_54184\\3618462886.py:18: FutureWarning: The behavior of DataFrame concatenation with empty or all-NA entries is deprecated. In a future version, this will no longer exclude empty or all-NA columns when determining the result dtypes. To retain the old behavior, exclude the relevant entries before the concat operation.\n",
      "  newdf = pd.concat([newdf,entry])\n"
     ]
    },
    {
     "name": "stdout",
     "output_type": "stream",
     "text": [
      "calculating features for : ./Data/RawGazeData/12_Inspection.csv\n",
      "activity: Inspection\n"
     ]
    },
    {
     "name": "stderr",
     "output_type": "stream",
     "text": [
      "C:\\Users\\Domin\\AppData\\Local\\Temp\\ipykernel_54184\\3618462886.py:18: FutureWarning: The behavior of DataFrame concatenation with empty or all-NA entries is deprecated. In a future version, this will no longer exclude empty or all-NA columns when determining the result dtypes. To retain the old behavior, exclude the relevant entries before the concat operation.\n",
      "  newdf = pd.concat([newdf,entry])\n",
      "C:\\Users\\Domin\\AppData\\Local\\Temp\\ipykernel_54184\\3618462886.py:18: FutureWarning: The behavior of DataFrame concatenation with empty or all-NA entries is deprecated. In a future version, this will no longer exclude empty or all-NA columns when determining the result dtypes. To retain the old behavior, exclude the relevant entries before the concat operation.\n",
      "  newdf = pd.concat([newdf,entry])\n",
      "C:\\Users\\Domin\\AppData\\Local\\Temp\\ipykernel_54184\\3618462886.py:18: FutureWarning: The behavior of DataFrame concatenation with empty or all-NA entries is deprecated. In a future version, this will no longer exclude empty or all-NA columns when determining the result dtypes. To retain the old behavior, exclude the relevant entries before the concat operation.\n",
      "  newdf = pd.concat([newdf,entry])\n",
      "C:\\Users\\Domin\\AppData\\Local\\Temp\\ipykernel_54184\\3618462886.py:18: FutureWarning: The behavior of DataFrame concatenation with empty or all-NA entries is deprecated. In a future version, this will no longer exclude empty or all-NA columns when determining the result dtypes. To retain the old behavior, exclude the relevant entries before the concat operation.\n",
      "  newdf = pd.concat([newdf,entry])\n"
     ]
    },
    {
     "name": "stdout",
     "output_type": "stream",
     "text": [
      "calculating features for : ./Data/RawGazeData/12_Reading.csv\n",
      "activity: Reading\n"
     ]
    },
    {
     "name": "stderr",
     "output_type": "stream",
     "text": [
      "C:\\Users\\Domin\\AppData\\Local\\Temp\\ipykernel_54184\\3618462886.py:18: FutureWarning: The behavior of DataFrame concatenation with empty or all-NA entries is deprecated. In a future version, this will no longer exclude empty or all-NA columns when determining the result dtypes. To retain the old behavior, exclude the relevant entries before the concat operation.\n",
      "  newdf = pd.concat([newdf,entry])\n",
      "C:\\Users\\Domin\\AppData\\Local\\Temp\\ipykernel_54184\\3618462886.py:18: FutureWarning: The behavior of DataFrame concatenation with empty or all-NA entries is deprecated. In a future version, this will no longer exclude empty or all-NA columns when determining the result dtypes. To retain the old behavior, exclude the relevant entries before the concat operation.\n",
      "  newdf = pd.concat([newdf,entry])\n",
      "C:\\Users\\Domin\\AppData\\Local\\Temp\\ipykernel_54184\\3618462886.py:18: FutureWarning: The behavior of DataFrame concatenation with empty or all-NA entries is deprecated. In a future version, this will no longer exclude empty or all-NA columns when determining the result dtypes. To retain the old behavior, exclude the relevant entries before the concat operation.\n",
      "  newdf = pd.concat([newdf,entry])\n",
      "C:\\Users\\Domin\\AppData\\Local\\Temp\\ipykernel_54184\\3618462886.py:18: FutureWarning: The behavior of DataFrame concatenation with empty or all-NA entries is deprecated. In a future version, this will no longer exclude empty or all-NA columns when determining the result dtypes. To retain the old behavior, exclude the relevant entries before the concat operation.\n",
      "  newdf = pd.concat([newdf,entry])\n"
     ]
    },
    {
     "name": "stdout",
     "output_type": "stream",
     "text": [
      "calculating features for : ./Data/RawGazeData/12_Search.csv\n",
      "activity: Search\n"
     ]
    },
    {
     "name": "stderr",
     "output_type": "stream",
     "text": [
      "C:\\Users\\Domin\\AppData\\Local\\Temp\\ipykernel_54184\\3618462886.py:18: FutureWarning: The behavior of DataFrame concatenation with empty or all-NA entries is deprecated. In a future version, this will no longer exclude empty or all-NA columns when determining the result dtypes. To retain the old behavior, exclude the relevant entries before the concat operation.\n",
      "  newdf = pd.concat([newdf,entry])\n",
      "C:\\Users\\Domin\\AppData\\Local\\Temp\\ipykernel_54184\\3618462886.py:18: FutureWarning: The behavior of DataFrame concatenation with empty or all-NA entries is deprecated. In a future version, this will no longer exclude empty or all-NA columns when determining the result dtypes. To retain the old behavior, exclude the relevant entries before the concat operation.\n",
      "  newdf = pd.concat([newdf,entry])\n",
      "C:\\Users\\Domin\\AppData\\Local\\Temp\\ipykernel_54184\\3618462886.py:18: FutureWarning: The behavior of DataFrame concatenation with empty or all-NA entries is deprecated. In a future version, this will no longer exclude empty or all-NA columns when determining the result dtypes. To retain the old behavior, exclude the relevant entries before the concat operation.\n",
      "  newdf = pd.concat([newdf,entry])\n"
     ]
    },
    {
     "name": "stdout",
     "output_type": "stream",
     "text": [
      "calculating features for : ./Data/RawGazeData/13_Inspection.csv\n",
      "activity: Inspection\n"
     ]
    },
    {
     "name": "stderr",
     "output_type": "stream",
     "text": [
      "C:\\Users\\Domin\\AppData\\Local\\Temp\\ipykernel_54184\\3618462886.py:18: FutureWarning: The behavior of DataFrame concatenation with empty or all-NA entries is deprecated. In a future version, this will no longer exclude empty or all-NA columns when determining the result dtypes. To retain the old behavior, exclude the relevant entries before the concat operation.\n",
      "  newdf = pd.concat([newdf,entry])\n",
      "C:\\Users\\Domin\\AppData\\Local\\Temp\\ipykernel_54184\\3618462886.py:18: FutureWarning: The behavior of DataFrame concatenation with empty or all-NA entries is deprecated. In a future version, this will no longer exclude empty or all-NA columns when determining the result dtypes. To retain the old behavior, exclude the relevant entries before the concat operation.\n",
      "  newdf = pd.concat([newdf,entry])\n",
      "C:\\Users\\Domin\\AppData\\Local\\Temp\\ipykernel_54184\\3618462886.py:18: FutureWarning: The behavior of DataFrame concatenation with empty or all-NA entries is deprecated. In a future version, this will no longer exclude empty or all-NA columns when determining the result dtypes. To retain the old behavior, exclude the relevant entries before the concat operation.\n",
      "  newdf = pd.concat([newdf,entry])\n",
      "C:\\Users\\Domin\\AppData\\Local\\Temp\\ipykernel_54184\\3618462886.py:18: FutureWarning: The behavior of DataFrame concatenation with empty or all-NA entries is deprecated. In a future version, this will no longer exclude empty or all-NA columns when determining the result dtypes. To retain the old behavior, exclude the relevant entries before the concat operation.\n",
      "  newdf = pd.concat([newdf,entry])\n",
      "C:\\Users\\Domin\\AppData\\Local\\Temp\\ipykernel_54184\\3618462886.py:18: FutureWarning: The behavior of DataFrame concatenation with empty or all-NA entries is deprecated. In a future version, this will no longer exclude empty or all-NA columns when determining the result dtypes. To retain the old behavior, exclude the relevant entries before the concat operation.\n",
      "  newdf = pd.concat([newdf,entry])\n"
     ]
    },
    {
     "name": "stdout",
     "output_type": "stream",
     "text": [
      "calculating features for : ./Data/RawGazeData/13_Reading.csv\n",
      "activity: Reading\n"
     ]
    },
    {
     "name": "stderr",
     "output_type": "stream",
     "text": [
      "C:\\Users\\Domin\\AppData\\Local\\Temp\\ipykernel_54184\\3618462886.py:18: FutureWarning: The behavior of DataFrame concatenation with empty or all-NA entries is deprecated. In a future version, this will no longer exclude empty or all-NA columns when determining the result dtypes. To retain the old behavior, exclude the relevant entries before the concat operation.\n",
      "  newdf = pd.concat([newdf,entry])\n",
      "C:\\Users\\Domin\\AppData\\Local\\Temp\\ipykernel_54184\\3618462886.py:18: FutureWarning: The behavior of DataFrame concatenation with empty or all-NA entries is deprecated. In a future version, this will no longer exclude empty or all-NA columns when determining the result dtypes. To retain the old behavior, exclude the relevant entries before the concat operation.\n",
      "  newdf = pd.concat([newdf,entry])\n",
      "C:\\Users\\Domin\\AppData\\Local\\Temp\\ipykernel_54184\\3618462886.py:18: FutureWarning: The behavior of DataFrame concatenation with empty or all-NA entries is deprecated. In a future version, this will no longer exclude empty or all-NA columns when determining the result dtypes. To retain the old behavior, exclude the relevant entries before the concat operation.\n",
      "  newdf = pd.concat([newdf,entry])\n",
      "C:\\Users\\Domin\\AppData\\Local\\Temp\\ipykernel_54184\\3618462886.py:18: FutureWarning: The behavior of DataFrame concatenation with empty or all-NA entries is deprecated. In a future version, this will no longer exclude empty or all-NA columns when determining the result dtypes. To retain the old behavior, exclude the relevant entries before the concat operation.\n",
      "  newdf = pd.concat([newdf,entry])\n"
     ]
    },
    {
     "name": "stdout",
     "output_type": "stream",
     "text": [
      "calculating features for : ./Data/RawGazeData/13_Search.csv\n",
      "activity: Search\n"
     ]
    },
    {
     "name": "stderr",
     "output_type": "stream",
     "text": [
      "C:\\Users\\Domin\\AppData\\Local\\Temp\\ipykernel_54184\\3618462886.py:18: FutureWarning: The behavior of DataFrame concatenation with empty or all-NA entries is deprecated. In a future version, this will no longer exclude empty or all-NA columns when determining the result dtypes. To retain the old behavior, exclude the relevant entries before the concat operation.\n",
      "  newdf = pd.concat([newdf,entry])\n",
      "C:\\Users\\Domin\\AppData\\Local\\Temp\\ipykernel_54184\\3618462886.py:18: FutureWarning: The behavior of DataFrame concatenation with empty or all-NA entries is deprecated. In a future version, this will no longer exclude empty or all-NA columns when determining the result dtypes. To retain the old behavior, exclude the relevant entries before the concat operation.\n",
      "  newdf = pd.concat([newdf,entry])\n",
      "C:\\Users\\Domin\\AppData\\Local\\Temp\\ipykernel_54184\\3618462886.py:18: FutureWarning: The behavior of DataFrame concatenation with empty or all-NA entries is deprecated. In a future version, this will no longer exclude empty or all-NA columns when determining the result dtypes. To retain the old behavior, exclude the relevant entries before the concat operation.\n",
      "  newdf = pd.concat([newdf,entry])\n",
      "C:\\Users\\Domin\\AppData\\Local\\Temp\\ipykernel_54184\\3618462886.py:18: FutureWarning: The behavior of DataFrame concatenation with empty or all-NA entries is deprecated. In a future version, this will no longer exclude empty or all-NA columns when determining the result dtypes. To retain the old behavior, exclude the relevant entries before the concat operation.\n",
      "  newdf = pd.concat([newdf,entry])\n"
     ]
    },
    {
     "name": "stdout",
     "output_type": "stream",
     "text": [
      "calculating features for : ./Data/RawGazeData/14_Inspection.csv\n",
      "activity: Inspection\n"
     ]
    },
    {
     "name": "stderr",
     "output_type": "stream",
     "text": [
      "C:\\Users\\Domin\\AppData\\Local\\Temp\\ipykernel_54184\\3618462886.py:18: FutureWarning: The behavior of DataFrame concatenation with empty or all-NA entries is deprecated. In a future version, this will no longer exclude empty or all-NA columns when determining the result dtypes. To retain the old behavior, exclude the relevant entries before the concat operation.\n",
      "  newdf = pd.concat([newdf,entry])\n",
      "C:\\Users\\Domin\\AppData\\Local\\Temp\\ipykernel_54184\\3618462886.py:18: FutureWarning: The behavior of DataFrame concatenation with empty or all-NA entries is deprecated. In a future version, this will no longer exclude empty or all-NA columns when determining the result dtypes. To retain the old behavior, exclude the relevant entries before the concat operation.\n",
      "  newdf = pd.concat([newdf,entry])\n",
      "C:\\Users\\Domin\\AppData\\Local\\Temp\\ipykernel_54184\\3618462886.py:18: FutureWarning: The behavior of DataFrame concatenation with empty or all-NA entries is deprecated. In a future version, this will no longer exclude empty or all-NA columns when determining the result dtypes. To retain the old behavior, exclude the relevant entries before the concat operation.\n",
      "  newdf = pd.concat([newdf,entry])\n",
      "C:\\Users\\Domin\\AppData\\Local\\Temp\\ipykernel_54184\\3618462886.py:18: FutureWarning: The behavior of DataFrame concatenation with empty or all-NA entries is deprecated. In a future version, this will no longer exclude empty or all-NA columns when determining the result dtypes. To retain the old behavior, exclude the relevant entries before the concat operation.\n",
      "  newdf = pd.concat([newdf,entry])\n"
     ]
    },
    {
     "name": "stdout",
     "output_type": "stream",
     "text": [
      "calculating features for : ./Data/RawGazeData/14_Reading.csv\n",
      "activity: Reading\n"
     ]
    },
    {
     "name": "stderr",
     "output_type": "stream",
     "text": [
      "C:\\Users\\Domin\\AppData\\Local\\Temp\\ipykernel_54184\\3618462886.py:18: FutureWarning: The behavior of DataFrame concatenation with empty or all-NA entries is deprecated. In a future version, this will no longer exclude empty or all-NA columns when determining the result dtypes. To retain the old behavior, exclude the relevant entries before the concat operation.\n",
      "  newdf = pd.concat([newdf,entry])\n",
      "C:\\Users\\Domin\\AppData\\Local\\Temp\\ipykernel_54184\\3618462886.py:18: FutureWarning: The behavior of DataFrame concatenation with empty or all-NA entries is deprecated. In a future version, this will no longer exclude empty or all-NA columns when determining the result dtypes. To retain the old behavior, exclude the relevant entries before the concat operation.\n",
      "  newdf = pd.concat([newdf,entry])\n",
      "C:\\Users\\Domin\\AppData\\Local\\Temp\\ipykernel_54184\\3618462886.py:18: FutureWarning: The behavior of DataFrame concatenation with empty or all-NA entries is deprecated. In a future version, this will no longer exclude empty or all-NA columns when determining the result dtypes. To retain the old behavior, exclude the relevant entries before the concat operation.\n",
      "  newdf = pd.concat([newdf,entry])\n",
      "C:\\Users\\Domin\\AppData\\Local\\Temp\\ipykernel_54184\\3618462886.py:18: FutureWarning: The behavior of DataFrame concatenation with empty or all-NA entries is deprecated. In a future version, this will no longer exclude empty or all-NA columns when determining the result dtypes. To retain the old behavior, exclude the relevant entries before the concat operation.\n",
      "  newdf = pd.concat([newdf,entry])\n"
     ]
    },
    {
     "name": "stdout",
     "output_type": "stream",
     "text": [
      "calculating features for : ./Data/RawGazeData/14_Search.csv\n",
      "activity: Search\n"
     ]
    },
    {
     "name": "stderr",
     "output_type": "stream",
     "text": [
      "C:\\Users\\Domin\\AppData\\Local\\Temp\\ipykernel_54184\\3618462886.py:18: FutureWarning: The behavior of DataFrame concatenation with empty or all-NA entries is deprecated. In a future version, this will no longer exclude empty or all-NA columns when determining the result dtypes. To retain the old behavior, exclude the relevant entries before the concat operation.\n",
      "  newdf = pd.concat([newdf,entry])\n",
      "C:\\Users\\Domin\\AppData\\Local\\Temp\\ipykernel_54184\\3618462886.py:18: FutureWarning: The behavior of DataFrame concatenation with empty or all-NA entries is deprecated. In a future version, this will no longer exclude empty or all-NA columns when determining the result dtypes. To retain the old behavior, exclude the relevant entries before the concat operation.\n",
      "  newdf = pd.concat([newdf,entry])\n",
      "C:\\Users\\Domin\\AppData\\Local\\Temp\\ipykernel_54184\\3618462886.py:18: FutureWarning: The behavior of DataFrame concatenation with empty or all-NA entries is deprecated. In a future version, this will no longer exclude empty or all-NA columns when determining the result dtypes. To retain the old behavior, exclude the relevant entries before the concat operation.\n",
      "  newdf = pd.concat([newdf,entry])\n",
      "C:\\Users\\Domin\\AppData\\Local\\Temp\\ipykernel_54184\\3618462886.py:18: FutureWarning: The behavior of DataFrame concatenation with empty or all-NA entries is deprecated. In a future version, this will no longer exclude empty or all-NA columns when determining the result dtypes. To retain the old behavior, exclude the relevant entries before the concat operation.\n",
      "  newdf = pd.concat([newdf,entry])\n"
     ]
    },
    {
     "name": "stdout",
     "output_type": "stream",
     "text": [
      "calculating features for : ./Data/RawGazeData/15_Inspection.csv\n",
      "activity: Inspection\n"
     ]
    },
    {
     "name": "stderr",
     "output_type": "stream",
     "text": [
      "C:\\Users\\Domin\\AppData\\Local\\Temp\\ipykernel_54184\\3618462886.py:18: FutureWarning: The behavior of DataFrame concatenation with empty or all-NA entries is deprecated. In a future version, this will no longer exclude empty or all-NA columns when determining the result dtypes. To retain the old behavior, exclude the relevant entries before the concat operation.\n",
      "  newdf = pd.concat([newdf,entry])\n",
      "C:\\Users\\Domin\\AppData\\Local\\Temp\\ipykernel_54184\\3618462886.py:18: FutureWarning: The behavior of DataFrame concatenation with empty or all-NA entries is deprecated. In a future version, this will no longer exclude empty or all-NA columns when determining the result dtypes. To retain the old behavior, exclude the relevant entries before the concat operation.\n",
      "  newdf = pd.concat([newdf,entry])\n",
      "C:\\Users\\Domin\\AppData\\Local\\Temp\\ipykernel_54184\\3618462886.py:18: FutureWarning: The behavior of DataFrame concatenation with empty or all-NA entries is deprecated. In a future version, this will no longer exclude empty or all-NA columns when determining the result dtypes. To retain the old behavior, exclude the relevant entries before the concat operation.\n",
      "  newdf = pd.concat([newdf,entry])\n",
      "C:\\Users\\Domin\\AppData\\Local\\Temp\\ipykernel_54184\\3618462886.py:18: FutureWarning: The behavior of DataFrame concatenation with empty or all-NA entries is deprecated. In a future version, this will no longer exclude empty or all-NA columns when determining the result dtypes. To retain the old behavior, exclude the relevant entries before the concat operation.\n",
      "  newdf = pd.concat([newdf,entry])\n"
     ]
    },
    {
     "name": "stdout",
     "output_type": "stream",
     "text": [
      "calculating features for : ./Data/RawGazeData/15_Reading.csv\n",
      "activity: Reading\n"
     ]
    },
    {
     "name": "stderr",
     "output_type": "stream",
     "text": [
      "C:\\Users\\Domin\\AppData\\Local\\Temp\\ipykernel_54184\\3618462886.py:18: FutureWarning: The behavior of DataFrame concatenation with empty or all-NA entries is deprecated. In a future version, this will no longer exclude empty or all-NA columns when determining the result dtypes. To retain the old behavior, exclude the relevant entries before the concat operation.\n",
      "  newdf = pd.concat([newdf,entry])\n",
      "C:\\Users\\Domin\\AppData\\Local\\Temp\\ipykernel_54184\\3618462886.py:18: FutureWarning: The behavior of DataFrame concatenation with empty or all-NA entries is deprecated. In a future version, this will no longer exclude empty or all-NA columns when determining the result dtypes. To retain the old behavior, exclude the relevant entries before the concat operation.\n",
      "  newdf = pd.concat([newdf,entry])\n",
      "C:\\Users\\Domin\\AppData\\Local\\Temp\\ipykernel_54184\\3618462886.py:18: FutureWarning: The behavior of DataFrame concatenation with empty or all-NA entries is deprecated. In a future version, this will no longer exclude empty or all-NA columns when determining the result dtypes. To retain the old behavior, exclude the relevant entries before the concat operation.\n",
      "  newdf = pd.concat([newdf,entry])\n",
      "C:\\Users\\Domin\\AppData\\Local\\Temp\\ipykernel_54184\\3618462886.py:18: FutureWarning: The behavior of DataFrame concatenation with empty or all-NA entries is deprecated. In a future version, this will no longer exclude empty or all-NA columns when determining the result dtypes. To retain the old behavior, exclude the relevant entries before the concat operation.\n",
      "  newdf = pd.concat([newdf,entry])\n"
     ]
    },
    {
     "name": "stdout",
     "output_type": "stream",
     "text": [
      "calculating features for : ./Data/RawGazeData/15_Search.csv\n",
      "activity: Search\n"
     ]
    },
    {
     "name": "stderr",
     "output_type": "stream",
     "text": [
      "C:\\Users\\Domin\\AppData\\Local\\Temp\\ipykernel_54184\\3618462886.py:18: FutureWarning: The behavior of DataFrame concatenation with empty or all-NA entries is deprecated. In a future version, this will no longer exclude empty or all-NA columns when determining the result dtypes. To retain the old behavior, exclude the relevant entries before the concat operation.\n",
      "  newdf = pd.concat([newdf,entry])\n",
      "C:\\Users\\Domin\\AppData\\Local\\Temp\\ipykernel_54184\\3618462886.py:18: FutureWarning: The behavior of DataFrame concatenation with empty or all-NA entries is deprecated. In a future version, this will no longer exclude empty or all-NA columns when determining the result dtypes. To retain the old behavior, exclude the relevant entries before the concat operation.\n",
      "  newdf = pd.concat([newdf,entry])\n",
      "C:\\Users\\Domin\\AppData\\Local\\Temp\\ipykernel_54184\\3618462886.py:18: FutureWarning: The behavior of DataFrame concatenation with empty or all-NA entries is deprecated. In a future version, this will no longer exclude empty or all-NA columns when determining the result dtypes. To retain the old behavior, exclude the relevant entries before the concat operation.\n",
      "  newdf = pd.concat([newdf,entry])\n",
      "C:\\Users\\Domin\\AppData\\Local\\Temp\\ipykernel_54184\\3618462886.py:18: FutureWarning: The behavior of DataFrame concatenation with empty or all-NA entries is deprecated. In a future version, this will no longer exclude empty or all-NA columns when determining the result dtypes. To retain the old behavior, exclude the relevant entries before the concat operation.\n",
      "  newdf = pd.concat([newdf,entry])\n"
     ]
    },
    {
     "name": "stdout",
     "output_type": "stream",
     "text": [
      "calculating features for : ./Data/RawGazeData/16_Inspection.csv\n",
      "activity: Inspection\n"
     ]
    },
    {
     "name": "stderr",
     "output_type": "stream",
     "text": [
      "C:\\Users\\Domin\\AppData\\Local\\Temp\\ipykernel_54184\\3618462886.py:18: FutureWarning: The behavior of DataFrame concatenation with empty or all-NA entries is deprecated. In a future version, this will no longer exclude empty or all-NA columns when determining the result dtypes. To retain the old behavior, exclude the relevant entries before the concat operation.\n",
      "  newdf = pd.concat([newdf,entry])\n",
      "C:\\Users\\Domin\\AppData\\Local\\Temp\\ipykernel_54184\\3618462886.py:18: FutureWarning: The behavior of DataFrame concatenation with empty or all-NA entries is deprecated. In a future version, this will no longer exclude empty or all-NA columns when determining the result dtypes. To retain the old behavior, exclude the relevant entries before the concat operation.\n",
      "  newdf = pd.concat([newdf,entry])\n",
      "C:\\Users\\Domin\\AppData\\Local\\Temp\\ipykernel_54184\\3618462886.py:18: FutureWarning: The behavior of DataFrame concatenation with empty or all-NA entries is deprecated. In a future version, this will no longer exclude empty or all-NA columns when determining the result dtypes. To retain the old behavior, exclude the relevant entries before the concat operation.\n",
      "  newdf = pd.concat([newdf,entry])\n",
      "C:\\Users\\Domin\\AppData\\Local\\Temp\\ipykernel_54184\\3618462886.py:18: FutureWarning: The behavior of DataFrame concatenation with empty or all-NA entries is deprecated. In a future version, this will no longer exclude empty or all-NA columns when determining the result dtypes. To retain the old behavior, exclude the relevant entries before the concat operation.\n",
      "  newdf = pd.concat([newdf,entry])\n"
     ]
    },
    {
     "name": "stdout",
     "output_type": "stream",
     "text": [
      "calculating features for : ./Data/RawGazeData/16_Reading.csv\n",
      "activity: Reading\n"
     ]
    },
    {
     "name": "stderr",
     "output_type": "stream",
     "text": [
      "C:\\Users\\Domin\\AppData\\Local\\Temp\\ipykernel_54184\\3618462886.py:18: FutureWarning: The behavior of DataFrame concatenation with empty or all-NA entries is deprecated. In a future version, this will no longer exclude empty or all-NA columns when determining the result dtypes. To retain the old behavior, exclude the relevant entries before the concat operation.\n",
      "  newdf = pd.concat([newdf,entry])\n",
      "C:\\Users\\Domin\\AppData\\Local\\Temp\\ipykernel_54184\\3618462886.py:18: FutureWarning: The behavior of DataFrame concatenation with empty or all-NA entries is deprecated. In a future version, this will no longer exclude empty or all-NA columns when determining the result dtypes. To retain the old behavior, exclude the relevant entries before the concat operation.\n",
      "  newdf = pd.concat([newdf,entry])\n",
      "C:\\Users\\Domin\\AppData\\Local\\Temp\\ipykernel_54184\\3618462886.py:18: FutureWarning: The behavior of DataFrame concatenation with empty or all-NA entries is deprecated. In a future version, this will no longer exclude empty or all-NA columns when determining the result dtypes. To retain the old behavior, exclude the relevant entries before the concat operation.\n",
      "  newdf = pd.concat([newdf,entry])\n",
      "C:\\Users\\Domin\\AppData\\Local\\Temp\\ipykernel_54184\\3618462886.py:18: FutureWarning: The behavior of DataFrame concatenation with empty or all-NA entries is deprecated. In a future version, this will no longer exclude empty or all-NA columns when determining the result dtypes. To retain the old behavior, exclude the relevant entries before the concat operation.\n",
      "  newdf = pd.concat([newdf,entry])\n"
     ]
    },
    {
     "name": "stdout",
     "output_type": "stream",
     "text": [
      "calculating features for : ./Data/RawGazeData/16_Search.csv\n",
      "activity: Search\n"
     ]
    },
    {
     "name": "stderr",
     "output_type": "stream",
     "text": [
      "C:\\Users\\Domin\\AppData\\Local\\Temp\\ipykernel_54184\\3618462886.py:18: FutureWarning: The behavior of DataFrame concatenation with empty or all-NA entries is deprecated. In a future version, this will no longer exclude empty or all-NA columns when determining the result dtypes. To retain the old behavior, exclude the relevant entries before the concat operation.\n",
      "  newdf = pd.concat([newdf,entry])\n",
      "C:\\Users\\Domin\\AppData\\Local\\Temp\\ipykernel_54184\\3618462886.py:18: FutureWarning: The behavior of DataFrame concatenation with empty or all-NA entries is deprecated. In a future version, this will no longer exclude empty or all-NA columns when determining the result dtypes. To retain the old behavior, exclude the relevant entries before the concat operation.\n",
      "  newdf = pd.concat([newdf,entry])\n",
      "C:\\Users\\Domin\\AppData\\Local\\Temp\\ipykernel_54184\\3618462886.py:18: FutureWarning: The behavior of DataFrame concatenation with empty or all-NA entries is deprecated. In a future version, this will no longer exclude empty or all-NA columns when determining the result dtypes. To retain the old behavior, exclude the relevant entries before the concat operation.\n",
      "  newdf = pd.concat([newdf,entry])\n",
      "C:\\Users\\Domin\\AppData\\Local\\Temp\\ipykernel_54184\\3618462886.py:18: FutureWarning: The behavior of DataFrame concatenation with empty or all-NA entries is deprecated. In a future version, this will no longer exclude empty or all-NA columns when determining the result dtypes. To retain the old behavior, exclude the relevant entries before the concat operation.\n",
      "  newdf = pd.concat([newdf,entry])\n"
     ]
    },
    {
     "name": "stdout",
     "output_type": "stream",
     "text": [
      "calculating features for : ./Data/RawGazeData/17_Inspection.csv\n",
      "activity: Inspection\n"
     ]
    },
    {
     "name": "stderr",
     "output_type": "stream",
     "text": [
      "C:\\Users\\Domin\\AppData\\Local\\Temp\\ipykernel_54184\\3618462886.py:18: FutureWarning: The behavior of DataFrame concatenation with empty or all-NA entries is deprecated. In a future version, this will no longer exclude empty or all-NA columns when determining the result dtypes. To retain the old behavior, exclude the relevant entries before the concat operation.\n",
      "  newdf = pd.concat([newdf,entry])\n",
      "C:\\Users\\Domin\\AppData\\Local\\Temp\\ipykernel_54184\\3618462886.py:18: FutureWarning: The behavior of DataFrame concatenation with empty or all-NA entries is deprecated. In a future version, this will no longer exclude empty or all-NA columns when determining the result dtypes. To retain the old behavior, exclude the relevant entries before the concat operation.\n",
      "  newdf = pd.concat([newdf,entry])\n",
      "C:\\Users\\Domin\\AppData\\Local\\Temp\\ipykernel_54184\\3618462886.py:18: FutureWarning: The behavior of DataFrame concatenation with empty or all-NA entries is deprecated. In a future version, this will no longer exclude empty or all-NA columns when determining the result dtypes. To retain the old behavior, exclude the relevant entries before the concat operation.\n",
      "  newdf = pd.concat([newdf,entry])\n",
      "C:\\Users\\Domin\\AppData\\Local\\Temp\\ipykernel_54184\\3618462886.py:18: FutureWarning: The behavior of DataFrame concatenation with empty or all-NA entries is deprecated. In a future version, this will no longer exclude empty or all-NA columns when determining the result dtypes. To retain the old behavior, exclude the relevant entries before the concat operation.\n",
      "  newdf = pd.concat([newdf,entry])\n"
     ]
    },
    {
     "name": "stdout",
     "output_type": "stream",
     "text": [
      "calculating features for : ./Data/RawGazeData/17_Reading.csv\n",
      "activity: Reading\n"
     ]
    },
    {
     "name": "stderr",
     "output_type": "stream",
     "text": [
      "C:\\Users\\Domin\\AppData\\Local\\Temp\\ipykernel_54184\\3618462886.py:18: FutureWarning: The behavior of DataFrame concatenation with empty or all-NA entries is deprecated. In a future version, this will no longer exclude empty or all-NA columns when determining the result dtypes. To retain the old behavior, exclude the relevant entries before the concat operation.\n",
      "  newdf = pd.concat([newdf,entry])\n",
      "C:\\Users\\Domin\\AppData\\Local\\Temp\\ipykernel_54184\\3618462886.py:18: FutureWarning: The behavior of DataFrame concatenation with empty or all-NA entries is deprecated. In a future version, this will no longer exclude empty or all-NA columns when determining the result dtypes. To retain the old behavior, exclude the relevant entries before the concat operation.\n",
      "  newdf = pd.concat([newdf,entry])\n",
      "C:\\Users\\Domin\\AppData\\Local\\Temp\\ipykernel_54184\\3618462886.py:18: FutureWarning: The behavior of DataFrame concatenation with empty or all-NA entries is deprecated. In a future version, this will no longer exclude empty or all-NA columns when determining the result dtypes. To retain the old behavior, exclude the relevant entries before the concat operation.\n",
      "  newdf = pd.concat([newdf,entry])\n",
      "C:\\Users\\Domin\\AppData\\Local\\Temp\\ipykernel_54184\\3618462886.py:18: FutureWarning: The behavior of DataFrame concatenation with empty or all-NA entries is deprecated. In a future version, this will no longer exclude empty or all-NA columns when determining the result dtypes. To retain the old behavior, exclude the relevant entries before the concat operation.\n",
      "  newdf = pd.concat([newdf,entry])\n"
     ]
    },
    {
     "name": "stdout",
     "output_type": "stream",
     "text": [
      "calculating features for : ./Data/RawGazeData/17_Search.csv\n",
      "activity: Search\n"
     ]
    },
    {
     "name": "stderr",
     "output_type": "stream",
     "text": [
      "C:\\Users\\Domin\\AppData\\Local\\Temp\\ipykernel_54184\\3618462886.py:18: FutureWarning: The behavior of DataFrame concatenation with empty or all-NA entries is deprecated. In a future version, this will no longer exclude empty or all-NA columns when determining the result dtypes. To retain the old behavior, exclude the relevant entries before the concat operation.\n",
      "  newdf = pd.concat([newdf,entry])\n",
      "C:\\Users\\Domin\\AppData\\Local\\Temp\\ipykernel_54184\\3618462886.py:18: FutureWarning: The behavior of DataFrame concatenation with empty or all-NA entries is deprecated. In a future version, this will no longer exclude empty or all-NA columns when determining the result dtypes. To retain the old behavior, exclude the relevant entries before the concat operation.\n",
      "  newdf = pd.concat([newdf,entry])\n",
      "C:\\Users\\Domin\\AppData\\Local\\Temp\\ipykernel_54184\\3618462886.py:18: FutureWarning: The behavior of DataFrame concatenation with empty or all-NA entries is deprecated. In a future version, this will no longer exclude empty or all-NA columns when determining the result dtypes. To retain the old behavior, exclude the relevant entries before the concat operation.\n",
      "  newdf = pd.concat([newdf,entry])\n",
      "C:\\Users\\Domin\\AppData\\Local\\Temp\\ipykernel_54184\\3618462886.py:18: FutureWarning: The behavior of DataFrame concatenation with empty or all-NA entries is deprecated. In a future version, this will no longer exclude empty or all-NA columns when determining the result dtypes. To retain the old behavior, exclude the relevant entries before the concat operation.\n",
      "  newdf = pd.concat([newdf,entry])\n"
     ]
    },
    {
     "name": "stdout",
     "output_type": "stream",
     "text": [
      "calculating features for : ./Data/RawGazeData/18_Inspection.csv\n",
      "activity: Inspection\n"
     ]
    },
    {
     "name": "stderr",
     "output_type": "stream",
     "text": [
      "C:\\Users\\Domin\\AppData\\Local\\Temp\\ipykernel_54184\\3618462886.py:18: FutureWarning: The behavior of DataFrame concatenation with empty or all-NA entries is deprecated. In a future version, this will no longer exclude empty or all-NA columns when determining the result dtypes. To retain the old behavior, exclude the relevant entries before the concat operation.\n",
      "  newdf = pd.concat([newdf,entry])\n",
      "C:\\Users\\Domin\\AppData\\Local\\Temp\\ipykernel_54184\\3618462886.py:18: FutureWarning: The behavior of DataFrame concatenation with empty or all-NA entries is deprecated. In a future version, this will no longer exclude empty or all-NA columns when determining the result dtypes. To retain the old behavior, exclude the relevant entries before the concat operation.\n",
      "  newdf = pd.concat([newdf,entry])\n",
      "C:\\Users\\Domin\\AppData\\Local\\Temp\\ipykernel_54184\\3618462886.py:18: FutureWarning: The behavior of DataFrame concatenation with empty or all-NA entries is deprecated. In a future version, this will no longer exclude empty or all-NA columns when determining the result dtypes. To retain the old behavior, exclude the relevant entries before the concat operation.\n",
      "  newdf = pd.concat([newdf,entry])\n",
      "C:\\Users\\Domin\\AppData\\Local\\Temp\\ipykernel_54184\\3618462886.py:18: FutureWarning: The behavior of DataFrame concatenation with empty or all-NA entries is deprecated. In a future version, this will no longer exclude empty or all-NA columns when determining the result dtypes. To retain the old behavior, exclude the relevant entries before the concat operation.\n",
      "  newdf = pd.concat([newdf,entry])\n"
     ]
    },
    {
     "name": "stdout",
     "output_type": "stream",
     "text": [
      "calculating features for : ./Data/RawGazeData/18_Reading.csv\n",
      "activity: Reading\n"
     ]
    },
    {
     "name": "stderr",
     "output_type": "stream",
     "text": [
      "C:\\Users\\Domin\\AppData\\Local\\Temp\\ipykernel_54184\\3618462886.py:18: FutureWarning: The behavior of DataFrame concatenation with empty or all-NA entries is deprecated. In a future version, this will no longer exclude empty or all-NA columns when determining the result dtypes. To retain the old behavior, exclude the relevant entries before the concat operation.\n",
      "  newdf = pd.concat([newdf,entry])\n",
      "C:\\Users\\Domin\\AppData\\Local\\Temp\\ipykernel_54184\\3618462886.py:18: FutureWarning: The behavior of DataFrame concatenation with empty or all-NA entries is deprecated. In a future version, this will no longer exclude empty or all-NA columns when determining the result dtypes. To retain the old behavior, exclude the relevant entries before the concat operation.\n",
      "  newdf = pd.concat([newdf,entry])\n",
      "C:\\Users\\Domin\\AppData\\Local\\Temp\\ipykernel_54184\\3618462886.py:18: FutureWarning: The behavior of DataFrame concatenation with empty or all-NA entries is deprecated. In a future version, this will no longer exclude empty or all-NA columns when determining the result dtypes. To retain the old behavior, exclude the relevant entries before the concat operation.\n",
      "  newdf = pd.concat([newdf,entry])\n",
      "C:\\Users\\Domin\\AppData\\Local\\Temp\\ipykernel_54184\\3618462886.py:18: FutureWarning: The behavior of DataFrame concatenation with empty or all-NA entries is deprecated. In a future version, this will no longer exclude empty or all-NA columns when determining the result dtypes. To retain the old behavior, exclude the relevant entries before the concat operation.\n",
      "  newdf = pd.concat([newdf,entry])\n"
     ]
    },
    {
     "name": "stdout",
     "output_type": "stream",
     "text": [
      "calculating features for : ./Data/RawGazeData/18_Search.csv\n",
      "activity: Search\n"
     ]
    },
    {
     "name": "stderr",
     "output_type": "stream",
     "text": [
      "C:\\Users\\Domin\\AppData\\Local\\Temp\\ipykernel_54184\\3618462886.py:18: FutureWarning: The behavior of DataFrame concatenation with empty or all-NA entries is deprecated. In a future version, this will no longer exclude empty or all-NA columns when determining the result dtypes. To retain the old behavior, exclude the relevant entries before the concat operation.\n",
      "  newdf = pd.concat([newdf,entry])\n",
      "C:\\Users\\Domin\\AppData\\Local\\Temp\\ipykernel_54184\\3618462886.py:18: FutureWarning: The behavior of DataFrame concatenation with empty or all-NA entries is deprecated. In a future version, this will no longer exclude empty or all-NA columns when determining the result dtypes. To retain the old behavior, exclude the relevant entries before the concat operation.\n",
      "  newdf = pd.concat([newdf,entry])\n",
      "C:\\Users\\Domin\\AppData\\Local\\Temp\\ipykernel_54184\\3618462886.py:18: FutureWarning: The behavior of DataFrame concatenation with empty or all-NA entries is deprecated. In a future version, this will no longer exclude empty or all-NA columns when determining the result dtypes. To retain the old behavior, exclude the relevant entries before the concat operation.\n",
      "  newdf = pd.concat([newdf,entry])\n",
      "C:\\Users\\Domin\\AppData\\Local\\Temp\\ipykernel_54184\\3618462886.py:18: FutureWarning: The behavior of DataFrame concatenation with empty or all-NA entries is deprecated. In a future version, this will no longer exclude empty or all-NA columns when determining the result dtypes. To retain the old behavior, exclude the relevant entries before the concat operation.\n",
      "  newdf = pd.concat([newdf,entry])\n"
     ]
    },
    {
     "name": "stdout",
     "output_type": "stream",
     "text": [
      "calculating features for : ./Data/RawGazeData/19_Inspection.csv\n",
      "activity: Inspection\n"
     ]
    },
    {
     "name": "stderr",
     "output_type": "stream",
     "text": [
      "C:\\Users\\Domin\\AppData\\Local\\Temp\\ipykernel_54184\\3618462886.py:18: FutureWarning: The behavior of DataFrame concatenation with empty or all-NA entries is deprecated. In a future version, this will no longer exclude empty or all-NA columns when determining the result dtypes. To retain the old behavior, exclude the relevant entries before the concat operation.\n",
      "  newdf = pd.concat([newdf,entry])\n",
      "C:\\Users\\Domin\\AppData\\Local\\Temp\\ipykernel_54184\\3618462886.py:18: FutureWarning: The behavior of DataFrame concatenation with empty or all-NA entries is deprecated. In a future version, this will no longer exclude empty or all-NA columns when determining the result dtypes. To retain the old behavior, exclude the relevant entries before the concat operation.\n",
      "  newdf = pd.concat([newdf,entry])\n",
      "C:\\Users\\Domin\\AppData\\Local\\Temp\\ipykernel_54184\\3618462886.py:18: FutureWarning: The behavior of DataFrame concatenation with empty or all-NA entries is deprecated. In a future version, this will no longer exclude empty or all-NA columns when determining the result dtypes. To retain the old behavior, exclude the relevant entries before the concat operation.\n",
      "  newdf = pd.concat([newdf,entry])\n",
      "C:\\Users\\Domin\\AppData\\Local\\Temp\\ipykernel_54184\\3618462886.py:18: FutureWarning: The behavior of DataFrame concatenation with empty or all-NA entries is deprecated. In a future version, this will no longer exclude empty or all-NA columns when determining the result dtypes. To retain the old behavior, exclude the relevant entries before the concat operation.\n",
      "  newdf = pd.concat([newdf,entry])\n"
     ]
    },
    {
     "name": "stdout",
     "output_type": "stream",
     "text": [
      "calculating features for : ./Data/RawGazeData/19_Reading.csv\n",
      "activity: Reading\n"
     ]
    },
    {
     "name": "stderr",
     "output_type": "stream",
     "text": [
      "C:\\Users\\Domin\\AppData\\Local\\Temp\\ipykernel_54184\\3618462886.py:18: FutureWarning: The behavior of DataFrame concatenation with empty or all-NA entries is deprecated. In a future version, this will no longer exclude empty or all-NA columns when determining the result dtypes. To retain the old behavior, exclude the relevant entries before the concat operation.\n",
      "  newdf = pd.concat([newdf,entry])\n",
      "C:\\Users\\Domin\\AppData\\Local\\Temp\\ipykernel_54184\\3618462886.py:18: FutureWarning: The behavior of DataFrame concatenation with empty or all-NA entries is deprecated. In a future version, this will no longer exclude empty or all-NA columns when determining the result dtypes. To retain the old behavior, exclude the relevant entries before the concat operation.\n",
      "  newdf = pd.concat([newdf,entry])\n",
      "C:\\Users\\Domin\\AppData\\Local\\Temp\\ipykernel_54184\\3618462886.py:18: FutureWarning: The behavior of DataFrame concatenation with empty or all-NA entries is deprecated. In a future version, this will no longer exclude empty or all-NA columns when determining the result dtypes. To retain the old behavior, exclude the relevant entries before the concat operation.\n",
      "  newdf = pd.concat([newdf,entry])\n",
      "C:\\Users\\Domin\\AppData\\Local\\Temp\\ipykernel_54184\\3618462886.py:18: FutureWarning: The behavior of DataFrame concatenation with empty or all-NA entries is deprecated. In a future version, this will no longer exclude empty or all-NA columns when determining the result dtypes. To retain the old behavior, exclude the relevant entries before the concat operation.\n",
      "  newdf = pd.concat([newdf,entry])\n"
     ]
    },
    {
     "name": "stdout",
     "output_type": "stream",
     "text": [
      "calculating features for : ./Data/RawGazeData/19_Search.csv\n",
      "activity: Search\n"
     ]
    },
    {
     "name": "stderr",
     "output_type": "stream",
     "text": [
      "C:\\Users\\Domin\\AppData\\Local\\Temp\\ipykernel_54184\\3618462886.py:18: FutureWarning: The behavior of DataFrame concatenation with empty or all-NA entries is deprecated. In a future version, this will no longer exclude empty or all-NA columns when determining the result dtypes. To retain the old behavior, exclude the relevant entries before the concat operation.\n",
      "  newdf = pd.concat([newdf,entry])\n",
      "C:\\Users\\Domin\\AppData\\Local\\Temp\\ipykernel_54184\\3618462886.py:18: FutureWarning: The behavior of DataFrame concatenation with empty or all-NA entries is deprecated. In a future version, this will no longer exclude empty or all-NA columns when determining the result dtypes. To retain the old behavior, exclude the relevant entries before the concat operation.\n",
      "  newdf = pd.concat([newdf,entry])\n",
      "C:\\Users\\Domin\\AppData\\Local\\Temp\\ipykernel_54184\\3618462886.py:18: FutureWarning: The behavior of DataFrame concatenation with empty or all-NA entries is deprecated. In a future version, this will no longer exclude empty or all-NA columns when determining the result dtypes. To retain the old behavior, exclude the relevant entries before the concat operation.\n",
      "  newdf = pd.concat([newdf,entry])\n",
      "C:\\Users\\Domin\\AppData\\Local\\Temp\\ipykernel_54184\\3618462886.py:18: FutureWarning: The behavior of DataFrame concatenation with empty or all-NA entries is deprecated. In a future version, this will no longer exclude empty or all-NA columns when determining the result dtypes. To retain the old behavior, exclude the relevant entries before the concat operation.\n",
      "  newdf = pd.concat([newdf,entry])\n"
     ]
    },
    {
     "name": "stdout",
     "output_type": "stream",
     "text": [
      "calculating features for : ./Data/RawGazeData/20_Inspection.csv\n",
      "activity: Inspection\n"
     ]
    },
    {
     "name": "stderr",
     "output_type": "stream",
     "text": [
      "C:\\Users\\Domin\\AppData\\Local\\Temp\\ipykernel_54184\\3618462886.py:18: FutureWarning: The behavior of DataFrame concatenation with empty or all-NA entries is deprecated. In a future version, this will no longer exclude empty or all-NA columns when determining the result dtypes. To retain the old behavior, exclude the relevant entries before the concat operation.\n",
      "  newdf = pd.concat([newdf,entry])\n",
      "C:\\Users\\Domin\\AppData\\Local\\Temp\\ipykernel_54184\\3618462886.py:18: FutureWarning: The behavior of DataFrame concatenation with empty or all-NA entries is deprecated. In a future version, this will no longer exclude empty or all-NA columns when determining the result dtypes. To retain the old behavior, exclude the relevant entries before the concat operation.\n",
      "  newdf = pd.concat([newdf,entry])\n",
      "C:\\Users\\Domin\\AppData\\Local\\Temp\\ipykernel_54184\\3618462886.py:18: FutureWarning: The behavior of DataFrame concatenation with empty or all-NA entries is deprecated. In a future version, this will no longer exclude empty or all-NA columns when determining the result dtypes. To retain the old behavior, exclude the relevant entries before the concat operation.\n",
      "  newdf = pd.concat([newdf,entry])\n",
      "C:\\Users\\Domin\\AppData\\Local\\Temp\\ipykernel_54184\\3618462886.py:18: FutureWarning: The behavior of DataFrame concatenation with empty or all-NA entries is deprecated. In a future version, this will no longer exclude empty or all-NA columns when determining the result dtypes. To retain the old behavior, exclude the relevant entries before the concat operation.\n",
      "  newdf = pd.concat([newdf,entry])\n"
     ]
    },
    {
     "name": "stdout",
     "output_type": "stream",
     "text": [
      "calculating features for : ./Data/RawGazeData/20_Reading.csv\n",
      "activity: Reading\n"
     ]
    },
    {
     "name": "stderr",
     "output_type": "stream",
     "text": [
      "C:\\Users\\Domin\\AppData\\Local\\Temp\\ipykernel_54184\\3618462886.py:18: FutureWarning: The behavior of DataFrame concatenation with empty or all-NA entries is deprecated. In a future version, this will no longer exclude empty or all-NA columns when determining the result dtypes. To retain the old behavior, exclude the relevant entries before the concat operation.\n",
      "  newdf = pd.concat([newdf,entry])\n",
      "C:\\Users\\Domin\\AppData\\Local\\Temp\\ipykernel_54184\\3618462886.py:18: FutureWarning: The behavior of DataFrame concatenation with empty or all-NA entries is deprecated. In a future version, this will no longer exclude empty or all-NA columns when determining the result dtypes. To retain the old behavior, exclude the relevant entries before the concat operation.\n",
      "  newdf = pd.concat([newdf,entry])\n",
      "C:\\Users\\Domin\\AppData\\Local\\Temp\\ipykernel_54184\\3618462886.py:18: FutureWarning: The behavior of DataFrame concatenation with empty or all-NA entries is deprecated. In a future version, this will no longer exclude empty or all-NA columns when determining the result dtypes. To retain the old behavior, exclude the relevant entries before the concat operation.\n",
      "  newdf = pd.concat([newdf,entry])\n",
      "C:\\Users\\Domin\\AppData\\Local\\Temp\\ipykernel_54184\\3618462886.py:18: FutureWarning: The behavior of DataFrame concatenation with empty or all-NA entries is deprecated. In a future version, this will no longer exclude empty or all-NA columns when determining the result dtypes. To retain the old behavior, exclude the relevant entries before the concat operation.\n",
      "  newdf = pd.concat([newdf,entry])\n"
     ]
    },
    {
     "name": "stdout",
     "output_type": "stream",
     "text": [
      "calculating features for : ./Data/RawGazeData/20_Search.csv\n",
      "activity: Search\n"
     ]
    },
    {
     "name": "stderr",
     "output_type": "stream",
     "text": [
      "C:\\Users\\Domin\\AppData\\Local\\Temp\\ipykernel_54184\\3618462886.py:18: FutureWarning: The behavior of DataFrame concatenation with empty or all-NA entries is deprecated. In a future version, this will no longer exclude empty or all-NA columns when determining the result dtypes. To retain the old behavior, exclude the relevant entries before the concat operation.\n",
      "  newdf = pd.concat([newdf,entry])\n",
      "C:\\Users\\Domin\\AppData\\Local\\Temp\\ipykernel_54184\\3618462886.py:18: FutureWarning: The behavior of DataFrame concatenation with empty or all-NA entries is deprecated. In a future version, this will no longer exclude empty or all-NA columns when determining the result dtypes. To retain the old behavior, exclude the relevant entries before the concat operation.\n",
      "  newdf = pd.concat([newdf,entry])\n"
     ]
    },
    {
     "name": "stdout",
     "output_type": "stream",
     "text": [
      "done.\n"
     ]
    },
    {
     "name": "stderr",
     "output_type": "stream",
     "text": [
      "C:\\Users\\Domin\\AppData\\Local\\Temp\\ipykernel_54184\\3618462886.py:18: FutureWarning: The behavior of DataFrame concatenation with empty or all-NA entries is deprecated. In a future version, this will no longer exclude empty or all-NA columns when determining the result dtypes. To retain the old behavior, exclude the relevant entries before the concat operation.\n",
      "  newdf = pd.concat([newdf,entry])\n"
     ]
    }
   ],
   "source": [
    "!pip install nbformat tabulate scikit-learn\n",
    "%run -i FeatureCalculation.ipynb"
   ]
  },
  {
   "attachments": {},
   "cell_type": "markdown",
   "id": "25237aa8",
   "metadata": {},
   "source": [
    "## Calculate the features and save them as csv\n",
    "See `FeaturesCalculation.ipynb`for more details."
   ]
  },
  {
   "cell_type": "code",
   "execution_count": 3,
   "id": "46c2ab4b",
   "metadata": {},
   "outputs": [],
   "source": [
    "def calculate_features_for_10s_chunk(newdf):\n",
    "    list_of_features = []\n",
    "    newdf_valid = only_valid_data(newdf)\n",
    "    if (len(newdf_valid) > 1):\n",
    "        df_fixations = get_fixation_df(newdf_valid)\n",
    "        features = calculate_fixation_features(df_fixations, 10)\n",
    "        blinks = calculate_blink_features(newdf,10)\n",
    "        directions = calculate_directions_of_list(df_fixations) \n",
    "        density = calculate_fixation_density(newdf_valid, df_fixations)\n",
    "        features.update(blinks)\n",
    "        features.update(directions)\n",
    "        features.update(density)\n",
    "        features[\"label\"] = \"\"\n",
    "        features[\"duration\"] = \"10\"\n",
    "        features[\"participant_id\"] = \"002\"            \n",
    "        list_of_features.append(features)  \n",
    "        flat_ls = [item for sublist in list_of_features for item in sublist]\n",
    "        feature_file_path = save_as_csv(list_of_features, \"001\", './OnlineFeatureFiles/')\n",
    "        return feature_file_path"
   ]
  },
  {
   "cell_type": "code",
   "execution_count": 4,
   "id": "c5b2bdbc",
   "metadata": {},
   "outputs": [],
   "source": [
    "def csv_to_features(gaze_data_file_path):\n",
    "    # continue only if the csv-file contains data\n",
    "    if os.stat(gaze_data_file_path).st_size != 0:\n",
    "        df = pd.read_csv(gaze_data_file_path)\n",
    "        feature_file_path = calculate_features_for_10s_chunk(df)\n",
    "        print(f\"Feature calculation done for: {gaze_data_file_path}\")\n",
    "        print(f\"Feature file path: {feature_file_path}\")\n",
    "        return feature_file_path\n",
    "    else:\n",
    "        print(f\"File {gaze_data_file_path} is empty!\")\n",
    "        return \"\"\n",
    "# csv_to_features(\"./HL2_DataCollection/2022_09_23-13_41_19-Alex01-Inspection02.csv\")\n",
    "# uncomment the line above to test the function with a local csv file"
   ]
  },
  {
   "attachments": {},
   "cell_type": "markdown",
   "id": "01e6fc90",
   "metadata": {},
   "source": [
    "## Run SVM notebook to make its function accessible here\n",
    "If you are not training on normalized data this make take a while."
   ]
  },
  {
   "cell_type": "code",
   "execution_count": 5,
   "id": "528de9d3",
   "metadata": {},
   "outputs": [
    {
     "name": "stdout",
     "output_type": "stream",
     "text": [
      "Requirement already satisfied: matplotlib in c:\\users\\domin\\miniconda3\\lib\\site-packages (3.10.6)\n",
      "Requirement already satisfied: contourpy>=1.0.1 in c:\\users\\domin\\miniconda3\\lib\\site-packages (from matplotlib) (1.3.3)\n",
      "Requirement already satisfied: cycler>=0.10 in c:\\users\\domin\\miniconda3\\lib\\site-packages (from matplotlib) (0.12.1)\n",
      "Requirement already satisfied: fonttools>=4.22.0 in c:\\users\\domin\\miniconda3\\lib\\site-packages (from matplotlib) (4.60.1)\n",
      "Requirement already satisfied: kiwisolver>=1.3.1 in c:\\users\\domin\\miniconda3\\lib\\site-packages (from matplotlib) (1.4.9)\n",
      "Requirement already satisfied: numpy>=1.23 in c:\\users\\domin\\miniconda3\\lib\\site-packages (from matplotlib) (2.3.3)\n",
      "Requirement already satisfied: packaging>=20.0 in c:\\users\\domin\\miniconda3\\lib\\site-packages (from matplotlib) (25.0)\n",
      "Requirement already satisfied: pillow>=8 in c:\\users\\domin\\miniconda3\\lib\\site-packages (from matplotlib) (11.3.0)\n",
      "Requirement already satisfied: pyparsing>=2.3.1 in c:\\users\\domin\\miniconda3\\lib\\site-packages (from matplotlib) (3.2.5)\n",
      "Requirement already satisfied: python-dateutil>=2.7 in c:\\users\\domin\\miniconda3\\lib\\site-packages (from matplotlib) (2.9.0.post0)\n",
      "Requirement already satisfied: six>=1.5 in c:\\users\\domin\\miniconda3\\lib\\site-packages (from python-dateutil>=2.7->matplotlib) (1.17.0)\n",
      "Requirement already satisfied: scikit-learn in c:\\users\\domin\\miniconda3\\lib\\site-packages (1.7.2)\n",
      "Requirement already satisfied: xgboost in c:\\users\\domin\\miniconda3\\lib\\site-packages (3.0.5)\n",
      "Requirement already satisfied: pandas in c:\\users\\domin\\miniconda3\\lib\\site-packages (2.3.3)\n",
      "Requirement already satisfied: matplotlib in c:\\users\\domin\\miniconda3\\lib\\site-packages (3.10.6)\n",
      "Requirement already satisfied: numpy>=1.22.0 in c:\\users\\domin\\miniconda3\\lib\\site-packages (from scikit-learn) (2.3.3)\n",
      "Requirement already satisfied: scipy>=1.8.0 in c:\\users\\domin\\miniconda3\\lib\\site-packages (from scikit-learn) (1.16.2)\n",
      "Requirement already satisfied: joblib>=1.2.0 in c:\\users\\domin\\miniconda3\\lib\\site-packages (from scikit-learn) (1.5.2)\n",
      "Requirement already satisfied: threadpoolctl>=3.1.0 in c:\\users\\domin\\miniconda3\\lib\\site-packages (from scikit-learn) (3.6.0)\n",
      "Requirement already satisfied: python-dateutil>=2.8.2 in c:\\users\\domin\\miniconda3\\lib\\site-packages (from pandas) (2.9.0.post0)\n",
      "Requirement already satisfied: pytz>=2020.1 in c:\\users\\domin\\miniconda3\\lib\\site-packages (from pandas) (2025.2)\n",
      "Requirement already satisfied: tzdata>=2022.7 in c:\\users\\domin\\miniconda3\\lib\\site-packages (from pandas) (2025.2)\n",
      "Requirement already satisfied: contourpy>=1.0.1 in c:\\users\\domin\\miniconda3\\lib\\site-packages (from matplotlib) (1.3.3)\n",
      "Requirement already satisfied: cycler>=0.10 in c:\\users\\domin\\miniconda3\\lib\\site-packages (from matplotlib) (0.12.1)\n",
      "Requirement already satisfied: fonttools>=4.22.0 in c:\\users\\domin\\miniconda3\\lib\\site-packages (from matplotlib) (4.60.1)\n",
      "Requirement already satisfied: kiwisolver>=1.3.1 in c:\\users\\domin\\miniconda3\\lib\\site-packages (from matplotlib) (1.4.9)\n",
      "Requirement already satisfied: packaging>=20.0 in c:\\users\\domin\\miniconda3\\lib\\site-packages (from matplotlib) (25.0)\n",
      "Requirement already satisfied: pillow>=8 in c:\\users\\domin\\miniconda3\\lib\\site-packages (from matplotlib) (11.3.0)\n",
      "Requirement already satisfied: pyparsing>=2.3.1 in c:\\users\\domin\\miniconda3\\lib\\site-packages (from matplotlib) (3.2.5)\n",
      "Requirement already satisfied: six>=1.5 in c:\\users\\domin\\miniconda3\\lib\\site-packages (from python-dateutil>=2.8.2->pandas) (1.17.0)\n",
      "Starting hyperparameter tuning for XGBoost...\n",
      "Fitting 5 folds for each of 27 candidates, totalling 135 fits\n",
      "[CV] END ...learning_rate=0.05, max_depth=3, n_estimators=50; total time=   0.0s\n",
      "[CV] END ...learning_rate=0.05, max_depth=3, n_estimators=50; total time=   0.0s\n"
     ]
    },
    {
     "name": "stderr",
     "output_type": "stream",
     "text": [
      "c:\\Users\\Domin\\miniconda3\\Lib\\site-packages\\xgboost\\training.py:183: UserWarning: [10:01:08] WARNING: C:\\actions-runner\\_work\\xgboost\\xgboost\\src\\learner.cc:738: \n",
      "Parameters: { \"use_label_encoder\" } are not used.\n",
      "\n",
      "  bst.update(dtrain, iteration=i, fobj=obj)\n",
      "c:\\Users\\Domin\\miniconda3\\Lib\\site-packages\\xgboost\\training.py:183: UserWarning: [10:01:08] WARNING: C:\\actions-runner\\_work\\xgboost\\xgboost\\src\\learner.cc:738: \n",
      "Parameters: { \"use_label_encoder\" } are not used.\n",
      "\n",
      "  bst.update(dtrain, iteration=i, fobj=obj)\n",
      "c:\\Users\\Domin\\miniconda3\\Lib\\site-packages\\xgboost\\training.py:183: UserWarning: [10:01:08] WARNING: C:\\actions-runner\\_work\\xgboost\\xgboost\\src\\learner.cc:738: \n",
      "Parameters: { \"use_label_encoder\" } are not used.\n",
      "\n",
      "  bst.update(dtrain, iteration=i, fobj=obj)\n",
      "c:\\Users\\Domin\\miniconda3\\Lib\\site-packages\\xgboost\\training.py:183: UserWarning: [10:01:08] WARNING: C:\\actions-runner\\_work\\xgboost\\xgboost\\src\\learner.cc:738: \n",
      "Parameters: { \"use_label_encoder\" } are not used.\n",
      "\n",
      "  bst.update(dtrain, iteration=i, fobj=obj)\n",
      "c:\\Users\\Domin\\miniconda3\\Lib\\site-packages\\xgboost\\training.py:183: UserWarning: [10:01:08] WARNING: C:\\actions-runner\\_work\\xgboost\\xgboost\\src\\learner.cc:738: \n",
      "Parameters: { \"use_label_encoder\" } are not used.\n",
      "\n",
      "  bst.update(dtrain, iteration=i, fobj=obj)\n"
     ]
    },
    {
     "name": "stdout",
     "output_type": "stream",
     "text": [
      "[CV] END ...learning_rate=0.05, max_depth=3, n_estimators=50; total time=   0.0s\n",
      "[CV] END ...learning_rate=0.05, max_depth=3, n_estimators=50; total time=   0.0s\n",
      "[CV] END ...learning_rate=0.05, max_depth=3, n_estimators=50; total time=   0.0s\n",
      "[CV] END ..learning_rate=0.05, max_depth=3, n_estimators=100; total time=   0.0s\n"
     ]
    },
    {
     "name": "stderr",
     "output_type": "stream",
     "text": [
      "c:\\Users\\Domin\\miniconda3\\Lib\\site-packages\\xgboost\\training.py:183: UserWarning: [10:01:08] WARNING: C:\\actions-runner\\_work\\xgboost\\xgboost\\src\\learner.cc:738: \n",
      "Parameters: { \"use_label_encoder\" } are not used.\n",
      "\n",
      "  bst.update(dtrain, iteration=i, fobj=obj)\n",
      "c:\\Users\\Domin\\miniconda3\\Lib\\site-packages\\xgboost\\training.py:183: UserWarning: [10:01:08] WARNING: C:\\actions-runner\\_work\\xgboost\\xgboost\\src\\learner.cc:738: \n",
      "Parameters: { \"use_label_encoder\" } are not used.\n",
      "\n",
      "  bst.update(dtrain, iteration=i, fobj=obj)\n",
      "c:\\Users\\Domin\\miniconda3\\Lib\\site-packages\\xgboost\\training.py:183: UserWarning: [10:01:08] WARNING: C:\\actions-runner\\_work\\xgboost\\xgboost\\src\\learner.cc:738: \n",
      "Parameters: { \"use_label_encoder\" } are not used.\n",
      "\n",
      "  bst.update(dtrain, iteration=i, fobj=obj)\n"
     ]
    },
    {
     "name": "stdout",
     "output_type": "stream",
     "text": [
      "[CV] END ..learning_rate=0.05, max_depth=3, n_estimators=100; total time=   0.0s\n",
      "[CV] END ..learning_rate=0.05, max_depth=3, n_estimators=100; total time=   0.0s\n",
      "[CV] END ..learning_rate=0.05, max_depth=3, n_estimators=100; total time=   0.0s\n"
     ]
    },
    {
     "name": "stderr",
     "output_type": "stream",
     "text": [
      "c:\\Users\\Domin\\miniconda3\\Lib\\site-packages\\xgboost\\training.py:183: UserWarning: [10:01:08] WARNING: C:\\actions-runner\\_work\\xgboost\\xgboost\\src\\learner.cc:738: \n",
      "Parameters: { \"use_label_encoder\" } are not used.\n",
      "\n",
      "  bst.update(dtrain, iteration=i, fobj=obj)\n",
      "c:\\Users\\Domin\\miniconda3\\Lib\\site-packages\\xgboost\\training.py:183: UserWarning: [10:01:08] WARNING: C:\\actions-runner\\_work\\xgboost\\xgboost\\src\\learner.cc:738: \n",
      "Parameters: { \"use_label_encoder\" } are not used.\n",
      "\n",
      "  bst.update(dtrain, iteration=i, fobj=obj)\n",
      "c:\\Users\\Domin\\miniconda3\\Lib\\site-packages\\xgboost\\training.py:183: UserWarning: [10:01:08] WARNING: C:\\actions-runner\\_work\\xgboost\\xgboost\\src\\learner.cc:738: \n",
      "Parameters: { \"use_label_encoder\" } are not used.\n",
      "\n",
      "  bst.update(dtrain, iteration=i, fobj=obj)\n"
     ]
    },
    {
     "name": "stdout",
     "output_type": "stream",
     "text": [
      "[CV] END ..learning_rate=0.05, max_depth=3, n_estimators=100; total time=   0.0s\n",
      "[CV] END ..learning_rate=0.05, max_depth=3, n_estimators=200; total time=   0.0s\n"
     ]
    },
    {
     "name": "stderr",
     "output_type": "stream",
     "text": [
      "c:\\Users\\Domin\\miniconda3\\Lib\\site-packages\\xgboost\\training.py:183: UserWarning: [10:01:09] WARNING: C:\\actions-runner\\_work\\xgboost\\xgboost\\src\\learner.cc:738: \n",
      "Parameters: { \"use_label_encoder\" } are not used.\n",
      "\n",
      "  bst.update(dtrain, iteration=i, fobj=obj)\n",
      "c:\\Users\\Domin\\miniconda3\\Lib\\site-packages\\xgboost\\training.py:183: UserWarning: [10:01:09] WARNING: C:\\actions-runner\\_work\\xgboost\\xgboost\\src\\learner.cc:738: \n",
      "Parameters: { \"use_label_encoder\" } are not used.\n",
      "\n",
      "  bst.update(dtrain, iteration=i, fobj=obj)\n"
     ]
    },
    {
     "name": "stdout",
     "output_type": "stream",
     "text": [
      "[CV] END ..learning_rate=0.05, max_depth=3, n_estimators=200; total time=   0.1s\n",
      "[CV] END ..learning_rate=0.05, max_depth=3, n_estimators=200; total time=   0.1s\n"
     ]
    },
    {
     "name": "stderr",
     "output_type": "stream",
     "text": [
      "c:\\Users\\Domin\\miniconda3\\Lib\\site-packages\\xgboost\\training.py:183: UserWarning: [10:01:09] WARNING: C:\\actions-runner\\_work\\xgboost\\xgboost\\src\\learner.cc:738: \n",
      "Parameters: { \"use_label_encoder\" } are not used.\n",
      "\n",
      "  bst.update(dtrain, iteration=i, fobj=obj)\n"
     ]
    },
    {
     "name": "stdout",
     "output_type": "stream",
     "text": [
      "[CV] END ..learning_rate=0.05, max_depth=3, n_estimators=200; total time=   0.1s\n",
      "[CV] END ..learning_rate=0.05, max_depth=3, n_estimators=200; total time=   0.1s\n"
     ]
    },
    {
     "name": "stderr",
     "output_type": "stream",
     "text": [
      "c:\\Users\\Domin\\miniconda3\\Lib\\site-packages\\xgboost\\training.py:183: UserWarning: [10:01:09] WARNING: C:\\actions-runner\\_work\\xgboost\\xgboost\\src\\learner.cc:738: \n",
      "Parameters: { \"use_label_encoder\" } are not used.\n",
      "\n",
      "  bst.update(dtrain, iteration=i, fobj=obj)\n",
      "c:\\Users\\Domin\\miniconda3\\Lib\\site-packages\\xgboost\\training.py:183: UserWarning: [10:01:09] WARNING: C:\\actions-runner\\_work\\xgboost\\xgboost\\src\\learner.cc:738: \n",
      "Parameters: { \"use_label_encoder\" } are not used.\n",
      "\n",
      "  bst.update(dtrain, iteration=i, fobj=obj)\n"
     ]
    },
    {
     "name": "stdout",
     "output_type": "stream",
     "text": [
      "[CV] END ...learning_rate=0.05, max_depth=5, n_estimators=50; total time=   0.0s\n",
      "[CV] END ...learning_rate=0.05, max_depth=5, n_estimators=50; total time=   0.0s\n",
      "[CV] END ...learning_rate=0.05, max_depth=5, n_estimators=50; total time=   0.0s\n",
      "[CV] END ...learning_rate=0.05, max_depth=5, n_estimators=50; total time=   0.0s\n"
     ]
    },
    {
     "name": "stderr",
     "output_type": "stream",
     "text": [
      "c:\\Users\\Domin\\miniconda3\\Lib\\site-packages\\xgboost\\training.py:183: UserWarning: [10:01:09] WARNING: C:\\actions-runner\\_work\\xgboost\\xgboost\\src\\learner.cc:738: \n",
      "Parameters: { \"use_label_encoder\" } are not used.\n",
      "\n",
      "  bst.update(dtrain, iteration=i, fobj=obj)\n",
      "c:\\Users\\Domin\\miniconda3\\Lib\\site-packages\\xgboost\\training.py:183: UserWarning: [10:01:09] WARNING: C:\\actions-runner\\_work\\xgboost\\xgboost\\src\\learner.cc:738: \n",
      "Parameters: { \"use_label_encoder\" } are not used.\n",
      "\n",
      "  bst.update(dtrain, iteration=i, fobj=obj)\n",
      "c:\\Users\\Domin\\miniconda3\\Lib\\site-packages\\xgboost\\training.py:183: UserWarning: [10:01:09] WARNING: C:\\actions-runner\\_work\\xgboost\\xgboost\\src\\learner.cc:738: \n",
      "Parameters: { \"use_label_encoder\" } are not used.\n",
      "\n",
      "  bst.update(dtrain, iteration=i, fobj=obj)\n",
      "c:\\Users\\Domin\\miniconda3\\Lib\\site-packages\\xgboost\\training.py:183: UserWarning: [10:01:10] WARNING: C:\\actions-runner\\_work\\xgboost\\xgboost\\src\\learner.cc:738: \n",
      "Parameters: { \"use_label_encoder\" } are not used.\n",
      "\n",
      "  bst.update(dtrain, iteration=i, fobj=obj)\n",
      "c:\\Users\\Domin\\miniconda3\\Lib\\site-packages\\xgboost\\training.py:183: UserWarning: [10:01:10] WARNING: C:\\actions-runner\\_work\\xgboost\\xgboost\\src\\learner.cc:738: \n",
      "Parameters: { \"use_label_encoder\" } are not used.\n",
      "\n",
      "  bst.update(dtrain, iteration=i, fobj=obj)\n"
     ]
    },
    {
     "name": "stdout",
     "output_type": "stream",
     "text": [
      "[CV] END ...learning_rate=0.05, max_depth=5, n_estimators=50; total time=   0.0s\n",
      "[CV] END ..learning_rate=0.05, max_depth=5, n_estimators=100; total time=   0.1s\n"
     ]
    },
    {
     "name": "stderr",
     "output_type": "stream",
     "text": [
      "c:\\Users\\Domin\\miniconda3\\Lib\\site-packages\\xgboost\\training.py:183: UserWarning: [10:01:10] WARNING: C:\\actions-runner\\_work\\xgboost\\xgboost\\src\\learner.cc:738: \n",
      "Parameters: { \"use_label_encoder\" } are not used.\n",
      "\n",
      "  bst.update(dtrain, iteration=i, fobj=obj)\n",
      "c:\\Users\\Domin\\miniconda3\\Lib\\site-packages\\xgboost\\training.py:183: UserWarning: [10:01:10] WARNING: C:\\actions-runner\\_work\\xgboost\\xgboost\\src\\learner.cc:738: \n",
      "Parameters: { \"use_label_encoder\" } are not used.\n",
      "\n",
      "  bst.update(dtrain, iteration=i, fobj=obj)\n"
     ]
    },
    {
     "name": "stdout",
     "output_type": "stream",
     "text": [
      "[CV] END ..learning_rate=0.05, max_depth=5, n_estimators=100; total time=   0.0s\n",
      "[CV] END ..learning_rate=0.05, max_depth=5, n_estimators=100; total time=   0.1s\n"
     ]
    },
    {
     "name": "stderr",
     "output_type": "stream",
     "text": [
      "c:\\Users\\Domin\\miniconda3\\Lib\\site-packages\\xgboost\\training.py:183: UserWarning: [10:01:10] WARNING: C:\\actions-runner\\_work\\xgboost\\xgboost\\src\\learner.cc:738: \n",
      "Parameters: { \"use_label_encoder\" } are not used.\n",
      "\n",
      "  bst.update(dtrain, iteration=i, fobj=obj)\n",
      "c:\\Users\\Domin\\miniconda3\\Lib\\site-packages\\xgboost\\training.py:183: UserWarning: [10:01:10] WARNING: C:\\actions-runner\\_work\\xgboost\\xgboost\\src\\learner.cc:738: \n",
      "Parameters: { \"use_label_encoder\" } are not used.\n",
      "\n",
      "  bst.update(dtrain, iteration=i, fobj=obj)\n"
     ]
    },
    {
     "name": "stdout",
     "output_type": "stream",
     "text": [
      "[CV] END ..learning_rate=0.05, max_depth=5, n_estimators=100; total time=   0.0s\n",
      "[CV] END ..learning_rate=0.05, max_depth=5, n_estimators=100; total time=   0.0s\n"
     ]
    },
    {
     "name": "stderr",
     "output_type": "stream",
     "text": [
      "c:\\Users\\Domin\\miniconda3\\Lib\\site-packages\\xgboost\\training.py:183: UserWarning: [10:01:10] WARNING: C:\\actions-runner\\_work\\xgboost\\xgboost\\src\\learner.cc:738: \n",
      "Parameters: { \"use_label_encoder\" } are not used.\n",
      "\n",
      "  bst.update(dtrain, iteration=i, fobj=obj)\n"
     ]
    },
    {
     "name": "stdout",
     "output_type": "stream",
     "text": [
      "[CV] END ..learning_rate=0.05, max_depth=5, n_estimators=200; total time=   0.1s\n"
     ]
    },
    {
     "name": "stderr",
     "output_type": "stream",
     "text": [
      "c:\\Users\\Domin\\miniconda3\\Lib\\site-packages\\xgboost\\training.py:183: UserWarning: [10:01:11] WARNING: C:\\actions-runner\\_work\\xgboost\\xgboost\\src\\learner.cc:738: \n",
      "Parameters: { \"use_label_encoder\" } are not used.\n",
      "\n",
      "  bst.update(dtrain, iteration=i, fobj=obj)\n"
     ]
    },
    {
     "name": "stdout",
     "output_type": "stream",
     "text": [
      "[CV] END ..learning_rate=0.05, max_depth=5, n_estimators=200; total time=   0.1s\n"
     ]
    },
    {
     "name": "stderr",
     "output_type": "stream",
     "text": [
      "c:\\Users\\Domin\\miniconda3\\Lib\\site-packages\\xgboost\\training.py:183: UserWarning: [10:01:11] WARNING: C:\\actions-runner\\_work\\xgboost\\xgboost\\src\\learner.cc:738: \n",
      "Parameters: { \"use_label_encoder\" } are not used.\n",
      "\n",
      "  bst.update(dtrain, iteration=i, fobj=obj)\n"
     ]
    },
    {
     "name": "stdout",
     "output_type": "stream",
     "text": [
      "[CV] END ..learning_rate=0.05, max_depth=5, n_estimators=200; total time=   0.2s\n"
     ]
    },
    {
     "name": "stderr",
     "output_type": "stream",
     "text": [
      "c:\\Users\\Domin\\miniconda3\\Lib\\site-packages\\xgboost\\training.py:183: UserWarning: [10:01:11] WARNING: C:\\actions-runner\\_work\\xgboost\\xgboost\\src\\learner.cc:738: \n",
      "Parameters: { \"use_label_encoder\" } are not used.\n",
      "\n",
      "  bst.update(dtrain, iteration=i, fobj=obj)\n"
     ]
    },
    {
     "name": "stdout",
     "output_type": "stream",
     "text": [
      "[CV] END ..learning_rate=0.05, max_depth=5, n_estimators=200; total time=   0.2s\n"
     ]
    },
    {
     "name": "stderr",
     "output_type": "stream",
     "text": [
      "c:\\Users\\Domin\\miniconda3\\Lib\\site-packages\\xgboost\\training.py:183: UserWarning: [10:01:11] WARNING: C:\\actions-runner\\_work\\xgboost\\xgboost\\src\\learner.cc:738: \n",
      "Parameters: { \"use_label_encoder\" } are not used.\n",
      "\n",
      "  bst.update(dtrain, iteration=i, fobj=obj)\n"
     ]
    },
    {
     "name": "stdout",
     "output_type": "stream",
     "text": [
      "[CV] END ..learning_rate=0.05, max_depth=5, n_estimators=200; total time=   0.2s\n",
      "[CV] END ...learning_rate=0.05, max_depth=7, n_estimators=50; total time=   0.0s\n"
     ]
    },
    {
     "name": "stderr",
     "output_type": "stream",
     "text": [
      "c:\\Users\\Domin\\miniconda3\\Lib\\site-packages\\xgboost\\training.py:183: UserWarning: [10:01:12] WARNING: C:\\actions-runner\\_work\\xgboost\\xgboost\\src\\learner.cc:738: \n",
      "Parameters: { \"use_label_encoder\" } are not used.\n",
      "\n",
      "  bst.update(dtrain, iteration=i, fobj=obj)\n",
      "c:\\Users\\Domin\\miniconda3\\Lib\\site-packages\\xgboost\\training.py:183: UserWarning: [10:01:12] WARNING: C:\\actions-runner\\_work\\xgboost\\xgboost\\src\\learner.cc:738: \n",
      "Parameters: { \"use_label_encoder\" } are not used.\n",
      "\n",
      "  bst.update(dtrain, iteration=i, fobj=obj)\n"
     ]
    },
    {
     "name": "stdout",
     "output_type": "stream",
     "text": [
      "[CV] END ...learning_rate=0.05, max_depth=7, n_estimators=50; total time=   0.0s\n",
      "[CV] END ...learning_rate=0.05, max_depth=7, n_estimators=50; total time=   0.0s\n"
     ]
    },
    {
     "name": "stderr",
     "output_type": "stream",
     "text": [
      "c:\\Users\\Domin\\miniconda3\\Lib\\site-packages\\xgboost\\training.py:183: UserWarning: [10:01:12] WARNING: C:\\actions-runner\\_work\\xgboost\\xgboost\\src\\learner.cc:738: \n",
      "Parameters: { \"use_label_encoder\" } are not used.\n",
      "\n",
      "  bst.update(dtrain, iteration=i, fobj=obj)\n",
      "c:\\Users\\Domin\\miniconda3\\Lib\\site-packages\\xgboost\\training.py:183: UserWarning: [10:01:12] WARNING: C:\\actions-runner\\_work\\xgboost\\xgboost\\src\\learner.cc:738: \n",
      "Parameters: { \"use_label_encoder\" } are not used.\n",
      "\n",
      "  bst.update(dtrain, iteration=i, fobj=obj)\n"
     ]
    },
    {
     "name": "stdout",
     "output_type": "stream",
     "text": [
      "[CV] END ...learning_rate=0.05, max_depth=7, n_estimators=50; total time=   0.0s\n",
      "[CV] END ...learning_rate=0.05, max_depth=7, n_estimators=50; total time=   0.0s\n"
     ]
    },
    {
     "name": "stderr",
     "output_type": "stream",
     "text": [
      "c:\\Users\\Domin\\miniconda3\\Lib\\site-packages\\xgboost\\training.py:183: UserWarning: [10:01:12] WARNING: C:\\actions-runner\\_work\\xgboost\\xgboost\\src\\learner.cc:738: \n",
      "Parameters: { \"use_label_encoder\" } are not used.\n",
      "\n",
      "  bst.update(dtrain, iteration=i, fobj=obj)\n",
      "c:\\Users\\Domin\\miniconda3\\Lib\\site-packages\\xgboost\\training.py:183: UserWarning: [10:01:12] WARNING: C:\\actions-runner\\_work\\xgboost\\xgboost\\src\\learner.cc:738: \n",
      "Parameters: { \"use_label_encoder\" } are not used.\n",
      "\n",
      "  bst.update(dtrain, iteration=i, fobj=obj)\n"
     ]
    },
    {
     "name": "stdout",
     "output_type": "stream",
     "text": [
      "[CV] END ..learning_rate=0.05, max_depth=7, n_estimators=100; total time=   0.1s\n",
      "[CV] END ..learning_rate=0.05, max_depth=7, n_estimators=100; total time=   0.1s\n"
     ]
    },
    {
     "name": "stderr",
     "output_type": "stream",
     "text": [
      "c:\\Users\\Domin\\miniconda3\\Lib\\site-packages\\xgboost\\training.py:183: UserWarning: [10:01:12] WARNING: C:\\actions-runner\\_work\\xgboost\\xgboost\\src\\learner.cc:738: \n",
      "Parameters: { \"use_label_encoder\" } are not used.\n",
      "\n",
      "  bst.update(dtrain, iteration=i, fobj=obj)\n",
      "c:\\Users\\Domin\\miniconda3\\Lib\\site-packages\\xgboost\\training.py:183: UserWarning: [10:01:12] WARNING: C:\\actions-runner\\_work\\xgboost\\xgboost\\src\\learner.cc:738: \n",
      "Parameters: { \"use_label_encoder\" } are not used.\n",
      "\n",
      "  bst.update(dtrain, iteration=i, fobj=obj)\n"
     ]
    },
    {
     "name": "stdout",
     "output_type": "stream",
     "text": [
      "[CV] END ..learning_rate=0.05, max_depth=7, n_estimators=100; total time=   0.1s\n",
      "[CV] END ..learning_rate=0.05, max_depth=7, n_estimators=100; total time=   0.1s\n"
     ]
    },
    {
     "name": "stderr",
     "output_type": "stream",
     "text": [
      "c:\\Users\\Domin\\miniconda3\\Lib\\site-packages\\xgboost\\training.py:183: UserWarning: [10:01:13] WARNING: C:\\actions-runner\\_work\\xgboost\\xgboost\\src\\learner.cc:738: \n",
      "Parameters: { \"use_label_encoder\" } are not used.\n",
      "\n",
      "  bst.update(dtrain, iteration=i, fobj=obj)\n",
      "c:\\Users\\Domin\\miniconda3\\Lib\\site-packages\\xgboost\\training.py:183: UserWarning: [10:01:13] WARNING: C:\\actions-runner\\_work\\xgboost\\xgboost\\src\\learner.cc:738: \n",
      "Parameters: { \"use_label_encoder\" } are not used.\n",
      "\n",
      "  bst.update(dtrain, iteration=i, fobj=obj)\n"
     ]
    },
    {
     "name": "stdout",
     "output_type": "stream",
     "text": [
      "[CV] END ..learning_rate=0.05, max_depth=7, n_estimators=100; total time=   0.1s\n"
     ]
    },
    {
     "name": "stderr",
     "output_type": "stream",
     "text": [
      "c:\\Users\\Domin\\miniconda3\\Lib\\site-packages\\xgboost\\training.py:183: UserWarning: [10:01:13] WARNING: C:\\actions-runner\\_work\\xgboost\\xgboost\\src\\learner.cc:738: \n",
      "Parameters: { \"use_label_encoder\" } are not used.\n",
      "\n",
      "  bst.update(dtrain, iteration=i, fobj=obj)\n"
     ]
    },
    {
     "name": "stdout",
     "output_type": "stream",
     "text": [
      "[CV] END ..learning_rate=0.05, max_depth=7, n_estimators=200; total time=   0.2s\n"
     ]
    },
    {
     "name": "stderr",
     "output_type": "stream",
     "text": [
      "c:\\Users\\Domin\\miniconda3\\Lib\\site-packages\\xgboost\\training.py:183: UserWarning: [10:01:13] WARNING: C:\\actions-runner\\_work\\xgboost\\xgboost\\src\\learner.cc:738: \n",
      "Parameters: { \"use_label_encoder\" } are not used.\n",
      "\n",
      "  bst.update(dtrain, iteration=i, fobj=obj)\n"
     ]
    },
    {
     "name": "stdout",
     "output_type": "stream",
     "text": [
      "[CV] END ..learning_rate=0.05, max_depth=7, n_estimators=200; total time=   0.2s\n"
     ]
    },
    {
     "name": "stderr",
     "output_type": "stream",
     "text": [
      "c:\\Users\\Domin\\miniconda3\\Lib\\site-packages\\xgboost\\training.py:183: UserWarning: [10:01:14] WARNING: C:\\actions-runner\\_work\\xgboost\\xgboost\\src\\learner.cc:738: \n",
      "Parameters: { \"use_label_encoder\" } are not used.\n",
      "\n",
      "  bst.update(dtrain, iteration=i, fobj=obj)\n"
     ]
    },
    {
     "name": "stdout",
     "output_type": "stream",
     "text": [
      "[CV] END ..learning_rate=0.05, max_depth=7, n_estimators=200; total time=   0.2s\n"
     ]
    },
    {
     "name": "stderr",
     "output_type": "stream",
     "text": [
      "c:\\Users\\Domin\\miniconda3\\Lib\\site-packages\\xgboost\\training.py:183: UserWarning: [10:01:14] WARNING: C:\\actions-runner\\_work\\xgboost\\xgboost\\src\\learner.cc:738: \n",
      "Parameters: { \"use_label_encoder\" } are not used.\n",
      "\n",
      "  bst.update(dtrain, iteration=i, fobj=obj)\n"
     ]
    },
    {
     "name": "stdout",
     "output_type": "stream",
     "text": [
      "[CV] END ..learning_rate=0.05, max_depth=7, n_estimators=200; total time=   0.2s\n"
     ]
    },
    {
     "name": "stderr",
     "output_type": "stream",
     "text": [
      "c:\\Users\\Domin\\miniconda3\\Lib\\site-packages\\xgboost\\training.py:183: UserWarning: [10:01:14] WARNING: C:\\actions-runner\\_work\\xgboost\\xgboost\\src\\learner.cc:738: \n",
      "Parameters: { \"use_label_encoder\" } are not used.\n",
      "\n",
      "  bst.update(dtrain, iteration=i, fobj=obj)\n"
     ]
    },
    {
     "name": "stdout",
     "output_type": "stream",
     "text": [
      "[CV] END ..learning_rate=0.05, max_depth=7, n_estimators=200; total time=   0.2s\n",
      "[CV] END ....learning_rate=0.1, max_depth=3, n_estimators=50; total time=   0.0s\n",
      "[CV] END ....learning_rate=0.1, max_depth=3, n_estimators=50; total time=   0.0s\n",
      "[CV] END ....learning_rate=0.1, max_depth=3, n_estimators=50; total time=   0.0s\n",
      "[CV] END ....learning_rate=0.1, max_depth=3, n_estimators=50; total time=   0.0s\n"
     ]
    },
    {
     "name": "stderr",
     "output_type": "stream",
     "text": [
      "c:\\Users\\Domin\\miniconda3\\Lib\\site-packages\\xgboost\\training.py:183: UserWarning: [10:01:15] WARNING: C:\\actions-runner\\_work\\xgboost\\xgboost\\src\\learner.cc:738: \n",
      "Parameters: { \"use_label_encoder\" } are not used.\n",
      "\n",
      "  bst.update(dtrain, iteration=i, fobj=obj)\n",
      "c:\\Users\\Domin\\miniconda3\\Lib\\site-packages\\xgboost\\training.py:183: UserWarning: [10:01:15] WARNING: C:\\actions-runner\\_work\\xgboost\\xgboost\\src\\learner.cc:738: \n",
      "Parameters: { \"use_label_encoder\" } are not used.\n",
      "\n",
      "  bst.update(dtrain, iteration=i, fobj=obj)\n",
      "c:\\Users\\Domin\\miniconda3\\Lib\\site-packages\\xgboost\\training.py:183: UserWarning: [10:01:15] WARNING: C:\\actions-runner\\_work\\xgboost\\xgboost\\src\\learner.cc:738: \n",
      "Parameters: { \"use_label_encoder\" } are not used.\n",
      "\n",
      "  bst.update(dtrain, iteration=i, fobj=obj)\n",
      "c:\\Users\\Domin\\miniconda3\\Lib\\site-packages\\xgboost\\training.py:183: UserWarning: [10:01:15] WARNING: C:\\actions-runner\\_work\\xgboost\\xgboost\\src\\learner.cc:738: \n",
      "Parameters: { \"use_label_encoder\" } are not used.\n",
      "\n",
      "  bst.update(dtrain, iteration=i, fobj=obj)\n",
      "c:\\Users\\Domin\\miniconda3\\Lib\\site-packages\\xgboost\\training.py:183: UserWarning: [10:01:15] WARNING: C:\\actions-runner\\_work\\xgboost\\xgboost\\src\\learner.cc:738: \n",
      "Parameters: { \"use_label_encoder\" } are not used.\n",
      "\n",
      "  bst.update(dtrain, iteration=i, fobj=obj)\n"
     ]
    },
    {
     "name": "stdout",
     "output_type": "stream",
     "text": [
      "[CV] END ....learning_rate=0.1, max_depth=3, n_estimators=50; total time=   0.0s\n",
      "[CV] END ...learning_rate=0.1, max_depth=3, n_estimators=100; total time=   0.0s\n",
      "[CV] END ...learning_rate=0.1, max_depth=3, n_estimators=100; total time=   0.0s\n"
     ]
    },
    {
     "name": "stderr",
     "output_type": "stream",
     "text": [
      "c:\\Users\\Domin\\miniconda3\\Lib\\site-packages\\xgboost\\training.py:183: UserWarning: [10:01:15] WARNING: C:\\actions-runner\\_work\\xgboost\\xgboost\\src\\learner.cc:738: \n",
      "Parameters: { \"use_label_encoder\" } are not used.\n",
      "\n",
      "  bst.update(dtrain, iteration=i, fobj=obj)\n",
      "c:\\Users\\Domin\\miniconda3\\Lib\\site-packages\\xgboost\\training.py:183: UserWarning: [10:01:15] WARNING: C:\\actions-runner\\_work\\xgboost\\xgboost\\src\\learner.cc:738: \n",
      "Parameters: { \"use_label_encoder\" } are not used.\n",
      "\n",
      "  bst.update(dtrain, iteration=i, fobj=obj)\n",
      "c:\\Users\\Domin\\miniconda3\\Lib\\site-packages\\xgboost\\training.py:183: UserWarning: [10:01:15] WARNING: C:\\actions-runner\\_work\\xgboost\\xgboost\\src\\learner.cc:738: \n",
      "Parameters: { \"use_label_encoder\" } are not used.\n",
      "\n",
      "  bst.update(dtrain, iteration=i, fobj=obj)\n"
     ]
    },
    {
     "name": "stdout",
     "output_type": "stream",
     "text": [
      "[CV] END ...learning_rate=0.1, max_depth=3, n_estimators=100; total time=   0.0s\n",
      "[CV] END ...learning_rate=0.1, max_depth=3, n_estimators=100; total time=   0.0s\n",
      "[CV] END ...learning_rate=0.1, max_depth=3, n_estimators=100; total time=   0.0s\n"
     ]
    },
    {
     "name": "stderr",
     "output_type": "stream",
     "text": [
      "c:\\Users\\Domin\\miniconda3\\Lib\\site-packages\\xgboost\\training.py:183: UserWarning: [10:01:15] WARNING: C:\\actions-runner\\_work\\xgboost\\xgboost\\src\\learner.cc:738: \n",
      "Parameters: { \"use_label_encoder\" } are not used.\n",
      "\n",
      "  bst.update(dtrain, iteration=i, fobj=obj)\n",
      "c:\\Users\\Domin\\miniconda3\\Lib\\site-packages\\xgboost\\training.py:183: UserWarning: [10:01:15] WARNING: C:\\actions-runner\\_work\\xgboost\\xgboost\\src\\learner.cc:738: \n",
      "Parameters: { \"use_label_encoder\" } are not used.\n",
      "\n",
      "  bst.update(dtrain, iteration=i, fobj=obj)\n",
      "c:\\Users\\Domin\\miniconda3\\Lib\\site-packages\\xgboost\\training.py:183: UserWarning: [10:01:15] WARNING: C:\\actions-runner\\_work\\xgboost\\xgboost\\src\\learner.cc:738: \n",
      "Parameters: { \"use_label_encoder\" } are not used.\n",
      "\n",
      "  bst.update(dtrain, iteration=i, fobj=obj)\n"
     ]
    },
    {
     "name": "stdout",
     "output_type": "stream",
     "text": [
      "[CV] END ...learning_rate=0.1, max_depth=3, n_estimators=200; total time=   0.1s\n",
      "[CV] END ...learning_rate=0.1, max_depth=3, n_estimators=200; total time=   0.1s\n"
     ]
    },
    {
     "name": "stderr",
     "output_type": "stream",
     "text": [
      "c:\\Users\\Domin\\miniconda3\\Lib\\site-packages\\xgboost\\training.py:183: UserWarning: [10:01:15] WARNING: C:\\actions-runner\\_work\\xgboost\\xgboost\\src\\learner.cc:738: \n",
      "Parameters: { \"use_label_encoder\" } are not used.\n",
      "\n",
      "  bst.update(dtrain, iteration=i, fobj=obj)\n",
      "c:\\Users\\Domin\\miniconda3\\Lib\\site-packages\\xgboost\\training.py:183: UserWarning: [10:01:16] WARNING: C:\\actions-runner\\_work\\xgboost\\xgboost\\src\\learner.cc:738: \n",
      "Parameters: { \"use_label_encoder\" } are not used.\n",
      "\n",
      "  bst.update(dtrain, iteration=i, fobj=obj)\n"
     ]
    },
    {
     "name": "stdout",
     "output_type": "stream",
     "text": [
      "[CV] END ...learning_rate=0.1, max_depth=3, n_estimators=200; total time=   0.0s\n",
      "[CV] END ...learning_rate=0.1, max_depth=3, n_estimators=200; total time=   0.0s\n"
     ]
    },
    {
     "name": "stderr",
     "output_type": "stream",
     "text": [
      "c:\\Users\\Domin\\miniconda3\\Lib\\site-packages\\xgboost\\training.py:183: UserWarning: [10:01:16] WARNING: C:\\actions-runner\\_work\\xgboost\\xgboost\\src\\learner.cc:738: \n",
      "Parameters: { \"use_label_encoder\" } are not used.\n",
      "\n",
      "  bst.update(dtrain, iteration=i, fobj=obj)\n",
      "c:\\Users\\Domin\\miniconda3\\Lib\\site-packages\\xgboost\\training.py:183: UserWarning: [10:01:16] WARNING: C:\\actions-runner\\_work\\xgboost\\xgboost\\src\\learner.cc:738: \n",
      "Parameters: { \"use_label_encoder\" } are not used.\n",
      "\n",
      "  bst.update(dtrain, iteration=i, fobj=obj)\n"
     ]
    },
    {
     "name": "stdout",
     "output_type": "stream",
     "text": [
      "[CV] END ...learning_rate=0.1, max_depth=3, n_estimators=200; total time=   0.1s\n",
      "[CV] END ....learning_rate=0.1, max_depth=5, n_estimators=50; total time=   0.0s\n",
      "[CV] END ....learning_rate=0.1, max_depth=5, n_estimators=50; total time=   0.0s\n",
      "[CV] END ....learning_rate=0.1, max_depth=5, n_estimators=50; total time=   0.0s\n"
     ]
    },
    {
     "name": "stderr",
     "output_type": "stream",
     "text": [
      "c:\\Users\\Domin\\miniconda3\\Lib\\site-packages\\xgboost\\training.py:183: UserWarning: [10:01:16] WARNING: C:\\actions-runner\\_work\\xgboost\\xgboost\\src\\learner.cc:738: \n",
      "Parameters: { \"use_label_encoder\" } are not used.\n",
      "\n",
      "  bst.update(dtrain, iteration=i, fobj=obj)\n",
      "c:\\Users\\Domin\\miniconda3\\Lib\\site-packages\\xgboost\\training.py:183: UserWarning: [10:01:16] WARNING: C:\\actions-runner\\_work\\xgboost\\xgboost\\src\\learner.cc:738: \n",
      "Parameters: { \"use_label_encoder\" } are not used.\n",
      "\n",
      "  bst.update(dtrain, iteration=i, fobj=obj)\n",
      "c:\\Users\\Domin\\miniconda3\\Lib\\site-packages\\xgboost\\training.py:183: UserWarning: [10:01:16] WARNING: C:\\actions-runner\\_work\\xgboost\\xgboost\\src\\learner.cc:738: \n",
      "Parameters: { \"use_label_encoder\" } are not used.\n",
      "\n",
      "  bst.update(dtrain, iteration=i, fobj=obj)\n",
      "c:\\Users\\Domin\\miniconda3\\Lib\\site-packages\\xgboost\\training.py:183: UserWarning: [10:01:16] WARNING: C:\\actions-runner\\_work\\xgboost\\xgboost\\src\\learner.cc:738: \n",
      "Parameters: { \"use_label_encoder\" } are not used.\n",
      "\n",
      "  bst.update(dtrain, iteration=i, fobj=obj)\n"
     ]
    },
    {
     "name": "stdout",
     "output_type": "stream",
     "text": [
      "[CV] END ....learning_rate=0.1, max_depth=5, n_estimators=50; total time=   0.0s\n",
      "[CV] END ....learning_rate=0.1, max_depth=5, n_estimators=50; total time=   0.0s\n",
      "[CV] END ...learning_rate=0.1, max_depth=5, n_estimators=100; total time=   0.0s\n"
     ]
    },
    {
     "name": "stderr",
     "output_type": "stream",
     "text": [
      "c:\\Users\\Domin\\miniconda3\\Lib\\site-packages\\xgboost\\training.py:183: UserWarning: [10:01:16] WARNING: C:\\actions-runner\\_work\\xgboost\\xgboost\\src\\learner.cc:738: \n",
      "Parameters: { \"use_label_encoder\" } are not used.\n",
      "\n",
      "  bst.update(dtrain, iteration=i, fobj=obj)\n",
      "c:\\Users\\Domin\\miniconda3\\Lib\\site-packages\\xgboost\\training.py:183: UserWarning: [10:01:16] WARNING: C:\\actions-runner\\_work\\xgboost\\xgboost\\src\\learner.cc:738: \n",
      "Parameters: { \"use_label_encoder\" } are not used.\n",
      "\n",
      "  bst.update(dtrain, iteration=i, fobj=obj)\n",
      "c:\\Users\\Domin\\miniconda3\\Lib\\site-packages\\xgboost\\training.py:183: UserWarning: [10:01:16] WARNING: C:\\actions-runner\\_work\\xgboost\\xgboost\\src\\learner.cc:738: \n",
      "Parameters: { \"use_label_encoder\" } are not used.\n",
      "\n",
      "  bst.update(dtrain, iteration=i, fobj=obj)\n"
     ]
    },
    {
     "name": "stdout",
     "output_type": "stream",
     "text": [
      "[CV] END ...learning_rate=0.1, max_depth=5, n_estimators=100; total time=   0.0s\n",
      "[CV] END ...learning_rate=0.1, max_depth=5, n_estimators=100; total time=   0.0s\n"
     ]
    },
    {
     "name": "stderr",
     "output_type": "stream",
     "text": [
      "c:\\Users\\Domin\\miniconda3\\Lib\\site-packages\\xgboost\\training.py:183: UserWarning: [10:01:17] WARNING: C:\\actions-runner\\_work\\xgboost\\xgboost\\src\\learner.cc:738: \n",
      "Parameters: { \"use_label_encoder\" } are not used.\n",
      "\n",
      "  bst.update(dtrain, iteration=i, fobj=obj)\n",
      "c:\\Users\\Domin\\miniconda3\\Lib\\site-packages\\xgboost\\training.py:183: UserWarning: [10:01:17] WARNING: C:\\actions-runner\\_work\\xgboost\\xgboost\\src\\learner.cc:738: \n",
      "Parameters: { \"use_label_encoder\" } are not used.\n",
      "\n",
      "  bst.update(dtrain, iteration=i, fobj=obj)\n"
     ]
    },
    {
     "name": "stdout",
     "output_type": "stream",
     "text": [
      "[CV] END ...learning_rate=0.1, max_depth=5, n_estimators=100; total time=   0.0s\n",
      "[CV] END ...learning_rate=0.1, max_depth=5, n_estimators=100; total time=   0.0s\n"
     ]
    },
    {
     "name": "stderr",
     "output_type": "stream",
     "text": [
      "c:\\Users\\Domin\\miniconda3\\Lib\\site-packages\\xgboost\\training.py:183: UserWarning: [10:01:17] WARNING: C:\\actions-runner\\_work\\xgboost\\xgboost\\src\\learner.cc:738: \n",
      "Parameters: { \"use_label_encoder\" } are not used.\n",
      "\n",
      "  bst.update(dtrain, iteration=i, fobj=obj)\n",
      "c:\\Users\\Domin\\miniconda3\\Lib\\site-packages\\xgboost\\training.py:183: UserWarning: [10:01:17] WARNING: C:\\actions-runner\\_work\\xgboost\\xgboost\\src\\learner.cc:738: \n",
      "Parameters: { \"use_label_encoder\" } are not used.\n",
      "\n",
      "  bst.update(dtrain, iteration=i, fobj=obj)\n"
     ]
    },
    {
     "name": "stdout",
     "output_type": "stream",
     "text": [
      "[CV] END ...learning_rate=0.1, max_depth=5, n_estimators=200; total time=   0.1s\n",
      "[CV] END ...learning_rate=0.1, max_depth=5, n_estimators=200; total time=   0.1s\n"
     ]
    },
    {
     "name": "stderr",
     "output_type": "stream",
     "text": [
      "c:\\Users\\Domin\\miniconda3\\Lib\\site-packages\\xgboost\\training.py:183: UserWarning: [10:01:17] WARNING: C:\\actions-runner\\_work\\xgboost\\xgboost\\src\\learner.cc:738: \n",
      "Parameters: { \"use_label_encoder\" } are not used.\n",
      "\n",
      "  bst.update(dtrain, iteration=i, fobj=obj)\n",
      "c:\\Users\\Domin\\miniconda3\\Lib\\site-packages\\xgboost\\training.py:183: UserWarning: [10:01:17] WARNING: C:\\actions-runner\\_work\\xgboost\\xgboost\\src\\learner.cc:738: \n",
      "Parameters: { \"use_label_encoder\" } are not used.\n",
      "\n",
      "  bst.update(dtrain, iteration=i, fobj=obj)\n"
     ]
    },
    {
     "name": "stdout",
     "output_type": "stream",
     "text": [
      "[CV] END ...learning_rate=0.1, max_depth=5, n_estimators=200; total time=   0.1s\n",
      "[CV] END ...learning_rate=0.1, max_depth=5, n_estimators=200; total time=   0.1s\n"
     ]
    },
    {
     "name": "stderr",
     "output_type": "stream",
     "text": [
      "c:\\Users\\Domin\\miniconda3\\Lib\\site-packages\\xgboost\\training.py:183: UserWarning: [10:01:17] WARNING: C:\\actions-runner\\_work\\xgboost\\xgboost\\src\\learner.cc:738: \n",
      "Parameters: { \"use_label_encoder\" } are not used.\n",
      "\n",
      "  bst.update(dtrain, iteration=i, fobj=obj)\n",
      "c:\\Users\\Domin\\miniconda3\\Lib\\site-packages\\xgboost\\training.py:183: UserWarning: [10:01:18] WARNING: C:\\actions-runner\\_work\\xgboost\\xgboost\\src\\learner.cc:738: \n",
      "Parameters: { \"use_label_encoder\" } are not used.\n",
      "\n",
      "  bst.update(dtrain, iteration=i, fobj=obj)\n"
     ]
    },
    {
     "name": "stdout",
     "output_type": "stream",
     "text": [
      "[CV] END ...learning_rate=0.1, max_depth=5, n_estimators=200; total time=   0.1s\n",
      "[CV] END ....learning_rate=0.1, max_depth=7, n_estimators=50; total time=   0.0s\n",
      "[CV] END ....learning_rate=0.1, max_depth=7, n_estimators=50; total time=   0.0s\n"
     ]
    },
    {
     "name": "stderr",
     "output_type": "stream",
     "text": [
      "c:\\Users\\Domin\\miniconda3\\Lib\\site-packages\\xgboost\\training.py:183: UserWarning: [10:01:18] WARNING: C:\\actions-runner\\_work\\xgboost\\xgboost\\src\\learner.cc:738: \n",
      "Parameters: { \"use_label_encoder\" } are not used.\n",
      "\n",
      "  bst.update(dtrain, iteration=i, fobj=obj)\n",
      "c:\\Users\\Domin\\miniconda3\\Lib\\site-packages\\xgboost\\training.py:183: UserWarning: [10:01:18] WARNING: C:\\actions-runner\\_work\\xgboost\\xgboost\\src\\learner.cc:738: \n",
      "Parameters: { \"use_label_encoder\" } are not used.\n",
      "\n",
      "  bst.update(dtrain, iteration=i, fobj=obj)\n",
      "c:\\Users\\Domin\\miniconda3\\Lib\\site-packages\\xgboost\\training.py:183: UserWarning: [10:01:18] WARNING: C:\\actions-runner\\_work\\xgboost\\xgboost\\src\\learner.cc:738: \n",
      "Parameters: { \"use_label_encoder\" } are not used.\n",
      "\n",
      "  bst.update(dtrain, iteration=i, fobj=obj)\n"
     ]
    },
    {
     "name": "stdout",
     "output_type": "stream",
     "text": [
      "[CV] END ....learning_rate=0.1, max_depth=7, n_estimators=50; total time=   0.0s\n",
      "[CV] END ....learning_rate=0.1, max_depth=7, n_estimators=50; total time=   0.0s\n",
      "[CV] END ....learning_rate=0.1, max_depth=7, n_estimators=50; total time=   0.0s\n"
     ]
    },
    {
     "name": "stderr",
     "output_type": "stream",
     "text": [
      "c:\\Users\\Domin\\miniconda3\\Lib\\site-packages\\xgboost\\training.py:183: UserWarning: [10:01:18] WARNING: C:\\actions-runner\\_work\\xgboost\\xgboost\\src\\learner.cc:738: \n",
      "Parameters: { \"use_label_encoder\" } are not used.\n",
      "\n",
      "  bst.update(dtrain, iteration=i, fobj=obj)\n",
      "c:\\Users\\Domin\\miniconda3\\Lib\\site-packages\\xgboost\\training.py:183: UserWarning: [10:01:18] WARNING: C:\\actions-runner\\_work\\xgboost\\xgboost\\src\\learner.cc:738: \n",
      "Parameters: { \"use_label_encoder\" } are not used.\n",
      "\n",
      "  bst.update(dtrain, iteration=i, fobj=obj)\n",
      "c:\\Users\\Domin\\miniconda3\\Lib\\site-packages\\xgboost\\training.py:183: UserWarning: [10:01:18] WARNING: C:\\actions-runner\\_work\\xgboost\\xgboost\\src\\learner.cc:738: \n",
      "Parameters: { \"use_label_encoder\" } are not used.\n",
      "\n",
      "  bst.update(dtrain, iteration=i, fobj=obj)\n"
     ]
    },
    {
     "name": "stdout",
     "output_type": "stream",
     "text": [
      "[CV] END ...learning_rate=0.1, max_depth=7, n_estimators=100; total time=   0.0s\n",
      "[CV] END ...learning_rate=0.1, max_depth=7, n_estimators=100; total time=   0.0s\n"
     ]
    },
    {
     "name": "stderr",
     "output_type": "stream",
     "text": [
      "c:\\Users\\Domin\\miniconda3\\Lib\\site-packages\\xgboost\\training.py:183: UserWarning: [10:01:18] WARNING: C:\\actions-runner\\_work\\xgboost\\xgboost\\src\\learner.cc:738: \n",
      "Parameters: { \"use_label_encoder\" } are not used.\n",
      "\n",
      "  bst.update(dtrain, iteration=i, fobj=obj)\n",
      "c:\\Users\\Domin\\miniconda3\\Lib\\site-packages\\xgboost\\training.py:183: UserWarning: [10:01:18] WARNING: C:\\actions-runner\\_work\\xgboost\\xgboost\\src\\learner.cc:738: \n",
      "Parameters: { \"use_label_encoder\" } are not used.\n",
      "\n",
      "  bst.update(dtrain, iteration=i, fobj=obj)\n"
     ]
    },
    {
     "name": "stdout",
     "output_type": "stream",
     "text": [
      "[CV] END ...learning_rate=0.1, max_depth=7, n_estimators=100; total time=   0.0s\n",
      "[CV] END ...learning_rate=0.1, max_depth=7, n_estimators=100; total time=   0.0s\n"
     ]
    },
    {
     "name": "stderr",
     "output_type": "stream",
     "text": [
      "c:\\Users\\Domin\\miniconda3\\Lib\\site-packages\\xgboost\\training.py:183: UserWarning: [10:01:19] WARNING: C:\\actions-runner\\_work\\xgboost\\xgboost\\src\\learner.cc:738: \n",
      "Parameters: { \"use_label_encoder\" } are not used.\n",
      "\n",
      "  bst.update(dtrain, iteration=i, fobj=obj)\n",
      "c:\\Users\\Domin\\miniconda3\\Lib\\site-packages\\xgboost\\training.py:183: UserWarning: [10:01:19] WARNING: C:\\actions-runner\\_work\\xgboost\\xgboost\\src\\learner.cc:738: \n",
      "Parameters: { \"use_label_encoder\" } are not used.\n",
      "\n",
      "  bst.update(dtrain, iteration=i, fobj=obj)\n"
     ]
    },
    {
     "name": "stdout",
     "output_type": "stream",
     "text": [
      "[CV] END ...learning_rate=0.1, max_depth=7, n_estimators=100; total time=   0.0s\n",
      "[CV] END ...learning_rate=0.1, max_depth=7, n_estimators=200; total time=   0.1s\n"
     ]
    },
    {
     "name": "stderr",
     "output_type": "stream",
     "text": [
      "c:\\Users\\Domin\\miniconda3\\Lib\\site-packages\\xgboost\\training.py:183: UserWarning: [10:01:19] WARNING: C:\\actions-runner\\_work\\xgboost\\xgboost\\src\\learner.cc:738: \n",
      "Parameters: { \"use_label_encoder\" } are not used.\n",
      "\n",
      "  bst.update(dtrain, iteration=i, fobj=obj)\n",
      "c:\\Users\\Domin\\miniconda3\\Lib\\site-packages\\xgboost\\training.py:183: UserWarning: [10:01:19] WARNING: C:\\actions-runner\\_work\\xgboost\\xgboost\\src\\learner.cc:738: \n",
      "Parameters: { \"use_label_encoder\" } are not used.\n",
      "\n",
      "  bst.update(dtrain, iteration=i, fobj=obj)\n"
     ]
    },
    {
     "name": "stdout",
     "output_type": "stream",
     "text": [
      "[CV] END ...learning_rate=0.1, max_depth=7, n_estimators=200; total time=   0.1s\n",
      "[CV] END ...learning_rate=0.1, max_depth=7, n_estimators=200; total time=   0.1s\n"
     ]
    },
    {
     "name": "stderr",
     "output_type": "stream",
     "text": [
      "c:\\Users\\Domin\\miniconda3\\Lib\\site-packages\\xgboost\\training.py:183: UserWarning: [10:01:19] WARNING: C:\\actions-runner\\_work\\xgboost\\xgboost\\src\\learner.cc:738: \n",
      "Parameters: { \"use_label_encoder\" } are not used.\n",
      "\n",
      "  bst.update(dtrain, iteration=i, fobj=obj)\n",
      "c:\\Users\\Domin\\miniconda3\\Lib\\site-packages\\xgboost\\training.py:183: UserWarning: [10:01:19] WARNING: C:\\actions-runner\\_work\\xgboost\\xgboost\\src\\learner.cc:738: \n",
      "Parameters: { \"use_label_encoder\" } are not used.\n",
      "\n",
      "  bst.update(dtrain, iteration=i, fobj=obj)\n"
     ]
    },
    {
     "name": "stdout",
     "output_type": "stream",
     "text": [
      "[CV] END ...learning_rate=0.1, max_depth=7, n_estimators=200; total time=   0.1s\n"
     ]
    },
    {
     "name": "stderr",
     "output_type": "stream",
     "text": [
      "c:\\Users\\Domin\\miniconda3\\Lib\\site-packages\\xgboost\\training.py:183: UserWarning: [10:01:20] WARNING: C:\\actions-runner\\_work\\xgboost\\xgboost\\src\\learner.cc:738: \n",
      "Parameters: { \"use_label_encoder\" } are not used.\n",
      "\n",
      "  bst.update(dtrain, iteration=i, fobj=obj)\n"
     ]
    },
    {
     "name": "stdout",
     "output_type": "stream",
     "text": [
      "[CV] END ...learning_rate=0.1, max_depth=7, n_estimators=200; total time=   0.1s\n",
      "[CV] END ....learning_rate=0.2, max_depth=3, n_estimators=50; total time=   0.0s\n",
      "[CV] END ....learning_rate=0.2, max_depth=3, n_estimators=50; total time=   0.0s\n",
      "[CV] END ....learning_rate=0.2, max_depth=3, n_estimators=50; total time=   0.0s\n",
      "[CV] END ....learning_rate=0.2, max_depth=3, n_estimators=50; total time=   0.0s\n",
      "[CV] END ....learning_rate=0.2, max_depth=3, n_estimators=50; total time=   0.0s\n"
     ]
    },
    {
     "name": "stderr",
     "output_type": "stream",
     "text": [
      "c:\\Users\\Domin\\miniconda3\\Lib\\site-packages\\xgboost\\training.py:183: UserWarning: [10:01:20] WARNING: C:\\actions-runner\\_work\\xgboost\\xgboost\\src\\learner.cc:738: \n",
      "Parameters: { \"use_label_encoder\" } are not used.\n",
      "\n",
      "  bst.update(dtrain, iteration=i, fobj=obj)\n",
      "c:\\Users\\Domin\\miniconda3\\Lib\\site-packages\\xgboost\\training.py:183: UserWarning: [10:01:20] WARNING: C:\\actions-runner\\_work\\xgboost\\xgboost\\src\\learner.cc:738: \n",
      "Parameters: { \"use_label_encoder\" } are not used.\n",
      "\n",
      "  bst.update(dtrain, iteration=i, fobj=obj)\n",
      "c:\\Users\\Domin\\miniconda3\\Lib\\site-packages\\xgboost\\training.py:183: UserWarning: [10:01:20] WARNING: C:\\actions-runner\\_work\\xgboost\\xgboost\\src\\learner.cc:738: \n",
      "Parameters: { \"use_label_encoder\" } are not used.\n",
      "\n",
      "  bst.update(dtrain, iteration=i, fobj=obj)\n",
      "c:\\Users\\Domin\\miniconda3\\Lib\\site-packages\\xgboost\\training.py:183: UserWarning: [10:01:20] WARNING: C:\\actions-runner\\_work\\xgboost\\xgboost\\src\\learner.cc:738: \n",
      "Parameters: { \"use_label_encoder\" } are not used.\n",
      "\n",
      "  bst.update(dtrain, iteration=i, fobj=obj)\n",
      "c:\\Users\\Domin\\miniconda3\\Lib\\site-packages\\xgboost\\training.py:183: UserWarning: [10:01:20] WARNING: C:\\actions-runner\\_work\\xgboost\\xgboost\\src\\learner.cc:738: \n",
      "Parameters: { \"use_label_encoder\" } are not used.\n",
      "\n",
      "  bst.update(dtrain, iteration=i, fobj=obj)\n",
      "c:\\Users\\Domin\\miniconda3\\Lib\\site-packages\\xgboost\\training.py:183: UserWarning: [10:01:20] WARNING: C:\\actions-runner\\_work\\xgboost\\xgboost\\src\\learner.cc:738: \n",
      "Parameters: { \"use_label_encoder\" } are not used.\n",
      "\n",
      "  bst.update(dtrain, iteration=i, fobj=obj)\n"
     ]
    },
    {
     "name": "stdout",
     "output_type": "stream",
     "text": [
      "[CV] END ...learning_rate=0.2, max_depth=3, n_estimators=100; total time=   0.0s\n",
      "[CV] END ...learning_rate=0.2, max_depth=3, n_estimators=100; total time=   0.0s\n",
      "[CV] END ...learning_rate=0.2, max_depth=3, n_estimators=100; total time=   0.0s\n",
      "[CV] END ...learning_rate=0.2, max_depth=3, n_estimators=100; total time=   0.0s\n"
     ]
    },
    {
     "name": "stderr",
     "output_type": "stream",
     "text": [
      "c:\\Users\\Domin\\miniconda3\\Lib\\site-packages\\xgboost\\training.py:183: UserWarning: [10:01:20] WARNING: C:\\actions-runner\\_work\\xgboost\\xgboost\\src\\learner.cc:738: \n",
      "Parameters: { \"use_label_encoder\" } are not used.\n",
      "\n",
      "  bst.update(dtrain, iteration=i, fobj=obj)\n",
      "c:\\Users\\Domin\\miniconda3\\Lib\\site-packages\\xgboost\\training.py:183: UserWarning: [10:01:20] WARNING: C:\\actions-runner\\_work\\xgboost\\xgboost\\src\\learner.cc:738: \n",
      "Parameters: { \"use_label_encoder\" } are not used.\n",
      "\n",
      "  bst.update(dtrain, iteration=i, fobj=obj)\n",
      "c:\\Users\\Domin\\miniconda3\\Lib\\site-packages\\xgboost\\training.py:183: UserWarning: [10:01:20] WARNING: C:\\actions-runner\\_work\\xgboost\\xgboost\\src\\learner.cc:738: \n",
      "Parameters: { \"use_label_encoder\" } are not used.\n",
      "\n",
      "  bst.update(dtrain, iteration=i, fobj=obj)\n",
      "c:\\Users\\Domin\\miniconda3\\Lib\\site-packages\\xgboost\\training.py:183: UserWarning: [10:01:20] WARNING: C:\\actions-runner\\_work\\xgboost\\xgboost\\src\\learner.cc:738: \n",
      "Parameters: { \"use_label_encoder\" } are not used.\n",
      "\n",
      "  bst.update(dtrain, iteration=i, fobj=obj)\n"
     ]
    },
    {
     "name": "stdout",
     "output_type": "stream",
     "text": [
      "[CV] END ...learning_rate=0.2, max_depth=3, n_estimators=100; total time=   0.0s\n",
      "[CV] END ...learning_rate=0.2, max_depth=3, n_estimators=200; total time=   0.0s\n"
     ]
    },
    {
     "name": "stderr",
     "output_type": "stream",
     "text": [
      "c:\\Users\\Domin\\miniconda3\\Lib\\site-packages\\xgboost\\training.py:183: UserWarning: [10:01:20] WARNING: C:\\actions-runner\\_work\\xgboost\\xgboost\\src\\learner.cc:738: \n",
      "Parameters: { \"use_label_encoder\" } are not used.\n",
      "\n",
      "  bst.update(dtrain, iteration=i, fobj=obj)\n",
      "c:\\Users\\Domin\\miniconda3\\Lib\\site-packages\\xgboost\\training.py:183: UserWarning: [10:01:20] WARNING: C:\\actions-runner\\_work\\xgboost\\xgboost\\src\\learner.cc:738: \n",
      "Parameters: { \"use_label_encoder\" } are not used.\n",
      "\n",
      "  bst.update(dtrain, iteration=i, fobj=obj)\n"
     ]
    },
    {
     "name": "stdout",
     "output_type": "stream",
     "text": [
      "[CV] END ...learning_rate=0.2, max_depth=3, n_estimators=200; total time=   0.0s\n",
      "[CV] END ...learning_rate=0.2, max_depth=3, n_estimators=200; total time=   0.0s\n"
     ]
    },
    {
     "name": "stderr",
     "output_type": "stream",
     "text": [
      "c:\\Users\\Domin\\miniconda3\\Lib\\site-packages\\xgboost\\training.py:183: UserWarning: [10:01:21] WARNING: C:\\actions-runner\\_work\\xgboost\\xgboost\\src\\learner.cc:738: \n",
      "Parameters: { \"use_label_encoder\" } are not used.\n",
      "\n",
      "  bst.update(dtrain, iteration=i, fobj=obj)\n",
      "c:\\Users\\Domin\\miniconda3\\Lib\\site-packages\\xgboost\\training.py:183: UserWarning: [10:01:21] WARNING: C:\\actions-runner\\_work\\xgboost\\xgboost\\src\\learner.cc:738: \n",
      "Parameters: { \"use_label_encoder\" } are not used.\n",
      "\n",
      "  bst.update(dtrain, iteration=i, fobj=obj)\n"
     ]
    },
    {
     "name": "stdout",
     "output_type": "stream",
     "text": [
      "[CV] END ...learning_rate=0.2, max_depth=3, n_estimators=200; total time=   0.0s\n",
      "[CV] END ...learning_rate=0.2, max_depth=3, n_estimators=200; total time=   0.0s\n",
      "[CV] END ....learning_rate=0.2, max_depth=5, n_estimators=50; total time=   0.0s\n"
     ]
    },
    {
     "name": "stderr",
     "output_type": "stream",
     "text": [
      "c:\\Users\\Domin\\miniconda3\\Lib\\site-packages\\xgboost\\training.py:183: UserWarning: [10:01:21] WARNING: C:\\actions-runner\\_work\\xgboost\\xgboost\\src\\learner.cc:738: \n",
      "Parameters: { \"use_label_encoder\" } are not used.\n",
      "\n",
      "  bst.update(dtrain, iteration=i, fobj=obj)\n",
      "c:\\Users\\Domin\\miniconda3\\Lib\\site-packages\\xgboost\\training.py:183: UserWarning: [10:01:21] WARNING: C:\\actions-runner\\_work\\xgboost\\xgboost\\src\\learner.cc:738: \n",
      "Parameters: { \"use_label_encoder\" } are not used.\n",
      "\n",
      "  bst.update(dtrain, iteration=i, fobj=obj)\n",
      "c:\\Users\\Domin\\miniconda3\\Lib\\site-packages\\xgboost\\training.py:183: UserWarning: [10:01:21] WARNING: C:\\actions-runner\\_work\\xgboost\\xgboost\\src\\learner.cc:738: \n",
      "Parameters: { \"use_label_encoder\" } are not used.\n",
      "\n",
      "  bst.update(dtrain, iteration=i, fobj=obj)\n"
     ]
    },
    {
     "name": "stdout",
     "output_type": "stream",
     "text": [
      "[CV] END ....learning_rate=0.2, max_depth=5, n_estimators=50; total time=   0.0s\n",
      "[CV] END ....learning_rate=0.2, max_depth=5, n_estimators=50; total time=   0.0s\n",
      "[CV] END ....learning_rate=0.2, max_depth=5, n_estimators=50; total time=   0.0s\n",
      "[CV] END ....learning_rate=0.2, max_depth=5, n_estimators=50; total time=   0.0s\n"
     ]
    },
    {
     "name": "stderr",
     "output_type": "stream",
     "text": [
      "c:\\Users\\Domin\\miniconda3\\Lib\\site-packages\\xgboost\\training.py:183: UserWarning: [10:01:21] WARNING: C:\\actions-runner\\_work\\xgboost\\xgboost\\src\\learner.cc:738: \n",
      "Parameters: { \"use_label_encoder\" } are not used.\n",
      "\n",
      "  bst.update(dtrain, iteration=i, fobj=obj)\n",
      "c:\\Users\\Domin\\miniconda3\\Lib\\site-packages\\xgboost\\training.py:183: UserWarning: [10:01:21] WARNING: C:\\actions-runner\\_work\\xgboost\\xgboost\\src\\learner.cc:738: \n",
      "Parameters: { \"use_label_encoder\" } are not used.\n",
      "\n",
      "  bst.update(dtrain, iteration=i, fobj=obj)\n",
      "c:\\Users\\Domin\\miniconda3\\Lib\\site-packages\\xgboost\\training.py:183: UserWarning: [10:01:21] WARNING: C:\\actions-runner\\_work\\xgboost\\xgboost\\src\\learner.cc:738: \n",
      "Parameters: { \"use_label_encoder\" } are not used.\n",
      "\n",
      "  bst.update(dtrain, iteration=i, fobj=obj)\n",
      "c:\\Users\\Domin\\miniconda3\\Lib\\site-packages\\xgboost\\training.py:183: UserWarning: [10:01:21] WARNING: C:\\actions-runner\\_work\\xgboost\\xgboost\\src\\learner.cc:738: \n",
      "Parameters: { \"use_label_encoder\" } are not used.\n",
      "\n",
      "  bst.update(dtrain, iteration=i, fobj=obj)\n"
     ]
    },
    {
     "name": "stdout",
     "output_type": "stream",
     "text": [
      "[CV] END ...learning_rate=0.2, max_depth=5, n_estimators=100; total time=   0.0s\n",
      "[CV] END ...learning_rate=0.2, max_depth=5, n_estimators=100; total time=   0.0s\n",
      "[CV] END ...learning_rate=0.2, max_depth=5, n_estimators=100; total time=   0.0s\n"
     ]
    },
    {
     "name": "stderr",
     "output_type": "stream",
     "text": [
      "c:\\Users\\Domin\\miniconda3\\Lib\\site-packages\\xgboost\\training.py:183: UserWarning: [10:01:21] WARNING: C:\\actions-runner\\_work\\xgboost\\xgboost\\src\\learner.cc:738: \n",
      "Parameters: { \"use_label_encoder\" } are not used.\n",
      "\n",
      "  bst.update(dtrain, iteration=i, fobj=obj)\n",
      "c:\\Users\\Domin\\miniconda3\\Lib\\site-packages\\xgboost\\training.py:183: UserWarning: [10:01:21] WARNING: C:\\actions-runner\\_work\\xgboost\\xgboost\\src\\learner.cc:738: \n",
      "Parameters: { \"use_label_encoder\" } are not used.\n",
      "\n",
      "  bst.update(dtrain, iteration=i, fobj=obj)\n",
      "c:\\Users\\Domin\\miniconda3\\Lib\\site-packages\\xgboost\\training.py:183: UserWarning: [10:01:21] WARNING: C:\\actions-runner\\_work\\xgboost\\xgboost\\src\\learner.cc:738: \n",
      "Parameters: { \"use_label_encoder\" } are not used.\n",
      "\n",
      "  bst.update(dtrain, iteration=i, fobj=obj)\n"
     ]
    },
    {
     "name": "stdout",
     "output_type": "stream",
     "text": [
      "[CV] END ...learning_rate=0.2, max_depth=5, n_estimators=100; total time=   0.0s\n",
      "[CV] END ...learning_rate=0.2, max_depth=5, n_estimators=100; total time=   0.0s\n"
     ]
    },
    {
     "name": "stderr",
     "output_type": "stream",
     "text": [
      "c:\\Users\\Domin\\miniconda3\\Lib\\site-packages\\xgboost\\training.py:183: UserWarning: [10:01:22] WARNING: C:\\actions-runner\\_work\\xgboost\\xgboost\\src\\learner.cc:738: \n",
      "Parameters: { \"use_label_encoder\" } are not used.\n",
      "\n",
      "  bst.update(dtrain, iteration=i, fobj=obj)\n",
      "c:\\Users\\Domin\\miniconda3\\Lib\\site-packages\\xgboost\\training.py:183: UserWarning: [10:01:22] WARNING: C:\\actions-runner\\_work\\xgboost\\xgboost\\src\\learner.cc:738: \n",
      "Parameters: { \"use_label_encoder\" } are not used.\n",
      "\n",
      "  bst.update(dtrain, iteration=i, fobj=obj)\n"
     ]
    },
    {
     "name": "stdout",
     "output_type": "stream",
     "text": [
      "[CV] END ...learning_rate=0.2, max_depth=5, n_estimators=200; total time=   0.1s\n",
      "[CV] END ...learning_rate=0.2, max_depth=5, n_estimators=200; total time=   0.0s\n"
     ]
    },
    {
     "name": "stderr",
     "output_type": "stream",
     "text": [
      "c:\\Users\\Domin\\miniconda3\\Lib\\site-packages\\xgboost\\training.py:183: UserWarning: [10:01:22] WARNING: C:\\actions-runner\\_work\\xgboost\\xgboost\\src\\learner.cc:738: \n",
      "Parameters: { \"use_label_encoder\" } are not used.\n",
      "\n",
      "  bst.update(dtrain, iteration=i, fobj=obj)\n",
      "c:\\Users\\Domin\\miniconda3\\Lib\\site-packages\\xgboost\\training.py:183: UserWarning: [10:01:22] WARNING: C:\\actions-runner\\_work\\xgboost\\xgboost\\src\\learner.cc:738: \n",
      "Parameters: { \"use_label_encoder\" } are not used.\n",
      "\n",
      "  bst.update(dtrain, iteration=i, fobj=obj)\n"
     ]
    },
    {
     "name": "stdout",
     "output_type": "stream",
     "text": [
      "[CV] END ...learning_rate=0.2, max_depth=5, n_estimators=200; total time=   0.0s\n",
      "[CV] END ...learning_rate=0.2, max_depth=5, n_estimators=200; total time=   0.0s\n"
     ]
    },
    {
     "name": "stderr",
     "output_type": "stream",
     "text": [
      "c:\\Users\\Domin\\miniconda3\\Lib\\site-packages\\xgboost\\training.py:183: UserWarning: [10:01:22] WARNING: C:\\actions-runner\\_work\\xgboost\\xgboost\\src\\learner.cc:738: \n",
      "Parameters: { \"use_label_encoder\" } are not used.\n",
      "\n",
      "  bst.update(dtrain, iteration=i, fobj=obj)\n",
      "c:\\Users\\Domin\\miniconda3\\Lib\\site-packages\\xgboost\\training.py:183: UserWarning: [10:01:22] WARNING: C:\\actions-runner\\_work\\xgboost\\xgboost\\src\\learner.cc:738: \n",
      "Parameters: { \"use_label_encoder\" } are not used.\n",
      "\n",
      "  bst.update(dtrain, iteration=i, fobj=obj)\n"
     ]
    },
    {
     "name": "stdout",
     "output_type": "stream",
     "text": [
      "[CV] END ...learning_rate=0.2, max_depth=5, n_estimators=200; total time=   0.0s\n",
      "[CV] END ....learning_rate=0.2, max_depth=7, n_estimators=50; total time=   0.0s\n",
      "[CV] END ....learning_rate=0.2, max_depth=7, n_estimators=50; total time=   0.0s\n",
      "[CV] END ....learning_rate=0.2, max_depth=7, n_estimators=50; total time=   0.0s\n"
     ]
    },
    {
     "name": "stderr",
     "output_type": "stream",
     "text": [
      "c:\\Users\\Domin\\miniconda3\\Lib\\site-packages\\xgboost\\training.py:183: UserWarning: [10:01:22] WARNING: C:\\actions-runner\\_work\\xgboost\\xgboost\\src\\learner.cc:738: \n",
      "Parameters: { \"use_label_encoder\" } are not used.\n",
      "\n",
      "  bst.update(dtrain, iteration=i, fobj=obj)\n",
      "c:\\Users\\Domin\\miniconda3\\Lib\\site-packages\\xgboost\\training.py:183: UserWarning: [10:01:22] WARNING: C:\\actions-runner\\_work\\xgboost\\xgboost\\src\\learner.cc:738: \n",
      "Parameters: { \"use_label_encoder\" } are not used.\n",
      "\n",
      "  bst.update(dtrain, iteration=i, fobj=obj)\n",
      "c:\\Users\\Domin\\miniconda3\\Lib\\site-packages\\xgboost\\training.py:183: UserWarning: [10:01:22] WARNING: C:\\actions-runner\\_work\\xgboost\\xgboost\\src\\learner.cc:738: \n",
      "Parameters: { \"use_label_encoder\" } are not used.\n",
      "\n",
      "  bst.update(dtrain, iteration=i, fobj=obj)\n",
      "c:\\Users\\Domin\\miniconda3\\Lib\\site-packages\\xgboost\\training.py:183: UserWarning: [10:01:23] WARNING: C:\\actions-runner\\_work\\xgboost\\xgboost\\src\\learner.cc:738: \n",
      "Parameters: { \"use_label_encoder\" } are not used.\n",
      "\n",
      "  bst.update(dtrain, iteration=i, fobj=obj)\n"
     ]
    },
    {
     "name": "stdout",
     "output_type": "stream",
     "text": [
      "[CV] END ....learning_rate=0.2, max_depth=7, n_estimators=50; total time=   0.0s\n",
      "[CV] END ....learning_rate=0.2, max_depth=7, n_estimators=50; total time=   0.0s\n",
      "[CV] END ...learning_rate=0.2, max_depth=7, n_estimators=100; total time=   0.0s\n"
     ]
    },
    {
     "name": "stderr",
     "output_type": "stream",
     "text": [
      "c:\\Users\\Domin\\miniconda3\\Lib\\site-packages\\xgboost\\training.py:183: UserWarning: [10:01:23] WARNING: C:\\actions-runner\\_work\\xgboost\\xgboost\\src\\learner.cc:738: \n",
      "Parameters: { \"use_label_encoder\" } are not used.\n",
      "\n",
      "  bst.update(dtrain, iteration=i, fobj=obj)\n",
      "c:\\Users\\Domin\\miniconda3\\Lib\\site-packages\\xgboost\\training.py:183: UserWarning: [10:01:23] WARNING: C:\\actions-runner\\_work\\xgboost\\xgboost\\src\\learner.cc:738: \n",
      "Parameters: { \"use_label_encoder\" } are not used.\n",
      "\n",
      "  bst.update(dtrain, iteration=i, fobj=obj)\n",
      "c:\\Users\\Domin\\miniconda3\\Lib\\site-packages\\xgboost\\training.py:183: UserWarning: [10:01:23] WARNING: C:\\actions-runner\\_work\\xgboost\\xgboost\\src\\learner.cc:738: \n",
      "Parameters: { \"use_label_encoder\" } are not used.\n",
      "\n",
      "  bst.update(dtrain, iteration=i, fobj=obj)\n"
     ]
    },
    {
     "name": "stdout",
     "output_type": "stream",
     "text": [
      "[CV] END ...learning_rate=0.2, max_depth=7, n_estimators=100; total time=   0.0s\n",
      "[CV] END ...learning_rate=0.2, max_depth=7, n_estimators=100; total time=   0.0s\n",
      "[CV] END ...learning_rate=0.2, max_depth=7, n_estimators=100; total time=   0.0s\n"
     ]
    },
    {
     "name": "stderr",
     "output_type": "stream",
     "text": [
      "c:\\Users\\Domin\\miniconda3\\Lib\\site-packages\\xgboost\\training.py:183: UserWarning: [10:01:23] WARNING: C:\\actions-runner\\_work\\xgboost\\xgboost\\src\\learner.cc:738: \n",
      "Parameters: { \"use_label_encoder\" } are not used.\n",
      "\n",
      "  bst.update(dtrain, iteration=i, fobj=obj)\n",
      "c:\\Users\\Domin\\miniconda3\\Lib\\site-packages\\xgboost\\training.py:183: UserWarning: [10:01:23] WARNING: C:\\actions-runner\\_work\\xgboost\\xgboost\\src\\learner.cc:738: \n",
      "Parameters: { \"use_label_encoder\" } are not used.\n",
      "\n",
      "  bst.update(dtrain, iteration=i, fobj=obj)\n",
      "c:\\Users\\Domin\\miniconda3\\Lib\\site-packages\\xgboost\\training.py:183: UserWarning: [10:01:23] WARNING: C:\\actions-runner\\_work\\xgboost\\xgboost\\src\\learner.cc:738: \n",
      "Parameters: { \"use_label_encoder\" } are not used.\n",
      "\n",
      "  bst.update(dtrain, iteration=i, fobj=obj)\n"
     ]
    },
    {
     "name": "stdout",
     "output_type": "stream",
     "text": [
      "[CV] END ...learning_rate=0.2, max_depth=7, n_estimators=100; total time=   0.0s\n",
      "[CV] END ...learning_rate=0.2, max_depth=7, n_estimators=200; total time=   0.0s\n"
     ]
    },
    {
     "name": "stderr",
     "output_type": "stream",
     "text": [
      "c:\\Users\\Domin\\miniconda3\\Lib\\site-packages\\xgboost\\training.py:183: UserWarning: [10:01:23] WARNING: C:\\actions-runner\\_work\\xgboost\\xgboost\\src\\learner.cc:738: \n",
      "Parameters: { \"use_label_encoder\" } are not used.\n",
      "\n",
      "  bst.update(dtrain, iteration=i, fobj=obj)\n",
      "c:\\Users\\Domin\\miniconda3\\Lib\\site-packages\\xgboost\\training.py:183: UserWarning: [10:01:23] WARNING: C:\\actions-runner\\_work\\xgboost\\xgboost\\src\\learner.cc:738: \n",
      "Parameters: { \"use_label_encoder\" } are not used.\n",
      "\n",
      "  bst.update(dtrain, iteration=i, fobj=obj)\n"
     ]
    },
    {
     "name": "stdout",
     "output_type": "stream",
     "text": [
      "[CV] END ...learning_rate=0.2, max_depth=7, n_estimators=200; total time=   0.1s\n",
      "[CV] END ...learning_rate=0.2, max_depth=7, n_estimators=200; total time=   0.0s\n"
     ]
    },
    {
     "name": "stderr",
     "output_type": "stream",
     "text": [
      "c:\\Users\\Domin\\miniconda3\\Lib\\site-packages\\xgboost\\training.py:183: UserWarning: [10:01:23] WARNING: C:\\actions-runner\\_work\\xgboost\\xgboost\\src\\learner.cc:738: \n",
      "Parameters: { \"use_label_encoder\" } are not used.\n",
      "\n",
      "  bst.update(dtrain, iteration=i, fobj=obj)\n",
      "c:\\Users\\Domin\\miniconda3\\Lib\\site-packages\\xgboost\\training.py:183: UserWarning: [10:01:24] WARNING: C:\\actions-runner\\_work\\xgboost\\xgboost\\src\\learner.cc:738: \n",
      "Parameters: { \"use_label_encoder\" } are not used.\n",
      "\n",
      "  bst.update(dtrain, iteration=i, fobj=obj)\n"
     ]
    },
    {
     "name": "stdout",
     "output_type": "stream",
     "text": [
      "[CV] END ...learning_rate=0.2, max_depth=7, n_estimators=200; total time=   0.0s\n",
      "[CV] END ...learning_rate=0.2, max_depth=7, n_estimators=200; total time=   0.0s\n"
     ]
    },
    {
     "name": "stderr",
     "output_type": "stream",
     "text": [
      "c:\\Users\\Domin\\miniconda3\\Lib\\site-packages\\xgboost\\training.py:183: UserWarning: [10:01:24] WARNING: C:\\actions-runner\\_work\\xgboost\\xgboost\\src\\learner.cc:738: \n",
      "Parameters: { \"use_label_encoder\" } are not used.\n",
      "\n",
      "  bst.update(dtrain, iteration=i, fobj=obj)\n",
      "c:\\Users\\Domin\\miniconda3\\Lib\\site-packages\\xgboost\\training.py:183: UserWarning: [10:01:24] WARNING: C:\\actions-runner\\_work\\xgboost\\xgboost\\src\\learner.cc:738: \n",
      "Parameters: { \"use_label_encoder\" } are not used.\n",
      "\n",
      "  bst.update(dtrain, iteration=i, fobj=obj)\n"
     ]
    },
    {
     "name": "stdout",
     "output_type": "stream",
     "text": [
      "Hyperparameter tuning complete.\n",
      "Best parameters found: {'learning_rate': 0.1, 'max_depth': 3, 'n_estimators': 200}\n",
      "              precision    recall  f1-score   support\n",
      "\n",
      "  Inspection       0.90      0.86      0.88        51\n",
      "     Reading       0.98      0.94      0.96        50\n",
      "      Search       0.85      0.92      0.88        48\n",
      "\n",
      "    accuracy                           0.91       149\n",
      "   macro avg       0.91      0.91      0.91       149\n",
      "weighted avg       0.91      0.91      0.91       149\n",
      "\n"
     ]
    },
    {
     "data": {
      "image/png": "[encoded data removed]",
      "text/plain": [
       "<Figure size 800x800 with 2 Axes>"
      ]
     },
     "metadata": {},
     "output_type": "display_data"
    },
    {
     "data": {
      "image/png": "[encoded data removed]",
      "text/plain": [
       "<Figure size 1200x800 with 1 Axes>"
      ]
     },
     "metadata": {},
     "output_type": "display_data"
    },
    {
     "name": "stdout",
     "output_type": "stream",
     "text": [
      "New Data:\n"
     ]
    },
    {
     "data": {
      "text/html": [
       "<div>\n",
       "<style scoped>\n",
       "    .dataframe tbody tr th:only-of-type {\n",
       "        vertical-align: middle;\n",
       "    }\n",
       "\n",
       "    .dataframe tbody tr th {\n",
       "        vertical-align: top;\n",
       "    }\n",
       "\n",
       "    .dataframe thead th {\n",
       "        text-align: right;\n",
       "    }\n",
       "</style>\n",
       "<table border=\"1\" class=\"dataframe\">\n",
       "  <thead>\n",
       "    <tr style=\"text-align: right;\">\n",
       "      <th></th>\n",
       "      <th>meanFix</th>\n",
       "      <th>minFix</th>\n",
       "      <th>maxFix</th>\n",
       "      <th>varFix</th>\n",
       "      <th>stdFix</th>\n",
       "      <th>meanDis</th>\n",
       "      <th>minDis</th>\n",
       "      <th>maxDis</th>\n",
       "      <th>varDis</th>\n",
       "      <th>stdDisp</th>\n",
       "      <th>freqDisPerSec</th>\n",
       "      <th>number_of_blinks</th>\n",
       "      <th>blinkMean</th>\n",
       "      <th>blinkMin</th>\n",
       "      <th>blinkMax</th>\n",
       "      <th>blinkRate</th>\n",
       "      <th>xDir</th>\n",
       "      <th>yDir</th>\n",
       "      <th>fixDensPerBB</th>\n",
       "    </tr>\n",
       "  </thead>\n",
       "  <tbody>\n",
       "    <tr>\n",
       "      <th>592</th>\n",
       "      <td>205.661972</td>\n",
       "      <td>100</td>\n",
       "      <td>533</td>\n",
       "      <td>9537.484105</td>\n",
       "      <td>97.660044</td>\n",
       "      <td>0.056566</td>\n",
       "      <td>0.027956</td>\n",
       "      <td>0.171223</td>\n",
       "      <td>0.001436</td>\n",
       "      <td>0.037890</td>\n",
       "      <td>3.55</td>\n",
       "      <td>37</td>\n",
       "      <td>658.486486</td>\n",
       "      <td>33</td>\n",
       "      <td>5700</td>\n",
       "      <td>1.85</td>\n",
       "      <td>0.485714</td>\n",
       "      <td>0.542857</td>\n",
       "      <td>752.049274</td>\n",
       "    </tr>\n",
       "    <tr>\n",
       "      <th>247</th>\n",
       "      <td>209.864865</td>\n",
       "      <td>100</td>\n",
       "      <td>766</td>\n",
       "      <td>15951.342342</td>\n",
       "      <td>126.298624</td>\n",
       "      <td>0.050212</td>\n",
       "      <td>0.009626</td>\n",
       "      <td>0.189534</td>\n",
       "      <td>0.001227</td>\n",
       "      <td>0.035023</td>\n",
       "      <td>3.70</td>\n",
       "      <td>3</td>\n",
       "      <td>3067.000000</td>\n",
       "      <td>267</td>\n",
       "      <td>8500</td>\n",
       "      <td>0.30</td>\n",
       "      <td>0.555556</td>\n",
       "      <td>0.500000</td>\n",
       "      <td>406.518106</td>\n",
       "    </tr>\n",
       "  </tbody>\n",
       "</table>\n",
       "</div>"
      ],
      "text/plain": [
       "        meanFix  minFix  maxFix        varFix      stdFix   meanDis    minDis  \\\n",
       "592  205.661972     100     533   9537.484105   97.660044  0.056566  0.027956   \n",
       "247  209.864865     100     766  15951.342342  126.298624  0.050212  0.009626   \n",
       "\n",
       "       maxDis    varDis   stdDisp  freqDisPerSec  number_of_blinks  \\\n",
       "592  0.171223  0.001436  0.037890           3.55                37   \n",
       "247  0.189534  0.001227  0.035023           3.70                 3   \n",
       "\n",
       "       blinkMean  blinkMin  blinkMax  blinkRate      xDir      yDir  \\\n",
       "592   658.486486        33      5700       1.85  0.485714  0.542857   \n",
       "247  3067.000000       267      8500       0.30  0.555556  0.500000   \n",
       "\n",
       "     fixDensPerBB  \n",
       "592    752.049274  \n",
       "247    406.518106  "
      ]
     },
     "metadata": {},
     "output_type": "display_data"
    },
    {
     "name": "stdout",
     "output_type": "stream",
     "text": [
      "Predicted Activities:\n",
      "['Inspection' 'Inspection']\n",
      "Prediction Probabilities:\n",
      "[[9.8661697e-01 9.5589719e-05 1.3287419e-02]\n",
      " [9.8577940e-01 2.3982699e-04 1.3980791e-02]]\n"
     ]
    }
   ],
   "source": [
    "!pip install matplotlib\n",
    "#%run -i AnSVMClassifierForHL2GazeFeatures.ipynb\n",
    "%run -i OptimizedGazeClassifier.ipynb"
   ]
  },
  {
   "attachments": {},
   "cell_type": "markdown",
   "id": "9682dbc1",
   "metadata": {},
   "source": [
    "## Predict the class for the last arrived data chunk"
   ]
  },
  {
   "cell_type": "code",
   "execution_count": 6,
   "id": "5c8d8857",
   "metadata": {},
   "outputs": [],
   "source": [
    "row_counter = 0\n",
    "\n",
    "def normalize_values(df): \n",
    "    scaled = scaler.transform(df)\n",
    "    scaled_df = pd.DataFrame(scaled, columns=df.columns)\n",
    "    print(\"Normalized Features:\")\n",
    "    display(scaled_df)\n",
    "    return scaled_df\n",
    "\n",
    "def predict_class_for_last_chunk(feature_file_path):\n",
    "    if os.stat(feature_file_path).st_size != 0:\n",
    "        df = pd.read_csv(feature_file_path)\n",
    "        cur_number_of_rows = df.shape[0]\n",
    "        # only continue if we have a new row\n",
    "        if cur_number_of_rows > row_counter:\n",
    "            last_row = df.tail(1)\n",
    "            display(last_row)\n",
    "            \n",
    "            lr_features = last_row.drop(columns=['label', 'duration', 'participant_id'])\n",
    "            last_row_normalized = normalize_values(lr_features)\n",
    "            \n",
    "            classes = le.classes_\n",
    "            \n",
    "            pred_prob = best_model.predict_proba(last_row_normalized)\n",
    "            pred_class = best_model.predict(last_row_normalized)\n",
    "            \n",
    "            pred_list = pred_prob[0]\n",
    "            max_prob = max(pred_list)\n",
    "            max_index = list(pred_list).index(max_prob)\n",
    "            final_class = classes[max_index]\n",
    "            \n",
    "            print(f\"Predicted class: {final_class}, probability: {max_prob}\")\n",
    "            \n",
    "            if max_prob > 0.5:\n",
    "                send_activity(final_class, max_prob)\n",
    "\n",
    "# predict_class_for_last_chunk(\"./OnlineFeatureFiles/feature_list_P001.csv\")"
   ]
  },
  {
   "cell_type": "code",
   "execution_count": 70,
   "id": "d9a2532e",
   "metadata": {},
   "outputs": [],
   "source": [
    "row_counter = 0\n",
    "classes = [\"Inspection\", \"Reading\", \"Search\"]\n",
    "kernels = [linear, poly, rbf, sig]\n",
    "def predict_class_for_last_chunk(feature_file_path):\n",
    "    if os.stat(feature_file_path).st_size != 0:\n",
    "        df = pd.read_csv(feature_file_path)\n",
    "        cur_number_of_rows = df.shape[0]\n",
    "        # only continue if we have a new row\n",
    "        if cur_number_of_rows > row_counter:\n",
    "            last_row = df.tail(1)\n",
    "            display(last_row)\n",
    "            \n",
    "            lr_features= last_row[[\"meanFix\", \"maxFix\", \"varFix\", \"xDir\", \"yDir\", \"fixDensPerBB\"]]\n",
    "            last_row = normalize_values(lr_features)\n",
    "            \n",
    "            classes = linear.classes_\n",
    "            # print(f\"\\n---\\nclasses: {classes}\")\n",
    "            \n",
    "            results = {}\n",
    "            \n",
    "            for kernel in kernels:\n",
    "                new_pred_prob = kernel.predict_proba(last_row)\n",
    "                new_pred_class = kernel.predict(last_row)\n",
    "                # print(\"\\n---\\nNew Prediction:\")\n",
    "                display(new_pred_prob)\n",
    "                display(new_pred_class)\n",
    "                pred_list = new_pred_prob.tolist()[0]\n",
    "                max_prob = max(pred_list)\n",
    "                # print(f\"max_prob: {max_prob}\")\n",
    "                max_index = pred_list.index(max_prob)\n",
    "                # print(f\"max_index: {max_prob}\")\n",
    "                results[kernel.kernel] = {\"pred_class\": new_pred_class[0], \"max_prob\": max_prob, \"max_index\": max_index }\n",
    "                # results[kernel.kernel] = [new_pred_class[0], max_prob, max_index ]\n",
    "                \n",
    "            display(results)\n",
    "        \n",
    "            \n",
    "            max_proba = {max(float(d['max_prob']) for d in results.values())}\n",
    "            key = [i for i in results if results[i]['max_prob']==max_proba]\n",
    "            # print(f\"max_proba: {max_proba}, key: {key}\")\n",
    "            predicts = [d['pred_class'] for d in results.values()]\n",
    "            final_class_from_predict = max(set(predicts), key = predicts.count)\n",
    "            # print(f\"final_class_from_predict: {final_class_from_predict}\")\n",
    "            \n",
    "            \n",
    "            new_linear_pred_prob = linear.predict_proba(last_row)\n",
    "            new_linear_pred_class = linear.predict(last_row)\n",
    "            # print(\"\\n---\\nNew Linear Prediction:\")\n",
    "            # display(new_linear_pred_prob)\n",
    "            # display(new_linear_pred_class)\n",
    "            lin_list = new_linear_pred_prob.tolist()[0]\n",
    "            lin_max_prob = max(lin_list)\n",
    "            # print(f\"lin_max_prob: {lin_max_prob}\")\n",
    "            lin_max_index = lin_list.index(lin_max_prob)\n",
    "            # print(f\"lin_max_index: {lin_max_index}\")\n",
    "\n",
    "            new_poly_pred_prob = poly.predict_proba(last_row)\n",
    "            new_poly_pred_class = poly.predict(last_row)\n",
    "            # print(\"\\n---\\nNew Poly Prediction:\")\n",
    "            # display(new_poly_pred_prob)\n",
    "            # display(new_poly_pred_class)\n",
    "            poly_list = new_poly_pred_prob.tolist()[0]\n",
    "            poly_max_prob = max(poly_list)\n",
    "            # print(f\"poly_max_prob: {poly_max_prob}\")\n",
    "            poly_max_index = poly_list.index(poly_max_prob)\n",
    "            # print(f\"poly_max_index: {poly_max_index}\")\n",
    "\n",
    "            new_rbf_pred_prob = rbf.predict_proba(last_row)\n",
    "            new_rbf_pred_class = rbf.predict(last_row)\n",
    "            # print(\"\\n---\\nNew RBF Prediction:\")\n",
    "            # display(new_rbf_pred_prob)\n",
    "            # display(new_rbf_pred_class)\n",
    "            rbf_list = new_rbf_pred_prob.tolist()[0]\n",
    "            rbf_max_prob = max(rbf_list)\n",
    "            # print(f\"rbf_max_prob: {rbf_max_prob}\")\n",
    "            rbf_max_index = rbf_list.index(rbf_max_prob)\n",
    "            # print(f\"rbf_max_index: {rbf_max_index}\")\n",
    "            \n",
    "\n",
    "            new_sig_pred_prob = sig.predict_proba(last_row)\n",
    "            new_sig_pred_class = sig.predict(last_row)\n",
    "            # print(\"\\n---\\nNew Sig Prediction:\")\n",
    "            # display(new_sig_pred_prob)\n",
    "            # display(new_sig_pred_class)\n",
    "            sig_list = new_sig_pred_prob.tolist()[0]\n",
    "            sig_max_prob = max(sig_list)\n",
    "            # print(f\"sig_max_prob: {sig_max_prob}\")\n",
    "            sig_max_index = sig_list.index(sig_max_prob)\n",
    "            # print(f\"sig_max_index: {sig_max_index}\")\n",
    "            \n",
    "            print(\"----------------\")\n",
    "            max_probs = { lin_max_prob: lin_max_index, poly_max_prob: poly_max_index,\n",
    "                        rbf_max_prob: rbf_max_index}\n",
    "            \n",
    "            max_prediction_value = max(max_probs, key=float)\n",
    "            # print(max_prediction_value)\n",
    "            final_max_index = max_probs[max_prediction_value]\n",
    "            final_class_from_probs = classes[final_max_index]\n",
    "            \n",
    "            # print(f\"final_class_from_probs: {final_class_from_probs}\")\n",
    "            \n",
    "            predicts = [new_linear_pred_class[0], new_poly_pred_class[0], new_rbf_pred_class[0]]\n",
    "            final_class_from_predict = max(set(predicts), key = predicts.count)\n",
    "            # print(f\"final_class_from_predict: {final_class_from_predict}\")\n",
    "            \n",
    "            \n",
    "            same_class_predicted = (final_class_from_probs == final_class_from_predict)\n",
    "            # print(f\"same_class_predicted: {same_class_predicted}\")\n",
    "            \n",
    "            if (same_class_predicted and max_prediction_value > 0.5):\n",
    "                # send request to HL2 with class and probability\n",
    "                send_activity(final_class_from_probs, max_prediction_value)\n",
    "            \n",
    "# predict_class_for_last_chunk(\"FeatureFiles/feature_list_P09.csv\")"
   ]
  },
  {
   "attachments": {},
   "cell_type": "markdown",
   "id": "7abd846c",
   "metadata": {},
   "source": [
    "## Send the recognized activity back to the HoloLens 2 \n",
    "\n",
    "⚠️ Make sure to set the correct IP address for the HL2!\n",
    "\n",
    "If you run the app via Holographic remoting, this is your PC's IP address."
   ]
  },
  {
   "cell_type": "code",
   "execution_count": 8,
   "id": "cb7a32fc",
   "metadata": {},
   "outputs": [],
   "source": [
    "import urllib.parse\n",
    "import requests\n",
    "import random\n",
    "import time\n",
    "\n",
    "# Remember to change the IP address and port if needed!\n",
    "# Start the HL2 app first, an input the url and port that you see in MR here\n",
    "holo_url = \"http://192.168.1.73:56689\"\n",
    "\n",
    "def send_activity(activity, probability):\n",
    "\n",
    "    url = \"{}/?activity={}&probability={}\".format(str(holo_url), str(activity), str(probability))\n",
    "    print(url)\n",
    "\n",
    "    try:\n",
    "        r = requests.get(url, timeout=120)\n",
    "        print(r)\n",
    "        if r.status_code == 200:\n",
    "            print(\"Notified Hololens about activity {}\".format(activity))\n",
    "        else:\n",
    "            print(\"Request {} failed with status code {}\".format(url, r.status_code))\n",
    "    except requests.ConnectionError as e:\n",
    "        print(\"OOPS!! Connection Error. Make sure you are connected to Internet. Technical Details given below.\\n\")\n",
    "        print(str(e))\n",
    "    except requests.Timeout as e:\n",
    "        print(\"OOPS!! Timeout Error\")\n",
    "        print(str(e))\n",
    "    except requests.RequestException as e:\n",
    "        print(\"OOPS!! General Error\")\n",
    "        print(str(e))\n",
    "\n",
    "    else:\n",
    "        return\n",
    "\n",
    "def create_and_send_test_data():\n",
    "    activities = [\"reading\", \"writing\", \"searching\", \"inspecting\"]\n",
    "    a = random.randint(0, 3)\n",
    "    activity = activities[a]\n",
    "    confidence = random.uniform(0, 1)\n",
    "    print(f\"{activity}: {confidence}\")\n",
    "    send_activity(activity, confidence)\n",
    "\n",
    "\n",
    "def sender():\n",
    "    start_time = time.time()\n",
    "    interval = 5\n",
    "    for i in range(20):\n",
    "        time.sleep(start_time + i * interval - time.time())\n",
    "        create_and_send_test_data()\n",
    "        print(\"sent data\")\n",
    "\n",
    "def send_this_desktop_ip_to_holo(desktop_ip, port):\n",
    "    \n",
    "    desktop_ip = urllib.parse.quote(desktop_ip)\n",
    "\n",
    "    url = \"{}/?desktopip={}&port={}\".format(str(holo_url), str(desktop_ip), str(port))\n",
    "    print(url)\n",
    "\n",
    "    try:\n",
    "        r = requests.get(url, timeout=60)\n",
    "        print(r)\n",
    "        if r.status_code == 200:\n",
    "            print(\"Notified Hololens about IP address {}\".format(desktop_ip))\n",
    "        else:\n",
    "            print(\"Request {} failed with status code {}\".format(url, r.status_code))\n",
    "    except requests.ConnectionError as e:\n",
    "        print(\"OOPS!! Connection Error. Make sure you are connected to Internet. Technical Details given below.\\n\")\n",
    "        print(str(e))\n",
    "    except requests.Timeout as e:\n",
    "        print(\"OOPS!! Timeout Error\")\n",
    "        print(str(e))\n",
    "    except requests.RequestException as e:\n",
    "        print(\"OOPS!! General Error\")\n",
    "        print(str(e))\n",
    "\n",
    "    else:\n",
    "        return\n",
    "    \n",
    "    \n",
    "# if __name__ == '__main__':\n",
    "    # sender()\n"
   ]
  },
  {
   "attachments": {},
   "cell_type": "markdown",
   "id": "ebc030f0",
   "metadata": {},
   "source": [
    "## Send this desktop's IP address to the HL2\n",
    "This enables the HL2 to send the gaze data correctly to the computer where this script is running.\n",
    "Make sure to enter your computer's IP-address and a free port."
   ]
  },
  {
   "cell_type": "code",
   "execution_count": 9,
   "id": "ca36ec51",
   "metadata": {},
   "outputs": [
    {
     "name": "stdout",
     "output_type": "stream",
     "text": [
      "Free port found: 61306\n"
     ]
    }
   ],
   "source": [
    "import socket\n",
    "\n",
    "def find_free_port():\n",
    "    with socket.socket(socket.AF_INET, socket.SOCK_STREAM) as s:\n",
    "        s.bind(('', 0))  # 0 means to select an arbitrary unused port\n",
    "        return s.getsockname()[1]\n",
    "\n",
    "free_port = find_free_port()\n",
    "print(f\"Free port found: {free_port}\")"
   ]
  },
  {
   "cell_type": "code",
   "execution_count": 15,
   "id": "048d8318",
   "metadata": {},
   "outputs": [
    {
     "name": "stdout",
     "output_type": "stream",
     "text": [
      "http://192.168.1.73:56689/?desktopip=192.168.1.73&port=61306\n",
      "<Response [200]>\n",
      "Notified Hololens about IP address 192.168.1.73\n"
     ]
    }
   ],
   "source": [
    "ipaddress = \"192.168.1.73\"\n",
    "# ipaddress = \"localhost\"\n",
    "# ipaddress = \"130.82.27.178\"\n",
    "send_this_desktop_ip_to_holo(ipaddress, free_port)"
   ]
  },
  {
   "attachments": {},
   "cell_type": "markdown",
   "id": "d9268036",
   "metadata": {},
   "source": [
    "## Run a simple Flask server that receives the raw gaze data from the HL2\n",
    "Make sure to enter your computer's IP-address and a suitable port in the last line. \\\n",
    "Note: `0.0.0.0` as IP address lets the server listen on all its IP addresses, usually 127.0.0.1 and the public IP address."
   ]
  },
  {
   "cell_type": "code",
   "execution_count": null,
   "id": "f1d07b2a",
   "metadata": {},
   "outputs": [
    {
     "name": "stderr",
     "output_type": "stream",
     "text": [
      "INFO:waitress:Serving on http://0.0.0.0:61306\n"
     ]
    }
   ],
   "source": [
    "#!pip install flask-executor waitress\n",
    "from flask_executor import Executor\n",
    "\n",
    "import logging\n",
    "logger = logging.getLogger('waitress')\n",
    "logger.setLevel(logging.DEBUG)\n",
    "\n",
    "app = Flask(__name__)\n",
    "executor = Executor(app)\n",
    "\n",
    "@app.route('/', methods=['POST', 'PUT'])\n",
    "def result():\n",
    "    new_csv = request.files[\"gazedata\"].read()\n",
    "    filename = request.form[\"filename\"]\n",
    "    print(f\"filename: {filename}\")\n",
    "    filepath = os.path.join(\"./OnlineGazeDataChunks/\", filename)\n",
    "    print(f\"filepath: {filepath}\")\n",
    "    outF = open(filepath, \"wb\")\n",
    "    outF.write(new_csv)\n",
    "    executor.submit(start_feature_calculation,filepath)\n",
    "    return 'Received !'  \n",
    "\n",
    "# '''\n",
    "def start_feature_calculation(filepath):\n",
    "    print(\"start fc for: \", filepath)\n",
    "    if os.stat(filepath).st_size != 0:\n",
    "        print(f\"File {filepath} is not empty, start feature calculation\")\n",
    "        feature_file_path = csv_to_features(filepath)\n",
    "        if os.stat(feature_file_path).st_size != 0:\n",
    "            print(\"start prediction for: \", feature_file_path)\n",
    "            predict_class_for_last_chunk(feature_file_path)\n",
    "        else:\n",
    "            print(f\"File {feature_file_path} is empty!\")\n",
    "    else:\n",
    "        print(f\"File {filepath} is empty!\")\n",
    "# '''\n",
    "\n",
    "if __name__ == '__main__':\n",
    "    from waitress import serve\n",
    "    serve(app, listen=f\"0.0.0.0:{free_port}\")\n",
    "    # serve(app, listen=\"192.168.1.73:61306\")"
   ]
  },
  {
   "cell_type": "code",
   "execution_count": null,
   "id": "a290c0b7",
   "metadata": {},
   "outputs": [],
   "source": []
  }
 ],
 "metadata": {
  "kernelspec": {
   "display_name": "base",
   "language": "python",
   "name": "python3"
  },
  "language_info": {
   "codemirror_mode": {
    "name": "ipython",
    "version": 3
   },
   "file_extension": ".py",
   "mimetype": "text/x-python",
   "name": "python",
   "nbconvert_exporter": "python",
   "pygments_lexer": "ipython3",
   "version": "3.13.5"
  }
 },
 "nbformat": 4,
 "nbformat_minor": 5
}
