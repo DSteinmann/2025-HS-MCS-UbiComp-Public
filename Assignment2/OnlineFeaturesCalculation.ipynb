{
 "cells": [
  {
   "attachments": {},
   "cell_type": "markdown",
   "id": "7420f93f",
   "metadata": {},
   "source": [
    "# (Pseudo-) Online Feature Calculation\n",
    "\n",
    "This notebook is used to receive data from the HoloLens 2. The data is chunked in 10 second pieces."
   ]
  },
  {
   "cell_type": "code",
   "execution_count": 53,
   "id": "34a494ed",
   "metadata": {},
   "outputs": [],
   "source": [
    "from flask import Flask, request\n",
    "import json\n",
    "import requests\n",
    "import os\n",
    "import pandas as pd"
   ]
  },
  {
   "attachments": {},
   "cell_type": "markdown",
   "id": "fc384884",
   "metadata": {},
   "source": [
    "## Read the data from the newly arrived csv-file and call the feature calculation"
   ]
  },
  {
   "attachments": {},
   "cell_type": "markdown",
   "id": "350e695e",
   "metadata": {},
   "source": [
    "### Run FeaturesCalculation notebook to make its function accessible here"
   ]
  },
  {
   "cell_type": "code",
   "execution_count": 54,
   "id": "7cda22c3",
   "metadata": {},
   "outputs": [],
   "source": [
    "%run -i FeatureCalculation.ipynb"
   ]
  },
  {
   "attachments": {},
   "cell_type": "markdown",
   "id": "25237aa8",
   "metadata": {},
   "source": [
    "## Calculate the features and save them as csv\n",
    "See `FeaturesCalculation.ipynb`for more details."
   ]
  },
  {
   "cell_type": "code",
   "execution_count": 55,
   "id": "46c2ab4b",
   "metadata": {},
   "outputs": [],
   "source": [
    "def calculate_features_for_10s_chunk(newdf):\n",
    "    list_of_features = []\n",
    "    newdf_valid = only_valid_data(newdf)\n",
    "    if (len(newdf_valid) > 1):\n",
    "        df_fixations = get_fixation_df(newdf_valid)\n",
    "        features = calculate_fixation_features(df_fixations, 10)\n",
    "        blinks = calculate_blink_features(newdf,10)\n",
    "        directions = calculate_directions_of_list(df_fixations) \n",
    "        density = calculate_fixation_density(newdf_valid, df_fixations)\n",
    "        features.update(blinks)\n",
    "        features.update(directions)\n",
    "        features.update(density)\n",
    "        features[\"label\"] = \"\"\n",
    "        features[\"duration\"] = \"10\"\n",
    "        features[\"participant_id\"] = \"002\"            \n",
    "        list_of_features.append(features)  \n",
    "        flat_ls = [item for sublist in list_of_features for item in sublist]\n",
    "        feature_file_path = save_as_csv(list_of_features, \"001\", './OnlineFeatureFiles/')\n",
    "        return feature_file_path"
   ]
  },
  {
   "cell_type": "code",
   "execution_count": 56,
   "id": "c5b2bdbc",
   "metadata": {},
   "outputs": [],
   "source": [
    "def csv_to_features(gaze_data_file_path):\n",
    "    # continue only if the csv-file contains data\n",
    "    if os.stat(gaze_data_file_path).st_size != 0:\n",
    "        df = pd.read_csv(gaze_data_file_path)\n",
    "        feature_file_path = calculate_features_for_10s_chunk(df)\n",
    "        print(f\"Feature calculation done for: {gaze_data_file_path}\")\n",
    "        print(f\"Feature file path: {feature_file_path}\")\n",
    "        return feature_file_path\n",
    "    else:\n",
    "        print(f\"File {gaze_data_file_path} is empty!\")\n",
    "        return \"\"\n",
    "# csv_to_features(\"./HL2_DataCollection/2022_09_23-13_41_19-Alex01-Inspection02.csv\")\n",
    "# uncomment the line above to test the function with a local csv file"
   ]
  },
  {
   "attachments": {},
   "cell_type": "markdown",
   "id": "01e6fc90",
   "metadata": {},
   "source": [
    "## Run SVM notebook to make its function accessible here\n",
    "If you are not training on normalized data this make take a while."
   ]
  },
  {
   "cell_type": "code",
   "execution_count": 57,
   "id": "528de9d3",
   "metadata": {},
   "outputs": [
    {
     "name": "stdout",
     "output_type": "stream",
     "text": [
      "Columns of the CSV file are 19 features, label of the activity, duration or the timespan of the activity, and the ID of the participant:\n",
      "Features:\n"
     ]
    },
    {
     "data": {
      "text/html": [
       "<div>\n",
       "<style scoped>\n",
       "    .dataframe tbody tr th:only-of-type {\n",
       "        vertical-align: middle;\n",
       "    }\n",
       "\n",
       "    .dataframe tbody tr th {\n",
       "        vertical-align: top;\n",
       "    }\n",
       "\n",
       "    .dataframe thead th {\n",
       "        text-align: right;\n",
       "    }\n",
       "</style>\n",
       "<table border=\"1\" class=\"dataframe\">\n",
       "  <thead>\n",
       "    <tr style=\"text-align: right;\">\n",
       "      <th></th>\n",
       "      <th>meanFix</th>\n",
       "      <th>maxFix</th>\n",
       "      <th>varFix</th>\n",
       "      <th>xDir</th>\n",
       "      <th>yDir</th>\n",
       "      <th>fixDensPerBB</th>\n",
       "    </tr>\n",
       "  </thead>\n",
       "  <tbody>\n",
       "    <tr>\n",
       "      <th>0</th>\n",
       "      <td>250.882353</td>\n",
       "      <td>666</td>\n",
       "      <td>16554.228164</td>\n",
       "      <td>0.484848</td>\n",
       "      <td>0.606061</td>\n",
       "      <td>369.479986</td>\n",
       "    </tr>\n",
       "    <tr>\n",
       "      <th>1</th>\n",
       "      <td>246.742857</td>\n",
       "      <td>900</td>\n",
       "      <td>23549.020168</td>\n",
       "      <td>0.529412</td>\n",
       "      <td>0.529412</td>\n",
       "      <td>363.711018</td>\n",
       "    </tr>\n",
       "    <tr>\n",
       "      <th>2</th>\n",
       "      <td>237.257143</td>\n",
       "      <td>1067</td>\n",
       "      <td>36627.431933</td>\n",
       "      <td>0.441176</td>\n",
       "      <td>0.558824</td>\n",
       "      <td>266.246748</td>\n",
       "    </tr>\n",
       "    <tr>\n",
       "      <th>3</th>\n",
       "      <td>293.137931</td>\n",
       "      <td>767</td>\n",
       "      <td>35208.551724</td>\n",
       "      <td>0.500000</td>\n",
       "      <td>0.500000</td>\n",
       "      <td>319.553727</td>\n",
       "    </tr>\n",
       "    <tr>\n",
       "      <th>4</th>\n",
       "      <td>199.125000</td>\n",
       "      <td>566</td>\n",
       "      <td>12614.163462</td>\n",
       "      <td>0.589744</td>\n",
       "      <td>0.487179</td>\n",
       "      <td>305.832090</td>\n",
       "    </tr>\n",
       "    <tr>\n",
       "      <th>5</th>\n",
       "      <td>262.562500</td>\n",
       "      <td>867</td>\n",
       "      <td>36411.415323</td>\n",
       "      <td>0.516129</td>\n",
       "      <td>0.580645</td>\n",
       "      <td>236.757891</td>\n",
       "    </tr>\n",
       "    <tr>\n",
       "      <th>6</th>\n",
       "      <td>204.175000</td>\n",
       "      <td>733</td>\n",
       "      <td>16987.430128</td>\n",
       "      <td>0.538462</td>\n",
       "      <td>0.512821</td>\n",
       "      <td>445.453567</td>\n",
       "    </tr>\n",
       "    <tr>\n",
       "      <th>7</th>\n",
       "      <td>221.540541</td>\n",
       "      <td>733</td>\n",
       "      <td>19568.977477</td>\n",
       "      <td>0.583333</td>\n",
       "      <td>0.500000</td>\n",
       "      <td>538.273012</td>\n",
       "    </tr>\n",
       "    <tr>\n",
       "      <th>8</th>\n",
       "      <td>430.095238</td>\n",
       "      <td>2567</td>\n",
       "      <td>322794.690476</td>\n",
       "      <td>0.800000</td>\n",
       "      <td>0.450000</td>\n",
       "      <td>77.460002</td>\n",
       "    </tr>\n",
       "    <tr>\n",
       "      <th>9</th>\n",
       "      <td>227.805556</td>\n",
       "      <td>533</td>\n",
       "      <td>8651.246825</td>\n",
       "      <td>0.914286</td>\n",
       "      <td>0.457143</td>\n",
       "      <td>132.320562</td>\n",
       "    </tr>\n",
       "  </tbody>\n",
       "</table>\n",
       "</div>"
      ],
      "text/plain": [
       "      meanFix  maxFix         varFix      xDir      yDir  fixDensPerBB\n",
       "0  250.882353     666   16554.228164  0.484848  0.606061    369.479986\n",
       "1  246.742857     900   23549.020168  0.529412  0.529412    363.711018\n",
       "2  237.257143    1067   36627.431933  0.441176  0.558824    266.246748\n",
       "3  293.137931     767   35208.551724  0.500000  0.500000    319.553727\n",
       "4  199.125000     566   12614.163462  0.589744  0.487179    305.832090\n",
       "5  262.562500     867   36411.415323  0.516129  0.580645    236.757891\n",
       "6  204.175000     733   16987.430128  0.538462  0.512821    445.453567\n",
       "7  221.540541     733   19568.977477  0.583333  0.500000    538.273012\n",
       "8  430.095238    2567  322794.690476  0.800000  0.450000     77.460002\n",
       "9  227.805556     533    8651.246825  0.914286  0.457143    132.320562"
      ]
     },
     "metadata": {},
     "output_type": "display_data"
    },
    {
     "name": "stdout",
     "output_type": "stream",
     "text": [
      "Labels:\n"
     ]
    },
    {
     "data": {
      "text/plain": [
       "0    Inspection\n",
       "1    Inspection\n",
       "2    Inspection\n",
       "3    Inspection\n",
       "4    Inspection\n",
       "5    Inspection\n",
       "6    Inspection\n",
       "7    Inspection\n",
       "8       Reading\n",
       "9       Reading\n",
       "Name: label, dtype: object"
      ]
     },
     "metadata": {},
     "output_type": "display_data"
    },
    {
     "name": "stdout",
     "output_type": "stream",
     "text": [
      "Normalized Features:\n"
     ]
    },
    {
     "data": {
      "text/html": [
       "<div>\n",
       "<style scoped>\n",
       "    .dataframe tbody tr th:only-of-type {\n",
       "        vertical-align: middle;\n",
       "    }\n",
       "\n",
       "    .dataframe tbody tr th {\n",
       "        vertical-align: top;\n",
       "    }\n",
       "\n",
       "    .dataframe thead th {\n",
       "        text-align: right;\n",
       "    }\n",
       "</style>\n",
       "<table border=\"1\" class=\"dataframe\">\n",
       "  <thead>\n",
       "    <tr style=\"text-align: right;\">\n",
       "      <th></th>\n",
       "      <th>meanFix</th>\n",
       "      <th>maxFix</th>\n",
       "      <th>varFix</th>\n",
       "      <th>xDir</th>\n",
       "      <th>yDir</th>\n",
       "      <th>fixDensPerBB</th>\n",
       "    </tr>\n",
       "  </thead>\n",
       "  <tbody>\n",
       "    <tr>\n",
       "      <th>0</th>\n",
       "      <td>0.412048</td>\n",
       "      <td>0.144783</td>\n",
       "      <td>0.013814</td>\n",
       "      <td>0.527009</td>\n",
       "      <td>0.743802</td>\n",
       "      <td>0.238355</td>\n",
       "    </tr>\n",
       "    <tr>\n",
       "      <th>1</th>\n",
       "      <td>0.405249</td>\n",
       "      <td>0.195652</td>\n",
       "      <td>0.019651</td>\n",
       "      <td>0.575448</td>\n",
       "      <td>0.649733</td>\n",
       "      <td>0.234633</td>\n",
       "    </tr>\n",
       "    <tr>\n",
       "      <th>2</th>\n",
       "      <td>0.389670</td>\n",
       "      <td>0.231957</td>\n",
       "      <td>0.030564</td>\n",
       "      <td>0.479540</td>\n",
       "      <td>0.685829</td>\n",
       "      <td>0.171758</td>\n",
       "    </tr>\n",
       "    <tr>\n",
       "      <th>3</th>\n",
       "      <td>0.481448</td>\n",
       "      <td>0.166739</td>\n",
       "      <td>0.029380</td>\n",
       "      <td>0.543478</td>\n",
       "      <td>0.613636</td>\n",
       "      <td>0.206147</td>\n",
       "    </tr>\n",
       "    <tr>\n",
       "      <th>4</th>\n",
       "      <td>0.327042</td>\n",
       "      <td>0.123043</td>\n",
       "      <td>0.010526</td>\n",
       "      <td>0.641026</td>\n",
       "      <td>0.597902</td>\n",
       "      <td>0.197295</td>\n",
       "    </tr>\n",
       "    <tr>\n",
       "      <th>5</th>\n",
       "      <td>0.431232</td>\n",
       "      <td>0.188478</td>\n",
       "      <td>0.030384</td>\n",
       "      <td>0.561010</td>\n",
       "      <td>0.712610</td>\n",
       "      <td>0.152735</td>\n",
       "    </tr>\n",
       "    <tr>\n",
       "      <th>6</th>\n",
       "      <td>0.335336</td>\n",
       "      <td>0.159348</td>\n",
       "      <td>0.014175</td>\n",
       "      <td>0.585284</td>\n",
       "      <td>0.629371</td>\n",
       "      <td>0.287366</td>\n",
       "    </tr>\n",
       "    <tr>\n",
       "      <th>7</th>\n",
       "      <td>0.363857</td>\n",
       "      <td>0.159348</td>\n",
       "      <td>0.016330</td>\n",
       "      <td>0.634058</td>\n",
       "      <td>0.613636</td>\n",
       "      <td>0.347245</td>\n",
       "    </tr>\n",
       "    <tr>\n",
       "      <th>8</th>\n",
       "      <td>0.706387</td>\n",
       "      <td>0.558043</td>\n",
       "      <td>0.269361</td>\n",
       "      <td>0.869565</td>\n",
       "      <td>0.552273</td>\n",
       "      <td>0.049970</td>\n",
       "    </tr>\n",
       "    <tr>\n",
       "      <th>9</th>\n",
       "      <td>0.374147</td>\n",
       "      <td>0.115870</td>\n",
       "      <td>0.007219</td>\n",
       "      <td>0.993789</td>\n",
       "      <td>0.561039</td>\n",
       "      <td>0.085361</td>\n",
       "    </tr>\n",
       "  </tbody>\n",
       "</table>\n",
       "</div>"
      ],
      "text/plain": [
       "    meanFix    maxFix    varFix      xDir      yDir  fixDensPerBB\n",
       "0  0.412048  0.144783  0.013814  0.527009  0.743802      0.238355\n",
       "1  0.405249  0.195652  0.019651  0.575448  0.649733      0.234633\n",
       "2  0.389670  0.231957  0.030564  0.479540  0.685829      0.171758\n",
       "3  0.481448  0.166739  0.029380  0.543478  0.613636      0.206147\n",
       "4  0.327042  0.123043  0.010526  0.641026  0.597902      0.197295\n",
       "5  0.431232  0.188478  0.030384  0.561010  0.712610      0.152735\n",
       "6  0.335336  0.159348  0.014175  0.585284  0.629371      0.287366\n",
       "7  0.363857  0.159348  0.016330  0.634058  0.613636      0.347245\n",
       "8  0.706387  0.558043  0.269361  0.869565  0.552273      0.049970\n",
       "9  0.374147  0.115870  0.007219  0.993789  0.561039      0.085361"
      ]
     },
     "metadata": {},
     "output_type": "display_data"
    },
    {
     "name": "stdout",
     "output_type": "stream",
     "text": [
      "Accuracy Linear Kernel: 0.8701298701298701\n",
      "Accuracy Polynomial Kernel: 0.8831168831168831\n",
      "Accuracy Radial Basis Kernel: 0.8701298701298701\n",
      "Accuracy Sigmoid Kernel: 0.3246753246753247\n",
      "CM Linear:\n",
      "[[22  0  4]\n",
      " [ 1 25  0]\n",
      " [ 5  0 20]]\n",
      "CM Polynomial:\n",
      "[[23  0  3]\n",
      " [ 1 25  0]\n",
      " [ 5  0 20]]\n",
      "CM Radial:\n",
      "[[22  0  4]\n",
      " [ 1 25  0]\n",
      " [ 5  0 20]]\n",
      "CM Sigmoid:\n",
      "[[14  7  5]\n",
      " [ 0  9 17]\n",
      " [ 3 20  2]]\n"
     ]
    },
    {
     "data": {
      "image/png": "[encoded data removed]",
      "text/plain": [
       "<Figure size 640x480 with 2 Axes>"
      ]
     },
     "metadata": {},
     "output_type": "display_data"
    },
    {
     "data": {
      "image/png": "[encoded data removed]",
      "text/plain": [
       "<Figure size 640x480 with 2 Axes>"
      ]
     },
     "metadata": {},
     "output_type": "display_data"
    },
    {
     "data": {
      "image/png": "[encoded data removed]",
      "text/plain": [
       "<Figure size 640x480 with 2 Axes>"
      ]
     },
     "metadata": {},
     "output_type": "display_data"
    },
    {
     "data": {
      "image/png": "[encoded data removed]",
      "text/plain": [
       "<Figure size 640x480 with 2 Axes>"
      ]
     },
     "metadata": {},
     "output_type": "display_data"
    },
    {
     "name": "stdout",
     "output_type": "stream",
     "text": [
      "New Feature:\n"
     ]
    },
    {
     "name": "stderr",
     "output_type": "stream",
     "text": [
      "c:\\Users\\Jannis\\miniconda3\\Lib\\site-packages\\sklearn\\utils\\validation.py:2749: UserWarning: X does not have valid feature names, but SVC was fitted with feature names\n",
      "  warnings.warn(\n"
     ]
    },
    {
     "data": {
      "text/html": [
       "<div>\n",
       "<style scoped>\n",
       "    .dataframe tbody tr th:only-of-type {\n",
       "        vertical-align: middle;\n",
       "    }\n",
       "\n",
       "    .dataframe tbody tr th {\n",
       "        vertical-align: top;\n",
       "    }\n",
       "\n",
       "    .dataframe thead th {\n",
       "        text-align: right;\n",
       "    }\n",
       "</style>\n",
       "<table border=\"1\" class=\"dataframe\">\n",
       "  <thead>\n",
       "    <tr style=\"text-align: right;\">\n",
       "      <th></th>\n",
       "      <th>meanFix</th>\n",
       "      <th>maxFix</th>\n",
       "      <th>varFix</th>\n",
       "      <th>xDir</th>\n",
       "      <th>yDir</th>\n",
       "      <th>fixDensPerBB</th>\n",
       "    </tr>\n",
       "  </thead>\n",
       "  <tbody>\n",
       "    <tr>\n",
       "      <th>121</th>\n",
       "      <td>0.401009</td>\n",
       "      <td>0.130435</td>\n",
       "      <td>0.012815</td>\n",
       "      <td>0.905797</td>\n",
       "      <td>0.409091</td>\n",
       "      <td>0.068803</td>\n",
       "    </tr>\n",
       "    <tr>\n",
       "      <th>195</th>\n",
       "      <td>0.515043</td>\n",
       "      <td>0.159565</td>\n",
       "      <td>0.021214</td>\n",
       "      <td>0.836120</td>\n",
       "      <td>0.566434</td>\n",
       "      <td>0.079461</td>\n",
       "    </tr>\n",
       "  </tbody>\n",
       "</table>\n",
       "</div>"
      ],
      "text/plain": [
       "      meanFix    maxFix    varFix      xDir      yDir  fixDensPerBB\n",
       "121  0.401009  0.130435  0.012815  0.905797  0.409091      0.068803\n",
       "195  0.515043  0.159565  0.021214  0.836120  0.566434      0.079461"
      ]
     },
     "metadata": {},
     "output_type": "display_data"
    },
    {
     "name": "stdout",
     "output_type": "stream",
     "text": [
      "New Linear Prediction:\n"
     ]
    },
    {
     "data": {
      "text/plain": [
       "array([[0.00360098, 0.98676579, 0.00963324],\n",
       "       [0.02035477, 0.96534948, 0.01429575]])"
      ]
     },
     "metadata": {},
     "output_type": "display_data"
    },
    {
     "data": {
      "text/plain": [
       "array(['Reading', 'Reading'], dtype=object)"
      ]
     },
     "metadata": {},
     "output_type": "display_data"
    },
    {
     "name": "stdout",
     "output_type": "stream",
     "text": [
      "New Poly Prediction:\n"
     ]
    },
    {
     "data": {
      "text/plain": [
       "array([[0.00340819, 0.97360178, 0.02299002],\n",
       "       [0.00800562, 0.98202886, 0.00996552]])"
      ]
     },
     "metadata": {},
     "output_type": "display_data"
    },
    {
     "data": {
      "text/plain": [
       "array(['Reading', 'Reading'], dtype=object)"
      ]
     },
     "metadata": {},
     "output_type": "display_data"
    },
    {
     "name": "stdout",
     "output_type": "stream",
     "text": [
      "New RBF Prediction:\n"
     ]
    },
    {
     "data": {
      "text/plain": [
       "array([[0.00460693, 0.97986438, 0.01552869],\n",
       "       [0.01664662, 0.96837324, 0.01498014]])"
      ]
     },
     "metadata": {},
     "output_type": "display_data"
    },
    {
     "data": {
      "text/plain": [
       "array(['Reading', 'Reading'], dtype=object)"
      ]
     },
     "metadata": {},
     "output_type": "display_data"
    },
    {
     "name": "stdout",
     "output_type": "stream",
     "text": [
      "New Sig Prediction:\n"
     ]
    },
    {
     "data": {
      "text/plain": [
       "array([[0.39212079, 0.22869778, 0.37918143],\n",
       "       [0.36337145, 0.45981719, 0.17681136]])"
      ]
     },
     "metadata": {},
     "output_type": "display_data"
    },
    {
     "data": {
      "text/plain": [
       "array(['Reading', 'Search'], dtype=object)"
      ]
     },
     "metadata": {},
     "output_type": "display_data"
    }
   ],
   "source": [
    "%run -i AnSVMClassifierForHL2GazeFeatures.ipynb"
   ]
  },
  {
   "attachments": {},
   "cell_type": "markdown",
   "id": "9682dbc1",
   "metadata": {},
   "source": [
    "## Predict the class for the last arrived data chunk"
   ]
  },
  {
   "cell_type": "code",
   "execution_count": 58,
   "id": "5c8d8857",
   "metadata": {},
   "outputs": [],
   "source": [
    "def normalize_values(df): \n",
    "    scaler = MaxAbsScaler()\n",
    "    training_features_plus_new_row = pd.concat([features, df])  # features -> contains all the features for training and testing\n",
    "    scaler.fit(training_features_plus_new_row)\n",
    "    scaled = scaler.transform(training_features_plus_new_row)\n",
    "    scaled_features = pd.DataFrame(scaled, columns=df.columns)\n",
    "    row_for_last_chunk = scaled_features.tail(1)\n",
    "    print(\"Normalized Features:\")\n",
    "    display(row_for_last_chunk)\n",
    "    return row_for_last_chunk"
   ]
  },
  {
   "cell_type": "code",
   "execution_count": 59,
   "id": "d9a2532e",
   "metadata": {},
   "outputs": [],
   "source": [
    "row_counter = 0\n",
    "classes = [\"Inspection\", \"Reading\", \"Search\"]\n",
    "kernels = [linear, poly, rbf, sig]\n",
    "def predict_class_for_last_chunk(feature_file_path):\n",
    "    if os.stat(feature_file_path).st_size != 0:\n",
    "        df = pd.read_csv(feature_file_path)\n",
    "        cur_number_of_rows = df.shape[0]\n",
    "        # only continue if we have a new row\n",
    "        if cur_number_of_rows > row_counter:\n",
    "            last_row = df.tail(1)\n",
    "            display(last_row)\n",
    "            \n",
    "            lr_features= last_row[[\"meanFix\", \"maxFix\", \"varFix\", \"xDir\", \"yDir\", \"fixDensPerBB\"]]\n",
    "            last_row = normalize_values(lr_features)\n",
    "            \n",
    "            classes = linear.classes_\n",
    "            # print(f\"\\n---\\nclasses: {classes}\")\n",
    "            \n",
    "            results = {}\n",
    "            \n",
    "            for kernel in kernels:\n",
    "                new_pred_prob = kernel.predict_proba(last_row)\n",
    "                new_pred_class = kernel.predict(last_row)\n",
    "                # print(\"\\n---\\nNew Prediction:\")\n",
    "                display(new_pred_prob)\n",
    "                display(new_pred_class)\n",
    "                pred_list = new_pred_prob.tolist()[0]\n",
    "                max_prob = max(pred_list)\n",
    "                # print(f\"max_prob: {max_prob}\")\n",
    "                max_index = pred_list.index(max_prob)\n",
    "                # print(f\"max_index: {max_prob}\")\n",
    "                results[kernel.kernel] = {\"pred_class\": new_pred_class[0], \"max_prob\": max_prob, \"max_index\": max_index }\n",
    "                # results[kernel.kernel] = [new_pred_class[0], max_prob, max_index ]\n",
    "                \n",
    "            display(results)\n",
    "        \n",
    "            \n",
    "            max_proba = {max(float(d['max_prob']) for d in results.values())}\n",
    "            key = [i for i in results if results[i]['max_prob']==max_proba]\n",
    "            # print(f\"max_proba: {max_proba}, key: {key}\")\n",
    "            predicts = [d['pred_class'] for d in results.values()]\n",
    "            final_class_from_predict = max(set(predicts), key = predicts.count)\n",
    "            # print(f\"final_class_from_predict: {final_class_from_predict}\")\n",
    "            \n",
    "            \n",
    "            new_linear_pred_prob = linear.predict_proba(last_row)\n",
    "            new_linear_pred_class = linear.predict(last_row)\n",
    "            # print(\"\\n---\\nNew Linear Prediction:\")\n",
    "            # display(new_linear_pred_prob)\n",
    "            # display(new_linear_pred_class)\n",
    "            lin_list = new_linear_pred_prob.tolist()[0]\n",
    "            lin_max_prob = max(lin_list)\n",
    "            # print(f\"lin_max_prob: {lin_max_prob}\")\n",
    "            lin_max_index = lin_list.index(lin_max_prob)\n",
    "            # print(f\"lin_max_index: {lin_max_index}\")\n",
    "\n",
    "            new_poly_pred_prob = poly.predict_proba(last_row)\n",
    "            new_poly_pred_class = poly.predict(last_row)\n",
    "            # print(\"\\n---\\nNew Poly Prediction:\")\n",
    "            # display(new_poly_pred_prob)\n",
    "            # display(new_poly_pred_class)\n",
    "            poly_list = new_poly_pred_prob.tolist()[0]\n",
    "            poly_max_prob = max(poly_list)\n",
    "            # print(f\"poly_max_prob: {poly_max_prob}\")\n",
    "            poly_max_index = poly_list.index(poly_max_prob)\n",
    "            # print(f\"poly_max_index: {poly_max_index}\")\n",
    "\n",
    "            new_rbf_pred_prob = rbf.predict_proba(last_row)\n",
    "            new_rbf_pred_class = rbf.predict(last_row)\n",
    "            # print(\"\\n---\\nNew RBF Prediction:\")\n",
    "            # display(new_rbf_pred_prob)\n",
    "            # display(new_rbf_pred_class)\n",
    "            rbf_list = new_rbf_pred_prob.tolist()[0]\n",
    "            rbf_max_prob = max(rbf_list)\n",
    "            # print(f\"rbf_max_prob: {rbf_max_prob}\")\n",
    "            rbf_max_index = rbf_list.index(rbf_max_prob)\n",
    "            # print(f\"rbf_max_index: {rbf_max_index}\")\n",
    "            \n",
    "\n",
    "            new_sig_pred_prob = sig.predict_proba(last_row)\n",
    "            new_sig_pred_class = sig.predict(last_row)\n",
    "            # print(\"\\n---\\nNew Sig Prediction:\")\n",
    "            # display(new_sig_pred_prob)\n",
    "            # display(new_sig_pred_class)\n",
    "            sig_list = new_sig_pred_prob.tolist()[0]\n",
    "            sig_max_prob = max(sig_list)\n",
    "            # print(f\"sig_max_prob: {sig_max_prob}\")\n",
    "            sig_max_index = sig_list.index(sig_max_prob)\n",
    "            # print(f\"sig_max_index: {sig_max_index}\")\n",
    "            \n",
    "            print(\"----------------\")\n",
    "            max_probs = { lin_max_prob: lin_max_index, poly_max_prob: poly_max_index,\n",
    "                        rbf_max_prob: rbf_max_index}\n",
    "            \n",
    "            max_prediction_value = max(max_probs, key=float)\n",
    "            # print(max_prediction_value)\n",
    "            final_max_index = max_probs[max_prediction_value]\n",
    "            final_class_from_probs = classes[final_max_index]\n",
    "            \n",
    "            # print(f\"final_class_from_probs: {final_class_from_probs}\")\n",
    "            \n",
    "            predicts = [new_linear_pred_class[0], new_poly_pred_class[0], new_rbf_pred_class[0]]\n",
    "            final_class_from_predict = max(set(predicts), key = predicts.count)\n",
    "            # print(f\"final_class_from_predict: {final_class_from_predict}\")\n",
    "            \n",
    "            \n",
    "            same_class_predicted = (final_class_from_probs == final_class_from_predict)\n",
    "            # print(f\"same_class_predicted: {same_class_predicted}\")\n",
    "            \n",
    "            if (same_class_predicted and max_prediction_value > 0.5):\n",
    "                # send request to HL2 with class and probability\n",
    "                send_activity(final_class_from_probs, max_prediction_value)\n",
    "            \n",
    "# predict_class_for_last_chunk(\"FeatureFiles/feature_list_P09.csv\")"
   ]
  },
  {
   "attachments": {},
   "cell_type": "markdown",
   "id": "7abd846c",
   "metadata": {},
   "source": [
    "## Send the recognized activity back to the HoloLens 2 \n",
    "\n",
    "⚠️ Make sure to set the correct IP address for the HL2 in line 10!\n",
    "If you run the app vie Holographic remoting, this is your PC's IP address."
   ]
  },
  {
   "cell_type": "code",
   "execution_count": 64,
   "id": "cb7a32fc",
   "metadata": {},
   "outputs": [],
   "source": [
    "import urllib.parse\n",
    "import requests\n",
    "import random\n",
    "import time\n",
    "\n",
    "# Remember to change the IP address and port if needed!\n",
    "# Start the HL2 app first, an input the url and port that you see in MR here\n",
    "holo_url = \"http://10.2.2.152:52739\"\n",
    "\n",
    "def send_activity(activity, probability):\n",
    "\n",
    "    url = \"{}/?activity={}&probability={}\".format(str(holo_url), str(activity), str(probability))\n",
    "    print(url)\n",
    "\n",
    "    try:\n",
    "        r = requests.get(url, timeout=120)\n",
    "        print(r)\n",
    "        if r.status_code == 200:\n",
    "            print(\"Notified Hololens about activity {}\".format(activity))\n",
    "        else:\n",
    "            print(\"Request {} failed with status code {}\".format(url, r.status_code))\n",
    "    except requests.ConnectionError as e:\n",
    "        print(\"OOPS!! Connection Error. Make sure you are connected to Internet. Technical Details given below.\\n\")\n",
    "        print(str(e))\n",
    "    except requests.Timeout as e:\n",
    "        print(\"OOPS!! Timeout Error\")\n",
    "        print(str(e))\n",
    "    except requests.RequestException as e:\n",
    "        print(\"OOPS!! General Error\")\n",
    "        print(str(e))\n",
    "\n",
    "    else:\n",
    "        return\n",
    "\n",
    "def create_and_send_test_data():\n",
    "    activities = [\"reading\", \"writing\", \"searching\", \"inspecting\"]\n",
    "    a = random.randint(0, 3)\n",
    "    activity = activities[a]\n",
    "    confidence = random.uniform(0, 1)\n",
    "    print(f\"{activity}: {confidence}\")\n",
    "    send_activity(activity, confidence)\n",
    "\n",
    "\n",
    "def sender():\n",
    "    start_time = time.time()\n",
    "    interval = 5\n",
    "    for i in range(20):\n",
    "        time.sleep(start_time + i * interval - time.time())\n",
    "        create_and_send_test_data()\n",
    "        print(\"sent data\")\n",
    "\n",
    "def send_this_desktop_ip_to_holo(desktop_ip, port):\n",
    "\n",
    "    # holo_url = \"http://10.2.2.172:52434\"\n",
    "    # holo_url = \"http://10.2.2.150:53625\"\n",
    "    # holo_url = \"http://localhost:5000\"\n",
    "    # holo_url = \"http://130.82.26.8:5000\"\n",
    "    \n",
    "    desktop_ip = urllib.parse.quote(desktop_ip)\n",
    "\n",
    "    url = \"{}/?desktopip={}&port={}\".format(str(holo_url), str(desktop_ip), str(port))\n",
    "    print(url)\n",
    "\n",
    "    try:\n",
    "        r = requests.get(url, timeout=60)\n",
    "        print(r)\n",
    "        if r.status_code == 200:\n",
    "            print(\"Notified Hololens about IP address {}\".format(desktop_ip))\n",
    "        else:\n",
    "            print(\"Request {} failed with status code {}\".format(url, r.status_code))\n",
    "    except requests.ConnectionError as e:\n",
    "        print(\"OOPS!! Connection Error. Make sure you are connected to Internet. Technical Details given below.\\n\")\n",
    "        print(str(e))\n",
    "    except requests.Timeout as e:\n",
    "        print(\"OOPS!! Timeout Error\")\n",
    "        print(str(e))\n",
    "    except requests.RequestException as e:\n",
    "        print(\"OOPS!! General Error\")\n",
    "        print(str(e))\n",
    "\n",
    "    else:\n",
    "        return\n",
    "    \n",
    "    \n",
    "# if __name__ == '__main__':\n",
    "    # sender()\n"
   ]
  },
  {
   "attachments": {},
   "cell_type": "markdown",
   "id": "ebc030f0",
   "metadata": {},
   "source": [
    "## Send this desktop's IP address to the HL2\n",
    "This enables the HL2 to send the gaze data correctly to the computer where this script is running.\n",
    "Make sure to enter your computer's IP-address and a free port."
   ]
  },
  {
   "cell_type": "code",
   "execution_count": 65,
   "id": "ca36ec51",
   "metadata": {},
   "outputs": [
    {
     "name": "stdout",
     "output_type": "stream",
     "text": [
      "Free port found: 52745\n"
     ]
    }
   ],
   "source": [
    "import socket\n",
    "\n",
    "def find_free_port():\n",
    "    with socket.socket(socket.AF_INET, socket.SOCK_STREAM) as s:\n",
    "        s.bind(('', 0))  # 0 means to select an arbitrary unused port\n",
    "        return s.getsockname()[1]\n",
    "\n",
    "free_port = find_free_port()\n",
    "print(f\"Free port found: {free_port}\")"
   ]
  },
  {
   "cell_type": "code",
   "execution_count": 66,
   "id": "048d8318",
   "metadata": {},
   "outputs": [
    {
     "name": "stdout",
     "output_type": "stream",
     "text": [
      "http://10.2.2.152:52739/?desktopip=10.2.2.152&port=52745\n",
      "<Response [200]>\n",
      "Notified Hololens about IP address 10.2.2.152\n"
     ]
    }
   ],
   "source": [
    "ipaddress = \"10.2.2.152\"\n",
    "# ipaddress = \"localhost\"\n",
    "# ipaddress = \"130.82.27.178\"\n",
    "send_this_desktop_ip_to_holo(ipaddress, free_port)"
   ]
  },
  {
   "attachments": {},
   "cell_type": "markdown",
   "id": "d9268036",
   "metadata": {},
   "source": [
    "## Run a simple Flask server that receives the raw gaze data from the HL2\n",
    "Make sure to enter your computer's IP-address and a suitable port in the last line. \\\n",
    "Note: `0.0.0.0` as IP address lets the server listen on all its IP addresses, usually 127.0.0.1 and the public IP address."
   ]
  },
  {
   "cell_type": "code",
   "execution_count": 67,
   "id": "f1d07b2a",
   "metadata": {},
   "outputs": [
    {
     "name": "stderr",
     "output_type": "stream",
     "text": [
      "INFO:waitress:Serving on http://0.0.0.0:52745\n"
     ]
    },
    {
     "name": "stdout",
     "output_type": "stream",
     "text": [
      "filename: chunk_2025-09-30_10-37-13_000.csv\n",
      "filepath: ./OnlineGazeDataChunks/chunk_2025-09-30_10-37-13_000.csv\n",
      "start fc for:  ./OnlineGazeDataChunks/chunk_2025-09-30_10-37-13_000.csv\n",
      "File ./OnlineGazeDataChunks/chunk_2025-09-30_10-37-13_000.csv is empty!\n",
      "filename: chunk_2025-09-30_10-37-23_001.csv\n",
      "filepath: ./OnlineGazeDataChunks/chunk_2025-09-30_10-37-23_001.csv\n",
      "start fc for:  ./OnlineGazeDataChunks/chunk_2025-09-30_10-37-23_001.csv\n",
      "File ./OnlineGazeDataChunks/chunk_2025-09-30_10-37-23_001.csv is not empty, start feature calculation\n",
      "Feature calculation done for: ./OnlineGazeDataChunks/chunk_2025-09-30_10-37-23_001.csv\n",
      "Feature file path: ./OnlineFeatureFiles/feature_list_P001.csv\n",
      "start prediction for:  ./OnlineFeatureFiles/feature_list_P001.csv\n"
     ]
    },
    {
     "data": {
      "text/html": [
       "<div>\n",
       "<style scoped>\n",
       "    .dataframe tbody tr th:only-of-type {\n",
       "        vertical-align: middle;\n",
       "    }\n",
       "\n",
       "    .dataframe tbody tr th {\n",
       "        vertical-align: top;\n",
       "    }\n",
       "\n",
       "    .dataframe thead th {\n",
       "        text-align: right;\n",
       "    }\n",
       "</style>\n",
       "<table border=\"1\" class=\"dataframe\">\n",
       "  <thead>\n",
       "    <tr style=\"text-align: right;\">\n",
       "      <th></th>\n",
       "      <th>meanFix</th>\n",
       "      <th>minFix</th>\n",
       "      <th>maxFix</th>\n",
       "      <th>varFix</th>\n",
       "      <th>stdFix</th>\n",
       "      <th>meanDis</th>\n",
       "      <th>minDis</th>\n",
       "      <th>maxDis</th>\n",
       "      <th>varDis</th>\n",
       "      <th>stdDisp</th>\n",
       "      <th>...</th>\n",
       "      <th>blinkMean</th>\n",
       "      <th>blinkMin</th>\n",
       "      <th>blinkMax</th>\n",
       "      <th>blinkRate</th>\n",
       "      <th>xDir</th>\n",
       "      <th>yDir</th>\n",
       "      <th>fixDensPerBB</th>\n",
       "      <th>label</th>\n",
       "      <th>duration</th>\n",
       "      <th>participant_id</th>\n",
       "    </tr>\n",
       "  </thead>\n",
       "  <tbody>\n",
       "    <tr>\n",
       "      <th>0</th>\n",
       "      <td>183.148148</td>\n",
       "      <td>101</td>\n",
       "      <td>579</td>\n",
       "      <td>14051.669516</td>\n",
       "      <td>118.539738</td>\n",
       "      <td>0.033378</td>\n",
       "      <td>0.027929</td>\n",
       "      <td>0.054694</td>\n",
       "      <td>0.000056</td>\n",
       "      <td>0.007496</td>\n",
       "      <td>...</td>\n",
       "      <td>0</td>\n",
       "      <td>0</td>\n",
       "      <td>0</td>\n",
       "      <td>0</td>\n",
       "      <td>0.423077</td>\n",
       "      <td>0.384615</td>\n",
       "      <td>31.140133</td>\n",
       "      <td>NaN</td>\n",
       "      <td>10</td>\n",
       "      <td>2</td>\n",
       "    </tr>\n",
       "  </tbody>\n",
       "</table>\n",
       "<p>1 rows × 22 columns</p>\n",
       "</div>"
      ],
      "text/plain": [
       "      meanFix  minFix  maxFix        varFix      stdFix   meanDis    minDis  \\\n",
       "0  183.148148     101     579  14051.669516  118.539738  0.033378  0.027929   \n",
       "\n",
       "     maxDis    varDis   stdDisp  ...  blinkMean  blinkMin  blinkMax  \\\n",
       "0  0.054694  0.000056  0.007496  ...          0         0         0   \n",
       "\n",
       "   blinkRate      xDir      yDir  fixDensPerBB  label  duration  \\\n",
       "0          0  0.423077  0.384615     31.140133    NaN        10   \n",
       "\n",
       "   participant_id  \n",
       "0               2  \n",
       "\n",
       "[1 rows x 22 columns]"
      ]
     },
     "metadata": {},
     "output_type": "display_data"
    },
    {
     "name": "stdout",
     "output_type": "stream",
     "text": [
      "Normalized Features:\n"
     ]
    },
    {
     "data": {
      "text/html": [
       "<div>\n",
       "<style scoped>\n",
       "    .dataframe tbody tr th:only-of-type {\n",
       "        vertical-align: middle;\n",
       "    }\n",
       "\n",
       "    .dataframe tbody tr th {\n",
       "        vertical-align: top;\n",
       "    }\n",
       "\n",
       "    .dataframe thead th {\n",
       "        text-align: right;\n",
       "    }\n",
       "</style>\n",
       "<table border=\"1\" class=\"dataframe\">\n",
       "  <thead>\n",
       "    <tr style=\"text-align: right;\">\n",
       "      <th></th>\n",
       "      <th>meanFix</th>\n",
       "      <th>maxFix</th>\n",
       "      <th>varFix</th>\n",
       "      <th>xDir</th>\n",
       "      <th>yDir</th>\n",
       "      <th>fixDensPerBB</th>\n",
       "    </tr>\n",
       "  </thead>\n",
       "  <tbody>\n",
       "    <tr>\n",
       "      <th>385</th>\n",
       "      <td>0.300802</td>\n",
       "      <td>0.12587</td>\n",
       "      <td>0.011726</td>\n",
       "      <td>0.459866</td>\n",
       "      <td>0.472028</td>\n",
       "      <td>0.020089</td>\n",
       "    </tr>\n",
       "  </tbody>\n",
       "</table>\n",
       "</div>"
      ],
      "text/plain": [
       "      meanFix   maxFix    varFix      xDir      yDir  fixDensPerBB\n",
       "385  0.300802  0.12587  0.011726  0.459866  0.472028      0.020089"
      ]
     },
     "metadata": {},
     "output_type": "display_data"
    },
    {
     "data": {
      "text/plain": [
       "array([[0.04855439, 0.00292006, 0.94852554]])"
      ]
     },
     "metadata": {},
     "output_type": "display_data"
    },
    {
     "data": {
      "text/plain": [
       "array(['Search'], dtype=object)"
      ]
     },
     "metadata": {},
     "output_type": "display_data"
    },
    {
     "data": {
      "text/plain": [
       "array([[0.11174265, 0.02178003, 0.86647732]])"
      ]
     },
     "metadata": {},
     "output_type": "display_data"
    },
    {
     "data": {
      "text/plain": [
       "array(['Search'], dtype=object)"
      ]
     },
     "metadata": {},
     "output_type": "display_data"
    },
    {
     "data": {
      "text/plain": [
       "array([[0.05301394, 0.00373943, 0.94324664]])"
      ]
     },
     "metadata": {},
     "output_type": "display_data"
    },
    {
     "data": {
      "text/plain": [
       "array(['Search'], dtype=object)"
      ]
     },
     "metadata": {},
     "output_type": "display_data"
    },
    {
     "data": {
      "text/plain": [
       "array([[0.43665961, 0.06256717, 0.50077321]])"
      ]
     },
     "metadata": {},
     "output_type": "display_data"
    },
    {
     "data": {
      "text/plain": [
       "array(['Reading'], dtype=object)"
      ]
     },
     "metadata": {},
     "output_type": "display_data"
    },
    {
     "data": {
      "text/plain": [
       "{'linear': {'pred_class': 'Search',\n",
       "  'max_prob': 0.9485255442223575,\n",
       "  'max_index': 2},\n",
       " 'poly': {'pred_class': 'Search',\n",
       "  'max_prob': 0.8664773245698849,\n",
       "  'max_index': 2},\n",
       " 'rbf': {'pred_class': 'Search',\n",
       "  'max_prob': 0.9432466373550343,\n",
       "  'max_index': 2},\n",
       " 'sigmoid': {'pred_class': 'Reading',\n",
       "  'max_prob': 0.5007732117309077,\n",
       "  'max_index': 2}}"
      ]
     },
     "metadata": {},
     "output_type": "display_data"
    },
    {
     "name": "stdout",
     "output_type": "stream",
     "text": [
      "----------------\n",
      "http://10.2.2.152:52739/?activity=Search&probability=0.9485255442223575\n",
      "<Response [200]>\n",
      "Notified Hololens about activity Search\n",
      "filename: chunk_2025-09-30_10-37-33_002.csv\n",
      "filepath: ./OnlineGazeDataChunks/chunk_2025-09-30_10-37-33_002.csv\n",
      "start fc for:  ./OnlineGazeDataChunks/chunk_2025-09-30_10-37-33_002.csv\n",
      "File ./OnlineGazeDataChunks/chunk_2025-09-30_10-37-33_002.csv is not empty, start feature calculation\n",
      "Feature calculation done for: ./OnlineGazeDataChunks/chunk_2025-09-30_10-37-33_002.csv\n",
      "Feature file path: ./OnlineFeatureFiles/feature_list_P001.csv\n",
      "start prediction for:  ./OnlineFeatureFiles/feature_list_P001.csv\n"
     ]
    },
    {
     "data": {
      "text/html": [
       "<div>\n",
       "<style scoped>\n",
       "    .dataframe tbody tr th:only-of-type {\n",
       "        vertical-align: middle;\n",
       "    }\n",
       "\n",
       "    .dataframe tbody tr th {\n",
       "        vertical-align: top;\n",
       "    }\n",
       "\n",
       "    .dataframe thead th {\n",
       "        text-align: right;\n",
       "    }\n",
       "</style>\n",
       "<table border=\"1\" class=\"dataframe\">\n",
       "  <thead>\n",
       "    <tr style=\"text-align: right;\">\n",
       "      <th></th>\n",
       "      <th>meanFix</th>\n",
       "      <th>minFix</th>\n",
       "      <th>maxFix</th>\n",
       "      <th>varFix</th>\n",
       "      <th>stdFix</th>\n",
       "      <th>meanDis</th>\n",
       "      <th>minDis</th>\n",
       "      <th>maxDis</th>\n",
       "      <th>varDis</th>\n",
       "      <th>stdDisp</th>\n",
       "      <th>...</th>\n",
       "      <th>blinkMean</th>\n",
       "      <th>blinkMin</th>\n",
       "      <th>blinkMax</th>\n",
       "      <th>blinkRate</th>\n",
       "      <th>xDir</th>\n",
       "      <th>yDir</th>\n",
       "      <th>fixDensPerBB</th>\n",
       "      <th>label</th>\n",
       "      <th>duration</th>\n",
       "      <th>participant_id</th>\n",
       "    </tr>\n",
       "  </thead>\n",
       "  <tbody>\n",
       "    <tr>\n",
       "      <th>1</th>\n",
       "      <td>229.869565</td>\n",
       "      <td>101</td>\n",
       "      <td>649</td>\n",
       "      <td>33308.573123</td>\n",
       "      <td>182.506365</td>\n",
       "      <td>0.032162</td>\n",
       "      <td>0.012132</td>\n",
       "      <td>0.058566</td>\n",
       "      <td>0.000087</td>\n",
       "      <td>0.009313</td>\n",
       "      <td>...</td>\n",
       "      <td>0</td>\n",
       "      <td>0</td>\n",
       "      <td>0</td>\n",
       "      <td>0</td>\n",
       "      <td>0.681818</td>\n",
       "      <td>0.454545</td>\n",
       "      <td>17.667238</td>\n",
       "      <td>NaN</td>\n",
       "      <td>10</td>\n",
       "      <td>2</td>\n",
       "    </tr>\n",
       "  </tbody>\n",
       "</table>\n",
       "<p>1 rows × 22 columns</p>\n",
       "</div>"
      ],
      "text/plain": [
       "      meanFix  minFix  maxFix        varFix      stdFix   meanDis    minDis  \\\n",
       "1  229.869565     101     649  33308.573123  182.506365  0.032162  0.012132   \n",
       "\n",
       "     maxDis    varDis   stdDisp  ...  blinkMean  blinkMin  blinkMax  \\\n",
       "1  0.058566  0.000087  0.009313  ...          0         0         0   \n",
       "\n",
       "   blinkRate      xDir      yDir  fixDensPerBB  label  duration  \\\n",
       "1          0  0.681818  0.454545     17.667238    NaN        10   \n",
       "\n",
       "   participant_id  \n",
       "1               2  \n",
       "\n",
       "[1 rows x 22 columns]"
      ]
     },
     "metadata": {},
     "output_type": "display_data"
    },
    {
     "name": "stdout",
     "output_type": "stream",
     "text": [
      "Normalized Features:\n"
     ]
    },
    {
     "data": {
      "text/html": [
       "<div>\n",
       "<style scoped>\n",
       "    .dataframe tbody tr th:only-of-type {\n",
       "        vertical-align: middle;\n",
       "    }\n",
       "\n",
       "    .dataframe tbody tr th {\n",
       "        vertical-align: top;\n",
       "    }\n",
       "\n",
       "    .dataframe thead th {\n",
       "        text-align: right;\n",
       "    }\n",
       "</style>\n",
       "<table border=\"1\" class=\"dataframe\">\n",
       "  <thead>\n",
       "    <tr style=\"text-align: right;\">\n",
       "      <th></th>\n",
       "      <th>meanFix</th>\n",
       "      <th>maxFix</th>\n",
       "      <th>varFix</th>\n",
       "      <th>xDir</th>\n",
       "      <th>yDir</th>\n",
       "      <th>fixDensPerBB</th>\n",
       "    </tr>\n",
       "  </thead>\n",
       "  <tbody>\n",
       "    <tr>\n",
       "      <th>385</th>\n",
       "      <td>0.377537</td>\n",
       "      <td>0.141087</td>\n",
       "      <td>0.027795</td>\n",
       "      <td>0.741107</td>\n",
       "      <td>0.557851</td>\n",
       "      <td>0.011397</td>\n",
       "    </tr>\n",
       "  </tbody>\n",
       "</table>\n",
       "</div>"
      ],
      "text/plain": [
       "      meanFix    maxFix    varFix      xDir      yDir  fixDensPerBB\n",
       "385  0.377537  0.141087  0.027795  0.741107  0.557851      0.011397"
      ]
     },
     "metadata": {},
     "output_type": "display_data"
    },
    {
     "data": {
      "text/plain": [
       "array([[0.03793108, 0.66755733, 0.2945116 ]])"
      ]
     },
     "metadata": {},
     "output_type": "display_data"
    },
    {
     "data": {
      "text/plain": [
       "array(['Reading'], dtype=object)"
      ]
     },
     "metadata": {},
     "output_type": "display_data"
    },
    {
     "data": {
      "text/plain": [
       "array([[0.04303481, 0.49649261, 0.46047258]])"
      ]
     },
     "metadata": {},
     "output_type": "display_data"
    },
    {
     "data": {
      "text/plain": [
       "array(['Search'], dtype=object)"
      ]
     },
     "metadata": {},
     "output_type": "display_data"
    },
    {
     "data": {
      "text/plain": [
       "array([[0.03498357, 0.64313971, 0.32187672]])"
      ]
     },
     "metadata": {},
     "output_type": "display_data"
    },
    {
     "data": {
      "text/plain": [
       "array(['Reading'], dtype=object)"
      ]
     },
     "metadata": {},
     "output_type": "display_data"
    },
    {
     "data": {
      "text/plain": [
       "array([[0.38754083, 0.2450826 , 0.36737657]])"
      ]
     },
     "metadata": {},
     "output_type": "display_data"
    },
    {
     "data": {
      "text/plain": [
       "array(['Reading'], dtype=object)"
      ]
     },
     "metadata": {},
     "output_type": "display_data"
    },
    {
     "data": {
      "text/plain": [
       "{'linear': {'pred_class': 'Reading',\n",
       "  'max_prob': 0.6675573285654133,\n",
       "  'max_index': 1},\n",
       " 'poly': {'pred_class': 'Search',\n",
       "  'max_prob': 0.49649261058129646,\n",
       "  'max_index': 1},\n",
       " 'rbf': {'pred_class': 'Reading',\n",
       "  'max_prob': 0.6431397126395172,\n",
       "  'max_index': 1},\n",
       " 'sigmoid': {'pred_class': 'Reading',\n",
       "  'max_prob': 0.38754083137266915,\n",
       "  'max_index': 0}}"
      ]
     },
     "metadata": {},
     "output_type": "display_data"
    },
    {
     "name": "stdout",
     "output_type": "stream",
     "text": [
      "----------------\n",
      "http://10.2.2.152:52739/?activity=Reading&probability=0.6675573285654133\n",
      "<Response [200]>\n",
      "Notified Hololens about activity Reading\n",
      "filename: chunk_2025-09-30_10-37-43_003.csv\n",
      "filepath: ./OnlineGazeDataChunks/chunk_2025-09-30_10-37-43_003.csv\n",
      "start fc for:  ./OnlineGazeDataChunks/chunk_2025-09-30_10-37-43_003.csv\n",
      "File ./OnlineGazeDataChunks/chunk_2025-09-30_10-37-43_003.csv is not empty, start feature calculation\n",
      "Feature calculation done for: ./OnlineGazeDataChunks/chunk_2025-09-30_10-37-43_003.csv\n",
      "Feature file path: ./OnlineFeatureFiles/feature_list_P001.csv\n",
      "start prediction for:  ./OnlineFeatureFiles/feature_list_P001.csv\n"
     ]
    },
    {
     "data": {
      "text/html": [
       "<div>\n",
       "<style scoped>\n",
       "    .dataframe tbody tr th:only-of-type {\n",
       "        vertical-align: middle;\n",
       "    }\n",
       "\n",
       "    .dataframe tbody tr th {\n",
       "        vertical-align: top;\n",
       "    }\n",
       "\n",
       "    .dataframe thead th {\n",
       "        text-align: right;\n",
       "    }\n",
       "</style>\n",
       "<table border=\"1\" class=\"dataframe\">\n",
       "  <thead>\n",
       "    <tr style=\"text-align: right;\">\n",
       "      <th></th>\n",
       "      <th>meanFix</th>\n",
       "      <th>minFix</th>\n",
       "      <th>maxFix</th>\n",
       "      <th>varFix</th>\n",
       "      <th>stdFix</th>\n",
       "      <th>meanDis</th>\n",
       "      <th>minDis</th>\n",
       "      <th>maxDis</th>\n",
       "      <th>varDis</th>\n",
       "      <th>stdDisp</th>\n",
       "      <th>...</th>\n",
       "      <th>blinkMean</th>\n",
       "      <th>blinkMin</th>\n",
       "      <th>blinkMax</th>\n",
       "      <th>blinkRate</th>\n",
       "      <th>xDir</th>\n",
       "      <th>yDir</th>\n",
       "      <th>fixDensPerBB</th>\n",
       "      <th>label</th>\n",
       "      <th>duration</th>\n",
       "      <th>participant_id</th>\n",
       "    </tr>\n",
       "  </thead>\n",
       "  <tbody>\n",
       "    <tr>\n",
       "      <th>2</th>\n",
       "      <td>282.357143</td>\n",
       "      <td>101</td>\n",
       "      <td>956</td>\n",
       "      <td>50014.312169</td>\n",
       "      <td>223.638798</td>\n",
       "      <td>0.034077</td>\n",
       "      <td>0.028018</td>\n",
       "      <td>0.071177</td>\n",
       "      <td>0.000112</td>\n",
       "      <td>0.010589</td>\n",
       "      <td>...</td>\n",
       "      <td>0</td>\n",
       "      <td>0</td>\n",
       "      <td>0</td>\n",
       "      <td>0</td>\n",
       "      <td>0.481481</td>\n",
       "      <td>0.444444</td>\n",
       "      <td>123.095737</td>\n",
       "      <td>NaN</td>\n",
       "      <td>10</td>\n",
       "      <td>2</td>\n",
       "    </tr>\n",
       "  </tbody>\n",
       "</table>\n",
       "<p>1 rows × 22 columns</p>\n",
       "</div>"
      ],
      "text/plain": [
       "      meanFix  minFix  maxFix        varFix      stdFix   meanDis    minDis  \\\n",
       "2  282.357143     101     956  50014.312169  223.638798  0.034077  0.028018   \n",
       "\n",
       "     maxDis    varDis   stdDisp  ...  blinkMean  blinkMin  blinkMax  \\\n",
       "2  0.071177  0.000112  0.010589  ...          0         0         0   \n",
       "\n",
       "   blinkRate      xDir      yDir  fixDensPerBB  label  duration  \\\n",
       "2          0  0.481481  0.444444    123.095737    NaN        10   \n",
       "\n",
       "   participant_id  \n",
       "2               2  \n",
       "\n",
       "[1 rows x 22 columns]"
      ]
     },
     "metadata": {},
     "output_type": "display_data"
    },
    {
     "name": "stdout",
     "output_type": "stream",
     "text": [
      "Normalized Features:\n"
     ]
    },
    {
     "data": {
      "text/html": [
       "<div>\n",
       "<style scoped>\n",
       "    .dataframe tbody tr th:only-of-type {\n",
       "        vertical-align: middle;\n",
       "    }\n",
       "\n",
       "    .dataframe tbody tr th {\n",
       "        vertical-align: top;\n",
       "    }\n",
       "\n",
       "    .dataframe thead th {\n",
       "        text-align: right;\n",
       "    }\n",
       "</style>\n",
       "<table border=\"1\" class=\"dataframe\">\n",
       "  <thead>\n",
       "    <tr style=\"text-align: right;\">\n",
       "      <th></th>\n",
       "      <th>meanFix</th>\n",
       "      <th>maxFix</th>\n",
       "      <th>varFix</th>\n",
       "      <th>xDir</th>\n",
       "      <th>yDir</th>\n",
       "      <th>fixDensPerBB</th>\n",
       "    </tr>\n",
       "  </thead>\n",
       "  <tbody>\n",
       "    <tr>\n",
       "      <th>385</th>\n",
       "      <td>0.463742</td>\n",
       "      <td>0.207826</td>\n",
       "      <td>0.041735</td>\n",
       "      <td>0.523349</td>\n",
       "      <td>0.545455</td>\n",
       "      <td>0.07941</td>\n",
       "    </tr>\n",
       "  </tbody>\n",
       "</table>\n",
       "</div>"
      ],
      "text/plain": [
       "      meanFix    maxFix    varFix      xDir      yDir  fixDensPerBB\n",
       "385  0.463742  0.207826  0.041735  0.523349  0.545455       0.07941"
      ]
     },
     "metadata": {},
     "output_type": "display_data"
    },
    {
     "data": {
      "text/plain": [
       "array([[0.41894239, 0.0397435 , 0.5413141 ]])"
      ]
     },
     "metadata": {},
     "output_type": "display_data"
    },
    {
     "data": {
      "text/plain": [
       "array(['Search'], dtype=object)"
      ]
     },
     "metadata": {},
     "output_type": "display_data"
    },
    {
     "data": {
      "text/plain": [
       "array([[0.31548127, 0.07234079, 0.61217794]])"
      ]
     },
     "metadata": {},
     "output_type": "display_data"
    },
    {
     "data": {
      "text/plain": [
       "array(['Search'], dtype=object)"
      ]
     },
     "metadata": {},
     "output_type": "display_data"
    },
    {
     "data": {
      "text/plain": [
       "array([[0.41510904, 0.03877336, 0.5461176 ]])"
      ]
     },
     "metadata": {},
     "output_type": "display_data"
    },
    {
     "data": {
      "text/plain": [
       "array(['Search'], dtype=object)"
      ]
     },
     "metadata": {},
     "output_type": "display_data"
    },
    {
     "data": {
      "text/plain": [
       "array([[0.39571346, 0.12620831, 0.47807823]])"
      ]
     },
     "metadata": {},
     "output_type": "display_data"
    },
    {
     "data": {
      "text/plain": [
       "array(['Reading'], dtype=object)"
      ]
     },
     "metadata": {},
     "output_type": "display_data"
    },
    {
     "data": {
      "text/plain": [
       "{'linear': {'pred_class': 'Search',\n",
       "  'max_prob': 0.5413141034933152,\n",
       "  'max_index': 2},\n",
       " 'poly': {'pred_class': 'Search',\n",
       "  'max_prob': 0.6121779369272667,\n",
       "  'max_index': 2},\n",
       " 'rbf': {'pred_class': 'Search',\n",
       "  'max_prob': 0.5461175951236704,\n",
       "  'max_index': 2},\n",
       " 'sigmoid': {'pred_class': 'Reading',\n",
       "  'max_prob': 0.47807822668738914,\n",
       "  'max_index': 2}}"
      ]
     },
     "metadata": {},
     "output_type": "display_data"
    },
    {
     "name": "stdout",
     "output_type": "stream",
     "text": [
      "----------------\n",
      "http://10.2.2.152:52739/?activity=Search&probability=0.6121779369272667\n",
      "<Response [200]>\n",
      "Notified Hololens about activity Search\n",
      "filename: chunk_2025-09-30_10-37-53_004.csv\n",
      "filepath: ./OnlineGazeDataChunks/chunk_2025-09-30_10-37-53_004.csv\n",
      "start fc for:  ./OnlineGazeDataChunks/chunk_2025-09-30_10-37-53_004.csv\n",
      "File ./OnlineGazeDataChunks/chunk_2025-09-30_10-37-53_004.csv is not empty, start feature calculation\n",
      "Feature calculation done for: ./OnlineGazeDataChunks/chunk_2025-09-30_10-37-53_004.csv\n",
      "Feature file path: ./OnlineFeatureFiles/feature_list_P001.csv\n",
      "start prediction for:  ./OnlineFeatureFiles/feature_list_P001.csv\n"
     ]
    },
    {
     "data": {
      "text/html": [
       "<div>\n",
       "<style scoped>\n",
       "    .dataframe tbody tr th:only-of-type {\n",
       "        vertical-align: middle;\n",
       "    }\n",
       "\n",
       "    .dataframe tbody tr th {\n",
       "        vertical-align: top;\n",
       "    }\n",
       "\n",
       "    .dataframe thead th {\n",
       "        text-align: right;\n",
       "    }\n",
       "</style>\n",
       "<table border=\"1\" class=\"dataframe\">\n",
       "  <thead>\n",
       "    <tr style=\"text-align: right;\">\n",
       "      <th></th>\n",
       "      <th>meanFix</th>\n",
       "      <th>minFix</th>\n",
       "      <th>maxFix</th>\n",
       "      <th>varFix</th>\n",
       "      <th>stdFix</th>\n",
       "      <th>meanDis</th>\n",
       "      <th>minDis</th>\n",
       "      <th>maxDis</th>\n",
       "      <th>varDis</th>\n",
       "      <th>stdDisp</th>\n",
       "      <th>...</th>\n",
       "      <th>blinkMean</th>\n",
       "      <th>blinkMin</th>\n",
       "      <th>blinkMax</th>\n",
       "      <th>blinkRate</th>\n",
       "      <th>xDir</th>\n",
       "      <th>yDir</th>\n",
       "      <th>fixDensPerBB</th>\n",
       "      <th>label</th>\n",
       "      <th>duration</th>\n",
       "      <th>participant_id</th>\n",
       "    </tr>\n",
       "  </thead>\n",
       "  <tbody>\n",
       "    <tr>\n",
       "      <th>3</th>\n",
       "      <td>244.608696</td>\n",
       "      <td>102</td>\n",
       "      <td>924</td>\n",
       "      <td>53747.703557</td>\n",
       "      <td>231.83551</td>\n",
       "      <td>0.035225</td>\n",
       "      <td>0.028078</td>\n",
       "      <td>0.057575</td>\n",
       "      <td>0.000087</td>\n",
       "      <td>0.009347</td>\n",
       "      <td>...</td>\n",
       "      <td>0</td>\n",
       "      <td>0</td>\n",
       "      <td>0</td>\n",
       "      <td>0</td>\n",
       "      <td>0.454545</td>\n",
       "      <td>0.454545</td>\n",
       "      <td>16.391143</td>\n",
       "      <td>NaN</td>\n",
       "      <td>10</td>\n",
       "      <td>2</td>\n",
       "    </tr>\n",
       "  </tbody>\n",
       "</table>\n",
       "<p>1 rows × 22 columns</p>\n",
       "</div>"
      ],
      "text/plain": [
       "      meanFix  minFix  maxFix        varFix     stdFix   meanDis    minDis  \\\n",
       "3  244.608696     102     924  53747.703557  231.83551  0.035225  0.028078   \n",
       "\n",
       "     maxDis    varDis   stdDisp  ...  blinkMean  blinkMin  blinkMax  \\\n",
       "3  0.057575  0.000087  0.009347  ...          0         0         0   \n",
       "\n",
       "   blinkRate      xDir      yDir  fixDensPerBB  label  duration  \\\n",
       "3          0  0.454545  0.454545     16.391143    NaN        10   \n",
       "\n",
       "   participant_id  \n",
       "3               2  \n",
       "\n",
       "[1 rows x 22 columns]"
      ]
     },
     "metadata": {},
     "output_type": "display_data"
    },
    {
     "name": "stdout",
     "output_type": "stream",
     "text": [
      "Normalized Features:\n"
     ]
    },
    {
     "data": {
      "text/html": [
       "<div>\n",
       "<style scoped>\n",
       "    .dataframe tbody tr th:only-of-type {\n",
       "        vertical-align: middle;\n",
       "    }\n",
       "\n",
       "    .dataframe tbody tr th {\n",
       "        vertical-align: top;\n",
       "    }\n",
       "\n",
       "    .dataframe thead th {\n",
       "        text-align: right;\n",
       "    }\n",
       "</style>\n",
       "<table border=\"1\" class=\"dataframe\">\n",
       "  <thead>\n",
       "    <tr style=\"text-align: right;\">\n",
       "      <th></th>\n",
       "      <th>meanFix</th>\n",
       "      <th>maxFix</th>\n",
       "      <th>varFix</th>\n",
       "      <th>xDir</th>\n",
       "      <th>yDir</th>\n",
       "      <th>fixDensPerBB</th>\n",
       "    </tr>\n",
       "  </thead>\n",
       "  <tbody>\n",
       "    <tr>\n",
       "      <th>385</th>\n",
       "      <td>0.401744</td>\n",
       "      <td>0.20087</td>\n",
       "      <td>0.044851</td>\n",
       "      <td>0.494071</td>\n",
       "      <td>0.557851</td>\n",
       "      <td>0.010574</td>\n",
       "    </tr>\n",
       "  </tbody>\n",
       "</table>\n",
       "</div>"
      ],
      "text/plain": [
       "      meanFix   maxFix    varFix      xDir      yDir  fixDensPerBB\n",
       "385  0.401744  0.20087  0.044851  0.494071  0.557851      0.010574"
      ]
     },
     "metadata": {},
     "output_type": "display_data"
    },
    {
     "data": {
      "text/plain": [
       "array([[0.14256487, 0.01548929, 0.84194584]])"
      ]
     },
     "metadata": {},
     "output_type": "display_data"
    },
    {
     "data": {
      "text/plain": [
       "array(['Search'], dtype=object)"
      ]
     },
     "metadata": {},
     "output_type": "display_data"
    },
    {
     "data": {
      "text/plain": [
       "array([[0.14448586, 0.03992014, 0.815594  ]])"
      ]
     },
     "metadata": {},
     "output_type": "display_data"
    },
    {
     "data": {
      "text/plain": [
       "array(['Search'], dtype=object)"
      ]
     },
     "metadata": {},
     "output_type": "display_data"
    },
    {
     "data": {
      "text/plain": [
       "array([[0.14194772, 0.0161836 , 0.84186868]])"
      ]
     },
     "metadata": {},
     "output_type": "display_data"
    },
    {
     "data": {
      "text/plain": [
       "array(['Search'], dtype=object)"
      ]
     },
     "metadata": {},
     "output_type": "display_data"
    },
    {
     "data": {
      "text/plain": [
       "array([[0.41762013, 0.10109841, 0.48128146]])"
      ]
     },
     "metadata": {},
     "output_type": "display_data"
    },
    {
     "data": {
      "text/plain": [
       "array(['Reading'], dtype=object)"
      ]
     },
     "metadata": {},
     "output_type": "display_data"
    },
    {
     "data": {
      "text/plain": [
       "{'linear': {'pred_class': 'Search',\n",
       "  'max_prob': 0.8419458402004151,\n",
       "  'max_index': 2},\n",
       " 'poly': {'pred_class': 'Search',\n",
       "  'max_prob': 0.8155939992898767,\n",
       "  'max_index': 2},\n",
       " 'rbf': {'pred_class': 'Search',\n",
       "  'max_prob': 0.8418686793755285,\n",
       "  'max_index': 2},\n",
       " 'sigmoid': {'pred_class': 'Reading',\n",
       "  'max_prob': 0.4812814609059816,\n",
       "  'max_index': 2}}"
      ]
     },
     "metadata": {},
     "output_type": "display_data"
    },
    {
     "name": "stdout",
     "output_type": "stream",
     "text": [
      "----------------\n",
      "http://10.2.2.152:52739/?activity=Search&probability=0.8419458402004151\n",
      "<Response [200]>\n",
      "Notified Hololens about activity Search\n",
      "filename: chunk_2025-09-30_10-38-03_005.csv\n",
      "filepath: ./OnlineGazeDataChunks/chunk_2025-09-30_10-38-03_005.csv\n",
      "start fc for:  ./OnlineGazeDataChunks/chunk_2025-09-30_10-38-03_005.csv\n",
      "File ./OnlineGazeDataChunks/chunk_2025-09-30_10-38-03_005.csv is not empty, start feature calculation\n",
      "Feature calculation done for: ./OnlineGazeDataChunks/chunk_2025-09-30_10-38-03_005.csv\n",
      "Feature file path: ./OnlineFeatureFiles/feature_list_P001.csv\n",
      "start prediction for:  ./OnlineFeatureFiles/feature_list_P001.csv\n"
     ]
    },
    {
     "data": {
      "text/html": [
       "<div>\n",
       "<style scoped>\n",
       "    .dataframe tbody tr th:only-of-type {\n",
       "        vertical-align: middle;\n",
       "    }\n",
       "\n",
       "    .dataframe tbody tr th {\n",
       "        vertical-align: top;\n",
       "    }\n",
       "\n",
       "    .dataframe thead th {\n",
       "        text-align: right;\n",
       "    }\n",
       "</style>\n",
       "<table border=\"1\" class=\"dataframe\">\n",
       "  <thead>\n",
       "    <tr style=\"text-align: right;\">\n",
       "      <th></th>\n",
       "      <th>meanFix</th>\n",
       "      <th>minFix</th>\n",
       "      <th>maxFix</th>\n",
       "      <th>varFix</th>\n",
       "      <th>stdFix</th>\n",
       "      <th>meanDis</th>\n",
       "      <th>minDis</th>\n",
       "      <th>maxDis</th>\n",
       "      <th>varDis</th>\n",
       "      <th>stdDisp</th>\n",
       "      <th>...</th>\n",
       "      <th>blinkMean</th>\n",
       "      <th>blinkMin</th>\n",
       "      <th>blinkMax</th>\n",
       "      <th>blinkRate</th>\n",
       "      <th>xDir</th>\n",
       "      <th>yDir</th>\n",
       "      <th>fixDensPerBB</th>\n",
       "      <th>label</th>\n",
       "      <th>duration</th>\n",
       "      <th>participant_id</th>\n",
       "    </tr>\n",
       "  </thead>\n",
       "  <tbody>\n",
       "    <tr>\n",
       "      <th>4</th>\n",
       "      <td>274.181818</td>\n",
       "      <td>101</td>\n",
       "      <td>1023</td>\n",
       "      <td>56854.727273</td>\n",
       "      <td>238.442293</td>\n",
       "      <td>0.038977</td>\n",
       "      <td>0.025869</td>\n",
       "      <td>0.116827</td>\n",
       "      <td>0.000522</td>\n",
       "      <td>0.022848</td>\n",
       "      <td>...</td>\n",
       "      <td>0</td>\n",
       "      <td>0</td>\n",
       "      <td>0</td>\n",
       "      <td>0</td>\n",
       "      <td>0.666667</td>\n",
       "      <td>0.380952</td>\n",
       "      <td>28.572629</td>\n",
       "      <td>NaN</td>\n",
       "      <td>10</td>\n",
       "      <td>2</td>\n",
       "    </tr>\n",
       "  </tbody>\n",
       "</table>\n",
       "<p>1 rows × 22 columns</p>\n",
       "</div>"
      ],
      "text/plain": [
       "      meanFix  minFix  maxFix        varFix      stdFix   meanDis    minDis  \\\n",
       "4  274.181818     101    1023  56854.727273  238.442293  0.038977  0.025869   \n",
       "\n",
       "     maxDis    varDis   stdDisp  ...  blinkMean  blinkMin  blinkMax  \\\n",
       "4  0.116827  0.000522  0.022848  ...          0         0         0   \n",
       "\n",
       "   blinkRate      xDir      yDir  fixDensPerBB  label  duration  \\\n",
       "4          0  0.666667  0.380952     28.572629    NaN        10   \n",
       "\n",
       "   participant_id  \n",
       "4               2  \n",
       "\n",
       "[1 rows x 22 columns]"
      ]
     },
     "metadata": {},
     "output_type": "display_data"
    },
    {
     "name": "stdout",
     "output_type": "stream",
     "text": [
      "Normalized Features:\n"
     ]
    },
    {
     "data": {
      "text/html": [
       "<div>\n",
       "<style scoped>\n",
       "    .dataframe tbody tr th:only-of-type {\n",
       "        vertical-align: middle;\n",
       "    }\n",
       "\n",
       "    .dataframe tbody tr th {\n",
       "        vertical-align: top;\n",
       "    }\n",
       "\n",
       "    .dataframe thead th {\n",
       "        text-align: right;\n",
       "    }\n",
       "</style>\n",
       "<table border=\"1\" class=\"dataframe\">\n",
       "  <thead>\n",
       "    <tr style=\"text-align: right;\">\n",
       "      <th></th>\n",
       "      <th>meanFix</th>\n",
       "      <th>maxFix</th>\n",
       "      <th>varFix</th>\n",
       "      <th>xDir</th>\n",
       "      <th>yDir</th>\n",
       "      <th>fixDensPerBB</th>\n",
       "    </tr>\n",
       "  </thead>\n",
       "  <tbody>\n",
       "    <tr>\n",
       "      <th>385</th>\n",
       "      <td>0.450315</td>\n",
       "      <td>0.222391</td>\n",
       "      <td>0.047443</td>\n",
       "      <td>0.724638</td>\n",
       "      <td>0.467532</td>\n",
       "      <td>0.018432</td>\n",
       "    </tr>\n",
       "  </tbody>\n",
       "</table>\n",
       "</div>"
      ],
      "text/plain": [
       "      meanFix    maxFix    varFix      xDir      yDir  fixDensPerBB\n",
       "385  0.450315  0.222391  0.047443  0.724638  0.467532      0.018432"
      ]
     },
     "metadata": {},
     "output_type": "display_data"
    },
    {
     "data": {
      "text/plain": [
       "array([[0.06734856, 0.75924282, 0.17340862]])"
      ]
     },
     "metadata": {},
     "output_type": "display_data"
    },
    {
     "data": {
      "text/plain": [
       "array(['Reading'], dtype=object)"
      ]
     },
     "metadata": {},
     "output_type": "display_data"
    },
    {
     "data": {
      "text/plain": [
       "array([[0.05828491, 0.63732063, 0.30439446]])"
      ]
     },
     "metadata": {},
     "output_type": "display_data"
    },
    {
     "data": {
      "text/plain": [
       "array(['Reading'], dtype=object)"
      ]
     },
     "metadata": {},
     "output_type": "display_data"
    },
    {
     "data": {
      "text/plain": [
       "array([[0.06005248, 0.74645311, 0.19349441]])"
      ]
     },
     "metadata": {},
     "output_type": "display_data"
    },
    {
     "data": {
      "text/plain": [
       "array(['Reading'], dtype=object)"
      ]
     },
     "metadata": {},
     "output_type": "display_data"
    },
    {
     "data": {
      "text/plain": [
       "array([[0.4006473 , 0.17118266, 0.42817004]])"
      ]
     },
     "metadata": {},
     "output_type": "display_data"
    },
    {
     "data": {
      "text/plain": [
       "array(['Reading'], dtype=object)"
      ]
     },
     "metadata": {},
     "output_type": "display_data"
    },
    {
     "data": {
      "text/plain": [
       "{'linear': {'pred_class': 'Reading',\n",
       "  'max_prob': 0.7592428228543787,\n",
       "  'max_index': 1},\n",
       " 'poly': {'pred_class': 'Reading',\n",
       "  'max_prob': 0.6373206348822963,\n",
       "  'max_index': 1},\n",
       " 'rbf': {'pred_class': 'Reading',\n",
       "  'max_prob': 0.7464531102924055,\n",
       "  'max_index': 1},\n",
       " 'sigmoid': {'pred_class': 'Reading',\n",
       "  'max_prob': 0.4281700393159514,\n",
       "  'max_index': 2}}"
      ]
     },
     "metadata": {},
     "output_type": "display_data"
    },
    {
     "name": "stdout",
     "output_type": "stream",
     "text": [
      "----------------\n",
      "http://10.2.2.152:52739/?activity=Reading&probability=0.7592428228543787\n",
      "<Response [200]>\n",
      "Notified Hololens about activity Reading\n",
      "filename: chunk_2025-09-30_10-38-13_006.csv\n",
      "filepath: ./OnlineGazeDataChunks/chunk_2025-09-30_10-38-13_006.csv\n",
      "start fc for:  ./OnlineGazeDataChunks/chunk_2025-09-30_10-38-13_006.csv\n",
      "File ./OnlineGazeDataChunks/chunk_2025-09-30_10-38-13_006.csv is not empty, start feature calculation\n",
      "Feature calculation done for: ./OnlineGazeDataChunks/chunk_2025-09-30_10-38-13_006.csv\n",
      "Feature file path: ./OnlineFeatureFiles/feature_list_P001.csv\n",
      "start prediction for:  ./OnlineFeatureFiles/feature_list_P001.csv\n"
     ]
    },
    {
     "data": {
      "text/html": [
       "<div>\n",
       "<style scoped>\n",
       "    .dataframe tbody tr th:only-of-type {\n",
       "        vertical-align: middle;\n",
       "    }\n",
       "\n",
       "    .dataframe tbody tr th {\n",
       "        vertical-align: top;\n",
       "    }\n",
       "\n",
       "    .dataframe thead th {\n",
       "        text-align: right;\n",
       "    }\n",
       "</style>\n",
       "<table border=\"1\" class=\"dataframe\">\n",
       "  <thead>\n",
       "    <tr style=\"text-align: right;\">\n",
       "      <th></th>\n",
       "      <th>meanFix</th>\n",
       "      <th>minFix</th>\n",
       "      <th>maxFix</th>\n",
       "      <th>varFix</th>\n",
       "      <th>stdFix</th>\n",
       "      <th>meanDis</th>\n",
       "      <th>minDis</th>\n",
       "      <th>maxDis</th>\n",
       "      <th>varDis</th>\n",
       "      <th>stdDisp</th>\n",
       "      <th>...</th>\n",
       "      <th>blinkMean</th>\n",
       "      <th>blinkMin</th>\n",
       "      <th>blinkMax</th>\n",
       "      <th>blinkRate</th>\n",
       "      <th>xDir</th>\n",
       "      <th>yDir</th>\n",
       "      <th>fixDensPerBB</th>\n",
       "      <th>label</th>\n",
       "      <th>duration</th>\n",
       "      <th>participant_id</th>\n",
       "    </tr>\n",
       "  </thead>\n",
       "  <tbody>\n",
       "    <tr>\n",
       "      <th>5</th>\n",
       "      <td>875.8</td>\n",
       "      <td>136</td>\n",
       "      <td>1739</td>\n",
       "      <td>410207.288889</td>\n",
       "      <td>640.474269</td>\n",
       "      <td>0.036129</td>\n",
       "      <td>0.027904</td>\n",
       "      <td>0.090943</td>\n",
       "      <td>0.000388</td>\n",
       "      <td>0.019688</td>\n",
       "      <td>...</td>\n",
       "      <td>0</td>\n",
       "      <td>0</td>\n",
       "      <td>0</td>\n",
       "      <td>0</td>\n",
       "      <td>0.666667</td>\n",
       "      <td>0.222222</td>\n",
       "      <td>56.046906</td>\n",
       "      <td>NaN</td>\n",
       "      <td>10</td>\n",
       "      <td>2</td>\n",
       "    </tr>\n",
       "  </tbody>\n",
       "</table>\n",
       "<p>1 rows × 22 columns</p>\n",
       "</div>"
      ],
      "text/plain": [
       "   meanFix  minFix  maxFix         varFix      stdFix   meanDis    minDis  \\\n",
       "5    875.8     136    1739  410207.288889  640.474269  0.036129  0.027904   \n",
       "\n",
       "     maxDis    varDis   stdDisp  ...  blinkMean  blinkMin  blinkMax  \\\n",
       "5  0.090943  0.000388  0.019688  ...          0         0         0   \n",
       "\n",
       "   blinkRate      xDir      yDir  fixDensPerBB  label  duration  \\\n",
       "5          0  0.666667  0.222222     56.046906    NaN        10   \n",
       "\n",
       "   participant_id  \n",
       "5               2  \n",
       "\n",
       "[1 rows x 22 columns]"
      ]
     },
     "metadata": {},
     "output_type": "display_data"
    },
    {
     "name": "stdout",
     "output_type": "stream",
     "text": [
      "Normalized Features:\n"
     ]
    },
    {
     "data": {
      "text/html": [
       "<div>\n",
       "<style scoped>\n",
       "    .dataframe tbody tr th:only-of-type {\n",
       "        vertical-align: middle;\n",
       "    }\n",
       "\n",
       "    .dataframe tbody tr th {\n",
       "        vertical-align: top;\n",
       "    }\n",
       "\n",
       "    .dataframe thead th {\n",
       "        text-align: right;\n",
       "    }\n",
       "</style>\n",
       "<table border=\"1\" class=\"dataframe\">\n",
       "  <thead>\n",
       "    <tr style=\"text-align: right;\">\n",
       "      <th></th>\n",
       "      <th>meanFix</th>\n",
       "      <th>maxFix</th>\n",
       "      <th>varFix</th>\n",
       "      <th>xDir</th>\n",
       "      <th>yDir</th>\n",
       "      <th>fixDensPerBB</th>\n",
       "    </tr>\n",
       "  </thead>\n",
       "  <tbody>\n",
       "    <tr>\n",
       "      <th>385</th>\n",
       "      <td>1.0</td>\n",
       "      <td>0.378043</td>\n",
       "      <td>0.342303</td>\n",
       "      <td>0.724638</td>\n",
       "      <td>0.272727</td>\n",
       "      <td>0.036156</td>\n",
       "    </tr>\n",
       "  </tbody>\n",
       "</table>\n",
       "</div>"
      ],
      "text/plain": [
       "     meanFix    maxFix    varFix      xDir      yDir  fixDensPerBB\n",
       "385      1.0  0.378043  0.342303  0.724638  0.272727      0.036156"
      ]
     },
     "metadata": {},
     "output_type": "display_data"
    },
    {
     "data": {
      "text/plain": [
       "array([[0.13787138, 0.8609993 , 0.00112932]])"
      ]
     },
     "metadata": {},
     "output_type": "display_data"
    },
    {
     "data": {
      "text/plain": [
       "array(['Reading'], dtype=object)"
      ]
     },
     "metadata": {},
     "output_type": "display_data"
    },
    {
     "data": {
      "text/plain": [
       "array([[0.37122002, 0.53304698, 0.095733  ]])"
      ]
     },
     "metadata": {},
     "output_type": "display_data"
    },
    {
     "data": {
      "text/plain": [
       "array(['Inspection'], dtype=object)"
      ]
     },
     "metadata": {},
     "output_type": "display_data"
    },
    {
     "data": {
      "text/plain": [
       "array([[0.45155065, 0.51383008, 0.03461927]])"
      ]
     },
     "metadata": {},
     "output_type": "display_data"
    },
    {
     "data": {
      "text/plain": [
       "array(['Reading'], dtype=object)"
      ]
     },
     "metadata": {},
     "output_type": "display_data"
    },
    {
     "data": {
      "text/plain": [
       "array([[0.34043094, 0.33311516, 0.3264539 ]])"
      ]
     },
     "metadata": {},
     "output_type": "display_data"
    },
    {
     "data": {
      "text/plain": [
       "array(['Inspection'], dtype=object)"
      ]
     },
     "metadata": {},
     "output_type": "display_data"
    },
    {
     "data": {
      "text/plain": [
       "{'linear': {'pred_class': 'Reading',\n",
       "  'max_prob': 0.8609992974369683,\n",
       "  'max_index': 1},\n",
       " 'poly': {'pred_class': 'Inspection',\n",
       "  'max_prob': 0.5330469762334665,\n",
       "  'max_index': 1},\n",
       " 'rbf': {'pred_class': 'Reading',\n",
       "  'max_prob': 0.5138300841568291,\n",
       "  'max_index': 1},\n",
       " 'sigmoid': {'pred_class': 'Inspection',\n",
       "  'max_prob': 0.34043094076966735,\n",
       "  'max_index': 0}}"
      ]
     },
     "metadata": {},
     "output_type": "display_data"
    },
    {
     "name": "stdout",
     "output_type": "stream",
     "text": [
      "----------------\n",
      "http://10.2.2.152:52739/?activity=Reading&probability=0.8609992974369683\n",
      "<Response [200]>\n",
      "Notified Hololens about activity Reading\n",
      "filename: chunk_2025-09-30_10-38-23_007.csv\n",
      "filepath: ./OnlineGazeDataChunks/chunk_2025-09-30_10-38-23_007.csv\n",
      "start fc for:  ./OnlineGazeDataChunks/chunk_2025-09-30_10-38-23_007.csv\n",
      "File ./OnlineGazeDataChunks/chunk_2025-09-30_10-38-23_007.csv is not empty, start feature calculation\n",
      "Feature calculation done for: ./OnlineGazeDataChunks/chunk_2025-09-30_10-38-23_007.csv\n",
      "Feature file path: ./OnlineFeatureFiles/feature_list_P001.csv\n",
      "start prediction for:  ./OnlineFeatureFiles/feature_list_P001.csv\n"
     ]
    },
    {
     "data": {
      "text/html": [
       "<div>\n",
       "<style scoped>\n",
       "    .dataframe tbody tr th:only-of-type {\n",
       "        vertical-align: middle;\n",
       "    }\n",
       "\n",
       "    .dataframe tbody tr th {\n",
       "        vertical-align: top;\n",
       "    }\n",
       "\n",
       "    .dataframe thead th {\n",
       "        text-align: right;\n",
       "    }\n",
       "</style>\n",
       "<table border=\"1\" class=\"dataframe\">\n",
       "  <thead>\n",
       "    <tr style=\"text-align: right;\">\n",
       "      <th></th>\n",
       "      <th>meanFix</th>\n",
       "      <th>minFix</th>\n",
       "      <th>maxFix</th>\n",
       "      <th>varFix</th>\n",
       "      <th>stdFix</th>\n",
       "      <th>meanDis</th>\n",
       "      <th>minDis</th>\n",
       "      <th>maxDis</th>\n",
       "      <th>varDis</th>\n",
       "      <th>stdDisp</th>\n",
       "      <th>...</th>\n",
       "      <th>blinkMean</th>\n",
       "      <th>blinkMin</th>\n",
       "      <th>blinkMax</th>\n",
       "      <th>blinkRate</th>\n",
       "      <th>xDir</th>\n",
       "      <th>yDir</th>\n",
       "      <th>fixDensPerBB</th>\n",
       "      <th>label</th>\n",
       "      <th>duration</th>\n",
       "      <th>participant_id</th>\n",
       "    </tr>\n",
       "  </thead>\n",
       "  <tbody>\n",
       "    <tr>\n",
       "      <th>6</th>\n",
       "      <td>339.190476</td>\n",
       "      <td>102</td>\n",
       "      <td>1459</td>\n",
       "      <td>129899.061905</td>\n",
       "      <td>360.415124</td>\n",
       "      <td>0.03477</td>\n",
       "      <td>0.027962</td>\n",
       "      <td>0.05909</td>\n",
       "      <td>0.000105</td>\n",
       "      <td>0.010227</td>\n",
       "      <td>...</td>\n",
       "      <td>0</td>\n",
       "      <td>0</td>\n",
       "      <td>0</td>\n",
       "      <td>0</td>\n",
       "      <td>0.35</td>\n",
       "      <td>0.55</td>\n",
       "      <td>19.410283</td>\n",
       "      <td>NaN</td>\n",
       "      <td>10</td>\n",
       "      <td>2</td>\n",
       "    </tr>\n",
       "  </tbody>\n",
       "</table>\n",
       "<p>1 rows × 22 columns</p>\n",
       "</div>"
      ],
      "text/plain": [
       "      meanFix  minFix  maxFix         varFix      stdFix  meanDis    minDis  \\\n",
       "6  339.190476     102    1459  129899.061905  360.415124  0.03477  0.027962   \n",
       "\n",
       "    maxDis    varDis   stdDisp  ...  blinkMean  blinkMin  blinkMax  blinkRate  \\\n",
       "6  0.05909  0.000105  0.010227  ...          0         0         0          0   \n",
       "\n",
       "   xDir  yDir  fixDensPerBB  label  duration  participant_id  \n",
       "6  0.35  0.55     19.410283    NaN        10               2  \n",
       "\n",
       "[1 rows x 22 columns]"
      ]
     },
     "metadata": {},
     "output_type": "display_data"
    },
    {
     "name": "stdout",
     "output_type": "stream",
     "text": [
      "Normalized Features:\n"
     ]
    },
    {
     "data": {
      "text/html": [
       "<div>\n",
       "<style scoped>\n",
       "    .dataframe tbody tr th:only-of-type {\n",
       "        vertical-align: middle;\n",
       "    }\n",
       "\n",
       "    .dataframe tbody tr th {\n",
       "        vertical-align: top;\n",
       "    }\n",
       "\n",
       "    .dataframe thead th {\n",
       "        text-align: right;\n",
       "    }\n",
       "</style>\n",
       "<table border=\"1\" class=\"dataframe\">\n",
       "  <thead>\n",
       "    <tr style=\"text-align: right;\">\n",
       "      <th></th>\n",
       "      <th>meanFix</th>\n",
       "      <th>maxFix</th>\n",
       "      <th>varFix</th>\n",
       "      <th>xDir</th>\n",
       "      <th>yDir</th>\n",
       "      <th>fixDensPerBB</th>\n",
       "    </tr>\n",
       "  </thead>\n",
       "  <tbody>\n",
       "    <tr>\n",
       "      <th>385</th>\n",
       "      <td>0.557085</td>\n",
       "      <td>0.317174</td>\n",
       "      <td>0.108396</td>\n",
       "      <td>0.380435</td>\n",
       "      <td>0.675</td>\n",
       "      <td>0.012522</td>\n",
       "    </tr>\n",
       "  </tbody>\n",
       "</table>\n",
       "</div>"
      ],
      "text/plain": [
       "      meanFix    maxFix    varFix      xDir   yDir  fixDensPerBB\n",
       "385  0.557085  0.317174  0.108396  0.380435  0.675      0.012522"
      ]
     },
     "metadata": {},
     "output_type": "display_data"
    },
    {
     "data": {
      "text/plain": [
       "array([[0.59776921, 0.00540954, 0.39682125]])"
      ]
     },
     "metadata": {},
     "output_type": "display_data"
    },
    {
     "data": {
      "text/plain": [
       "array(['Inspection'], dtype=object)"
      ]
     },
     "metadata": {},
     "output_type": "display_data"
    },
    {
     "data": {
      "text/plain": [
       "array([[0.23589807, 0.01041976, 0.75368217]])"
      ]
     },
     "metadata": {},
     "output_type": "display_data"
    },
    {
     "data": {
      "text/plain": [
       "array(['Search'], dtype=object)"
      ]
     },
     "metadata": {},
     "output_type": "display_data"
    },
    {
     "data": {
      "text/plain": [
       "array([[0.57059789, 0.00729067, 0.42211144]])"
      ]
     },
     "metadata": {},
     "output_type": "display_data"
    },
    {
     "data": {
      "text/plain": [
       "array(['Inspection'], dtype=object)"
      ]
     },
     "metadata": {},
     "output_type": "display_data"
    },
    {
     "data": {
      "text/plain": [
       "array([[0.35506778, 0.224874  , 0.42005822]])"
      ]
     },
     "metadata": {},
     "output_type": "display_data"
    },
    {
     "data": {
      "text/plain": [
       "array(['Inspection'], dtype=object)"
      ]
     },
     "metadata": {},
     "output_type": "display_data"
    },
    {
     "data": {
      "text/plain": [
       "{'linear': {'pred_class': 'Inspection',\n",
       "  'max_prob': 0.5977692088256503,\n",
       "  'max_index': 0},\n",
       " 'poly': {'pred_class': 'Search',\n",
       "  'max_prob': 0.7536821678919594,\n",
       "  'max_index': 2},\n",
       " 'rbf': {'pred_class': 'Inspection',\n",
       "  'max_prob': 0.5705978942913345,\n",
       "  'max_index': 0},\n",
       " 'sigmoid': {'pred_class': 'Inspection',\n",
       "  'max_prob': 0.4200582176689094,\n",
       "  'max_index': 2}}"
      ]
     },
     "metadata": {},
     "output_type": "display_data"
    },
    {
     "name": "stdout",
     "output_type": "stream",
     "text": [
      "----------------\n",
      "filename: chunk_2025-09-30_10-38-33_008.csv\n",
      "filepath: ./OnlineGazeDataChunks/chunk_2025-09-30_10-38-33_008.csv\n",
      "start fc for:  ./OnlineGazeDataChunks/chunk_2025-09-30_10-38-33_008.csv\n",
      "File ./OnlineGazeDataChunks/chunk_2025-09-30_10-38-33_008.csv is not empty, start feature calculation\n",
      "Feature calculation done for: ./OnlineGazeDataChunks/chunk_2025-09-30_10-38-33_008.csv\n",
      "Feature file path: ./OnlineFeatureFiles/feature_list_P001.csv\n",
      "start prediction for:  ./OnlineFeatureFiles/feature_list_P001.csv\n"
     ]
    },
    {
     "data": {
      "text/html": [
       "<div>\n",
       "<style scoped>\n",
       "    .dataframe tbody tr th:only-of-type {\n",
       "        vertical-align: middle;\n",
       "    }\n",
       "\n",
       "    .dataframe tbody tr th {\n",
       "        vertical-align: top;\n",
       "    }\n",
       "\n",
       "    .dataframe thead th {\n",
       "        text-align: right;\n",
       "    }\n",
       "</style>\n",
       "<table border=\"1\" class=\"dataframe\">\n",
       "  <thead>\n",
       "    <tr style=\"text-align: right;\">\n",
       "      <th></th>\n",
       "      <th>meanFix</th>\n",
       "      <th>minFix</th>\n",
       "      <th>maxFix</th>\n",
       "      <th>varFix</th>\n",
       "      <th>stdFix</th>\n",
       "      <th>meanDis</th>\n",
       "      <th>minDis</th>\n",
       "      <th>maxDis</th>\n",
       "      <th>varDis</th>\n",
       "      <th>stdDisp</th>\n",
       "      <th>...</th>\n",
       "      <th>blinkMean</th>\n",
       "      <th>blinkMin</th>\n",
       "      <th>blinkMax</th>\n",
       "      <th>blinkRate</th>\n",
       "      <th>xDir</th>\n",
       "      <th>yDir</th>\n",
       "      <th>fixDensPerBB</th>\n",
       "      <th>label</th>\n",
       "      <th>duration</th>\n",
       "      <th>participant_id</th>\n",
       "    </tr>\n",
       "  </thead>\n",
       "  <tbody>\n",
       "    <tr>\n",
       "      <th>7</th>\n",
       "      <td>390.5</td>\n",
       "      <td>102</td>\n",
       "      <td>1569</td>\n",
       "      <td>161703.315789</td>\n",
       "      <td>402.123508</td>\n",
       "      <td>0.029483</td>\n",
       "      <td>0.027942</td>\n",
       "      <td>0.032496</td>\n",
       "      <td>0.000002</td>\n",
       "      <td>0.001331</td>\n",
       "      <td>...</td>\n",
       "      <td>0</td>\n",
       "      <td>0</td>\n",
       "      <td>0</td>\n",
       "      <td>0</td>\n",
       "      <td>0.526316</td>\n",
       "      <td>0.578947</td>\n",
       "      <td>47.629884</td>\n",
       "      <td>NaN</td>\n",
       "      <td>10</td>\n",
       "      <td>2</td>\n",
       "    </tr>\n",
       "  </tbody>\n",
       "</table>\n",
       "<p>1 rows × 22 columns</p>\n",
       "</div>"
      ],
      "text/plain": [
       "   meanFix  minFix  maxFix         varFix      stdFix   meanDis    minDis  \\\n",
       "7    390.5     102    1569  161703.315789  402.123508  0.029483  0.027942   \n",
       "\n",
       "     maxDis    varDis   stdDisp  ...  blinkMean  blinkMin  blinkMax  \\\n",
       "7  0.032496  0.000002  0.001331  ...          0         0         0   \n",
       "\n",
       "   blinkRate      xDir      yDir  fixDensPerBB  label  duration  \\\n",
       "7          0  0.526316  0.578947     47.629884    NaN        10   \n",
       "\n",
       "   participant_id  \n",
       "7               2  \n",
       "\n",
       "[1 rows x 22 columns]"
      ]
     },
     "metadata": {},
     "output_type": "display_data"
    },
    {
     "name": "stdout",
     "output_type": "stream",
     "text": [
      "Normalized Features:\n"
     ]
    },
    {
     "data": {
      "text/html": [
       "<div>\n",
       "<style scoped>\n",
       "    .dataframe tbody tr th:only-of-type {\n",
       "        vertical-align: middle;\n",
       "    }\n",
       "\n",
       "    .dataframe tbody tr th {\n",
       "        vertical-align: top;\n",
       "    }\n",
       "\n",
       "    .dataframe thead th {\n",
       "        text-align: right;\n",
       "    }\n",
       "</style>\n",
       "<table border=\"1\" class=\"dataframe\">\n",
       "  <thead>\n",
       "    <tr style=\"text-align: right;\">\n",
       "      <th></th>\n",
       "      <th>meanFix</th>\n",
       "      <th>maxFix</th>\n",
       "      <th>varFix</th>\n",
       "      <th>xDir</th>\n",
       "      <th>yDir</th>\n",
       "      <th>fixDensPerBB</th>\n",
       "    </tr>\n",
       "  </thead>\n",
       "  <tbody>\n",
       "    <tr>\n",
       "      <th>385</th>\n",
       "      <td>0.641356</td>\n",
       "      <td>0.341087</td>\n",
       "      <td>0.134936</td>\n",
       "      <td>0.572082</td>\n",
       "      <td>0.710526</td>\n",
       "      <td>0.030726</td>\n",
       "    </tr>\n",
       "  </tbody>\n",
       "</table>\n",
       "</div>"
      ],
      "text/plain": [
       "      meanFix    maxFix    varFix      xDir      yDir  fixDensPerBB\n",
       "385  0.641356  0.341087  0.134936  0.572082  0.710526      0.030726"
      ]
     },
     "metadata": {},
     "output_type": "display_data"
    },
    {
     "data": {
      "text/plain": [
       "array([[0.66523352, 0.19145593, 0.14331055]])"
      ]
     },
     "metadata": {},
     "output_type": "display_data"
    },
    {
     "data": {
      "text/plain": [
       "array(['Inspection'], dtype=object)"
      ]
     },
     "metadata": {},
     "output_type": "display_data"
    },
    {
     "data": {
      "text/plain": [
       "array([[0.4704226, 0.1430438, 0.3865336]])"
      ]
     },
     "metadata": {},
     "output_type": "display_data"
    },
    {
     "data": {
      "text/plain": [
       "array(['Inspection'], dtype=object)"
      ]
     },
     "metadata": {},
     "output_type": "display_data"
    },
    {
     "data": {
      "text/plain": [
       "array([[0.6485004 , 0.18058142, 0.17091819]])"
      ]
     },
     "metadata": {},
     "output_type": "display_data"
    },
    {
     "data": {
      "text/plain": [
       "array(['Inspection'], dtype=object)"
      ]
     },
     "metadata": {},
     "output_type": "display_data"
    },
    {
     "data": {
      "text/plain": [
       "array([[0.34877382, 0.49569335, 0.15553283]])"
      ]
     },
     "metadata": {},
     "output_type": "display_data"
    },
    {
     "data": {
      "text/plain": [
       "array(['Search'], dtype=object)"
      ]
     },
     "metadata": {},
     "output_type": "display_data"
    },
    {
     "data": {
      "text/plain": [
       "{'linear': {'pred_class': 'Inspection',\n",
       "  'max_prob': 0.6652335213129774,\n",
       "  'max_index': 0},\n",
       " 'poly': {'pred_class': 'Inspection',\n",
       "  'max_prob': 0.4704225951609595,\n",
       "  'max_index': 0},\n",
       " 'rbf': {'pred_class': 'Inspection',\n",
       "  'max_prob': 0.6485003966471939,\n",
       "  'max_index': 0},\n",
       " 'sigmoid': {'pred_class': 'Search',\n",
       "  'max_prob': 0.4956933451403609,\n",
       "  'max_index': 1}}"
      ]
     },
     "metadata": {},
     "output_type": "display_data"
    },
    {
     "name": "stdout",
     "output_type": "stream",
     "text": [
      "----------------\n",
      "http://10.2.2.152:52739/?activity=Inspection&probability=0.6652335213129774\n",
      "<Response [200]>\n",
      "Notified Hololens about activity Inspection\n",
      "filename: chunk_2025-09-30_10-38-43_009.csv\n",
      "filepath: ./OnlineGazeDataChunks/chunk_2025-09-30_10-38-43_009.csv\n",
      "start fc for:  ./OnlineGazeDataChunks/chunk_2025-09-30_10-38-43_009.csv\n",
      "File ./OnlineGazeDataChunks/chunk_2025-09-30_10-38-43_009.csv is not empty, start feature calculation\n",
      "Feature calculation done for: ./OnlineGazeDataChunks/chunk_2025-09-30_10-38-43_009.csv\n",
      "Feature file path: ./OnlineFeatureFiles/feature_list_P001.csv\n",
      "start prediction for:  ./OnlineFeatureFiles/feature_list_P001.csv\n"
     ]
    },
    {
     "data": {
      "text/html": [
       "<div>\n",
       "<style scoped>\n",
       "    .dataframe tbody tr th:only-of-type {\n",
       "        vertical-align: middle;\n",
       "    }\n",
       "\n",
       "    .dataframe tbody tr th {\n",
       "        vertical-align: top;\n",
       "    }\n",
       "\n",
       "    .dataframe thead th {\n",
       "        text-align: right;\n",
       "    }\n",
       "</style>\n",
       "<table border=\"1\" class=\"dataframe\">\n",
       "  <thead>\n",
       "    <tr style=\"text-align: right;\">\n",
       "      <th></th>\n",
       "      <th>meanFix</th>\n",
       "      <th>minFix</th>\n",
       "      <th>maxFix</th>\n",
       "      <th>varFix</th>\n",
       "      <th>stdFix</th>\n",
       "      <th>meanDis</th>\n",
       "      <th>minDis</th>\n",
       "      <th>maxDis</th>\n",
       "      <th>varDis</th>\n",
       "      <th>stdDisp</th>\n",
       "      <th>...</th>\n",
       "      <th>blinkMean</th>\n",
       "      <th>blinkMin</th>\n",
       "      <th>blinkMax</th>\n",
       "      <th>blinkRate</th>\n",
       "      <th>xDir</th>\n",
       "      <th>yDir</th>\n",
       "      <th>fixDensPerBB</th>\n",
       "      <th>label</th>\n",
       "      <th>duration</th>\n",
       "      <th>participant_id</th>\n",
       "    </tr>\n",
       "  </thead>\n",
       "  <tbody>\n",
       "    <tr>\n",
       "      <th>8</th>\n",
       "      <td>382.722222</td>\n",
       "      <td>102</td>\n",
       "      <td>1433</td>\n",
       "      <td>140514.447712</td>\n",
       "      <td>374.852568</td>\n",
       "      <td>0.033216</td>\n",
       "      <td>0.027995</td>\n",
       "      <td>0.06373</td>\n",
       "      <td>0.000086</td>\n",
       "      <td>0.009299</td>\n",
       "      <td>...</td>\n",
       "      <td>0</td>\n",
       "      <td>0</td>\n",
       "      <td>0</td>\n",
       "      <td>0</td>\n",
       "      <td>0.470588</td>\n",
       "      <td>0.529412</td>\n",
       "      <td>27.30192</td>\n",
       "      <td>NaN</td>\n",
       "      <td>10</td>\n",
       "      <td>2</td>\n",
       "    </tr>\n",
       "  </tbody>\n",
       "</table>\n",
       "<p>1 rows × 22 columns</p>\n",
       "</div>"
      ],
      "text/plain": [
       "      meanFix  minFix  maxFix         varFix      stdFix   meanDis    minDis  \\\n",
       "8  382.722222     102    1433  140514.447712  374.852568  0.033216  0.027995   \n",
       "\n",
       "    maxDis    varDis   stdDisp  ...  blinkMean  blinkMin  blinkMax  blinkRate  \\\n",
       "8  0.06373  0.000086  0.009299  ...          0         0         0          0   \n",
       "\n",
       "       xDir      yDir  fixDensPerBB  label  duration  participant_id  \n",
       "8  0.470588  0.529412      27.30192    NaN        10               2  \n",
       "\n",
       "[1 rows x 22 columns]"
      ]
     },
     "metadata": {},
     "output_type": "display_data"
    },
    {
     "name": "stdout",
     "output_type": "stream",
     "text": [
      "Normalized Features:\n"
     ]
    },
    {
     "data": {
      "text/html": [
       "<div>\n",
       "<style scoped>\n",
       "    .dataframe tbody tr th:only-of-type {\n",
       "        vertical-align: middle;\n",
       "    }\n",
       "\n",
       "    .dataframe tbody tr th {\n",
       "        vertical-align: top;\n",
       "    }\n",
       "\n",
       "    .dataframe thead th {\n",
       "        text-align: right;\n",
       "    }\n",
       "</style>\n",
       "<table border=\"1\" class=\"dataframe\">\n",
       "  <thead>\n",
       "    <tr style=\"text-align: right;\">\n",
       "      <th></th>\n",
       "      <th>meanFix</th>\n",
       "      <th>maxFix</th>\n",
       "      <th>varFix</th>\n",
       "      <th>xDir</th>\n",
       "      <th>yDir</th>\n",
       "      <th>fixDensPerBB</th>\n",
       "    </tr>\n",
       "  </thead>\n",
       "  <tbody>\n",
       "    <tr>\n",
       "      <th>385</th>\n",
       "      <td>0.628581</td>\n",
       "      <td>0.311522</td>\n",
       "      <td>0.117254</td>\n",
       "      <td>0.511509</td>\n",
       "      <td>0.649733</td>\n",
       "      <td>0.017613</td>\n",
       "    </tr>\n",
       "  </tbody>\n",
       "</table>\n",
       "</div>"
      ],
      "text/plain": [
       "      meanFix    maxFix    varFix      xDir      yDir  fixDensPerBB\n",
       "385  0.628581  0.311522  0.117254  0.511509  0.649733      0.017613"
      ]
     },
     "metadata": {},
     "output_type": "display_data"
    },
    {
     "data": {
      "text/plain": [
       "array([[0.66547197, 0.08545108, 0.24907694]])"
      ]
     },
     "metadata": {},
     "output_type": "display_data"
    },
    {
     "data": {
      "text/plain": [
       "array(['Inspection'], dtype=object)"
      ]
     },
     "metadata": {},
     "output_type": "display_data"
    },
    {
     "data": {
      "text/plain": [
       "array([[0.33394797, 0.09733767, 0.56871437]])"
      ]
     },
     "metadata": {},
     "output_type": "display_data"
    },
    {
     "data": {
      "text/plain": [
       "array(['Search'], dtype=object)"
      ]
     },
     "metadata": {},
     "output_type": "display_data"
    },
    {
     "data": {
      "text/plain": [
       "array([[0.64447659, 0.08437016, 0.27115325]])"
      ]
     },
     "metadata": {},
     "output_type": "display_data"
    },
    {
     "data": {
      "text/plain": [
       "array(['Inspection'], dtype=object)"
      ]
     },
     "metadata": {},
     "output_type": "display_data"
    },
    {
     "data": {
      "text/plain": [
       "array([[0.34574533, 0.37689435, 0.27736032]])"
      ]
     },
     "metadata": {},
     "output_type": "display_data"
    },
    {
     "data": {
      "text/plain": [
       "array(['Inspection'], dtype=object)"
      ]
     },
     "metadata": {},
     "output_type": "display_data"
    },
    {
     "data": {
      "text/plain": [
       "{'linear': {'pred_class': 'Inspection',\n",
       "  'max_prob': 0.6654719739409641,\n",
       "  'max_index': 0},\n",
       " 'poly': {'pred_class': 'Search',\n",
       "  'max_prob': 0.5687143656246152,\n",
       "  'max_index': 2},\n",
       " 'rbf': {'pred_class': 'Inspection',\n",
       "  'max_prob': 0.6444765908757065,\n",
       "  'max_index': 0},\n",
       " 'sigmoid': {'pred_class': 'Inspection',\n",
       "  'max_prob': 0.37689434628217156,\n",
       "  'max_index': 1}}"
      ]
     },
     "metadata": {},
     "output_type": "display_data"
    },
    {
     "name": "stdout",
     "output_type": "stream",
     "text": [
      "----------------\n",
      "http://10.2.2.152:52739/?activity=Inspection&probability=0.6654719739409641\n",
      "<Response [200]>\n",
      "Notified Hololens about activity Inspection\n",
      "filename: chunk_2025-09-30_10-38-53_010.csv\n",
      "filepath: ./OnlineGazeDataChunks/chunk_2025-09-30_10-38-53_010.csv\n",
      "start fc for:  ./OnlineGazeDataChunks/chunk_2025-09-30_10-38-53_010.csv\n",
      "File ./OnlineGazeDataChunks/chunk_2025-09-30_10-38-53_010.csv is not empty, start feature calculation\n",
      "Feature calculation done for: ./OnlineGazeDataChunks/chunk_2025-09-30_10-38-53_010.csv\n",
      "Feature file path: ./OnlineFeatureFiles/feature_list_P001.csv\n",
      "start prediction for:  ./OnlineFeatureFiles/feature_list_P001.csv\n"
     ]
    },
    {
     "data": {
      "text/html": [
       "<div>\n",
       "<style scoped>\n",
       "    .dataframe tbody tr th:only-of-type {\n",
       "        vertical-align: middle;\n",
       "    }\n",
       "\n",
       "    .dataframe tbody tr th {\n",
       "        vertical-align: top;\n",
       "    }\n",
       "\n",
       "    .dataframe thead th {\n",
       "        text-align: right;\n",
       "    }\n",
       "</style>\n",
       "<table border=\"1\" class=\"dataframe\">\n",
       "  <thead>\n",
       "    <tr style=\"text-align: right;\">\n",
       "      <th></th>\n",
       "      <th>meanFix</th>\n",
       "      <th>minFix</th>\n",
       "      <th>maxFix</th>\n",
       "      <th>varFix</th>\n",
       "      <th>stdFix</th>\n",
       "      <th>meanDis</th>\n",
       "      <th>minDis</th>\n",
       "      <th>maxDis</th>\n",
       "      <th>varDis</th>\n",
       "      <th>stdDisp</th>\n",
       "      <th>...</th>\n",
       "      <th>blinkMean</th>\n",
       "      <th>blinkMin</th>\n",
       "      <th>blinkMax</th>\n",
       "      <th>blinkRate</th>\n",
       "      <th>xDir</th>\n",
       "      <th>yDir</th>\n",
       "      <th>fixDensPerBB</th>\n",
       "      <th>label</th>\n",
       "      <th>duration</th>\n",
       "      <th>participant_id</th>\n",
       "    </tr>\n",
       "  </thead>\n",
       "  <tbody>\n",
       "    <tr>\n",
       "      <th>9</th>\n",
       "      <td>297.826087</td>\n",
       "      <td>102</td>\n",
       "      <td>921</td>\n",
       "      <td>39594.604743</td>\n",
       "      <td>198.983931</td>\n",
       "      <td>0.031184</td>\n",
       "      <td>0.009581</td>\n",
       "      <td>0.067707</td>\n",
       "      <td>0.000094</td>\n",
       "      <td>0.009696</td>\n",
       "      <td>...</td>\n",
       "      <td>0</td>\n",
       "      <td>0</td>\n",
       "      <td>0</td>\n",
       "      <td>0</td>\n",
       "      <td>0.545455</td>\n",
       "      <td>0.545455</td>\n",
       "      <td>49.573439</td>\n",
       "      <td>NaN</td>\n",
       "      <td>10</td>\n",
       "      <td>2</td>\n",
       "    </tr>\n",
       "  </tbody>\n",
       "</table>\n",
       "<p>1 rows × 22 columns</p>\n",
       "</div>"
      ],
      "text/plain": [
       "      meanFix  minFix  maxFix        varFix      stdFix   meanDis    minDis  \\\n",
       "9  297.826087     102     921  39594.604743  198.983931  0.031184  0.009581   \n",
       "\n",
       "     maxDis    varDis   stdDisp  ...  blinkMean  blinkMin  blinkMax  \\\n",
       "9  0.067707  0.000094  0.009696  ...          0         0         0   \n",
       "\n",
       "   blinkRate      xDir      yDir  fixDensPerBB  label  duration  \\\n",
       "9          0  0.545455  0.545455     49.573439    NaN        10   \n",
       "\n",
       "   participant_id  \n",
       "9               2  \n",
       "\n",
       "[1 rows x 22 columns]"
      ]
     },
     "metadata": {},
     "output_type": "display_data"
    },
    {
     "name": "stdout",
     "output_type": "stream",
     "text": [
      "Normalized Features:\n"
     ]
    },
    {
     "data": {
      "text/html": [
       "<div>\n",
       "<style scoped>\n",
       "    .dataframe tbody tr th:only-of-type {\n",
       "        vertical-align: middle;\n",
       "    }\n",
       "\n",
       "    .dataframe tbody tr th {\n",
       "        vertical-align: top;\n",
       "    }\n",
       "\n",
       "    .dataframe thead th {\n",
       "        text-align: right;\n",
       "    }\n",
       "</style>\n",
       "<table border=\"1\" class=\"dataframe\">\n",
       "  <thead>\n",
       "    <tr style=\"text-align: right;\">\n",
       "      <th></th>\n",
       "      <th>meanFix</th>\n",
       "      <th>maxFix</th>\n",
       "      <th>varFix</th>\n",
       "      <th>xDir</th>\n",
       "      <th>yDir</th>\n",
       "      <th>fixDensPerBB</th>\n",
       "    </tr>\n",
       "  </thead>\n",
       "  <tbody>\n",
       "    <tr>\n",
       "      <th>385</th>\n",
       "      <td>0.489148</td>\n",
       "      <td>0.200217</td>\n",
       "      <td>0.03304</td>\n",
       "      <td>0.592885</td>\n",
       "      <td>0.669421</td>\n",
       "      <td>0.03198</td>\n",
       "    </tr>\n",
       "  </tbody>\n",
       "</table>\n",
       "</div>"
      ],
      "text/plain": [
       "      meanFix    maxFix   varFix      xDir      yDir  fixDensPerBB\n",
       "385  0.489148  0.200217  0.03304  0.592885  0.669421       0.03198"
      ]
     },
     "metadata": {},
     "output_type": "display_data"
    },
    {
     "data": {
      "text/plain": [
       "array([[0.29180166, 0.18218693, 0.52601141]])"
      ]
     },
     "metadata": {},
     "output_type": "display_data"
    },
    {
     "data": {
      "text/plain": [
       "array(['Search'], dtype=object)"
      ]
     },
     "metadata": {},
     "output_type": "display_data"
    },
    {
     "data": {
      "text/plain": [
       "array([[0.2134143 , 0.21506417, 0.57152153]])"
      ]
     },
     "metadata": {},
     "output_type": "display_data"
    },
    {
     "data": {
      "text/plain": [
       "array(['Search'], dtype=object)"
      ]
     },
     "metadata": {},
     "output_type": "display_data"
    },
    {
     "data": {
      "text/plain": [
       "array([[0.28850427, 0.18169996, 0.52979577]])"
      ]
     },
     "metadata": {},
     "output_type": "display_data"
    },
    {
     "data": {
      "text/plain": [
       "array(['Search'], dtype=object)"
      ]
     },
     "metadata": {},
     "output_type": "display_data"
    },
    {
     "data": {
      "text/plain": [
       "array([[0.35820837, 0.36491857, 0.27687306]])"
      ]
     },
     "metadata": {},
     "output_type": "display_data"
    },
    {
     "data": {
      "text/plain": [
       "array(['Reading'], dtype=object)"
      ]
     },
     "metadata": {},
     "output_type": "display_data"
    },
    {
     "data": {
      "text/plain": [
       "{'linear': {'pred_class': 'Search',\n",
       "  'max_prob': 0.5260114143482162,\n",
       "  'max_index': 2},\n",
       " 'poly': {'pred_class': 'Search',\n",
       "  'max_prob': 0.5715215346843494,\n",
       "  'max_index': 2},\n",
       " 'rbf': {'pred_class': 'Search',\n",
       "  'max_prob': 0.529795767837999,\n",
       "  'max_index': 2},\n",
       " 'sigmoid': {'pred_class': 'Reading',\n",
       "  'max_prob': 0.36491857420705165,\n",
       "  'max_index': 1}}"
      ]
     },
     "metadata": {},
     "output_type": "display_data"
    },
    {
     "name": "stdout",
     "output_type": "stream",
     "text": [
      "----------------\n",
      "http://10.2.2.152:52739/?activity=Search&probability=0.5715215346843494\n",
      "<Response [200]>\n",
      "Notified Hololens about activity Search\n"
     ]
    }
   ],
   "source": [
    "from flask_executor import Executor\n",
    "\n",
    "import logging\n",
    "logger = logging.getLogger('waitress')\n",
    "logger.setLevel(logging.DEBUG)\n",
    "\n",
    "app = Flask(__name__)\n",
    "executor = Executor(app)\n",
    "\n",
    "@app.route('/', methods=['POST', 'PUT'])\n",
    "def result():\n",
    "    new_csv = request.files[\"gazedata\"].read()\n",
    "    filename = request.form[\"filename\"]\n",
    "    print(f\"filename: {filename}\")\n",
    "    filepath = os.path.join(\"./OnlineGazeDataChunks/\", filename)\n",
    "    print(f\"filepath: {filepath}\")\n",
    "    outF = open(filepath, \"wb\")\n",
    "    outF.write(new_csv)\n",
    "    executor.submit(start_feature_calculation,filepath)\n",
    "    return 'Received !'  \n",
    "\n",
    "# '''\n",
    "def start_feature_calculation(filepath):\n",
    "    print(\"start fc for: \", filepath)\n",
    "    if os.stat(filepath).st_size != 0:\n",
    "        print(f\"File {filepath} is not empty, start feature calculation\")\n",
    "        feature_file_path = csv_to_features(filepath)\n",
    "        if os.stat(feature_file_path).st_size != 0:\n",
    "            print(\"start prediction for: \", feature_file_path)\n",
    "            predict_class_for_last_chunk(feature_file_path)\n",
    "        else:\n",
    "            print(f\"File {feature_file_path} is empty!\")\n",
    "    else:\n",
    "        print(f\"File {filepath} is empty!\")\n",
    "# '''\n",
    "\n",
    "if __name__ == '__main__':\n",
    "    from waitress import serve\n",
    "    serve(app, listen=f\"0.0.0.0:{free_port}\")\n",
    "    # serve(app, listen=\"10.2.2.152:5555\")\n"
   ]
  },
  {
   "cell_type": "code",
   "execution_count": null,
   "id": "437015ee",
   "metadata": {},
   "outputs": [],
   "source": []
  }
 ],
 "metadata": {
  "kernelspec": {
   "display_name": "base",
   "language": "python",
   "name": "python3"
  },
  "language_info": {
   "codemirror_mode": {
    "name": "ipython",
    "version": 3
   },
   "file_extension": ".py",
   "mimetype": "text/x-python",
   "name": "python",
   "nbconvert_exporter": "python",
   "pygments_lexer": "ipython3",
   "version": "3.12.3"
  }
 },
 "nbformat": 4,
 "nbformat_minor": 5
}
