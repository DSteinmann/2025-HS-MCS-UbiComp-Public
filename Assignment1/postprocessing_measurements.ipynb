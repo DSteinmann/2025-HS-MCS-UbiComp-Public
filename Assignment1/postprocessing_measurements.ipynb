{
 "cells": [
  {
   "cell_type": "markdown",
   "metadata": {
    "id": "lBZYplkA9qpb"
   },
   "source": [
    "Install Dependencies"
   ]
  },
  {
   "cell_type": "code",
   "execution_count": null,
   "metadata": {
    "id": "GXaRLORZ2djH"
   },
   "outputs": [],
   "source": [
    "!pip install rocketlogger\n",
    "!pip install pandas\n",
    "!pip install matplotlib"
   ]
  },
  {
   "cell_type": "markdown",
   "metadata": {
    "id": "AuhZt_ux9xAp"
   },
   "source": [
    "Import dependencies and load data"
   ]
  },
  {
   "cell_type": "code",
   "execution_count": null,
   "metadata": {
    "id": "OedSmwXb2Xj8"
   },
   "outputs": [],
   "source": [
    "import numpy as np\n",
    "import pandas as pd\n",
    "import matplotlib.pyplot as plt\n",
    "from matplotlib import rc\n",
    "import os\n",
    "from numpy import linalg as LA\n",
    "from rocketlogger.data import RocketLoggerData"
   ]
  },
  {
   "cell_type": "code",
   "execution_count": null,
   "metadata": {
    "id": "mJS-xfaS23nJ"
   },
   "outputs": [],
   "source": [
    "# # Configuration\n",
    "# Export figure settings\n",
    "plt.rcParams['pdf.fonttype'] = 42\n",
    "plt.rcParams['ps.fonttype'] = 42\n",
    "plt.rcParams['ps.useafm'] = True\n",
    "\n",
    "# constants\n",
    "LPM_CURRENT_THRESHOLD = 150e-6 # ampere\n",
    "TRIM_START = 1.0 # seconds\n",
    "TRIM_END = 1.0 # seconds\n",
    "    \n",
    "# input folder\n",
    "input_folder = os.path.join('./')\n",
    "\n",
    "# input files -- update path \n",
    "# measurement_file = 'data/Onboard-data.rld'\n",
    "measurement_file = 'data/Offboard-data.rld'\n",
    "\n",
    "# Load data\n",
    "data = RocketLoggerData(os.path.join(input_folder, measurement_file))\n",
    "data = data.merge_channels(True)\n",
    "data_sample_rate = int(data._header['sample_rate'])\n",
    "data_comment = data.get_comment()"
   ]
  },
  {
   "cell_type": "code",
   "execution_count": null,
   "metadata": {
    "id": "ilrw9cIJ3PZW"
   },
   "outputs": [],
   "source": [
    "# RAW DATA\n",
    "I_app = data.get_data('I1').squeeze()[int(TRIM_START*data_sample_rate):-int(TRIM_END*data_sample_rate)]\n",
    "V_app = data.get_data('V1').squeeze()[int(TRIM_START*data_sample_rate):-int(TRIM_END*data_sample_rate)]\n",
    "app_active_window = data.get_data('DI1').squeeze()[int(TRIM_START*data_sample_rate):-int(TRIM_END*data_sample_rate)] > 0\n",
    "\n",
    "print(\"Average supply voltage:  {:1.2f} V \".format(np.mean(V_app)))"
   ]
  },
  {
   "cell_type": "markdown",
   "metadata": {
    "id": "fL1ZWUPy-f2T"
   },
   "source": [
    "Extract application states"
   ]
  },
  {
   "cell_type": "code",
   "execution_count": null,
   "metadata": {
    "id": "3awYs_jm3XC7"
   },
   "outputs": [],
   "source": [
    "# TIME\n",
    "t_app = data.get_time()[int(TRIM_START*data_sample_rate):-int(TRIM_END*data_sample_rate)]\n",
    "t_app = t_app - t_app[0]\n",
    "dt_app = np.hstack([np.diff(t_app), 0])\n",
    "\n",
    "# POWER \n",
    "P_app = 1 * V_app * I_app\n",
    "\n",
    "# Determine the start and end of task based on the digital signal\n",
    "app_start = np.diff(np.hstack([[0], app_active_window])) > 0\n",
    "app_start_index = np.nonzero(app_start)[0]\n",
    "num_start = len(app_start_index)\n",
    "# extract the end of button press\n",
    "app_end = np.diff(np.hstack([[0], app_active_window])) < 0\n",
    "app_end_index = np.nonzero(app_end)[0]\n",
    "num_end = len(app_end_index)\n",
    "\n",
    "print('Num. start signals recognized: ', num_start)\n",
    "print('Num. stop signals recognized: ', num_end)"
   ]
  },
  {
   "cell_type": "code",
   "execution_count": null,
   "metadata": {
    "id": "ZDkvYzWk3bcL"
   },
   "outputs": [],
   "source": [
    "# plot the power trace and the calculated app state\n",
    "fig, ax1 = plt.subplots()\n",
    "lns1 = ax1.plot(t_app,P_app, label='Power Trace', color=\"blue\")\n",
    "plt.xlabel('time [s]')\n",
    "plt.ylabel('Power [W]')\n",
    "plt.ylim(0,0.08)\n",
    "# second y axis\n",
    "ax2 = ax1.twinx()\n",
    "lns2 = ax2.plot(t_app,app_active_window, label='App state', color=\"orange\")\n",
    "ax2.set_ylim(0,1.5)\n",
    "ax2.set_ylabel('State')\n",
    "ax2.set_yticks([0, 1])\n",
    "ax2.set_yticklabels( [\"sleep\", \"active task\"])\n",
    "# add legends for both lines\n",
    "lns = lns1+lns2\n",
    "labs = [l.get_label() for l in lns]\n",
    "ax1.legend(lns, labs)\n",
    "plt.tight_layout()\n",
    "plt.savefig(filename+\"power_overview.png\", bbox_inches=\"tight\")\n",
    "\n",
    "# # Plot the app start and app end \n",
    "# plt.figure()\n",
    "# plt.plot(t_app,app_start, label='Start')\n",
    "# plt.plot(t_app,app_end, label='End')\n",
    "# plt.xlabel('time [s]')\n",
    "# plt.ylabel('State')\n",
    "# plt.yticks([0, 1], [\"sleep\", \"active task\"])\n",
    "# plt.legend()\n",
    "# plt.tight_layout()\n",
    "# plt.savefig(\"state_overview.png\", bbox_inches=\"tight\")\n",
    "\n",
    "# Print one activation  in detail\n",
    "# detail_range = range(190734,192092) %%% To be used with onboard file\n",
    "detail_range = range(193734,195092)\n",
    "plt.figure()\n",
    "_ = plt.plot(1e3 * (t_app[detail_range] - t_app[detail_range].min()), 1e3 * P_app[detail_range], label='Power Trace') \n",
    "_ = plt.plot(1e3 * (t_app[detail_range] - t_app[detail_range].min()), 20 * app_start[detail_range], label='Power Trace') \n",
    "_ = plt.plot(1e3 * (t_app[detail_range] - t_app[detail_range].min()), 20 * app_end[detail_range], label='Power Trace') \n",
    "_ = plt.xlabel('time [ms]')\n",
    "_ = plt.ylabel('power [mW]')\n",
    "plt.tight_layout()\n",
    "plt.savefig(filename+\"closeup.png\", bbox_inches=\"tight\")\n",
    "plt.show()"
   ]
  },
  {
   "cell_type": "code",
   "execution_count": null,
   "metadata": {},
   "outputs": [],
   "source": []
  },
  {
   "cell_type": "code",
   "execution_count": null,
   "metadata": {
    "id": "ny6f1J-p3s6w"
   },
   "outputs": [],
   "source": [
    "# calculate app active windows\n",
    "app_active = np.zeros_like(app_start, dtype=bool)\n",
    "app_active_index = np.zeros([num_start, 2], dtype=int)\n",
    "\n",
    "for t in range(num_start):\n",
    "    idx_start = app_start_index[t]\n",
    "    idx_end = app_end_index[t]\n",
    "\n",
    "    print(\"{}th Active time: {:1.4f} s\".format(t+1, t_app[idx_end]-t_app[idx_start]))"
   ]
  },
  {
   "cell_type": "markdown",
   "metadata": {
    "id": "lfrmP_l9-6dZ"
   },
   "source": [
    "Energy and time statistics"
   ]
  },
  {
   "cell_type": "code",
   "execution_count": null,
   "metadata": {
    "id": "5AIpEzgG3w-t"
   },
   "outputs": [],
   "source": [
    "# TODO: Calculate the energy consumed by each task\n"
   ]
  },
  {
   "cell_type": "code",
   "execution_count": null,
   "metadata": {
    "id": "Jvw3Cak34BGY"
   },
   "outputs": [],
   "source": [
    "# TODO: Calculate the execution time taken by each task"
   ]
  }
 ],
 "metadata": {
  "colab": {
   "collapsed_sections": [],
   "name": "postprocessing_ir_trace.ipynb",
   "provenance": []
  },
  "kernelspec": {
   "display_name": "Python 3",
   "language": "python",
   "name": "python3"
  },
  "language_info": {
   "codemirror_mode": {
    "name": "ipython",
    "version": 3
   },
   "file_extension": ".py",
   "mimetype": "text/x-python",
   "name": "python",
   "nbconvert_exporter": "python",
   "pygments_lexer": "ipython3",
   "version": "3.8.0"
  }
 },
 "nbformat": 4,
 "nbformat_minor": 1
}
