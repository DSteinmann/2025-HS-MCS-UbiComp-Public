{
 "cells": [
  {
   "attachments": {},
   "cell_type": "markdown",
   "id": "7420f93f",
   "metadata": {},
   "source": [
    "# (Pseudo-) Online Feature Calculation\n",
    "\n",
    "This notebook is used to receive data from the HoloLens 2. The data is chunked in 10 second pieces."
   ]
  },
  {
   "cell_type": "code",
   "execution_count": 1,
   "id": "34a494ed",
   "metadata": {},
   "outputs": [],
   "source": [
    "from flask import Flask, request\n",
    "import json\n",
    "import requests\n",
    "import os\n",
    "import pandas as pd"
   ]
  },
  {
   "attachments": {},
   "cell_type": "markdown",
   "id": "fc384884",
   "metadata": {},
   "source": [
    "## Read the data from the newly arrived csv-file and call the feature calculation"
   ]
  },
  {
   "attachments": {},
   "cell_type": "markdown",
   "id": "350e695e",
   "metadata": {},
   "source": [
    "### Run FeaturesCalculation notebook to make its function accessible here"
   ]
  },
  {
   "cell_type": "code",
   "execution_count": 2,
   "id": "7cda22c3",
   "metadata": {},
   "outputs": [],
   "source": [
    "%run -i FeatureCalculation.ipynb"
   ]
  },
  {
   "attachments": {},
   "cell_type": "markdown",
   "id": "25237aa8",
   "metadata": {},
   "source": [
    "## Calculate the features and save them as csv\n",
    "See `FeaturesCalculation.ipynb`for more details."
   ]
  },
  {
   "cell_type": "code",
   "execution_count": 3,
   "id": "46c2ab4b",
   "metadata": {},
   "outputs": [],
   "source": [
    "def calculate_features_for_10s_chunk(newdf):\n",
    "    list_of_features = []\n",
    "    newdf_valid = only_valid_data(newdf)\n",
    "    if (len(newdf_valid) > 1):\n",
    "        df_fixations = get_fixation_df(newdf_valid)\n",
    "        features = calculate_fixation_features(df_fixations, 10)\n",
    "        blinks = calculate_blink_features(newdf,10)\n",
    "        directions = calculate_directions_of_list(df_fixations) \n",
    "        density = calculate_fixation_density(newdf_valid, df_fixations)\n",
    "        features.update(blinks)\n",
    "        features.update(directions)\n",
    "        features.update(density)\n",
    "        features[\"label\"] = \"\"\n",
    "        features[\"duration\"] = \"10\"\n",
    "        features[\"participant_id\"] = \"002\"            \n",
    "        list_of_features.append(features)  \n",
    "        flat_ls = [item for sublist in list_of_features for item in sublist]\n",
    "        feature_file_path = save_as_csv(list_of_features, \"001\", './OnlineFeatureFiles/')\n",
    "        return feature_file_path"
   ]
  },
  {
   "cell_type": "code",
   "execution_count": 4,
   "id": "c5b2bdbc",
   "metadata": {},
   "outputs": [],
   "source": [
    "def csv_to_features(gaze_data_file_path):\n",
    "    # continue only if the csv-file contains data\n",
    "    if os.stat(gaze_data_file_path).st_size != 0:\n",
    "        df = pd.read_csv(gaze_data_file_path)\n",
    "        feature_file_path = calculate_features_for_10s_chunk(df)\n",
    "        print(f\"Feature calculation done for: {gaze_data_file_path}\")\n",
    "        print(f\"Feature file path: {feature_file_path}\")\n",
    "        return feature_file_path\n",
    "# csv_to_features(\"./HL2_DataCollection/2022_09_23-13_41_19-Alex01-Inspection02.csv\")"
   ]
  },
  {
   "attachments": {},
   "cell_type": "markdown",
   "id": "01e6fc90",
   "metadata": {},
   "source": [
    "## Run SVM notebook to make its function accessible here\n",
    "If you are not training on normalized data this make take a while."
   ]
  },
  {
   "cell_type": "code",
   "execution_count": 5,
   "id": "528de9d3",
   "metadata": {},
   "outputs": [
    {
     "name": "stdout",
     "output_type": "stream",
     "text": [
      "Columns of the CSV file are 19 features, label of the activity, duration or the timespan of the activity, and the ID of the participant:\n",
      "Features:\n"
     ]
    },
    {
     "data": {
      "text/html": [
       "<div>\n",
       "<style scoped>\n",
       "    .dataframe tbody tr th:only-of-type {\n",
       "        vertical-align: middle;\n",
       "    }\n",
       "\n",
       "    .dataframe tbody tr th {\n",
       "        vertical-align: top;\n",
       "    }\n",
       "\n",
       "    .dataframe thead th {\n",
       "        text-align: right;\n",
       "    }\n",
       "</style>\n",
       "<table border=\"1\" class=\"dataframe\">\n",
       "  <thead>\n",
       "    <tr style=\"text-align: right;\">\n",
       "      <th></th>\n",
       "      <th>meanFix</th>\n",
       "      <th>maxFix</th>\n",
       "      <th>varFix</th>\n",
       "      <th>xDir</th>\n",
       "      <th>yDir</th>\n",
       "      <th>fixDensPerBB</th>\n",
       "    </tr>\n",
       "  </thead>\n",
       "  <tbody>\n",
       "    <tr>\n",
       "      <th>0</th>\n",
       "      <td>250.882353</td>\n",
       "      <td>666</td>\n",
       "      <td>16554.228164</td>\n",
       "      <td>0.484848</td>\n",
       "      <td>0.606061</td>\n",
       "      <td>369.479986</td>\n",
       "    </tr>\n",
       "    <tr>\n",
       "      <th>1</th>\n",
       "      <td>246.742857</td>\n",
       "      <td>900</td>\n",
       "      <td>23549.020168</td>\n",
       "      <td>0.529412</td>\n",
       "      <td>0.529412</td>\n",
       "      <td>363.711018</td>\n",
       "    </tr>\n",
       "    <tr>\n",
       "      <th>2</th>\n",
       "      <td>237.257143</td>\n",
       "      <td>1067</td>\n",
       "      <td>36627.431933</td>\n",
       "      <td>0.441176</td>\n",
       "      <td>0.558824</td>\n",
       "      <td>266.246748</td>\n",
       "    </tr>\n",
       "    <tr>\n",
       "      <th>3</th>\n",
       "      <td>293.137931</td>\n",
       "      <td>767</td>\n",
       "      <td>35208.551724</td>\n",
       "      <td>0.500000</td>\n",
       "      <td>0.500000</td>\n",
       "      <td>319.553727</td>\n",
       "    </tr>\n",
       "    <tr>\n",
       "      <th>4</th>\n",
       "      <td>199.125000</td>\n",
       "      <td>566</td>\n",
       "      <td>12614.163462</td>\n",
       "      <td>0.589744</td>\n",
       "      <td>0.487179</td>\n",
       "      <td>305.832090</td>\n",
       "    </tr>\n",
       "    <tr>\n",
       "      <th>5</th>\n",
       "      <td>262.562500</td>\n",
       "      <td>867</td>\n",
       "      <td>36411.415323</td>\n",
       "      <td>0.516129</td>\n",
       "      <td>0.580645</td>\n",
       "      <td>236.757891</td>\n",
       "    </tr>\n",
       "    <tr>\n",
       "      <th>6</th>\n",
       "      <td>204.175000</td>\n",
       "      <td>733</td>\n",
       "      <td>16987.430128</td>\n",
       "      <td>0.538462</td>\n",
       "      <td>0.512821</td>\n",
       "      <td>445.453567</td>\n",
       "    </tr>\n",
       "    <tr>\n",
       "      <th>7</th>\n",
       "      <td>221.540541</td>\n",
       "      <td>733</td>\n",
       "      <td>19568.977477</td>\n",
       "      <td>0.583333</td>\n",
       "      <td>0.500000</td>\n",
       "      <td>538.273012</td>\n",
       "    </tr>\n",
       "    <tr>\n",
       "      <th>8</th>\n",
       "      <td>430.095238</td>\n",
       "      <td>2567</td>\n",
       "      <td>322794.690476</td>\n",
       "      <td>0.800000</td>\n",
       "      <td>0.450000</td>\n",
       "      <td>77.460002</td>\n",
       "    </tr>\n",
       "    <tr>\n",
       "      <th>9</th>\n",
       "      <td>227.805556</td>\n",
       "      <td>533</td>\n",
       "      <td>8651.246825</td>\n",
       "      <td>0.914286</td>\n",
       "      <td>0.457143</td>\n",
       "      <td>132.320562</td>\n",
       "    </tr>\n",
       "  </tbody>\n",
       "</table>\n",
       "</div>"
      ],
      "text/plain": [
       "      meanFix  maxFix         varFix      xDir      yDir  fixDensPerBB\n",
       "0  250.882353     666   16554.228164  0.484848  0.606061    369.479986\n",
       "1  246.742857     900   23549.020168  0.529412  0.529412    363.711018\n",
       "2  237.257143    1067   36627.431933  0.441176  0.558824    266.246748\n",
       "3  293.137931     767   35208.551724  0.500000  0.500000    319.553727\n",
       "4  199.125000     566   12614.163462  0.589744  0.487179    305.832090\n",
       "5  262.562500     867   36411.415323  0.516129  0.580645    236.757891\n",
       "6  204.175000     733   16987.430128  0.538462  0.512821    445.453567\n",
       "7  221.540541     733   19568.977477  0.583333  0.500000    538.273012\n",
       "8  430.095238    2567  322794.690476  0.800000  0.450000     77.460002\n",
       "9  227.805556     533    8651.246825  0.914286  0.457143    132.320562"
      ]
     },
     "metadata": {},
     "output_type": "display_data"
    },
    {
     "name": "stdout",
     "output_type": "stream",
     "text": [
      "Labels:\n"
     ]
    },
    {
     "data": {
      "text/plain": [
       "0    Inspection\n",
       "1    Inspection\n",
       "2    Inspection\n",
       "3    Inspection\n",
       "4    Inspection\n",
       "5    Inspection\n",
       "6    Inspection\n",
       "7    Inspection\n",
       "8       Reading\n",
       "9       Reading\n",
       "Name: label, dtype: object"
      ]
     },
     "metadata": {},
     "output_type": "display_data"
    },
    {
     "name": "stdout",
     "output_type": "stream",
     "text": [
      "Normalized Features:\n"
     ]
    },
    {
     "data": {
      "text/html": [
       "<div>\n",
       "<style scoped>\n",
       "    .dataframe tbody tr th:only-of-type {\n",
       "        vertical-align: middle;\n",
       "    }\n",
       "\n",
       "    .dataframe tbody tr th {\n",
       "        vertical-align: top;\n",
       "    }\n",
       "\n",
       "    .dataframe thead th {\n",
       "        text-align: right;\n",
       "    }\n",
       "</style>\n",
       "<table border=\"1\" class=\"dataframe\">\n",
       "  <thead>\n",
       "    <tr style=\"text-align: right;\">\n",
       "      <th></th>\n",
       "      <th>meanFix</th>\n",
       "      <th>maxFix</th>\n",
       "      <th>varFix</th>\n",
       "      <th>xDir</th>\n",
       "      <th>yDir</th>\n",
       "      <th>fixDensPerBB</th>\n",
       "    </tr>\n",
       "  </thead>\n",
       "  <tbody>\n",
       "    <tr>\n",
       "      <th>0</th>\n",
       "      <td>0.412048</td>\n",
       "      <td>0.144783</td>\n",
       "      <td>0.013814</td>\n",
       "      <td>0.527009</td>\n",
       "      <td>0.743802</td>\n",
       "      <td>0.238355</td>\n",
       "    </tr>\n",
       "    <tr>\n",
       "      <th>1</th>\n",
       "      <td>0.405249</td>\n",
       "      <td>0.195652</td>\n",
       "      <td>0.019651</td>\n",
       "      <td>0.575448</td>\n",
       "      <td>0.649733</td>\n",
       "      <td>0.234633</td>\n",
       "    </tr>\n",
       "    <tr>\n",
       "      <th>2</th>\n",
       "      <td>0.389670</td>\n",
       "      <td>0.231957</td>\n",
       "      <td>0.030564</td>\n",
       "      <td>0.479540</td>\n",
       "      <td>0.685829</td>\n",
       "      <td>0.171758</td>\n",
       "    </tr>\n",
       "    <tr>\n",
       "      <th>3</th>\n",
       "      <td>0.481448</td>\n",
       "      <td>0.166739</td>\n",
       "      <td>0.029380</td>\n",
       "      <td>0.543478</td>\n",
       "      <td>0.613636</td>\n",
       "      <td>0.206147</td>\n",
       "    </tr>\n",
       "    <tr>\n",
       "      <th>4</th>\n",
       "      <td>0.327042</td>\n",
       "      <td>0.123043</td>\n",
       "      <td>0.010526</td>\n",
       "      <td>0.641026</td>\n",
       "      <td>0.597902</td>\n",
       "      <td>0.197295</td>\n",
       "    </tr>\n",
       "    <tr>\n",
       "      <th>5</th>\n",
       "      <td>0.431232</td>\n",
       "      <td>0.188478</td>\n",
       "      <td>0.030384</td>\n",
       "      <td>0.561010</td>\n",
       "      <td>0.712610</td>\n",
       "      <td>0.152735</td>\n",
       "    </tr>\n",
       "    <tr>\n",
       "      <th>6</th>\n",
       "      <td>0.335336</td>\n",
       "      <td>0.159348</td>\n",
       "      <td>0.014175</td>\n",
       "      <td>0.585284</td>\n",
       "      <td>0.629371</td>\n",
       "      <td>0.287366</td>\n",
       "    </tr>\n",
       "    <tr>\n",
       "      <th>7</th>\n",
       "      <td>0.363857</td>\n",
       "      <td>0.159348</td>\n",
       "      <td>0.016330</td>\n",
       "      <td>0.634058</td>\n",
       "      <td>0.613636</td>\n",
       "      <td>0.347245</td>\n",
       "    </tr>\n",
       "    <tr>\n",
       "      <th>8</th>\n",
       "      <td>0.706387</td>\n",
       "      <td>0.558043</td>\n",
       "      <td>0.269361</td>\n",
       "      <td>0.869565</td>\n",
       "      <td>0.552273</td>\n",
       "      <td>0.049970</td>\n",
       "    </tr>\n",
       "    <tr>\n",
       "      <th>9</th>\n",
       "      <td>0.374147</td>\n",
       "      <td>0.115870</td>\n",
       "      <td>0.007219</td>\n",
       "      <td>0.993789</td>\n",
       "      <td>0.561039</td>\n",
       "      <td>0.085361</td>\n",
       "    </tr>\n",
       "  </tbody>\n",
       "</table>\n",
       "</div>"
      ],
      "text/plain": [
       "    meanFix    maxFix    varFix      xDir      yDir  fixDensPerBB\n",
       "0  0.412048  0.144783  0.013814  0.527009  0.743802      0.238355\n",
       "1  0.405249  0.195652  0.019651  0.575448  0.649733      0.234633\n",
       "2  0.389670  0.231957  0.030564  0.479540  0.685829      0.171758\n",
       "3  0.481448  0.166739  0.029380  0.543478  0.613636      0.206147\n",
       "4  0.327042  0.123043  0.010526  0.641026  0.597902      0.197295\n",
       "5  0.431232  0.188478  0.030384  0.561010  0.712610      0.152735\n",
       "6  0.335336  0.159348  0.014175  0.585284  0.629371      0.287366\n",
       "7  0.363857  0.159348  0.016330  0.634058  0.613636      0.347245\n",
       "8  0.706387  0.558043  0.269361  0.869565  0.552273      0.049970\n",
       "9  0.374147  0.115870  0.007219  0.993789  0.561039      0.085361"
      ]
     },
     "metadata": {},
     "output_type": "display_data"
    },
    {
     "name": "stdout",
     "output_type": "stream",
     "text": [
      "Empty DataFrame\n",
      "Columns: [meanFix, minFix, maxFix, varFix, stdFix, meanDis, minDis, maxDis, varDis, stdDisp, freqDisPerSec, number_of_blinks, blinkMean, blinkMin, blinkMax, blinkRate, xDir, yDir, fixDensPerBB, label, duration, participant_id]\n",
      "Index: []\n",
      "\n",
      "[0 rows x 22 columns]\n",
      "Accuracy Linear Kernel: 0.9333333333333333\n",
      "Accuracy Polynomial Kernel: 0.9333333333333333\n",
      "Accuracy Radial Basis Kernel: 0.9333333333333333\n",
      "Accuracy Sigmoid Kernel: 0.3\n",
      "CM Linear:\n",
      "[[ 9  0  1]\n",
      " [ 0 10  0]\n",
      " [ 1  0  9]]\n",
      "CM Polynomial:\n",
      "[[10  0  0]\n",
      " [ 1  9  0]\n",
      " [ 1  0  9]]\n",
      "CM Radial:\n",
      "[[10  0  0]\n",
      " [ 1  9  0]\n",
      " [ 1  0  9]]\n",
      "CM Sigmoid:\n",
      "[[ 0 10  0]\n",
      " [ 0  9  1]\n",
      " [ 0 10  0]]\n"
     ]
    },
    {
     "data": {
      "image/png": "[encoded data removed]",
      "text/plain": [
       "<Figure size 640x480 with 2 Axes>"
      ]
     },
     "metadata": {},
     "output_type": "display_data"
    },
    {
     "data": {
      "image/png": "[encoded data removed]",
      "text/plain": [
       "<Figure size 640x480 with 2 Axes>"
      ]
     },
     "metadata": {},
     "output_type": "display_data"
    },
    {
     "data": {
      "image/png": "[encoded data removed]",
      "text/plain": [
       "<Figure size 640x480 with 2 Axes>"
      ]
     },
     "metadata": {},
     "output_type": "display_data"
    },
    {
     "data": {
      "image/png": "[encoded data removed]",
      "text/plain": [
       "<Figure size 640x480 with 2 Axes>"
      ]
     },
     "metadata": {},
     "output_type": "display_data"
    },
    {
     "name": "stdout",
     "output_type": "stream",
     "text": [
      "New Feature:\n"
     ]
    },
    {
     "name": "stderr",
     "output_type": "stream",
     "text": [
      "c:\\Users\\Jannis\\anaconda3\\envs\\UbicompA02\\lib\\site-packages\\sklearn\\base.py:450: UserWarning: X does not have valid feature names, but SVC was fitted with feature names\n",
      "  warnings.warn(\n"
     ]
    },
    {
     "data": {
      "text/html": [
       "<div>\n",
       "<style scoped>\n",
       "    .dataframe tbody tr th:only-of-type {\n",
       "        vertical-align: middle;\n",
       "    }\n",
       "\n",
       "    .dataframe tbody tr th {\n",
       "        vertical-align: top;\n",
       "    }\n",
       "\n",
       "    .dataframe thead th {\n",
       "        text-align: right;\n",
       "    }\n",
       "</style>\n",
       "<table border=\"1\" class=\"dataframe\">\n",
       "  <thead>\n",
       "    <tr style=\"text-align: right;\">\n",
       "      <th></th>\n",
       "      <th>meanFix</th>\n",
       "      <th>maxFix</th>\n",
       "      <th>varFix</th>\n",
       "      <th>xDir</th>\n",
       "      <th>yDir</th>\n",
       "      <th>fixDensPerBB</th>\n",
       "    </tr>\n",
       "  </thead>\n",
       "  <tbody>\n",
       "    <tr>\n",
       "      <th>0</th>\n",
       "      <td>0.412048</td>\n",
       "      <td>0.144783</td>\n",
       "      <td>0.013814</td>\n",
       "      <td>0.527009</td>\n",
       "      <td>0.743802</td>\n",
       "      <td>0.238355</td>\n",
       "    </tr>\n",
       "    <tr>\n",
       "      <th>23</th>\n",
       "      <td>0.502233</td>\n",
       "      <td>0.246304</td>\n",
       "      <td>0.053017</td>\n",
       "      <td>0.582298</td>\n",
       "      <td>0.613636</td>\n",
       "      <td>0.202995</td>\n",
       "    </tr>\n",
       "  </tbody>\n",
       "</table>\n",
       "</div>"
      ],
      "text/plain": [
       "     meanFix    maxFix    varFix      xDir      yDir  fixDensPerBB\n",
       "0   0.412048  0.144783  0.013814  0.527009  0.743802      0.238355\n",
       "23  0.502233  0.246304  0.053017  0.582298  0.613636      0.202995"
      ]
     },
     "metadata": {},
     "output_type": "display_data"
    },
    {
     "name": "stdout",
     "output_type": "stream",
     "text": [
      "New Linear Prediction:\n"
     ]
    },
    {
     "data": {
      "text/plain": [
       "array([[0.74009343, 0.01039155, 0.24951502],\n",
       "       [0.79485867, 0.04945698, 0.15568435]])"
      ]
     },
     "metadata": {},
     "output_type": "display_data"
    },
    {
     "data": {
      "text/plain": [
       "array(['Inspection', 'Inspection'], dtype=object)"
      ]
     },
     "metadata": {},
     "output_type": "display_data"
    },
    {
     "name": "stdout",
     "output_type": "stream",
     "text": [
      "New Poly Prediction:\n"
     ]
    },
    {
     "data": {
      "text/plain": [
       "array([[0.8272886 , 0.01119897, 0.16151243],\n",
       "       [0.83165357, 0.03717697, 0.13116946]])"
      ]
     },
     "metadata": {},
     "output_type": "display_data"
    },
    {
     "data": {
      "text/plain": [
       "array(['Inspection', 'Inspection'], dtype=object)"
      ]
     },
     "metadata": {},
     "output_type": "display_data"
    },
    {
     "name": "stdout",
     "output_type": "stream",
     "text": [
      "New RBF Prediction:\n"
     ]
    },
    {
     "data": {
      "text/plain": [
       "array([[0.78576471, 0.00678393, 0.20745135],\n",
       "       [0.79279598, 0.03919221, 0.16801181]])"
      ]
     },
     "metadata": {},
     "output_type": "display_data"
    },
    {
     "data": {
      "text/plain": [
       "array(['Inspection', 'Inspection'], dtype=object)"
      ]
     },
     "metadata": {},
     "output_type": "display_data"
    },
    {
     "name": "stdout",
     "output_type": "stream",
     "text": [
      "New Sig Prediction:\n"
     ]
    },
    {
     "data": {
      "text/plain": [
       "array([[0.3404172 , 0.25607296, 0.40350984],\n",
       "       [0.33664834, 0.24039534, 0.42295633]])"
      ]
     },
     "metadata": {},
     "output_type": "display_data"
    },
    {
     "data": {
      "text/plain": [
       "array(['Reading', 'Reading'], dtype=object)"
      ]
     },
     "metadata": {},
     "output_type": "display_data"
    }
   ],
   "source": [
    "%run -i AnSVMClassifierForHL2GazeFeatures.ipynb"
   ]
  },
  {
   "attachments": {},
   "cell_type": "markdown",
   "id": "9682dbc1",
   "metadata": {},
   "source": [
    "## Predict the class for the last arrived data chunk"
   ]
  },
  {
   "cell_type": "code",
   "execution_count": 6,
   "id": "5c8d8857",
   "metadata": {},
   "outputs": [],
   "source": [
    "def normalize_values(df): \n",
    "    scaler = MaxAbsScaler()\n",
    "    training_features_plus_new_row = pd.concat([features, df])  # features -> contains all the features for training and testing\n",
    "    scaler.fit(training_features_plus_new_row)\n",
    "    scaled = scaler.transform(training_features_plus_new_row)\n",
    "    scaled_features = pd.DataFrame(scaled, columns=df.columns)\n",
    "    row_for_last_chunk = scaled_features.tail(1)\n",
    "    print(\"Normalized Features:\")\n",
    "    display(row_for_last_chunk)\n",
    "    return row_for_last_chunk"
   ]
  },
  {
   "cell_type": "code",
   "execution_count": 7,
   "id": "d9a2532e",
   "metadata": {},
   "outputs": [],
   "source": [
    "row_counter = 0\n",
    "classes = [\"Inspection\", \"Reading\", \"Search\"]\n",
    "kernels = [linear, poly, rbf, sig]\n",
    "def predict_class_for_last_chunk(feature_file_path):\n",
    "    if os.stat(feature_file_path).st_size != 0:\n",
    "        df = pd.read_csv(feature_file_path)\n",
    "        cur_number_of_rows = df.shape[0]\n",
    "        # only continue if we have a new row\n",
    "        if cur_number_of_rows > row_counter:\n",
    "            last_row = df.tail(1)\n",
    "            display(last_row)\n",
    "            \n",
    "            lr_features= last_row[[\"meanFix\", \"maxFix\", \"varFix\", \"xDir\", \"yDir\", \"fixDensPerBB\"]]\n",
    "            last_row = normalize_values(lr_features)\n",
    "            \n",
    "            classes = linear.classes_\n",
    "            # print(f\"\\n---\\nclasses: {classes}\")\n",
    "            \n",
    "            results = {}\n",
    "            \n",
    "            for kernel in kernels:\n",
    "                new_pred_prob = kernel.predict_proba(last_row)\n",
    "                new_pred_class = kernel.predict(last_row)\n",
    "                # print(\"\\n---\\nNew Prediction:\")\n",
    "                display(new_pred_prob)\n",
    "                display(new_pred_class)\n",
    "                pred_list = new_pred_prob.tolist()[0]\n",
    "                max_prob = max(pred_list)\n",
    "                # print(f\"max_prob: {max_prob}\")\n",
    "                max_index = pred_list.index(max_prob)\n",
    "                # print(f\"max_index: {max_prob}\")\n",
    "                results[kernel.kernel] = {\"pred_class\": new_pred_class[0], \"max_prob\": max_prob, \"max_index\": max_index }\n",
    "                # results[kernel.kernel] = [new_pred_class[0], max_prob, max_index ]\n",
    "                \n",
    "            display(results)\n",
    "        \n",
    "            \n",
    "            max_proba = {max(float(d['max_prob']) for d in results.values())}\n",
    "            key = [i for i in results if results[i]['max_prob']==max_proba]\n",
    "            # print(f\"max_proba: {max_proba}, key: {key}\")\n",
    "            predicts = [d['pred_class'] for d in results.values()]\n",
    "            final_class_from_predict = max(set(predicts), key = predicts.count)\n",
    "            # print(f\"final_class_from_predict: {final_class_from_predict}\")\n",
    "            \n",
    "            \n",
    "            new_linear_pred_prob = linear.predict_proba(last_row)\n",
    "            new_linear_pred_class = linear.predict(last_row)\n",
    "            # print(\"\\n---\\nNew Linear Prediction:\")\n",
    "            # display(new_linear_pred_prob)\n",
    "            # display(new_linear_pred_class)\n",
    "            lin_list = new_linear_pred_prob.tolist()[0]\n",
    "            lin_max_prob = max(lin_list)\n",
    "            # print(f\"lin_max_prob: {lin_max_prob}\")\n",
    "            lin_max_index = lin_list.index(lin_max_prob)\n",
    "            # print(f\"lin_max_index: {lin_max_index}\")\n",
    "\n",
    "            new_poly_pred_prob = poly.predict_proba(last_row)\n",
    "            new_poly_pred_class = poly.predict(last_row)\n",
    "            # print(\"\\n---\\nNew Poly Prediction:\")\n",
    "            # display(new_poly_pred_prob)\n",
    "            # display(new_poly_pred_class)\n",
    "            poly_list = new_poly_pred_prob.tolist()[0]\n",
    "            poly_max_prob = max(poly_list)\n",
    "            # print(f\"poly_max_prob: {poly_max_prob}\")\n",
    "            poly_max_index = poly_list.index(poly_max_prob)\n",
    "            # print(f\"poly_max_index: {poly_max_index}\")\n",
    "\n",
    "            new_rbf_pred_prob = rbf.predict_proba(last_row)\n",
    "            new_rbf_pred_class = rbf.predict(last_row)\n",
    "            # print(\"\\n---\\nNew RBF Prediction:\")\n",
    "            # display(new_rbf_pred_prob)\n",
    "            # display(new_rbf_pred_class)\n",
    "            rbf_list = new_rbf_pred_prob.tolist()[0]\n",
    "            rbf_max_prob = max(rbf_list)\n",
    "            # print(f\"rbf_max_prob: {rbf_max_prob}\")\n",
    "            rbf_max_index = rbf_list.index(rbf_max_prob)\n",
    "            # print(f\"rbf_max_index: {rbf_max_index}\")\n",
    "            \n",
    "\n",
    "            new_sig_pred_prob = sig.predict_proba(last_row)\n",
    "            new_sig_pred_class = sig.predict(last_row)\n",
    "            # print(\"\\n---\\nNew Sig Prediction:\")\n",
    "            # display(new_sig_pred_prob)\n",
    "            # display(new_sig_pred_class)\n",
    "            sig_list = new_sig_pred_prob.tolist()[0]\n",
    "            sig_max_prob = max(sig_list)\n",
    "            # print(f\"sig_max_prob: {sig_max_prob}\")\n",
    "            sig_max_index = sig_list.index(sig_max_prob)\n",
    "            # print(f\"sig_max_index: {sig_max_index}\")\n",
    "            \n",
    "            print(\"----------------\")\n",
    "            max_probs = { lin_max_prob: lin_max_index, poly_max_prob: poly_max_index,\n",
    "                        rbf_max_prob: rbf_max_index}\n",
    "            \n",
    "            max_prediction_value = max(max_probs, key=float)\n",
    "            # print(max_prediction_value)\n",
    "            final_max_index = max_probs[max_prediction_value]\n",
    "            final_class_from_probs = classes[final_max_index]\n",
    "            \n",
    "            # print(f\"final_class_from_probs: {final_class_from_probs}\")\n",
    "            \n",
    "            predicts = [new_linear_pred_class[0], new_poly_pred_class[0], new_rbf_pred_class[0]]\n",
    "            final_class_from_predict = max(set(predicts), key = predicts.count)\n",
    "            # print(f\"final_class_from_predict: {final_class_from_predict}\")\n",
    "            \n",
    "            \n",
    "            same_class_predicted = (final_class_from_probs == final_class_from_predict)\n",
    "            # print(f\"same_class_predicted: {same_class_predicted}\")\n",
    "            \n",
    "            if (same_class_predicted and max_prediction_value > 0.5):\n",
    "                # send request to HL2 with class and probability\n",
    "                send_activity(final_class_from_probs, max_prediction_value)\n",
    "            \n",
    "# predict_class_for_last_chunk(\"FeatureFiles/feature_list_P09.csv\")"
   ]
  },
  {
   "attachments": {},
   "cell_type": "markdown",
   "id": "7abd846c",
   "metadata": {},
   "source": [
    "## Send the recognized activity back to the HoloLens 2 \n",
    "\n",
    "Make sure to set the correct IP address for the HL2 in line 10!"
   ]
  },
  {
   "cell_type": "code",
   "execution_count": 8,
   "id": "cb7a32fc",
   "metadata": {},
   "outputs": [],
   "source": [
    "import urllib.parse\n",
    "import requests\n",
    "import random\n",
    "import time\n",
    "\n",
    "# Remember to change the IP address and port if needed!\n",
    "holo_url = \"http://10.2.2.158:49898\"\n",
    "# holo_url = \"http://130.82.249.71:50548\"\n",
    "\n",
    "def send_activity(activity, probability):\n",
    "\n",
    "    # holo_url = \"http://10.2.2.172:63394\"\n",
    "    \n",
    "    # holo_url = \"http://10.2.2.150:53625\"\n",
    "    # holo_url = \"http://localhost:5000\"\n",
    "    # holo_url = \"http://130.82.26.8:5000\"\n",
    "\n",
    "    url = \"{}/?activity={}&probability={}\".format(str(holo_url), str(activity), str(probability))\n",
    "    print(url)\n",
    "\n",
    "    try:\n",
    "        r = requests.get(url, timeout=120)\n",
    "        print(r)\n",
    "        if r.status_code == 200:\n",
    "            print(\"Notified Hololens about activity {}\".format(activity))\n",
    "        else:\n",
    "            print(\"Request {} failed with status code {}\".format(url, r.status_code))\n",
    "    except requests.ConnectionError as e:\n",
    "        print(\"OOPS!! Connection Error. Make sure you are connected to Internet. Technical Details given below.\\n\")\n",
    "        print(str(e))\n",
    "    except requests.Timeout as e:\n",
    "        print(\"OOPS!! Timeout Error\")\n",
    "        print(str(e))\n",
    "    except requests.RequestException as e:\n",
    "        print(\"OOPS!! General Error\")\n",
    "        print(str(e))\n",
    "\n",
    "    else:\n",
    "        return\n",
    "\n",
    "def create_and_send_test_data():\n",
    "    activities = [\"reading\", \"writing\", \"searching\", \"inspecting\"]\n",
    "    a = random.randint(0, 3)\n",
    "    activity = activities[a]\n",
    "    confidence = random.uniform(0, 1)\n",
    "    print(f\"{activity}: {confidence}\")\n",
    "    send_activity(activity, confidence)\n",
    "\n",
    "\n",
    "def sender():\n",
    "    start_time = time.time()\n",
    "    interval = 5\n",
    "    for i in range(20):\n",
    "        time.sleep(start_time + i * interval - time.time())\n",
    "        create_and_send_test_data()\n",
    "        print(\"sent data\")\n",
    "\n",
    "def send_this_desktop_ip_to_holo(desktop_ip, port):\n",
    "\n",
    "    # holo_url = \"http://10.2.2.172:52434\"\n",
    "    # holo_url = \"http://10.2.2.150:53625\"\n",
    "    # holo_url = \"http://localhost:5000\"\n",
    "    # holo_url = \"http://130.82.26.8:5000\"\n",
    "    \n",
    "    desktop_ip = urllib.parse.quote(desktop_ip)\n",
    "\n",
    "    url = \"{}/?desktopip={}&port={}\".format(str(holo_url), str(desktop_ip), str(port))\n",
    "    print(url)\n",
    "\n",
    "    try:\n",
    "        r = requests.get(url, timeout=60)\n",
    "        print(r)\n",
    "        if r.status_code == 200:\n",
    "            print(\"Notified Hololens about IP address {}\".format(desktop_ip))\n",
    "        else:\n",
    "            print(\"Request {} failed with status code {}\".format(url, r.status_code))\n",
    "    except requests.ConnectionError as e:\n",
    "        print(\"OOPS!! Connection Error. Make sure you are connected to Internet. Technical Details given below.\\n\")\n",
    "        print(str(e))\n",
    "    except requests.Timeout as e:\n",
    "        print(\"OOPS!! Timeout Error\")\n",
    "        print(str(e))\n",
    "    except requests.RequestException as e:\n",
    "        print(\"OOPS!! General Error\")\n",
    "        print(str(e))\n",
    "\n",
    "    else:\n",
    "        return\n",
    "    \n",
    "    \n",
    "# if __name__ == '__main__':\n",
    "    # sender()\n"
   ]
  },
  {
   "attachments": {},
   "cell_type": "markdown",
   "id": "ebc030f0",
   "metadata": {},
   "source": [
    "## Send this desktop's IP address to the HL2\n",
    "This enables the HL2 to send the gaze data correctly to the computer where this script is running.\n",
    "Make sure to enter your computer's IP-address and a free port."
   ]
  },
  {
   "cell_type": "code",
   "execution_count": 9,
   "id": "048d8318",
   "metadata": {},
   "outputs": [
    {
     "name": "stdout",
     "output_type": "stream",
     "text": [
      "http://10.2.2.158:49898/?desktopip=10.2.2.152&port=5555\n",
      "<Response [200]>\n",
      "Notified Hololens about IP address 10.2.2.152\n"
     ]
    }
   ],
   "source": [
    "ipaddress = \"10.2.2.152\"\n",
    "# ipaddress = \"130.82.27.178\"\n",
    "port = \"5555\"\n",
    "send_this_desktop_ip_to_holo(ipaddress, port)"
   ]
  },
  {
   "attachments": {},
   "cell_type": "markdown",
   "id": "d9268036",
   "metadata": {},
   "source": [
    "## Run a simple Flask server that receives the raw gaze data from the HL2\n",
    "Make sure to enter your computer's IP-address and a suitable port in the last line. \\\n",
    "Note: `0.0.0.0` as IP address lets the server listen on all its IP addresses, usually 127.0.0.1 and the public IP address."
   ]
  },
  {
   "cell_type": "code",
   "execution_count": 10,
   "id": "f1d07b2a",
   "metadata": {},
   "outputs": [
    {
     "name": "stderr",
     "output_type": "stream",
     "text": [
      "INFO:waitress:Serving on http://0.0.0.0:5555\n"
     ]
    },
    {
     "name": "stdout",
     "output_type": "stream",
     "text": [
      "filename: chunk_2023-10-27_03-16-01_000.csv\n",
      "filepath: ./OnlineGazeDataChunks/chunk_2023-10-27_03-16-01_000.csv\n",
      "start fc for:  ./OnlineGazeDataChunks/chunk_2023-10-27_03-16-01_000.csv\n",
      "filename: chunk_2023-10-27_03-16-12_001.csv\n",
      "filepath: ./OnlineGazeDataChunks/chunk_2023-10-27_03-16-12_001.csv\n",
      "start fc for:  ./OnlineGazeDataChunks/chunk_2023-10-27_03-16-12_001.csv\n",
      "Feature calculation done for: ./OnlineGazeDataChunks/chunk_2023-10-27_03-16-12_001.csv\n",
      "Feature file path: ./OnlineFeatureFiles/feature_list_P001.csv\n"
     ]
    },
    {
     "data": {
      "text/html": [
       "<div>\n",
       "<style scoped>\n",
       "    .dataframe tbody tr th:only-of-type {\n",
       "        vertical-align: middle;\n",
       "    }\n",
       "\n",
       "    .dataframe tbody tr th {\n",
       "        vertical-align: top;\n",
       "    }\n",
       "\n",
       "    .dataframe thead th {\n",
       "        text-align: right;\n",
       "    }\n",
       "</style>\n",
       "<table border=\"1\" class=\"dataframe\">\n",
       "  <thead>\n",
       "    <tr style=\"text-align: right;\">\n",
       "      <th></th>\n",
       "      <th>meanFix</th>\n",
       "      <th>minFix</th>\n",
       "      <th>maxFix</th>\n",
       "      <th>varFix</th>\n",
       "      <th>stdFix</th>\n",
       "      <th>meanDis</th>\n",
       "      <th>minDis</th>\n",
       "      <th>maxDis</th>\n",
       "      <th>varDis</th>\n",
       "      <th>stdDisp</th>\n",
       "      <th>...</th>\n",
       "      <th>blinkMean</th>\n",
       "      <th>blinkMin</th>\n",
       "      <th>blinkMax</th>\n",
       "      <th>blinkRate</th>\n",
       "      <th>xDir</th>\n",
       "      <th>yDir</th>\n",
       "      <th>fixDensPerBB</th>\n",
       "      <th>label</th>\n",
       "      <th>duration</th>\n",
       "      <th>participant_id</th>\n",
       "    </tr>\n",
       "  </thead>\n",
       "  <tbody>\n",
       "    <tr>\n",
       "      <th>9</th>\n",
       "      <td>196.333333</td>\n",
       "      <td>100</td>\n",
       "      <td>934</td>\n",
       "      <td>27769.076923</td>\n",
       "      <td>166.640562</td>\n",
       "      <td>0.058952</td>\n",
       "      <td>0.028381</td>\n",
       "      <td>0.196147</td>\n",
       "      <td>0.00209</td>\n",
       "      <td>0.045718</td>\n",
       "      <td>...</td>\n",
       "      <td>756.62963</td>\n",
       "      <td>33</td>\n",
       "      <td>4333</td>\n",
       "      <td>2.7</td>\n",
       "      <td>0.692308</td>\n",
       "      <td>0.653846</td>\n",
       "      <td>41.462342</td>\n",
       "      <td>NaN</td>\n",
       "      <td>10</td>\n",
       "      <td>2</td>\n",
       "    </tr>\n",
       "  </tbody>\n",
       "</table>\n",
       "<p>1 rows × 22 columns</p>\n",
       "</div>"
      ],
      "text/plain": [
       "      meanFix  minFix  maxFix        varFix      stdFix   meanDis    minDis   \n",
       "9  196.333333     100     934  27769.076923  166.640562  0.058952  0.028381  \\\n",
       "\n",
       "     maxDis   varDis   stdDisp  ...  blinkMean  blinkMin  blinkMax  blinkRate   \n",
       "9  0.196147  0.00209  0.045718  ...  756.62963        33      4333        2.7  \\\n",
       "\n",
       "       xDir      yDir  fixDensPerBB  label  duration  participant_id  \n",
       "9  0.692308  0.653846     41.462342    NaN        10               2  \n",
       "\n",
       "[1 rows x 22 columns]"
      ]
     },
     "metadata": {},
     "output_type": "display_data"
    },
    {
     "name": "stdout",
     "output_type": "stream",
     "text": [
      "Normalized Features:\n"
     ]
    },
    {
     "data": {
      "text/html": [
       "<div>\n",
       "<style scoped>\n",
       "    .dataframe tbody tr th:only-of-type {\n",
       "        vertical-align: middle;\n",
       "    }\n",
       "\n",
       "    .dataframe tbody tr th {\n",
       "        vertical-align: top;\n",
       "    }\n",
       "\n",
       "    .dataframe thead th {\n",
       "        text-align: right;\n",
       "    }\n",
       "</style>\n",
       "<table border=\"1\" class=\"dataframe\">\n",
       "  <thead>\n",
       "    <tr style=\"text-align: right;\">\n",
       "      <th></th>\n",
       "      <th>meanFix</th>\n",
       "      <th>maxFix</th>\n",
       "      <th>varFix</th>\n",
       "      <th>xDir</th>\n",
       "      <th>yDir</th>\n",
       "      <th>fixDensPerBB</th>\n",
       "    </tr>\n",
       "  </thead>\n",
       "  <tbody>\n",
       "    <tr>\n",
       "      <th>149</th>\n",
       "      <td>0.322457</td>\n",
       "      <td>0.203043</td>\n",
       "      <td>0.023172</td>\n",
       "      <td>0.752508</td>\n",
       "      <td>0.802448</td>\n",
       "      <td>0.026748</td>\n",
       "    </tr>\n",
       "  </tbody>\n",
       "</table>\n",
       "</div>"
      ],
      "text/plain": [
       "      meanFix    maxFix    varFix      xDir      yDir  fixDensPerBB\n",
       "149  0.322457  0.203043  0.023172  0.752508  0.802448      0.026748"
      ]
     },
     "metadata": {},
     "output_type": "display_data"
    },
    {
     "data": {
      "text/plain": [
       "array([[0.04576804, 0.52721034, 0.42702162]])"
      ]
     },
     "metadata": {},
     "output_type": "display_data"
    },
    {
     "data": {
      "text/plain": [
       "array(['Reading'], dtype=object)"
      ]
     },
     "metadata": {},
     "output_type": "display_data"
    },
    {
     "data": {
      "text/plain": [
       "array([[0.03269234, 0.30077694, 0.66653071]])"
      ]
     },
     "metadata": {},
     "output_type": "display_data"
    },
    {
     "data": {
      "text/plain": [
       "array(['Search'], dtype=object)"
      ]
     },
     "metadata": {},
     "output_type": "display_data"
    },
    {
     "data": {
      "text/plain": [
       "array([[0.04126453, 0.48345748, 0.47527799]])"
      ]
     },
     "metadata": {},
     "output_type": "display_data"
    },
    {
     "data": {
      "text/plain": [
       "array(['Reading'], dtype=object)"
      ]
     },
     "metadata": {},
     "output_type": "display_data"
    },
    {
     "data": {
      "text/plain": [
       "array([[0.38491331, 0.29828375, 0.31680294]])"
      ]
     },
     "metadata": {},
     "output_type": "display_data"
    },
    {
     "data": {
      "text/plain": [
       "array(['Reading'], dtype=object)"
      ]
     },
     "metadata": {},
     "output_type": "display_data"
    },
    {
     "data": {
      "text/plain": [
       "{'linear': {'pred_class': 'Reading',\n",
       "  'max_prob': 0.5272103424411656,\n",
       "  'max_index': 1},\n",
       " 'poly': {'pred_class': 'Search',\n",
       "  'max_prob': 0.6665307137480334,\n",
       "  'max_index': 2},\n",
       " 'rbf': {'pred_class': 'Reading',\n",
       "  'max_prob': 0.4834574795625238,\n",
       "  'max_index': 1},\n",
       " 'sigmoid': {'pred_class': 'Reading',\n",
       "  'max_prob': 0.38491331154313324,\n",
       "  'max_index': 0}}"
      ]
     },
     "metadata": {},
     "output_type": "display_data"
    },
    {
     "name": "stdout",
     "output_type": "stream",
     "text": [
      "----------------\n",
      "filename: chunk_2023-10-27_03-16-22_002.csv\n",
      "filepath: ./OnlineGazeDataChunks/chunk_2023-10-27_03-16-22_002.csv\n",
      "start fc for:  ./OnlineGazeDataChunks/chunk_2023-10-27_03-16-22_002.csv\n",
      "Feature calculation done for: ./OnlineGazeDataChunks/chunk_2023-10-27_03-16-22_002.csv\n",
      "Feature file path: ./OnlineFeatureFiles/feature_list_P001.csv\n"
     ]
    },
    {
     "data": {
      "text/html": [
       "<div>\n",
       "<style scoped>\n",
       "    .dataframe tbody tr th:only-of-type {\n",
       "        vertical-align: middle;\n",
       "    }\n",
       "\n",
       "    .dataframe tbody tr th {\n",
       "        vertical-align: top;\n",
       "    }\n",
       "\n",
       "    .dataframe thead th {\n",
       "        text-align: right;\n",
       "    }\n",
       "</style>\n",
       "<table border=\"1\" class=\"dataframe\">\n",
       "  <thead>\n",
       "    <tr style=\"text-align: right;\">\n",
       "      <th></th>\n",
       "      <th>meanFix</th>\n",
       "      <th>minFix</th>\n",
       "      <th>maxFix</th>\n",
       "      <th>varFix</th>\n",
       "      <th>stdFix</th>\n",
       "      <th>meanDis</th>\n",
       "      <th>minDis</th>\n",
       "      <th>maxDis</th>\n",
       "      <th>varDis</th>\n",
       "      <th>stdDisp</th>\n",
       "      <th>...</th>\n",
       "      <th>blinkMean</th>\n",
       "      <th>blinkMin</th>\n",
       "      <th>blinkMax</th>\n",
       "      <th>blinkRate</th>\n",
       "      <th>xDir</th>\n",
       "      <th>yDir</th>\n",
       "      <th>fixDensPerBB</th>\n",
       "      <th>label</th>\n",
       "      <th>duration</th>\n",
       "      <th>participant_id</th>\n",
       "    </tr>\n",
       "  </thead>\n",
       "  <tbody>\n",
       "    <tr>\n",
       "      <th>10</th>\n",
       "      <td>147.8125</td>\n",
       "      <td>100</td>\n",
       "      <td>266</td>\n",
       "      <td>2418.157258</td>\n",
       "      <td>49.174762</td>\n",
       "      <td>0.101225</td>\n",
       "      <td>0.028104</td>\n",
       "      <td>0.335614</td>\n",
       "      <td>0.008393</td>\n",
       "      <td>0.091616</td>\n",
       "      <td>...</td>\n",
       "      <td>810.25641</td>\n",
       "      <td>167</td>\n",
       "      <td>1000</td>\n",
       "      <td>3.9</td>\n",
       "      <td>0.516129</td>\n",
       "      <td>0.645161</td>\n",
       "      <td>85.856989</td>\n",
       "      <td>NaN</td>\n",
       "      <td>10</td>\n",
       "      <td>2</td>\n",
       "    </tr>\n",
       "  </tbody>\n",
       "</table>\n",
       "<p>1 rows × 22 columns</p>\n",
       "</div>"
      ],
      "text/plain": [
       "     meanFix  minFix  maxFix       varFix     stdFix   meanDis    minDis   \n",
       "10  147.8125     100     266  2418.157258  49.174762  0.101225  0.028104  \\\n",
       "\n",
       "      maxDis    varDis   stdDisp  ...  blinkMean  blinkMin  blinkMax   \n",
       "10  0.335614  0.008393  0.091616  ...  810.25641       167      1000  \\\n",
       "\n",
       "    blinkRate      xDir      yDir  fixDensPerBB  label  duration   \n",
       "10        3.9  0.516129  0.645161     85.856989    NaN        10  \\\n",
       "\n",
       "    participant_id  \n",
       "10               2  \n",
       "\n",
       "[1 rows x 22 columns]"
      ]
     },
     "metadata": {},
     "output_type": "display_data"
    },
    {
     "name": "stdout",
     "output_type": "stream",
     "text": [
      "Normalized Features:\n"
     ]
    },
    {
     "data": {
      "text/html": [
       "<div>\n",
       "<style scoped>\n",
       "    .dataframe tbody tr th:only-of-type {\n",
       "        vertical-align: middle;\n",
       "    }\n",
       "\n",
       "    .dataframe tbody tr th {\n",
       "        vertical-align: top;\n",
       "    }\n",
       "\n",
       "    .dataframe thead th {\n",
       "        text-align: right;\n",
       "    }\n",
       "</style>\n",
       "<table border=\"1\" class=\"dataframe\">\n",
       "  <thead>\n",
       "    <tr style=\"text-align: right;\">\n",
       "      <th></th>\n",
       "      <th>meanFix</th>\n",
       "      <th>maxFix</th>\n",
       "      <th>varFix</th>\n",
       "      <th>xDir</th>\n",
       "      <th>yDir</th>\n",
       "      <th>fixDensPerBB</th>\n",
       "    </tr>\n",
       "  </thead>\n",
       "  <tbody>\n",
       "    <tr>\n",
       "      <th>149</th>\n",
       "      <td>0.242767</td>\n",
       "      <td>0.057826</td>\n",
       "      <td>0.002018</td>\n",
       "      <td>0.56101</td>\n",
       "      <td>0.791789</td>\n",
       "      <td>0.055387</td>\n",
       "    </tr>\n",
       "  </tbody>\n",
       "</table>\n",
       "</div>"
      ],
      "text/plain": [
       "      meanFix    maxFix    varFix     xDir      yDir  fixDensPerBB\n",
       "149  0.242767  0.057826  0.002018  0.56101  0.791789      0.055387"
      ]
     },
     "metadata": {},
     "output_type": "display_data"
    },
    {
     "data": {
      "text/plain": [
       "array([[0.04940149, 0.00874429, 0.94185422]])"
      ]
     },
     "metadata": {},
     "output_type": "display_data"
    },
    {
     "data": {
      "text/plain": [
       "array(['Search'], dtype=object)"
      ]
     },
     "metadata": {},
     "output_type": "display_data"
    },
    {
     "data": {
      "text/plain": [
       "array([[0.06169362, 0.00975544, 0.92855094]])"
      ]
     },
     "metadata": {},
     "output_type": "display_data"
    },
    {
     "data": {
      "text/plain": [
       "array(['Search'], dtype=object)"
      ]
     },
     "metadata": {},
     "output_type": "display_data"
    },
    {
     "data": {
      "text/plain": [
       "array([[0.06454785, 0.00808936, 0.92736279]])"
      ]
     },
     "metadata": {},
     "output_type": "display_data"
    },
    {
     "data": {
      "text/plain": [
       "array(['Search'], dtype=object)"
      ]
     },
     "metadata": {},
     "output_type": "display_data"
    },
    {
     "data": {
      "text/plain": [
       "array([[0.38445272, 0.22512452, 0.39042276]])"
      ]
     },
     "metadata": {},
     "output_type": "display_data"
    },
    {
     "data": {
      "text/plain": [
       "array(['Reading'], dtype=object)"
      ]
     },
     "metadata": {},
     "output_type": "display_data"
    },
    {
     "data": {
      "text/plain": [
       "{'linear': {'pred_class': 'Search',\n",
       "  'max_prob': 0.9418542170976957,\n",
       "  'max_index': 2},\n",
       " 'poly': {'pred_class': 'Search',\n",
       "  'max_prob': 0.9285509379726965,\n",
       "  'max_index': 2},\n",
       " 'rbf': {'pred_class': 'Search',\n",
       "  'max_prob': 0.9273627852924101,\n",
       "  'max_index': 2},\n",
       " 'sigmoid': {'pred_class': 'Reading',\n",
       "  'max_prob': 0.390422758465163,\n",
       "  'max_index': 2}}"
      ]
     },
     "metadata": {},
     "output_type": "display_data"
    },
    {
     "name": "stdout",
     "output_type": "stream",
     "text": [
      "----------------\n",
      "http://10.2.2.158:49898/?activity=Search&probability=0.9418542170976957\n",
      "<Response [200]>\n",
      "Notified Hololens about activity Search\n",
      "filename: chunk_2023-10-27_03-16-32_003.csv\n",
      "filepath: ./OnlineGazeDataChunks/chunk_2023-10-27_03-16-32_003.csv\n",
      "start fc for:  ./OnlineGazeDataChunks/chunk_2023-10-27_03-16-32_003.csv\n",
      "Feature calculation done for: ./OnlineGazeDataChunks/chunk_2023-10-27_03-16-32_003.csv\n",
      "Feature file path: ./OnlineFeatureFiles/feature_list_P001.csv\n"
     ]
    },
    {
     "data": {
      "text/html": [
       "<div>\n",
       "<style scoped>\n",
       "    .dataframe tbody tr th:only-of-type {\n",
       "        vertical-align: middle;\n",
       "    }\n",
       "\n",
       "    .dataframe tbody tr th {\n",
       "        vertical-align: top;\n",
       "    }\n",
       "\n",
       "    .dataframe thead th {\n",
       "        text-align: right;\n",
       "    }\n",
       "</style>\n",
       "<table border=\"1\" class=\"dataframe\">\n",
       "  <thead>\n",
       "    <tr style=\"text-align: right;\">\n",
       "      <th></th>\n",
       "      <th>meanFix</th>\n",
       "      <th>minFix</th>\n",
       "      <th>maxFix</th>\n",
       "      <th>varFix</th>\n",
       "      <th>stdFix</th>\n",
       "      <th>meanDis</th>\n",
       "      <th>minDis</th>\n",
       "      <th>maxDis</th>\n",
       "      <th>varDis</th>\n",
       "      <th>stdDisp</th>\n",
       "      <th>...</th>\n",
       "      <th>blinkMean</th>\n",
       "      <th>blinkMin</th>\n",
       "      <th>blinkMax</th>\n",
       "      <th>blinkRate</th>\n",
       "      <th>xDir</th>\n",
       "      <th>yDir</th>\n",
       "      <th>fixDensPerBB</th>\n",
       "      <th>label</th>\n",
       "      <th>duration</th>\n",
       "      <th>participant_id</th>\n",
       "    </tr>\n",
       "  </thead>\n",
       "  <tbody>\n",
       "    <tr>\n",
       "      <th>11</th>\n",
       "      <td>418.333333</td>\n",
       "      <td>100</td>\n",
       "      <td>1900</td>\n",
       "      <td>352877.5</td>\n",
       "      <td>594.034932</td>\n",
       "      <td>0.092611</td>\n",
       "      <td>0.031285</td>\n",
       "      <td>0.362029</td>\n",
       "      <td>0.011015</td>\n",
       "      <td>0.104951</td>\n",
       "      <td>...</td>\n",
       "      <td>565.241379</td>\n",
       "      <td>33</td>\n",
       "      <td>4800</td>\n",
       "      <td>2.9</td>\n",
       "      <td>0.625</td>\n",
       "      <td>0.375</td>\n",
       "      <td>19.49871</td>\n",
       "      <td>NaN</td>\n",
       "      <td>10</td>\n",
       "      <td>2</td>\n",
       "    </tr>\n",
       "  </tbody>\n",
       "</table>\n",
       "<p>1 rows × 22 columns</p>\n",
       "</div>"
      ],
      "text/plain": [
       "       meanFix  minFix  maxFix    varFix      stdFix   meanDis    minDis   \n",
       "11  418.333333     100    1900  352877.5  594.034932  0.092611  0.031285  \\\n",
       "\n",
       "      maxDis    varDis   stdDisp  ...   blinkMean  blinkMin  blinkMax   \n",
       "11  0.362029  0.011015  0.104951  ...  565.241379        33      4800  \\\n",
       "\n",
       "    blinkRate   xDir   yDir  fixDensPerBB  label  duration  participant_id  \n",
       "11        2.9  0.625  0.375      19.49871    NaN        10               2  \n",
       "\n",
       "[1 rows x 22 columns]"
      ]
     },
     "metadata": {},
     "output_type": "display_data"
    },
    {
     "name": "stdout",
     "output_type": "stream",
     "text": [
      "Normalized Features:\n"
     ]
    },
    {
     "data": {
      "text/html": [
       "<div>\n",
       "<style scoped>\n",
       "    .dataframe tbody tr th:only-of-type {\n",
       "        vertical-align: middle;\n",
       "    }\n",
       "\n",
       "    .dataframe tbody tr th {\n",
       "        vertical-align: top;\n",
       "    }\n",
       "\n",
       "    .dataframe thead th {\n",
       "        text-align: right;\n",
       "    }\n",
       "</style>\n",
       "<table border=\"1\" class=\"dataframe\">\n",
       "  <thead>\n",
       "    <tr style=\"text-align: right;\">\n",
       "      <th></th>\n",
       "      <th>meanFix</th>\n",
       "      <th>maxFix</th>\n",
       "      <th>varFix</th>\n",
       "      <th>xDir</th>\n",
       "      <th>yDir</th>\n",
       "      <th>fixDensPerBB</th>\n",
       "    </tr>\n",
       "  </thead>\n",
       "  <tbody>\n",
       "    <tr>\n",
       "      <th>149</th>\n",
       "      <td>0.687069</td>\n",
       "      <td>0.413043</td>\n",
       "      <td>0.294464</td>\n",
       "      <td>0.679348</td>\n",
       "      <td>0.460227</td>\n",
       "      <td>0.012579</td>\n",
       "    </tr>\n",
       "  </tbody>\n",
       "</table>\n",
       "</div>"
      ],
      "text/plain": [
       "      meanFix    maxFix    varFix      xDir      yDir  fixDensPerBB\n",
       "149  0.687069  0.413043  0.294464  0.679348  0.460227      0.012579"
      ]
     },
     "metadata": {},
     "output_type": "display_data"
    },
    {
     "data": {
      "text/plain": [
       "array([[0.27068289, 0.69371202, 0.03560509]])"
      ]
     },
     "metadata": {},
     "output_type": "display_data"
    },
    {
     "data": {
      "text/plain": [
       "array(['Reading'], dtype=object)"
      ]
     },
     "metadata": {},
     "output_type": "display_data"
    },
    {
     "data": {
      "text/plain": [
       "array([[0.32477097, 0.6494743 , 0.02575473]])"
      ]
     },
     "metadata": {},
     "output_type": "display_data"
    },
    {
     "data": {
      "text/plain": [
       "array(['Reading'], dtype=object)"
      ]
     },
     "metadata": {},
     "output_type": "display_data"
    },
    {
     "data": {
      "text/plain": [
       "array([[0.34045499, 0.58432149, 0.07522352]])"
      ]
     },
     "metadata": {},
     "output_type": "display_data"
    },
    {
     "data": {
      "text/plain": [
       "array(['Reading'], dtype=object)"
      ]
     },
     "metadata": {},
     "output_type": "display_data"
    },
    {
     "data": {
      "text/plain": [
       "array([[0.35001642, 0.23885491, 0.41112867]])"
      ]
     },
     "metadata": {},
     "output_type": "display_data"
    },
    {
     "data": {
      "text/plain": [
       "array(['Reading'], dtype=object)"
      ]
     },
     "metadata": {},
     "output_type": "display_data"
    },
    {
     "data": {
      "text/plain": [
       "{'linear': {'pred_class': 'Reading',\n",
       "  'max_prob': 0.6937120186796916,\n",
       "  'max_index': 1},\n",
       " 'poly': {'pred_class': 'Reading',\n",
       "  'max_prob': 0.6494742978082365,\n",
       "  'max_index': 1},\n",
       " 'rbf': {'pred_class': 'Reading',\n",
       "  'max_prob': 0.5843214902342029,\n",
       "  'max_index': 1},\n",
       " 'sigmoid': {'pred_class': 'Reading',\n",
       "  'max_prob': 0.4111286707633126,\n",
       "  'max_index': 2}}"
      ]
     },
     "metadata": {},
     "output_type": "display_data"
    },
    {
     "name": "stdout",
     "output_type": "stream",
     "text": [
      "----------------\n",
      "http://10.2.2.158:49898/?activity=Reading&probability=0.6937120186796916\n",
      "<Response [200]>\n",
      "Notified Hololens about activity Reading\n",
      "filename: chunk_2023-10-27_03-16-42_004.csv\n",
      "filepath: ./OnlineGazeDataChunks/chunk_2023-10-27_03-16-42_004.csv\n",
      "start fc for:  ./OnlineGazeDataChunks/chunk_2023-10-27_03-16-42_004.csv\n",
      "Feature calculation done for: ./OnlineGazeDataChunks/chunk_2023-10-27_03-16-42_004.csv\n",
      "Feature file path: ./OnlineFeatureFiles/feature_list_P001.csv\n"
     ]
    },
    {
     "data": {
      "text/html": [
       "<div>\n",
       "<style scoped>\n",
       "    .dataframe tbody tr th:only-of-type {\n",
       "        vertical-align: middle;\n",
       "    }\n",
       "\n",
       "    .dataframe tbody tr th {\n",
       "        vertical-align: top;\n",
       "    }\n",
       "\n",
       "    .dataframe thead th {\n",
       "        text-align: right;\n",
       "    }\n",
       "</style>\n",
       "<table border=\"1\" class=\"dataframe\">\n",
       "  <thead>\n",
       "    <tr style=\"text-align: right;\">\n",
       "      <th></th>\n",
       "      <th>meanFix</th>\n",
       "      <th>minFix</th>\n",
       "      <th>maxFix</th>\n",
       "      <th>varFix</th>\n",
       "      <th>stdFix</th>\n",
       "      <th>meanDis</th>\n",
       "      <th>minDis</th>\n",
       "      <th>maxDis</th>\n",
       "      <th>varDis</th>\n",
       "      <th>stdDisp</th>\n",
       "      <th>...</th>\n",
       "      <th>blinkMean</th>\n",
       "      <th>blinkMin</th>\n",
       "      <th>blinkMax</th>\n",
       "      <th>blinkRate</th>\n",
       "      <th>xDir</th>\n",
       "      <th>yDir</th>\n",
       "      <th>fixDensPerBB</th>\n",
       "      <th>label</th>\n",
       "      <th>duration</th>\n",
       "      <th>participant_id</th>\n",
       "    </tr>\n",
       "  </thead>\n",
       "  <tbody>\n",
       "    <tr>\n",
       "      <th>12</th>\n",
       "      <td>179.057143</td>\n",
       "      <td>100</td>\n",
       "      <td>733</td>\n",
       "      <td>18643.996639</td>\n",
       "      <td>136.543021</td>\n",
       "      <td>0.086925</td>\n",
       "      <td>0.02823</td>\n",
       "      <td>0.285914</td>\n",
       "      <td>0.005268</td>\n",
       "      <td>0.072583</td>\n",
       "      <td>...</td>\n",
       "      <td>738.35</td>\n",
       "      <td>33</td>\n",
       "      <td>3600</td>\n",
       "      <td>2.0</td>\n",
       "      <td>0.470588</td>\n",
       "      <td>0.382353</td>\n",
       "      <td>69.815538</td>\n",
       "      <td>NaN</td>\n",
       "      <td>10</td>\n",
       "      <td>2</td>\n",
       "    </tr>\n",
       "  </tbody>\n",
       "</table>\n",
       "<p>1 rows × 22 columns</p>\n",
       "</div>"
      ],
      "text/plain": [
       "       meanFix  minFix  maxFix        varFix      stdFix   meanDis   minDis   \n",
       "12  179.057143     100     733  18643.996639  136.543021  0.086925  0.02823  \\\n",
       "\n",
       "      maxDis    varDis   stdDisp  ...  blinkMean  blinkMin  blinkMax   \n",
       "12  0.285914  0.005268  0.072583  ...     738.35        33      3600  \\\n",
       "\n",
       "    blinkRate      xDir      yDir  fixDensPerBB  label  duration   \n",
       "12        2.0  0.470588  0.382353     69.815538    NaN        10  \\\n",
       "\n",
       "    participant_id  \n",
       "12               2  \n",
       "\n",
       "[1 rows x 22 columns]"
      ]
     },
     "metadata": {},
     "output_type": "display_data"
    },
    {
     "name": "stdout",
     "output_type": "stream",
     "text": [
      "Normalized Features:\n"
     ]
    },
    {
     "data": {
      "text/html": [
       "<div>\n",
       "<style scoped>\n",
       "    .dataframe tbody tr th:only-of-type {\n",
       "        vertical-align: middle;\n",
       "    }\n",
       "\n",
       "    .dataframe tbody tr th {\n",
       "        vertical-align: top;\n",
       "    }\n",
       "\n",
       "    .dataframe thead th {\n",
       "        text-align: right;\n",
       "    }\n",
       "</style>\n",
       "<table border=\"1\" class=\"dataframe\">\n",
       "  <thead>\n",
       "    <tr style=\"text-align: right;\">\n",
       "      <th></th>\n",
       "      <th>meanFix</th>\n",
       "      <th>maxFix</th>\n",
       "      <th>varFix</th>\n",
       "      <th>xDir</th>\n",
       "      <th>yDir</th>\n",
       "      <th>fixDensPerBB</th>\n",
       "    </tr>\n",
       "  </thead>\n",
       "  <tbody>\n",
       "    <tr>\n",
       "      <th>149</th>\n",
       "      <td>0.294083</td>\n",
       "      <td>0.159348</td>\n",
       "      <td>0.015558</td>\n",
       "      <td>0.511509</td>\n",
       "      <td>0.469251</td>\n",
       "      <td>0.045039</td>\n",
       "    </tr>\n",
       "  </tbody>\n",
       "</table>\n",
       "</div>"
      ],
      "text/plain": [
       "      meanFix    maxFix    varFix      xDir      yDir  fixDensPerBB\n",
       "149  0.294083  0.159348  0.015558  0.511509  0.469251      0.045039"
      ]
     },
     "metadata": {},
     "output_type": "display_data"
    },
    {
     "data": {
      "text/plain": [
       "array([[0.07701684, 0.00447529, 0.91850787]])"
      ]
     },
     "metadata": {},
     "output_type": "display_data"
    },
    {
     "data": {
      "text/plain": [
       "array(['Search'], dtype=object)"
      ]
     },
     "metadata": {},
     "output_type": "display_data"
    },
    {
     "data": {
      "text/plain": [
       "array([[0.12154195, 0.02108554, 0.8573725 ]])"
      ]
     },
     "metadata": {},
     "output_type": "display_data"
    },
    {
     "data": {
      "text/plain": [
       "array(['Search'], dtype=object)"
      ]
     },
     "metadata": {},
     "output_type": "display_data"
    },
    {
     "data": {
      "text/plain": [
       "array([[0.07753221, 0.00610668, 0.91636112]])"
      ]
     },
     "metadata": {},
     "output_type": "display_data"
    },
    {
     "data": {
      "text/plain": [
       "array(['Search'], dtype=object)"
      ]
     },
     "metadata": {},
     "output_type": "display_data"
    },
    {
     "data": {
      "text/plain": [
       "array([[0.33715218, 0.08948806, 0.57335976]])"
      ]
     },
     "metadata": {},
     "output_type": "display_data"
    },
    {
     "data": {
      "text/plain": [
       "array(['Reading'], dtype=object)"
      ]
     },
     "metadata": {},
     "output_type": "display_data"
    },
    {
     "data": {
      "text/plain": [
       "{'linear': {'pred_class': 'Search',\n",
       "  'max_prob': 0.9185078688273017,\n",
       "  'max_index': 2},\n",
       " 'poly': {'pred_class': 'Search',\n",
       "  'max_prob': 0.8573725022365662,\n",
       "  'max_index': 2},\n",
       " 'rbf': {'pred_class': 'Search',\n",
       "  'max_prob': 0.916361117333563,\n",
       "  'max_index': 2},\n",
       " 'sigmoid': {'pred_class': 'Reading',\n",
       "  'max_prob': 0.5733597573794678,\n",
       "  'max_index': 2}}"
      ]
     },
     "metadata": {},
     "output_type": "display_data"
    },
    {
     "name": "stdout",
     "output_type": "stream",
     "text": [
      "----------------\n",
      "http://10.2.2.158:49898/?activity=Search&probability=0.9185078688273017\n",
      "<Response [200]>\n",
      "Notified Hololens about activity Search\n",
      "filename: chunk_2023-10-27_03-16-52_005.csv\n",
      "filepath: ./OnlineGazeDataChunks/chunk_2023-10-27_03-16-52_005.csv\n",
      "start fc for:  ./OnlineGazeDataChunks/chunk_2023-10-27_03-16-52_005.csv\n",
      "Feature calculation done for: ./OnlineGazeDataChunks/chunk_2023-10-27_03-16-52_005.csv\n",
      "Feature file path: ./OnlineFeatureFiles/feature_list_P001.csv\n"
     ]
    },
    {
     "data": {
      "text/html": [
       "<div>\n",
       "<style scoped>\n",
       "    .dataframe tbody tr th:only-of-type {\n",
       "        vertical-align: middle;\n",
       "    }\n",
       "\n",
       "    .dataframe tbody tr th {\n",
       "        vertical-align: top;\n",
       "    }\n",
       "\n",
       "    .dataframe thead th {\n",
       "        text-align: right;\n",
       "    }\n",
       "</style>\n",
       "<table border=\"1\" class=\"dataframe\">\n",
       "  <thead>\n",
       "    <tr style=\"text-align: right;\">\n",
       "      <th></th>\n",
       "      <th>meanFix</th>\n",
       "      <th>minFix</th>\n",
       "      <th>maxFix</th>\n",
       "      <th>varFix</th>\n",
       "      <th>stdFix</th>\n",
       "      <th>meanDis</th>\n",
       "      <th>minDis</th>\n",
       "      <th>maxDis</th>\n",
       "      <th>varDis</th>\n",
       "      <th>stdDisp</th>\n",
       "      <th>...</th>\n",
       "      <th>blinkMean</th>\n",
       "      <th>blinkMin</th>\n",
       "      <th>blinkMax</th>\n",
       "      <th>blinkRate</th>\n",
       "      <th>xDir</th>\n",
       "      <th>yDir</th>\n",
       "      <th>fixDensPerBB</th>\n",
       "      <th>label</th>\n",
       "      <th>duration</th>\n",
       "      <th>participant_id</th>\n",
       "    </tr>\n",
       "  </thead>\n",
       "  <tbody>\n",
       "    <tr>\n",
       "      <th>13</th>\n",
       "      <td>278.137931</td>\n",
       "      <td>100</td>\n",
       "      <td>966</td>\n",
       "      <td>56259.837438</td>\n",
       "      <td>237.191563</td>\n",
       "      <td>0.036606</td>\n",
       "      <td>0.028196</td>\n",
       "      <td>0.085619</td>\n",
       "      <td>0.000157</td>\n",
       "      <td>0.012527</td>\n",
       "      <td>...</td>\n",
       "      <td>1779.8</td>\n",
       "      <td>33</td>\n",
       "      <td>8534</td>\n",
       "      <td>0.5</td>\n",
       "      <td>0.464286</td>\n",
       "      <td>0.464286</td>\n",
       "      <td>750.440922</td>\n",
       "      <td>NaN</td>\n",
       "      <td>10</td>\n",
       "      <td>2</td>\n",
       "    </tr>\n",
       "  </tbody>\n",
       "</table>\n",
       "<p>1 rows × 22 columns</p>\n",
       "</div>"
      ],
      "text/plain": [
       "       meanFix  minFix  maxFix        varFix      stdFix   meanDis    minDis   \n",
       "13  278.137931     100     966  56259.837438  237.191563  0.036606  0.028196  \\\n",
       "\n",
       "      maxDis    varDis   stdDisp  ...  blinkMean  blinkMin  blinkMax   \n",
       "13  0.085619  0.000157  0.012527  ...     1779.8        33      8534  \\\n",
       "\n",
       "    blinkRate      xDir      yDir  fixDensPerBB  label  duration   \n",
       "13        0.5  0.464286  0.464286    750.440922    NaN        10  \\\n",
       "\n",
       "    participant_id  \n",
       "13               2  \n",
       "\n",
       "[1 rows x 22 columns]"
      ]
     },
     "metadata": {},
     "output_type": "display_data"
    },
    {
     "name": "stdout",
     "output_type": "stream",
     "text": [
      "Normalized Features:\n"
     ]
    },
    {
     "data": {
      "text/html": [
       "<div>\n",
       "<style scoped>\n",
       "    .dataframe tbody tr th:only-of-type {\n",
       "        vertical-align: middle;\n",
       "    }\n",
       "\n",
       "    .dataframe tbody tr th {\n",
       "        vertical-align: top;\n",
       "    }\n",
       "\n",
       "    .dataframe thead th {\n",
       "        text-align: right;\n",
       "    }\n",
       "</style>\n",
       "<table border=\"1\" class=\"dataframe\">\n",
       "  <thead>\n",
       "    <tr style=\"text-align: right;\">\n",
       "      <th></th>\n",
       "      <th>meanFix</th>\n",
       "      <th>maxFix</th>\n",
       "      <th>varFix</th>\n",
       "      <th>xDir</th>\n",
       "      <th>yDir</th>\n",
       "      <th>fixDensPerBB</th>\n",
       "    </tr>\n",
       "  </thead>\n",
       "  <tbody>\n",
       "    <tr>\n",
       "      <th>149</th>\n",
       "      <td>0.456813</td>\n",
       "      <td>0.21</td>\n",
       "      <td>0.046947</td>\n",
       "      <td>0.504658</td>\n",
       "      <td>0.569805</td>\n",
       "      <td>0.484116</td>\n",
       "    </tr>\n",
       "  </tbody>\n",
       "</table>\n",
       "</div>"
      ],
      "text/plain": [
       "      meanFix  maxFix    varFix      xDir      yDir  fixDensPerBB\n",
       "149  0.456813    0.21  0.046947  0.504658  0.569805      0.484116"
      ]
     },
     "metadata": {},
     "output_type": "display_data"
    },
    {
     "data": {
      "text/plain": [
       "array([[9.88793087e-01, 4.07578864e-04, 1.07993342e-02]])"
      ]
     },
     "metadata": {},
     "output_type": "display_data"
    },
    {
     "data": {
      "text/plain": [
       "array(['Inspection'], dtype=object)"
      ]
     },
     "metadata": {},
     "output_type": "display_data"
    },
    {
     "data": {
      "text/plain": [
       "array([[0.96813521, 0.00123546, 0.03062933]])"
      ]
     },
     "metadata": {},
     "output_type": "display_data"
    },
    {
     "data": {
      "text/plain": [
       "array(['Inspection'], dtype=object)"
      ]
     },
     "metadata": {},
     "output_type": "display_data"
    },
    {
     "data": {
      "text/plain": [
       "array([[9.87014016e-01, 3.67654648e-04, 1.26183292e-02]])"
      ]
     },
     "metadata": {},
     "output_type": "display_data"
    },
    {
     "data": {
      "text/plain": [
       "array(['Inspection'], dtype=object)"
      ]
     },
     "metadata": {},
     "output_type": "display_data"
    },
    {
     "data": {
      "text/plain": [
       "array([[0.28297055, 0.21051442, 0.50651503]])"
      ]
     },
     "metadata": {},
     "output_type": "display_data"
    },
    {
     "data": {
      "text/plain": [
       "array(['Reading'], dtype=object)"
      ]
     },
     "metadata": {},
     "output_type": "display_data"
    },
    {
     "data": {
      "text/plain": [
       "{'linear': {'pred_class': 'Inspection',\n",
       "  'max_prob': 0.9887930869080982,\n",
       "  'max_index': 0},\n",
       " 'poly': {'pred_class': 'Inspection',\n",
       "  'max_prob': 0.9681352125591146,\n",
       "  'max_index': 0},\n",
       " 'rbf': {'pred_class': 'Inspection',\n",
       "  'max_prob': 0.987014016136923,\n",
       "  'max_index': 0},\n",
       " 'sigmoid': {'pred_class': 'Reading',\n",
       "  'max_prob': 0.5065150313533334,\n",
       "  'max_index': 2}}"
      ]
     },
     "metadata": {},
     "output_type": "display_data"
    },
    {
     "name": "stdout",
     "output_type": "stream",
     "text": [
      "----------------\n",
      "http://10.2.2.158:49898/?activity=Inspection&probability=0.9887930869080982\n",
      "<Response [200]>\n",
      "Notified Hololens about activity Inspection\n",
      "filename: chunk_2023-10-27_03-17-02_006.csv\n",
      "filepath: ./OnlineGazeDataChunks/chunk_2023-10-27_03-17-02_006.csv\n",
      "start fc for:  ./OnlineGazeDataChunks/chunk_2023-10-27_03-17-02_006.csv\n",
      "Feature calculation done for: ./OnlineGazeDataChunks/chunk_2023-10-27_03-17-02_006.csv\n",
      "Feature file path: ./OnlineFeatureFiles/feature_list_P001.csv\n"
     ]
    },
    {
     "data": {
      "text/html": [
       "<div>\n",
       "<style scoped>\n",
       "    .dataframe tbody tr th:only-of-type {\n",
       "        vertical-align: middle;\n",
       "    }\n",
       "\n",
       "    .dataframe tbody tr th {\n",
       "        vertical-align: top;\n",
       "    }\n",
       "\n",
       "    .dataframe thead th {\n",
       "        text-align: right;\n",
       "    }\n",
       "</style>\n",
       "<table border=\"1\" class=\"dataframe\">\n",
       "  <thead>\n",
       "    <tr style=\"text-align: right;\">\n",
       "      <th></th>\n",
       "      <th>meanFix</th>\n",
       "      <th>minFix</th>\n",
       "      <th>maxFix</th>\n",
       "      <th>varFix</th>\n",
       "      <th>stdFix</th>\n",
       "      <th>meanDis</th>\n",
       "      <th>minDis</th>\n",
       "      <th>maxDis</th>\n",
       "      <th>varDis</th>\n",
       "      <th>stdDisp</th>\n",
       "      <th>...</th>\n",
       "      <th>blinkMean</th>\n",
       "      <th>blinkMin</th>\n",
       "      <th>blinkMax</th>\n",
       "      <th>blinkRate</th>\n",
       "      <th>xDir</th>\n",
       "      <th>yDir</th>\n",
       "      <th>fixDensPerBB</th>\n",
       "      <th>label</th>\n",
       "      <th>duration</th>\n",
       "      <th>participant_id</th>\n",
       "    </tr>\n",
       "  </thead>\n",
       "  <tbody>\n",
       "    <tr>\n",
       "      <th>14</th>\n",
       "      <td>230.769231</td>\n",
       "      <td>100</td>\n",
       "      <td>2034</td>\n",
       "      <td>138483.064615</td>\n",
       "      <td>372.133128</td>\n",
       "      <td>0.093166</td>\n",
       "      <td>0.028419</td>\n",
       "      <td>0.341113</td>\n",
       "      <td>0.00732</td>\n",
       "      <td>0.085558</td>\n",
       "      <td>...</td>\n",
       "      <td>529.175</td>\n",
       "      <td>33</td>\n",
       "      <td>3833</td>\n",
       "      <td>4.0</td>\n",
       "      <td>0.56</td>\n",
       "      <td>0.44</td>\n",
       "      <td>68.431332</td>\n",
       "      <td>NaN</td>\n",
       "      <td>10</td>\n",
       "      <td>2</td>\n",
       "    </tr>\n",
       "  </tbody>\n",
       "</table>\n",
       "<p>1 rows × 22 columns</p>\n",
       "</div>"
      ],
      "text/plain": [
       "       meanFix  minFix  maxFix         varFix      stdFix   meanDis    minDis   \n",
       "14  230.769231     100    2034  138483.064615  372.133128  0.093166  0.028419  \\\n",
       "\n",
       "      maxDis   varDis   stdDisp  ...  blinkMean  blinkMin  blinkMax   \n",
       "14  0.341113  0.00732  0.085558  ...    529.175        33      3833  \\\n",
       "\n",
       "    blinkRate  xDir  yDir  fixDensPerBB  label  duration  participant_id  \n",
       "14        4.0  0.56  0.44     68.431332    NaN        10               2  \n",
       "\n",
       "[1 rows x 22 columns]"
      ]
     },
     "metadata": {},
     "output_type": "display_data"
    },
    {
     "name": "stdout",
     "output_type": "stream",
     "text": [
      "Normalized Features:\n"
     ]
    },
    {
     "data": {
      "text/html": [
       "<div>\n",
       "<style scoped>\n",
       "    .dataframe tbody tr th:only-of-type {\n",
       "        vertical-align: middle;\n",
       "    }\n",
       "\n",
       "    .dataframe tbody tr th {\n",
       "        vertical-align: top;\n",
       "    }\n",
       "\n",
       "    .dataframe thead th {\n",
       "        text-align: right;\n",
       "    }\n",
       "</style>\n",
       "<table border=\"1\" class=\"dataframe\">\n",
       "  <thead>\n",
       "    <tr style=\"text-align: right;\">\n",
       "      <th></th>\n",
       "      <th>meanFix</th>\n",
       "      <th>maxFix</th>\n",
       "      <th>varFix</th>\n",
       "      <th>xDir</th>\n",
       "      <th>yDir</th>\n",
       "      <th>fixDensPerBB</th>\n",
       "    </tr>\n",
       "  </thead>\n",
       "  <tbody>\n",
       "    <tr>\n",
       "      <th>149</th>\n",
       "      <td>0.379014</td>\n",
       "      <td>0.442174</td>\n",
       "      <td>0.115559</td>\n",
       "      <td>0.608696</td>\n",
       "      <td>0.54</td>\n",
       "      <td>0.044146</td>\n",
       "    </tr>\n",
       "  </tbody>\n",
       "</table>\n",
       "</div>"
      ],
      "text/plain": [
       "      meanFix    maxFix    varFix      xDir  yDir  fixDensPerBB\n",
       "149  0.379014  0.442174  0.115559  0.608696  0.54      0.044146"
      ]
     },
     "metadata": {},
     "output_type": "display_data"
    },
    {
     "data": {
      "text/plain": [
       "array([[0.30754869, 0.10880678, 0.58364453]])"
      ]
     },
     "metadata": {},
     "output_type": "display_data"
    },
    {
     "data": {
      "text/plain": [
       "array(['Search'], dtype=object)"
      ]
     },
     "metadata": {},
     "output_type": "display_data"
    },
    {
     "data": {
      "text/plain": [
       "array([[0.34837341, 0.13859834, 0.51302825]])"
      ]
     },
     "metadata": {},
     "output_type": "display_data"
    },
    {
     "data": {
      "text/plain": [
       "array(['Inspection'], dtype=object)"
      ]
     },
     "metadata": {},
     "output_type": "display_data"
    },
    {
     "data": {
      "text/plain": [
       "array([[0.25354223, 0.13705484, 0.60940293]])"
      ]
     },
     "metadata": {},
     "output_type": "display_data"
    },
    {
     "data": {
      "text/plain": [
       "array(['Search'], dtype=object)"
      ]
     },
     "metadata": {},
     "output_type": "display_data"
    },
    {
     "data": {
      "text/plain": [
       "array([[0.34807328, 0.19215534, 0.45977138]])"
      ]
     },
     "metadata": {},
     "output_type": "display_data"
    },
    {
     "data": {
      "text/plain": [
       "array(['Reading'], dtype=object)"
      ]
     },
     "metadata": {},
     "output_type": "display_data"
    },
    {
     "data": {
      "text/plain": [
       "{'linear': {'pred_class': 'Search',\n",
       "  'max_prob': 0.5836445297364878,\n",
       "  'max_index': 2},\n",
       " 'poly': {'pred_class': 'Inspection',\n",
       "  'max_prob': 0.5130282513736512,\n",
       "  'max_index': 2},\n",
       " 'rbf': {'pred_class': 'Search',\n",
       "  'max_prob': 0.6094029321334181,\n",
       "  'max_index': 2},\n",
       " 'sigmoid': {'pred_class': 'Reading',\n",
       "  'max_prob': 0.45977138431928893,\n",
       "  'max_index': 2}}"
      ]
     },
     "metadata": {},
     "output_type": "display_data"
    },
    {
     "name": "stdout",
     "output_type": "stream",
     "text": [
      "----------------\n",
      "http://10.2.2.158:49898/?activity=Search&probability=0.6094029321334181\n",
      "<Response [200]>\n",
      "Notified Hololens about activity Search\n",
      "filename: chunk_2023-10-27_03-17-12_007.csv\n",
      "filepath: ./OnlineGazeDataChunks/chunk_2023-10-27_03-17-12_007.csv\n",
      "start fc for:  ./OnlineGazeDataChunks/chunk_2023-10-27_03-17-12_007.csv\n",
      "Feature calculation done for: ./OnlineGazeDataChunks/chunk_2023-10-27_03-17-12_007.csv\n",
      "Feature file path: ./OnlineFeatureFiles/feature_list_P001.csv\n"
     ]
    },
    {
     "data": {
      "text/html": [
       "<div>\n",
       "<style scoped>\n",
       "    .dataframe tbody tr th:only-of-type {\n",
       "        vertical-align: middle;\n",
       "    }\n",
       "\n",
       "    .dataframe tbody tr th {\n",
       "        vertical-align: top;\n",
       "    }\n",
       "\n",
       "    .dataframe thead th {\n",
       "        text-align: right;\n",
       "    }\n",
       "</style>\n",
       "<table border=\"1\" class=\"dataframe\">\n",
       "  <thead>\n",
       "    <tr style=\"text-align: right;\">\n",
       "      <th></th>\n",
       "      <th>meanFix</th>\n",
       "      <th>minFix</th>\n",
       "      <th>maxFix</th>\n",
       "      <th>varFix</th>\n",
       "      <th>stdFix</th>\n",
       "      <th>meanDis</th>\n",
       "      <th>minDis</th>\n",
       "      <th>maxDis</th>\n",
       "      <th>varDis</th>\n",
       "      <th>stdDisp</th>\n",
       "      <th>...</th>\n",
       "      <th>blinkMean</th>\n",
       "      <th>blinkMin</th>\n",
       "      <th>blinkMax</th>\n",
       "      <th>blinkRate</th>\n",
       "      <th>xDir</th>\n",
       "      <th>yDir</th>\n",
       "      <th>fixDensPerBB</th>\n",
       "      <th>label</th>\n",
       "      <th>duration</th>\n",
       "      <th>participant_id</th>\n",
       "    </tr>\n",
       "  </thead>\n",
       "  <tbody>\n",
       "    <tr>\n",
       "      <th>15</th>\n",
       "      <td>159.758621</td>\n",
       "      <td>100</td>\n",
       "      <td>267</td>\n",
       "      <td>2734.832512</td>\n",
       "      <td>52.295626</td>\n",
       "      <td>0.112355</td>\n",
       "      <td>0.027947</td>\n",
       "      <td>0.688134</td>\n",
       "      <td>0.018118</td>\n",
       "      <td>0.134604</td>\n",
       "      <td>...</td>\n",
       "      <td>716.433735</td>\n",
       "      <td>0</td>\n",
       "      <td>1634</td>\n",
       "      <td>8.3</td>\n",
       "      <td>0.607143</td>\n",
       "      <td>0.5</td>\n",
       "      <td>27.480913</td>\n",
       "      <td>NaN</td>\n",
       "      <td>10</td>\n",
       "      <td>2</td>\n",
       "    </tr>\n",
       "  </tbody>\n",
       "</table>\n",
       "<p>1 rows × 22 columns</p>\n",
       "</div>"
      ],
      "text/plain": [
       "       meanFix  minFix  maxFix       varFix     stdFix   meanDis    minDis   \n",
       "15  159.758621     100     267  2734.832512  52.295626  0.112355  0.027947  \\\n",
       "\n",
       "      maxDis    varDis   stdDisp  ...   blinkMean  blinkMin  blinkMax   \n",
       "15  0.688134  0.018118  0.134604  ...  716.433735         0      1634  \\\n",
       "\n",
       "    blinkRate      xDir  yDir  fixDensPerBB  label  duration  participant_id  \n",
       "15        8.3  0.607143   0.5     27.480913    NaN        10               2  \n",
       "\n",
       "[1 rows x 22 columns]"
      ]
     },
     "metadata": {},
     "output_type": "display_data"
    },
    {
     "name": "stdout",
     "output_type": "stream",
     "text": [
      "Normalized Features:\n"
     ]
    },
    {
     "data": {
      "text/html": [
       "<div>\n",
       "<style scoped>\n",
       "    .dataframe tbody tr th:only-of-type {\n",
       "        vertical-align: middle;\n",
       "    }\n",
       "\n",
       "    .dataframe tbody tr th {\n",
       "        vertical-align: top;\n",
       "    }\n",
       "\n",
       "    .dataframe thead th {\n",
       "        text-align: right;\n",
       "    }\n",
       "</style>\n",
       "<table border=\"1\" class=\"dataframe\">\n",
       "  <thead>\n",
       "    <tr style=\"text-align: right;\">\n",
       "      <th></th>\n",
       "      <th>meanFix</th>\n",
       "      <th>maxFix</th>\n",
       "      <th>varFix</th>\n",
       "      <th>xDir</th>\n",
       "      <th>yDir</th>\n",
       "      <th>fixDensPerBB</th>\n",
       "    </tr>\n",
       "  </thead>\n",
       "  <tbody>\n",
       "    <tr>\n",
       "      <th>149</th>\n",
       "      <td>0.262387</td>\n",
       "      <td>0.058043</td>\n",
       "      <td>0.002282</td>\n",
       "      <td>0.659938</td>\n",
       "      <td>0.613636</td>\n",
       "      <td>0.017728</td>\n",
       "    </tr>\n",
       "  </tbody>\n",
       "</table>\n",
       "</div>"
      ],
      "text/plain": [
       "      meanFix    maxFix    varFix      xDir      yDir  fixDensPerBB\n",
       "149  0.262387  0.058043  0.002282  0.659938  0.613636      0.017728"
      ]
     },
     "metadata": {},
     "output_type": "display_data"
    },
    {
     "data": {
      "text/plain": [
       "array([[0.02445724, 0.04408327, 0.9314595 ]])"
      ]
     },
     "metadata": {},
     "output_type": "display_data"
    },
    {
     "data": {
      "text/plain": [
       "array(['Search'], dtype=object)"
      ]
     },
     "metadata": {},
     "output_type": "display_data"
    },
    {
     "data": {
      "text/plain": [
       "array([[0.03341316, 0.07493651, 0.89165033]])"
      ]
     },
     "metadata": {},
     "output_type": "display_data"
    },
    {
     "data": {
      "text/plain": [
       "array(['Search'], dtype=object)"
      ]
     },
     "metadata": {},
     "output_type": "display_data"
    },
    {
     "data": {
      "text/plain": [
       "array([[0.02272905, 0.03580207, 0.94146888]])"
      ]
     },
     "metadata": {},
     "output_type": "display_data"
    },
    {
     "data": {
      "text/plain": [
       "array(['Search'], dtype=object)"
      ]
     },
     "metadata": {},
     "output_type": "display_data"
    },
    {
     "data": {
      "text/plain": [
       "array([[0.40106299, 0.1763047 , 0.42263231]])"
      ]
     },
     "metadata": {},
     "output_type": "display_data"
    },
    {
     "data": {
      "text/plain": [
       "array(['Reading'], dtype=object)"
      ]
     },
     "metadata": {},
     "output_type": "display_data"
    },
    {
     "data": {
      "text/plain": [
       "{'linear': {'pred_class': 'Search',\n",
       "  'max_prob': 0.9314594954825188,\n",
       "  'max_index': 2},\n",
       " 'poly': {'pred_class': 'Search',\n",
       "  'max_prob': 0.8916503258116155,\n",
       "  'max_index': 2},\n",
       " 'rbf': {'pred_class': 'Search',\n",
       "  'max_prob': 0.9414688808816583,\n",
       "  'max_index': 2},\n",
       " 'sigmoid': {'pred_class': 'Reading',\n",
       "  'max_prob': 0.4226323136191518,\n",
       "  'max_index': 2}}"
      ]
     },
     "metadata": {},
     "output_type": "display_data"
    },
    {
     "name": "stdout",
     "output_type": "stream",
     "text": [
      "----------------\n",
      "http://10.2.2.158:49898/?activity=Search&probability=0.9414688808816583\n",
      "<Response [200]>\n",
      "Notified Hololens about activity Search\n"
     ]
    }
   ],
   "source": [
    "from flask_executor import Executor\n",
    "\n",
    "import logging\n",
    "logger = logging.getLogger('waitress')\n",
    "logger.setLevel(logging.DEBUG)\n",
    "\n",
    "app = Flask(__name__)\n",
    "executor = Executor(app)\n",
    "\n",
    "@app.route('/', methods=['POST', 'PUT'])\n",
    "def result():\n",
    "    new_csv = request.files[\"gazedata\"].read()\n",
    "    filename = request.form[\"filename\"]\n",
    "    print(f\"filename: {filename}\")\n",
    "    filepath = os.path.join(\"./OnlineGazeDataChunks/\", filename)\n",
    "    print(f\"filepath: {filepath}\")\n",
    "    outF = open(filepath, \"wb\")\n",
    "    outF.write(new_csv)\n",
    "    executor.submit(start_feature_calculation,filepath)\n",
    "    return 'Received !'  \n",
    "\n",
    "# '''\n",
    "def start_feature_calculation(filepath):\n",
    "    print(\"start fc for: \", filepath)\n",
    "    if os.stat(filepath).st_size != 0:\n",
    "       feature_file_path = csv_to_features(filepath)\n",
    "       if os.stat(feature_file_path).st_size != 0:\n",
    "           predict_class_for_last_chunk(feature_file_path)\n",
    "# '''\n",
    "\n",
    "if __name__ == '__main__':\n",
    "    from waitress import serve\n",
    "    serve(app, listen=\"0.0.0.0:5555\")\n"
   ]
  },
  {
   "cell_type": "code",
   "execution_count": null,
   "id": "437015ee",
   "metadata": {},
   "outputs": [],
   "source": []
  }
 ],
 "metadata": {
  "kernelspec": {
   "display_name": "Python 3 (ipykernel)",
   "language": "python",
   "name": "python3"
  },
  "language_info": {
   "codemirror_mode": {
    "name": "ipython",
    "version": 3
   },
   "file_extension": ".py",
   "mimetype": "text/x-python",
   "name": "python",
   "nbconvert_exporter": "python",
   "pygments_lexer": "ipython3",
   "version": "3.10.6"
  },
  "vscode": {
   "interpreter": {
    "hash": "fb29fbf1579f192e317de19bbdbd42ba1cee731e6ebb339657c7fa01a6f49f1c"
   }
  }
 },
 "nbformat": 4,
 "nbformat_minor": 5
}
